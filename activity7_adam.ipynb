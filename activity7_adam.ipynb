{
 "cells": [
  {
   "cell_type": "markdown",
   "id": "0a72e3d0-7f3a-4781-8c60-68f19c62f709",
   "metadata": {},
   "source": [
    "<h1>CHICAGO CRIME REPORT DATA ANALYSIS</h1>\n",
    "<h4>ANALYST: Abdul Barry A. Adam</h4>"
   ]
  },
  {
   "cell_type": "markdown",
   "id": "0923cc9a-dd6c-4406-8a70-c02f6b57f6a8",
   "metadata": {},
   "source": [
    "#### IMPORTING LIBRARIES"
   ]
  },
  {
   "cell_type": "code",
   "execution_count": 61,
   "id": "70472474-4a01-425e-8dc1-2aaf94a8ce41",
   "metadata": {},
   "outputs": [],
   "source": [
    "import numpy as np\n",
    "import seaborn as sns\n",
    "import pandas as pd\n",
    "import matplotlib.pyplot as plt\n",
    "import warnings\n",
    "import folium\n",
    "from folium.plugins import HeatMap\n",
    "\n",
    "\n",
    "# ignore the warning\n",
    "warnings.filterwarnings('ignore')"
   ]
  },
  {
   "cell_type": "markdown",
   "id": "81dfe394-6a01-4b8a-80ec-ce92461fbfb5",
   "metadata": {},
   "source": [
    "#### LOADING THE DATASETS"
   ]
  },
  {
   "cell_type": "code",
   "execution_count": 62,
   "id": "8c742142-9c24-435b-b5fc-210363f6eba6",
   "metadata": {},
   "outputs": [],
   "source": [
    "df = pd.read_csv('./datasets/Chicago_Crimes.csv')"
   ]
  },
  {
   "cell_type": "code",
   "execution_count": 63,
   "id": "114c505d-392a-435c-a897-6fb7a00dc773",
   "metadata": {},
   "outputs": [
    {
     "data": {
      "text/plain": [
       "Index(['ID', 'Case Number', 'Date', 'Block', 'IUCR', 'Primary Type',\n",
       "       'Description', 'Location Description', 'Arrest', 'Domestic', 'Beat',\n",
       "       'District', 'Ward', 'Community Area', 'FBI Code', 'X Coordinate',\n",
       "       'Y Coordinate', 'Year', 'Updated On', 'Latitude', 'Longitude',\n",
       "       'Location'],\n",
       "      dtype='object')"
      ]
     },
     "execution_count": 63,
     "metadata": {},
     "output_type": "execute_result"
    }
   ],
   "source": [
    "df.columns"
   ]
  },
  {
   "cell_type": "code",
   "execution_count": 116,
   "id": "53d3208f-0ea4-4cd1-a609-843adf82d966",
   "metadata": {},
   "outputs": [
    {
     "data": {
      "text/plain": [
       "Primary Type\n",
       "THEFT                                59201\n",
       "BATTERY                              44579\n",
       "CRIMINAL DAMAGE                      27094\n",
       "ASSAULT                              22615\n",
       "MOTOR VEHICLE THEFT                  19604\n",
       "OTHER OFFENSE                        16781\n",
       "DECEPTIVE PRACTICE                   14991\n",
       "BURGLARY                              8443\n",
       "ROBBERY                               8200\n",
       "WEAPONS VIOLATION                     7164\n",
       "NARCOTICS                             6627\n",
       "CRIMINAL TRESPASS                     5045\n",
       "OFFENSE INVOLVING CHILDREN            1597\n",
       "CRIMINAL SEXUAL ASSAULT               1573\n",
       "SEX OFFENSE                           1210\n",
       "PUBLIC PEACE VIOLATION                1006\n",
       "INTERFERENCE WITH PUBLIC OFFICER       771\n",
       "HOMICIDE                               553\n",
       "STALKING                               520\n",
       "ARSON                                  452\n",
       "PROSTITUTION                           287\n",
       "CONCEALED CARRY LICENSE VIOLATION      249\n",
       "LIQUOR LAW VIOLATION                   192\n",
       "INTIMIDATION                           145\n",
       "KIDNAPPING                             105\n",
       "OBSCENITY                               53\n",
       "HUMAN TRAFFICKING                       24\n",
       "GAMBLING                                18\n",
       "PUBLIC INDECENCY                        13\n",
       "OTHER NARCOTIC VIOLATION                 7\n",
       "NON-CRIMINAL                             4\n",
       "Name: count, dtype: int64"
      ]
     },
     "execution_count": 116,
     "metadata": {},
     "output_type": "execute_result"
    }
   ],
   "source": [
    "df['Primary Type'].value_counts()"
   ]
  },
  {
   "cell_type": "code",
   "execution_count": 64,
   "id": "91b877b7-e13f-4efc-9ca3-e65a05f1550d",
   "metadata": {},
   "outputs": [
    {
     "data": {
      "text/plain": [
       "array(['THEFT', 'OTHER OFFENSE', 'MOTOR VEHICLE THEFT',\n",
       "       'WEAPONS VIOLATION', 'BATTERY', 'ASSAULT',\n",
       "       'CRIMINAL SEXUAL ASSAULT', 'CRIMINAL TRESPASS', 'CRIMINAL DAMAGE',\n",
       "       'DECEPTIVE PRACTICE', 'SEX OFFENSE', 'ROBBERY', 'NARCOTICS',\n",
       "       'HOMICIDE', 'INTERFERENCE WITH PUBLIC OFFICER', 'BURGLARY',\n",
       "       'ARSON', 'OFFENSE INVOLVING CHILDREN', 'INTIMIDATION',\n",
       "       'PUBLIC PEACE VIOLATION', 'CONCEALED CARRY LICENSE VIOLATION',\n",
       "       'KIDNAPPING', 'STALKING', 'LIQUOR LAW VIOLATION', 'PROSTITUTION',\n",
       "       'GAMBLING', 'OBSCENITY', 'PUBLIC INDECENCY', 'HUMAN TRAFFICKING',\n",
       "       'OTHER NARCOTIC VIOLATION', 'NON-CRIMINAL'], dtype=object)"
      ]
     },
     "execution_count": 64,
     "metadata": {},
     "output_type": "execute_result"
    }
   ],
   "source": [
    "df['Primary Type'].unique()"
   ]
  },
  {
   "cell_type": "markdown",
   "id": "8d5f03e8-6181-4c23-bff2-67f2ec5e6172",
   "metadata": {},
   "source": [
    "##### FUNCTION FOR SHORTCUTS"
   ]
  },
  {
   "cell_type": "code",
   "execution_count": 106,
   "id": "df828749-e28f-4123-8b20-eb3928c08abb",
   "metadata": {},
   "outputs": [],
   "source": [
    "def filterFrame(dataframe, column, value):\n",
    "    return dataframe[dataframe[column] == value]\n",
    "\n",
    "\n",
    "def getLocation(df):\n",
    "    return df.groupby(['Latitude','Longitude']).size().reset_index(name='incident_count')\n",
    "\n",
    "# def normalizeData(data):\n",
    "#     return data['incident_count'] - data['incident_count'].min() /\n",
    "#         \\ data['incident_count'].max() - data['incident_count'].min()\n",
    "\n",
    "def convertDF(data):\n",
    "    return data[['Latitude','Longitude']].values.tolist()\n",
    "\n",
    "def create_base_map(heatmap_data):\n",
    "    return folium.Map(location = [heatmap_data[0][0],heatmap_data[0][1]], zoom_start=11)"
   ]
  },
  {
   "cell_type": "markdown",
   "id": "73cea63e-022c-4b32-a757-40fbb6f130d7",
   "metadata": {},
   "source": [
    "<h2>THEFT</h2>"
   ]
  },
  {
   "cell_type": "code",
   "execution_count": 107,
   "id": "2942575a-a1c1-4d54-9cde-89ceb4ce9bb1",
   "metadata": {},
   "outputs": [],
   "source": [
    "theft_filter_1 = filterFrame(df, 'Primary Type', 'THEFT') #59K"
   ]
  },
  {
   "cell_type": "code",
   "execution_count": 108,
   "id": "285b98b6-8c12-4072-aaec-f00f308334bb",
   "metadata": {},
   "outputs": [],
   "source": [
    "theft_filter_2 = filterFrame(theft_filter_1, 'Location Description', 'RESIDENCE') #4K"
   ]
  },
  {
   "cell_type": "code",
   "execution_count": 109,
   "id": "3fa9db27-57c8-4510-a2a0-7d9ed173770e",
   "metadata": {},
   "outputs": [],
   "source": [
    "theft_filter_3 = filterFrame(theft_filter_2, 'Year', 2024) #3.3k"
   ]
  },
  {
   "cell_type": "code",
   "execution_count": 110,
   "id": "7926bd9e-ac37-43d0-8a65-7ee84d932ada",
   "metadata": {},
   "outputs": [],
   "source": [
    "theft_filter_4 = theft_filter_3[theft_filter_3['Arrest'] == True] #36 rows"
   ]
  },
  {
   "cell_type": "code",
   "execution_count": 111,
   "id": "83cc7cd4-cd7e-44e7-890d-587c1de990af",
   "metadata": {},
   "outputs": [],
   "source": [
    "theft_final_filter = getLocation(theft_filter_4)"
   ]
  },
  {
   "cell_type": "markdown",
   "id": "84f7b484-dd65-4542-bdd8-5056b89b485d",
   "metadata": {},
   "source": [
    "##### DATAFRAME TO PYLIST CONVERSION"
   ]
  },
  {
   "cell_type": "code",
   "execution_count": 112,
   "id": "3fd57955-8e08-48e9-83f3-846c723a87fd",
   "metadata": {},
   "outputs": [],
   "source": [
    "theft_heatmap_data = convertDF(theft_final_filter)"
   ]
  },
  {
   "cell_type": "code",
   "execution_count": 113,
   "id": "e07150c7-4cd0-4b51-948e-b1edae4c8e43",
   "metadata": {},
   "outputs": [],
   "source": [
    "theft_map = create_base_map(theft_heatmap_data)"
   ]
  },
  {
   "cell_type": "code",
   "execution_count": 114,
   "id": "5f50c4e7-9a20-4663-88d4-e88a5b25274f",
   "metadata": {},
   "outputs": [
    {
     "data": {
      "text/plain": [
       "<folium.plugins.heat_map.HeatMap at 0x2298cc8bd70>"
      ]
     },
     "execution_count": 114,
     "metadata": {},
     "output_type": "execute_result"
    }
   ],
   "source": [
    "HeatMap(theft_heatmap_data).add_to(theft_map)"
   ]
  },
  {
   "cell_type": "code",
   "execution_count": 115,
   "id": "b04b4cf9-2f10-4517-b8e2-63f3ecbdaa04",
   "metadata": {},
   "outputs": [
    {
     "data": {
      "text/html": [
       "<div style=\"width:100%;\"><div style=\"position:relative;width:100%;height:0;padding-bottom:60%;\"><span style=\"color:#565656\">Make this Notebook Trusted to load map: File -> Trust Notebook</span><iframe srcdoc=\"&lt;!DOCTYPE html&gt;\n",
       "&lt;html&gt;\n",
       "&lt;head&gt;\n",
       "    \n",
       "    &lt;meta http-equiv=&quot;content-type&quot; content=&quot;text/html; charset=UTF-8&quot; /&gt;\n",
       "    \n",
       "        &lt;script&gt;\n",
       "            L_NO_TOUCH = false;\n",
       "            L_DISABLE_3D = false;\n",
       "        &lt;/script&gt;\n",
       "    \n",
       "    &lt;style&gt;html, body {width: 100%;height: 100%;margin: 0;padding: 0;}&lt;/style&gt;\n",
       "    &lt;style&gt;#map {position:absolute;top:0;bottom:0;right:0;left:0;}&lt;/style&gt;\n",
       "    &lt;script src=&quot;https://cdn.jsdelivr.net/npm/leaflet@1.9.3/dist/leaflet.js&quot;&gt;&lt;/script&gt;\n",
       "    &lt;script src=&quot;https://code.jquery.com/jquery-3.7.1.min.js&quot;&gt;&lt;/script&gt;\n",
       "    &lt;script src=&quot;https://cdn.jsdelivr.net/npm/bootstrap@5.2.2/dist/js/bootstrap.bundle.min.js&quot;&gt;&lt;/script&gt;\n",
       "    &lt;script src=&quot;https://cdnjs.cloudflare.com/ajax/libs/Leaflet.awesome-markers/2.0.2/leaflet.awesome-markers.js&quot;&gt;&lt;/script&gt;\n",
       "    &lt;link rel=&quot;stylesheet&quot; href=&quot;https://cdn.jsdelivr.net/npm/leaflet@1.9.3/dist/leaflet.css&quot;/&gt;\n",
       "    &lt;link rel=&quot;stylesheet&quot; href=&quot;https://cdn.jsdelivr.net/npm/bootstrap@5.2.2/dist/css/bootstrap.min.css&quot;/&gt;\n",
       "    &lt;link rel=&quot;stylesheet&quot; href=&quot;https://netdna.bootstrapcdn.com/bootstrap/3.0.0/css/bootstrap-glyphicons.css&quot;/&gt;\n",
       "    &lt;link rel=&quot;stylesheet&quot; href=&quot;https://cdn.jsdelivr.net/npm/@fortawesome/fontawesome-free@6.2.0/css/all.min.css&quot;/&gt;\n",
       "    &lt;link rel=&quot;stylesheet&quot; href=&quot;https://cdnjs.cloudflare.com/ajax/libs/Leaflet.awesome-markers/2.0.2/leaflet.awesome-markers.css&quot;/&gt;\n",
       "    &lt;link rel=&quot;stylesheet&quot; href=&quot;https://cdn.jsdelivr.net/gh/python-visualization/folium/folium/templates/leaflet.awesome.rotate.min.css&quot;/&gt;\n",
       "    \n",
       "            &lt;meta name=&quot;viewport&quot; content=&quot;width=device-width,\n",
       "                initial-scale=1.0, maximum-scale=1.0, user-scalable=no&quot; /&gt;\n",
       "            &lt;style&gt;\n",
       "                #map_455e435d5a2af90c590a54a9a59b80f7 {\n",
       "                    position: relative;\n",
       "                    width: 100.0%;\n",
       "                    height: 100.0%;\n",
       "                    left: 0.0%;\n",
       "                    top: 0.0%;\n",
       "                }\n",
       "                .leaflet-container { font-size: 1rem; }\n",
       "            &lt;/style&gt;\n",
       "        \n",
       "    &lt;script src=&quot;https://cdn.jsdelivr.net/gh/python-visualization/folium@main/folium/templates/leaflet_heat.min.js&quot;&gt;&lt;/script&gt;\n",
       "&lt;/head&gt;\n",
       "&lt;body&gt;\n",
       "    \n",
       "    \n",
       "            &lt;div class=&quot;folium-map&quot; id=&quot;map_455e435d5a2af90c590a54a9a59b80f7&quot; &gt;&lt;/div&gt;\n",
       "        \n",
       "&lt;/body&gt;\n",
       "&lt;script&gt;\n",
       "    \n",
       "    \n",
       "            var map_455e435d5a2af90c590a54a9a59b80f7 = L.map(\n",
       "                &quot;map_455e435d5a2af90c590a54a9a59b80f7&quot;,\n",
       "                {\n",
       "                    center: [41.654353626, -87.604029006],\n",
       "                    crs: L.CRS.EPSG3857,\n",
       "                    ...{\n",
       "  &quot;zoom&quot;: 11,\n",
       "  &quot;zoomControl&quot;: true,\n",
       "  &quot;preferCanvas&quot;: false,\n",
       "}\n",
       "\n",
       "                }\n",
       "            );\n",
       "\n",
       "            \n",
       "\n",
       "        \n",
       "    \n",
       "            var tile_layer_35508605b2eddbd23bdf7b15dcc9ef1d = L.tileLayer(\n",
       "                &quot;https://tile.openstreetmap.org/{z}/{x}/{y}.png&quot;,\n",
       "                {\n",
       "  &quot;minZoom&quot;: 0,\n",
       "  &quot;maxZoom&quot;: 19,\n",
       "  &quot;maxNativeZoom&quot;: 19,\n",
       "  &quot;noWrap&quot;: false,\n",
       "  &quot;attribution&quot;: &quot;\\u0026copy; \\u003ca href=\\&quot;https://www.openstreetmap.org/copyright\\&quot;\\u003eOpenStreetMap\\u003c/a\\u003e contributors&quot;,\n",
       "  &quot;subdomains&quot;: &quot;abc&quot;,\n",
       "  &quot;detectRetina&quot;: false,\n",
       "  &quot;tms&quot;: false,\n",
       "  &quot;opacity&quot;: 1,\n",
       "}\n",
       "\n",
       "            );\n",
       "        \n",
       "    \n",
       "            tile_layer_35508605b2eddbd23bdf7b15dcc9ef1d.addTo(map_455e435d5a2af90c590a54a9a59b80f7);\n",
       "        \n",
       "    \n",
       "            var heat_map_cec9da29be9d78837e211e6a068833ca = L.heatLayer(\n",
       "                [[41.654353626, -87.604029006], [41.677095075, -87.637068422], [41.692658024, -87.702135933], [41.708088133, -87.622491493], [41.712585276, -87.626811351], [41.733820993, -87.639907371], [41.751286329, -87.668319043], [41.751707046, -87.661857389], [41.758051928, -87.636065759], [41.759810561, -87.576160719], [41.76121424, -87.613951758], [41.762038585, -87.690511697], [41.765206631, -87.598255367], [41.768091856, -87.620179914], [41.781949084, -87.702005299], [41.790382559, -87.623981221], [41.79687951, -87.799131365], [41.797383753, -87.596596863], [41.80026002, -87.600499169], [41.804164856, -87.598309042], [41.805838969, -87.610434128], [41.824366131, -87.631321926], [41.839260447, -87.647874881], [41.87286591, -87.697362622], [41.883500187, -87.627876698], [41.897730194, -87.751995844], [41.901931351, -87.710592186], [41.908218346, -87.712610403], [41.927909127, -87.785603943], [41.935108645, -87.672227057], [41.939610126, -87.737053245], [41.966128703, -87.666916715], [41.96846674, -87.783473221], [41.984237719, -87.655208186]],\n",
       "                {\n",
       "  &quot;minOpacity&quot;: 0.5,\n",
       "  &quot;maxZoom&quot;: 18,\n",
       "  &quot;radius&quot;: 25,\n",
       "  &quot;blur&quot;: 15,\n",
       "}\n",
       "            );\n",
       "        \n",
       "    \n",
       "            heat_map_cec9da29be9d78837e211e6a068833ca.addTo(map_455e435d5a2af90c590a54a9a59b80f7);\n",
       "        \n",
       "&lt;/script&gt;\n",
       "&lt;/html&gt;\" style=\"position:absolute;width:100%;height:100%;left:0;top:0;border:none !important;\" allowfullscreen webkitallowfullscreen mozallowfullscreen></iframe></div></div>"
      ],
      "text/plain": [
       "<folium.folium.Map at 0x2298ccb2030>"
      ]
     },
     "execution_count": 115,
     "metadata": {},
     "output_type": "execute_result"
    }
   ],
   "source": [
    "theft_map"
   ]
  },
  {
   "cell_type": "markdown",
   "id": "bcd7cbdd-94c9-41f2-aa16-8f775676fbba",
   "metadata": {},
   "source": [
    "<h3>THEFT MAP INSIGHT</h3>\n",
    "<p>Within Washington Park one block radius, there is a high density of theft at residential area, where the perpetraitor was arrested. All of this was on 2024</p>"
   ]
  },
  {
   "cell_type": "markdown",
   "id": "3c54161f-be51-4ba4-9c8e-67eb3963e6c0",
   "metadata": {},
   "source": [
    "<h2>BATTERY</h2>"
   ]
  },
  {
   "cell_type": "code",
   "execution_count": 117,
   "id": "576ab2bc-7791-4874-96c2-9c4dc9c00474",
   "metadata": {},
   "outputs": [],
   "source": [
    "battery_filter_1 = filterFrame(df, 'Primary Type', 'BATTERY') #44K"
   ]
  },
  {
   "cell_type": "code",
   "execution_count": 126,
   "id": "2097f75d-5237-4f8b-8176-f7628b3bd675",
   "metadata": {},
   "outputs": [],
   "source": [
    "battery_filter_2 = filterFrame(battery_filter_1, 'Location Description', 'RESIDENCE') #3k"
   ]
  },
  {
   "cell_type": "code",
   "execution_count": 127,
   "id": "d5f88b12-a014-463b-bf41-57c2d3385aad",
   "metadata": {},
   "outputs": [],
   "source": [
    "battery_filter_3 = filterFrame(battery_filter_2, 'Arrest', True) #655"
   ]
  },
  {
   "cell_type": "code",
   "execution_count": 129,
   "id": "a096b470-21ed-4c91-95f6-39d1f417561c",
   "metadata": {},
   "outputs": [],
   "source": [
    "battery_filter_4 = filterFrame(battery_filter_3, 'Description', 'AGG. DOMESTIC BATTERY - HANDS, FISTS, FEET, SERIOUS INJURY') "
   ]
  },
  {
   "cell_type": "code",
   "execution_count": 132,
   "id": "0f35683b-92fd-4e26-9ffc-7585db232f4e",
   "metadata": {},
   "outputs": [],
   "source": [
    "battery_final_filter = getLocation(battery_filter_4)"
   ]
  },
  {
   "cell_type": "markdown",
   "id": "11b0b9ee-aff8-44cb-88dc-69242a81e4f5",
   "metadata": {},
   "source": [
    "##### DATAFRAME TO PYLIST CONVERSION"
   ]
  },
  {
   "cell_type": "code",
   "execution_count": 133,
   "id": "47deea57-275c-4c33-91cf-eb1408b1b784",
   "metadata": {},
   "outputs": [],
   "source": [
    "battery_heatmap_data = convertDF(battery_final_filter)"
   ]
  },
  {
   "cell_type": "code",
   "execution_count": 135,
   "id": "67e586f3-38ee-47c7-8dac-60cc54b06a38",
   "metadata": {},
   "outputs": [],
   "source": [
    "battery_map = create_base_map(battery_heatmap_data)"
   ]
  },
  {
   "cell_type": "code",
   "execution_count": 136,
   "id": "69c136d7-8be2-4381-ade3-4dea34aec5ef",
   "metadata": {},
   "outputs": [
    {
     "data": {
      "text/plain": [
       "<folium.plugins.heat_map.HeatMap at 0x2298e0a1f70>"
      ]
     },
     "execution_count": 136,
     "metadata": {},
     "output_type": "execute_result"
    }
   ],
   "source": [
    "HeatMap(battery_heatmap_data).add_to(battery_map)"
   ]
  },
  {
   "cell_type": "code",
   "execution_count": 137,
   "id": "1d6f34e0-0e96-4c43-ba64-59cd5172f144",
   "metadata": {},
   "outputs": [
    {
     "data": {
      "text/html": [
       "<div style=\"width:100%;\"><div style=\"position:relative;width:100%;height:0;padding-bottom:60%;\"><span style=\"color:#565656\">Make this Notebook Trusted to load map: File -> Trust Notebook</span><iframe srcdoc=\"&lt;!DOCTYPE html&gt;\n",
       "&lt;html&gt;\n",
       "&lt;head&gt;\n",
       "    \n",
       "    &lt;meta http-equiv=&quot;content-type&quot; content=&quot;text/html; charset=UTF-8&quot; /&gt;\n",
       "    \n",
       "        &lt;script&gt;\n",
       "            L_NO_TOUCH = false;\n",
       "            L_DISABLE_3D = false;\n",
       "        &lt;/script&gt;\n",
       "    \n",
       "    &lt;style&gt;html, body {width: 100%;height: 100%;margin: 0;padding: 0;}&lt;/style&gt;\n",
       "    &lt;style&gt;#map {position:absolute;top:0;bottom:0;right:0;left:0;}&lt;/style&gt;\n",
       "    &lt;script src=&quot;https://cdn.jsdelivr.net/npm/leaflet@1.9.3/dist/leaflet.js&quot;&gt;&lt;/script&gt;\n",
       "    &lt;script src=&quot;https://code.jquery.com/jquery-3.7.1.min.js&quot;&gt;&lt;/script&gt;\n",
       "    &lt;script src=&quot;https://cdn.jsdelivr.net/npm/bootstrap@5.2.2/dist/js/bootstrap.bundle.min.js&quot;&gt;&lt;/script&gt;\n",
       "    &lt;script src=&quot;https://cdnjs.cloudflare.com/ajax/libs/Leaflet.awesome-markers/2.0.2/leaflet.awesome-markers.js&quot;&gt;&lt;/script&gt;\n",
       "    &lt;link rel=&quot;stylesheet&quot; href=&quot;https://cdn.jsdelivr.net/npm/leaflet@1.9.3/dist/leaflet.css&quot;/&gt;\n",
       "    &lt;link rel=&quot;stylesheet&quot; href=&quot;https://cdn.jsdelivr.net/npm/bootstrap@5.2.2/dist/css/bootstrap.min.css&quot;/&gt;\n",
       "    &lt;link rel=&quot;stylesheet&quot; href=&quot;https://netdna.bootstrapcdn.com/bootstrap/3.0.0/css/bootstrap-glyphicons.css&quot;/&gt;\n",
       "    &lt;link rel=&quot;stylesheet&quot; href=&quot;https://cdn.jsdelivr.net/npm/@fortawesome/fontawesome-free@6.2.0/css/all.min.css&quot;/&gt;\n",
       "    &lt;link rel=&quot;stylesheet&quot; href=&quot;https://cdnjs.cloudflare.com/ajax/libs/Leaflet.awesome-markers/2.0.2/leaflet.awesome-markers.css&quot;/&gt;\n",
       "    &lt;link rel=&quot;stylesheet&quot; href=&quot;https://cdn.jsdelivr.net/gh/python-visualization/folium/folium/templates/leaflet.awesome.rotate.min.css&quot;/&gt;\n",
       "    \n",
       "            &lt;meta name=&quot;viewport&quot; content=&quot;width=device-width,\n",
       "                initial-scale=1.0, maximum-scale=1.0, user-scalable=no&quot; /&gt;\n",
       "            &lt;style&gt;\n",
       "                #map_01a7c0f2679440bdd54b6fa847e79259 {\n",
       "                    position: relative;\n",
       "                    width: 100.0%;\n",
       "                    height: 100.0%;\n",
       "                    left: 0.0%;\n",
       "                    top: 0.0%;\n",
       "                }\n",
       "                .leaflet-container { font-size: 1rem; }\n",
       "            &lt;/style&gt;\n",
       "        \n",
       "    &lt;script src=&quot;https://cdn.jsdelivr.net/gh/python-visualization/folium@main/folium/templates/leaflet_heat.min.js&quot;&gt;&lt;/script&gt;\n",
       "&lt;/head&gt;\n",
       "&lt;body&gt;\n",
       "    \n",
       "    \n",
       "            &lt;div class=&quot;folium-map&quot; id=&quot;map_01a7c0f2679440bdd54b6fa847e79259&quot; &gt;&lt;/div&gt;\n",
       "        \n",
       "&lt;/body&gt;\n",
       "&lt;script&gt;\n",
       "    \n",
       "    \n",
       "            var map_01a7c0f2679440bdd54b6fa847e79259 = L.map(\n",
       "                &quot;map_01a7c0f2679440bdd54b6fa847e79259&quot;,\n",
       "                {\n",
       "                    center: [41.675176346, -87.629786575],\n",
       "                    crs: L.CRS.EPSG3857,\n",
       "                    ...{\n",
       "  &quot;zoom&quot;: 11,\n",
       "  &quot;zoomControl&quot;: true,\n",
       "  &quot;preferCanvas&quot;: false,\n",
       "}\n",
       "\n",
       "                }\n",
       "            );\n",
       "\n",
       "            \n",
       "\n",
       "        \n",
       "    \n",
       "            var tile_layer_bc0c1cc575dfe69ad14ec7d2e4bf565f = L.tileLayer(\n",
       "                &quot;https://tile.openstreetmap.org/{z}/{x}/{y}.png&quot;,\n",
       "                {\n",
       "  &quot;minZoom&quot;: 0,\n",
       "  &quot;maxZoom&quot;: 19,\n",
       "  &quot;maxNativeZoom&quot;: 19,\n",
       "  &quot;noWrap&quot;: false,\n",
       "  &quot;attribution&quot;: &quot;\\u0026copy; \\u003ca href=\\&quot;https://www.openstreetmap.org/copyright\\&quot;\\u003eOpenStreetMap\\u003c/a\\u003e contributors&quot;,\n",
       "  &quot;subdomains&quot;: &quot;abc&quot;,\n",
       "  &quot;detectRetina&quot;: false,\n",
       "  &quot;tms&quot;: false,\n",
       "  &quot;opacity&quot;: 1,\n",
       "}\n",
       "\n",
       "            );\n",
       "        \n",
       "    \n",
       "            tile_layer_bc0c1cc575dfe69ad14ec7d2e4bf565f.addTo(map_01a7c0f2679440bdd54b6fa847e79259);\n",
       "        \n",
       "    \n",
       "            var heat_map_0cb8ead0b426d370e4462c5ac9b96967 = L.heatLayer(\n",
       "                [[41.675176346, -87.629786575], [41.675425241, -87.630995466], [41.676987945, -87.626263731], [41.688168463, -87.609527021], [41.691292874, -87.655192693], [41.702218321, -87.530450967], [41.705383515, -87.700143794], [41.705935215, -87.650783415], [41.706670971, -87.611311761], [41.707576531, -87.540122204], [41.707630708, -87.534078833], [41.709482459, -87.563321751], [41.713744843, -87.644225315], [41.72044321, -87.675988757], [41.720845161, -87.538911426], [41.726136127, -87.573805107], [41.731514744, -87.660507027], [41.732610217, -87.586826458], [41.734847232, -87.545777045], [41.735099535, -87.644418431], [41.740350147, -87.555126561], [41.741318622, -87.611418415], [41.750677723, -87.593034044], [41.750968697, -87.562580604], [41.751526398, -87.64891537], [41.752416738, -87.710383001], [41.765068879, -87.599459229], [41.777930896, -87.602828539], [41.785902437, -87.685040973], [41.786867124, -87.729102138], [41.789504841, -87.691242104], [41.795386636, -87.653693095], [41.798332008, -87.65011925], [41.84012431, -87.713452415], [41.849228245, -87.732266723], [41.895741024, -87.758070649], [41.904297264, -87.765730206], [41.922691178, -87.681853926], [41.925078859, -87.754635929], [41.925146788, -87.749623053], [41.925609308, -87.696218043], [41.942038257, -87.782549867], [41.944661492, -87.71921164], [41.949850808, -87.6604583], [41.954865195, -87.645299318], [41.957899882, -87.784277321], [41.970815612, -87.719545169], [42.018545253, -87.693885413]],\n",
       "                {\n",
       "  &quot;minOpacity&quot;: 0.5,\n",
       "  &quot;maxZoom&quot;: 18,\n",
       "  &quot;radius&quot;: 25,\n",
       "  &quot;blur&quot;: 15,\n",
       "}\n",
       "            );\n",
       "        \n",
       "    \n",
       "            heat_map_0cb8ead0b426d370e4462c5ac9b96967.addTo(map_01a7c0f2679440bdd54b6fa847e79259);\n",
       "        \n",
       "&lt;/script&gt;\n",
       "&lt;/html&gt;\" style=\"position:absolute;width:100%;height:100%;left:0;top:0;border:none !important;\" allowfullscreen webkitallowfullscreen mozallowfullscreen></iframe></div></div>"
      ],
      "text/plain": [
       "<folium.folium.Map at 0x2298e0ac470>"
      ]
     },
     "execution_count": 137,
     "metadata": {},
     "output_type": "execute_result"
    }
   ],
   "source": [
    "battery_map"
   ]
  },
  {
   "cell_type": "markdown",
   "id": "fc9274dc-7841-4903-b1b2-e2f9cc9d7275",
   "metadata": {},
   "source": [
    "<h3>BATTERY INSIHGT</h3>\n",
    "<p>The neighborhood of West Pullman has the highest density of AGG. DOMESTIC BATTERY - HANDS, FISTS, FEET, SERIOUS INJURY that happened in a residence in which the suspects were arrested</p>\n",
    "\n",
    "\n",
    "<hr/>"
   ]
  },
  {
   "cell_type": "markdown",
   "id": "c07dfb86-8049-436d-bc02-0e08391e2afa",
   "metadata": {},
   "source": [
    "<h2>CRIMINAL DAMAGE</h2>"
   ]
  },
  {
   "cell_type": "code",
   "execution_count": 141,
   "id": "513d1d8d-f529-4e22-b9b9-e256577b1b1f",
   "metadata": {},
   "outputs": [],
   "source": [
    "criminal_filter_1 = filterFrame(df, 'Primary Type', 'CRIMINAL DAMAGE') #27k"
   ]
  },
  {
   "cell_type": "code",
   "execution_count": 142,
   "id": "6b4fedb1-c111-4510-ba4d-9a887cbf3461",
   "metadata": {},
   "outputs": [],
   "source": [
    "criminal_filter_2 = filterFrame(df, 'Description', 'TO PROPERTY') #11k"
   ]
  },
  {
   "cell_type": "code",
   "execution_count": 144,
   "id": "c9c7d23c-1f67-4dfa-afd4-93948b23c127",
   "metadata": {},
   "outputs": [],
   "source": [
    "criminal_filter_3 = filterFrame(criminal_filter_2, 'Location Description', 'CONVENIENCE STORE') #82"
   ]
  },
  {
   "cell_type": "code",
   "execution_count": 146,
   "id": "b98ecfea-6c6c-4259-8bf5-faa935197e31",
   "metadata": {},
   "outputs": [],
   "source": [
    "criminal_final_filter = getLocation(criminal_filter_3)"
   ]
  },
  {
   "cell_type": "markdown",
   "id": "db13050d-f22b-4266-b76a-812335cd3f47",
   "metadata": {},
   "source": [
    "### DATAFRAME TO PYTHON LIST CONVERSION"
   ]
  },
  {
   "cell_type": "code",
   "execution_count": 147,
   "id": "33c59563-4fa8-4610-bd7a-b618572692d7",
   "metadata": {},
   "outputs": [],
   "source": [
    "criminal_heatmap_data = convertDF(criminal_final_filter)"
   ]
  },
  {
   "cell_type": "code",
   "execution_count": 148,
   "id": "0ddeb058-1b9f-4550-a65e-a3d544ddd525",
   "metadata": {},
   "outputs": [],
   "source": [
    "criminal_map = create_base_map(criminal_heatmap_data)"
   ]
  },
  {
   "cell_type": "code",
   "execution_count": 149,
   "id": "1da67f50-810d-44c5-b22b-d39c9ae43921",
   "metadata": {},
   "outputs": [
    {
     "data": {
      "text/plain": [
       "<folium.plugins.heat_map.HeatMap at 0x2298cc9ecf0>"
      ]
     },
     "execution_count": 149,
     "metadata": {},
     "output_type": "execute_result"
    }
   ],
   "source": [
    "HeatMap(criminal_heatmap_data).add_to(criminal_map)"
   ]
  },
  {
   "cell_type": "code",
   "execution_count": 150,
   "id": "2eb955cd-c5c6-4667-923d-6fa393f146bb",
   "metadata": {},
   "outputs": [
    {
     "data": {
      "text/html": [
       "<div style=\"width:100%;\"><div style=\"position:relative;width:100%;height:0;padding-bottom:60%;\"><span style=\"color:#565656\">Make this Notebook Trusted to load map: File -> Trust Notebook</span><iframe srcdoc=\"&lt;!DOCTYPE html&gt;\n",
       "&lt;html&gt;\n",
       "&lt;head&gt;\n",
       "    \n",
       "    &lt;meta http-equiv=&quot;content-type&quot; content=&quot;text/html; charset=UTF-8&quot; /&gt;\n",
       "    \n",
       "        &lt;script&gt;\n",
       "            L_NO_TOUCH = false;\n",
       "            L_DISABLE_3D = false;\n",
       "        &lt;/script&gt;\n",
       "    \n",
       "    &lt;style&gt;html, body {width: 100%;height: 100%;margin: 0;padding: 0;}&lt;/style&gt;\n",
       "    &lt;style&gt;#map {position:absolute;top:0;bottom:0;right:0;left:0;}&lt;/style&gt;\n",
       "    &lt;script src=&quot;https://cdn.jsdelivr.net/npm/leaflet@1.9.3/dist/leaflet.js&quot;&gt;&lt;/script&gt;\n",
       "    &lt;script src=&quot;https://code.jquery.com/jquery-3.7.1.min.js&quot;&gt;&lt;/script&gt;\n",
       "    &lt;script src=&quot;https://cdn.jsdelivr.net/npm/bootstrap@5.2.2/dist/js/bootstrap.bundle.min.js&quot;&gt;&lt;/script&gt;\n",
       "    &lt;script src=&quot;https://cdnjs.cloudflare.com/ajax/libs/Leaflet.awesome-markers/2.0.2/leaflet.awesome-markers.js&quot;&gt;&lt;/script&gt;\n",
       "    &lt;link rel=&quot;stylesheet&quot; href=&quot;https://cdn.jsdelivr.net/npm/leaflet@1.9.3/dist/leaflet.css&quot;/&gt;\n",
       "    &lt;link rel=&quot;stylesheet&quot; href=&quot;https://cdn.jsdelivr.net/npm/bootstrap@5.2.2/dist/css/bootstrap.min.css&quot;/&gt;\n",
       "    &lt;link rel=&quot;stylesheet&quot; href=&quot;https://netdna.bootstrapcdn.com/bootstrap/3.0.0/css/bootstrap-glyphicons.css&quot;/&gt;\n",
       "    &lt;link rel=&quot;stylesheet&quot; href=&quot;https://cdn.jsdelivr.net/npm/@fortawesome/fontawesome-free@6.2.0/css/all.min.css&quot;/&gt;\n",
       "    &lt;link rel=&quot;stylesheet&quot; href=&quot;https://cdnjs.cloudflare.com/ajax/libs/Leaflet.awesome-markers/2.0.2/leaflet.awesome-markers.css&quot;/&gt;\n",
       "    &lt;link rel=&quot;stylesheet&quot; href=&quot;https://cdn.jsdelivr.net/gh/python-visualization/folium/folium/templates/leaflet.awesome.rotate.min.css&quot;/&gt;\n",
       "    \n",
       "            &lt;meta name=&quot;viewport&quot; content=&quot;width=device-width,\n",
       "                initial-scale=1.0, maximum-scale=1.0, user-scalable=no&quot; /&gt;\n",
       "            &lt;style&gt;\n",
       "                #map_dabd079eb1220c579110963c8eceae10 {\n",
       "                    position: relative;\n",
       "                    width: 100.0%;\n",
       "                    height: 100.0%;\n",
       "                    left: 0.0%;\n",
       "                    top: 0.0%;\n",
       "                }\n",
       "                .leaflet-container { font-size: 1rem; }\n",
       "            &lt;/style&gt;\n",
       "        \n",
       "    &lt;script src=&quot;https://cdn.jsdelivr.net/gh/python-visualization/folium@main/folium/templates/leaflet_heat.min.js&quot;&gt;&lt;/script&gt;\n",
       "&lt;/head&gt;\n",
       "&lt;body&gt;\n",
       "    \n",
       "    \n",
       "            &lt;div class=&quot;folium-map&quot; id=&quot;map_dabd079eb1220c579110963c8eceae10&quot; &gt;&lt;/div&gt;\n",
       "        \n",
       "&lt;/body&gt;\n",
       "&lt;script&gt;\n",
       "    \n",
       "    \n",
       "            var map_dabd079eb1220c579110963c8eceae10 = L.map(\n",
       "                &quot;map_dabd079eb1220c579110963c8eceae10&quot;,\n",
       "                {\n",
       "                    center: [41.677799762, -87.642881123],\n",
       "                    crs: L.CRS.EPSG3857,\n",
       "                    ...{\n",
       "  &quot;zoom&quot;: 11,\n",
       "  &quot;zoomControl&quot;: true,\n",
       "  &quot;preferCanvas&quot;: false,\n",
       "}\n",
       "\n",
       "                }\n",
       "            );\n",
       "\n",
       "            \n",
       "\n",
       "        \n",
       "    \n",
       "            var tile_layer_4b5da1750460f3d81e2f1afaad466294 = L.tileLayer(\n",
       "                &quot;https://tile.openstreetmap.org/{z}/{x}/{y}.png&quot;,\n",
       "                {\n",
       "  &quot;minZoom&quot;: 0,\n",
       "  &quot;maxZoom&quot;: 19,\n",
       "  &quot;maxNativeZoom&quot;: 19,\n",
       "  &quot;noWrap&quot;: false,\n",
       "  &quot;attribution&quot;: &quot;\\u0026copy; \\u003ca href=\\&quot;https://www.openstreetmap.org/copyright\\&quot;\\u003eOpenStreetMap\\u003c/a\\u003e contributors&quot;,\n",
       "  &quot;subdomains&quot;: &quot;abc&quot;,\n",
       "  &quot;detectRetina&quot;: false,\n",
       "  &quot;tms&quot;: false,\n",
       "  &quot;opacity&quot;: 1,\n",
       "}\n",
       "\n",
       "            );\n",
       "        \n",
       "    \n",
       "            tile_layer_4b5da1750460f3d81e2f1afaad466294.addTo(map_dabd079eb1220c579110963c8eceae10);\n",
       "        \n",
       "    \n",
       "            var heat_map_f9583c57a97fdcaa007c280ea9e86dd0 = L.heatLayer(\n",
       "                [[41.677799762, -87.642881123], [41.678521867, -87.622677852], [41.683585652, -87.642105397], [41.683821715, -87.642113853], [41.699927519, -87.535280094], [41.729244982, -87.551238111], [41.73353862, -87.653272023], [41.741403207, -87.652705376], [41.743818117, -87.614391486], [41.74808565, -87.643968122], [41.75033427, -87.665045312], [41.75034678, -87.663894471], [41.750943595, -87.594262333], [41.751210338, -87.609434914], [41.751292803, -87.604680828], [41.751827103, -87.559231739], [41.758390534, -87.616175048], [41.759311656, -87.615142204], [41.760080391, -87.558186925], [41.773087037, -87.608866374], [41.773536673, -87.62999581], [41.778340981, -87.703122242], [41.779605626, -87.654857002], [41.783917378, -87.613888694], [41.794321756, -87.644004633], [41.801980921, -87.623702939], [41.807870583, -87.664953849], [41.809934604, -87.665009423], [41.833139425, -87.615319213], [41.852861719, -87.624484216], [41.864177046, -87.715356764], [41.868184336, -87.641372316], [41.871368255, -87.725362359], [41.872910954, -87.757937613], [41.874249283, -87.629208475], [41.876859239, -87.633277668], [41.877578503, -87.629282088], [41.878834687, -87.649607595], [41.880362084, -87.755847438], [41.880419254, -87.751407336], [41.880486258, -87.725665179], [41.881601096, -87.657991057], [41.882364871, -87.626222], [41.891520472, -87.647624933], [41.893362725, -87.641365059], [41.893748693, -87.628123871], [41.896704058, -87.626309934], [41.901133376, -87.629904979], [41.901422196, -87.686985067], [41.902010688, -87.774555486], [41.902200612, -87.760194649], [41.903316225, -87.66927844], [41.909636288, -87.745300725], [41.911343842, -87.63471588], [41.922587261, -87.644764322], [41.930286342, -87.64364886], [41.931138327, -87.697596282], [41.932012618, -87.640940116], [41.938771625, -87.751196879], [41.938876703, -87.768944758], [41.93907706, -87.728527427], [41.943844128, -87.649380278], [41.945832048, -87.646348502], [41.950736661, -87.707930056], [41.958010544, -87.652747282], [41.961342741, -87.727838934], [41.961628063, -87.666419454], [41.966006811, -87.688825677], [41.968339571, -87.718888664], [41.968409405, -87.712486053], [41.968840029, -87.761579693], [41.982756885, -87.660045736], [41.982789367, -87.69454123], [41.983251958, -87.695316345], [41.990409975, -87.704977986], [41.991564574, -87.660313413]],\n",
       "                {\n",
       "  &quot;minOpacity&quot;: 0.5,\n",
       "  &quot;maxZoom&quot;: 18,\n",
       "  &quot;radius&quot;: 25,\n",
       "  &quot;blur&quot;: 15,\n",
       "}\n",
       "            );\n",
       "        \n",
       "    \n",
       "            heat_map_f9583c57a97fdcaa007c280ea9e86dd0.addTo(map_dabd079eb1220c579110963c8eceae10);\n",
       "        \n",
       "&lt;/script&gt;\n",
       "&lt;/html&gt;\" style=\"position:absolute;width:100%;height:100%;left:0;top:0;border:none !important;\" allowfullscreen webkitallowfullscreen mozallowfullscreen></iframe></div></div>"
      ],
      "text/plain": [
       "<folium.folium.Map at 0x2298cc9c110>"
      ]
     },
     "execution_count": 150,
     "metadata": {},
     "output_type": "execute_result"
    }
   ],
   "source": [
    "criminal_map"
   ]
  },
  {
   "cell_type": "markdown",
   "id": "8758c99f-6dcb-4c50-8545-31f3551676a5",
   "metadata": {},
   "source": [
    "<h3>CRIMINAL DAMAGE INSIGHT</h3>\n",
    "<p>In Chicago, specifically the west side, there is a high density of convenience store being damage due to criminal acts</p>\n",
    "\n",
    "<hr/>"
   ]
  },
  {
   "cell_type": "markdown",
   "id": "94562f47-06f8-4121-9472-c59ee61e0a2b",
   "metadata": {},
   "source": [
    "<h2>ASSAULT</h2>"
   ]
  },
  {
   "cell_type": "code",
   "execution_count": 271,
   "id": "93775095-d4d0-403e-8baf-51051bb545d7",
   "metadata": {},
   "outputs": [],
   "source": [
    "assault_filter_1 = filterFrame(df, 'Primary Type', 'ASSAULT') #22k"
   ]
  },
  {
   "cell_type": "code",
   "execution_count": 272,
   "id": "c660a380-1062-4cdc-9ae8-ef3ca9bc9cd0",
   "metadata": {},
   "outputs": [],
   "source": [
    "assault_filter_2 = filterFrame(assault_filter_1, 'Location Description', 'SCHOOL - PUBLIC GROUNDS')"
   ]
  },
  {
   "cell_type": "code",
   "execution_count": 276,
   "id": "f0b50e44-e482-403f-ac50-68f6116a93a0",
   "metadata": {},
   "outputs": [],
   "source": [
    "assault_filter_3 = filterFrame(assault_filter_2, 'Arrest', True)"
   ]
  },
  {
   "cell_type": "code",
   "execution_count": 285,
   "id": "7b2f7bd9-f290-460f-86da-e94569b3b242",
   "metadata": {},
   "outputs": [
    {
     "data": {
      "text/html": [
       "<div>\n",
       "<style scoped>\n",
       "    .dataframe tbody tr th:only-of-type {\n",
       "        vertical-align: middle;\n",
       "    }\n",
       "\n",
       "    .dataframe tbody tr th {\n",
       "        vertical-align: top;\n",
       "    }\n",
       "\n",
       "    .dataframe thead th {\n",
       "        text-align: right;\n",
       "    }\n",
       "</style>\n",
       "<table border=\"1\" class=\"dataframe\">\n",
       "  <thead>\n",
       "    <tr style=\"text-align: right;\">\n",
       "      <th></th>\n",
       "      <th>ID</th>\n",
       "      <th>Case Number</th>\n",
       "      <th>Date</th>\n",
       "      <th>Block</th>\n",
       "      <th>IUCR</th>\n",
       "      <th>Primary Type</th>\n",
       "      <th>Description</th>\n",
       "      <th>Location Description</th>\n",
       "      <th>Arrest</th>\n",
       "      <th>Domestic</th>\n",
       "      <th>...</th>\n",
       "      <th>Ward</th>\n",
       "      <th>Community Area</th>\n",
       "      <th>FBI Code</th>\n",
       "      <th>X Coordinate</th>\n",
       "      <th>Y Coordinate</th>\n",
       "      <th>Year</th>\n",
       "      <th>Updated On</th>\n",
       "      <th>Latitude</th>\n",
       "      <th>Longitude</th>\n",
       "      <th>Location</th>\n",
       "    </tr>\n",
       "  </thead>\n",
       "  <tbody>\n",
       "    <tr>\n",
       "      <th>16194</th>\n",
       "      <td>13452510</td>\n",
       "      <td>JH253573</td>\n",
       "      <td>05/07/2024 08:15:00 AM</td>\n",
       "      <td>063XX S CALUMET AVE</td>\n",
       "      <td>0530</td>\n",
       "      <td>ASSAULT</td>\n",
       "      <td>AGGRAVATED - OTHER DANGEROUS WEAPON</td>\n",
       "      <td>SCHOOL - PUBLIC GROUNDS</td>\n",
       "      <td>True</td>\n",
       "      <td>False</td>\n",
       "      <td>...</td>\n",
       "      <td>20</td>\n",
       "      <td>69.0</td>\n",
       "      <td>04A</td>\n",
       "      <td>1179551.0</td>\n",
       "      <td>1862782.0</td>\n",
       "      <td>2024</td>\n",
       "      <td>12/21/2024 03:40:46 PM</td>\n",
       "      <td>41.778755</td>\n",
       "      <td>-87.617297</td>\n",
       "      <td>(41.778754713, -87.617297398)</td>\n",
       "    </tr>\n",
       "    <tr>\n",
       "      <th>21888</th>\n",
       "      <td>13460933</td>\n",
       "      <td>JH264162</td>\n",
       "      <td>05/15/2024 08:40:00 AM</td>\n",
       "      <td>022XX N CENTRAL AVE</td>\n",
       "      <td>0560</td>\n",
       "      <td>ASSAULT</td>\n",
       "      <td>SIMPLE</td>\n",
       "      <td>SCHOOL - PUBLIC GROUNDS</td>\n",
       "      <td>True</td>\n",
       "      <td>False</td>\n",
       "      <td>...</td>\n",
       "      <td>36</td>\n",
       "      <td>19.0</td>\n",
       "      <td>08A</td>\n",
       "      <td>1138681.0</td>\n",
       "      <td>1914356.0</td>\n",
       "      <td>2024</td>\n",
       "      <td>12/21/2024 03:40:46 PM</td>\n",
       "      <td>41.921117</td>\n",
       "      <td>-87.765882</td>\n",
       "      <td>(41.921117436, -87.765882468)</td>\n",
       "    </tr>\n",
       "    <tr>\n",
       "      <th>25679</th>\n",
       "      <td>13466373</td>\n",
       "      <td>JH270845</td>\n",
       "      <td>05/20/2024 08:48:00 AM</td>\n",
       "      <td>016XX W WABANSIA AVE</td>\n",
       "      <td>0557</td>\n",
       "      <td>ASSAULT</td>\n",
       "      <td>AGGRAVATED PROTECTED EMPLOYEE - KNIFE / CUTTIN...</td>\n",
       "      <td>SCHOOL - PUBLIC GROUNDS</td>\n",
       "      <td>True</td>\n",
       "      <td>False</td>\n",
       "      <td>...</td>\n",
       "      <td>32</td>\n",
       "      <td>24.0</td>\n",
       "      <td>04A</td>\n",
       "      <td>1165213.0</td>\n",
       "      <td>1911385.0</td>\n",
       "      <td>2024</td>\n",
       "      <td>12/21/2024 03:40:46 PM</td>\n",
       "      <td>41.912442</td>\n",
       "      <td>-87.668482</td>\n",
       "      <td>(41.912441678, -87.668482136)</td>\n",
       "    </tr>\n",
       "    <tr>\n",
       "      <th>36521</th>\n",
       "      <td>13482153</td>\n",
       "      <td>JH290225</td>\n",
       "      <td>06/03/2024 11:00:00 AM</td>\n",
       "      <td>112XX S WALLACE ST</td>\n",
       "      <td>0545</td>\n",
       "      <td>ASSAULT</td>\n",
       "      <td>PROTECTED EMPLOYEE - HANDS, FISTS, FEET, NO / ...</td>\n",
       "      <td>SCHOOL - PUBLIC GROUNDS</td>\n",
       "      <td>True</td>\n",
       "      <td>False</td>\n",
       "      <td>...</td>\n",
       "      <td>21</td>\n",
       "      <td>49.0</td>\n",
       "      <td>08A</td>\n",
       "      <td>1174313.0</td>\n",
       "      <td>1830380.0</td>\n",
       "      <td>2024</td>\n",
       "      <td>12/21/2024 03:40:46 PM</td>\n",
       "      <td>41.689957</td>\n",
       "      <td>-87.637461</td>\n",
       "      <td>(41.68995741, -87.637460623)</td>\n",
       "    </tr>\n",
       "    <tr>\n",
       "      <th>40371</th>\n",
       "      <td>13488113</td>\n",
       "      <td>JH297220</td>\n",
       "      <td>06/08/2024 05:33:00 AM</td>\n",
       "      <td>060XX S PEORIA ST</td>\n",
       "      <td>0550</td>\n",
       "      <td>ASSAULT</td>\n",
       "      <td>AGGRAVATED POLICE OFFICER - HANDGUN</td>\n",
       "      <td>SCHOOL - PUBLIC GROUNDS</td>\n",
       "      <td>True</td>\n",
       "      <td>False</td>\n",
       "      <td>...</td>\n",
       "      <td>16</td>\n",
       "      <td>68.0</td>\n",
       "      <td>04A</td>\n",
       "      <td>1171341.0</td>\n",
       "      <td>1864917.0</td>\n",
       "      <td>2024</td>\n",
       "      <td>12/21/2024 03:40:46 PM</td>\n",
       "      <td>41.784797</td>\n",
       "      <td>-87.647333</td>\n",
       "      <td>(41.784797052, -87.647333315)</td>\n",
       "    </tr>\n",
       "    <tr>\n",
       "      <th>57624</th>\n",
       "      <td>13513560</td>\n",
       "      <td>JH328076</td>\n",
       "      <td>06/30/2024 09:00:00 PM</td>\n",
       "      <td>038XX W 111TH ST</td>\n",
       "      <td>0560</td>\n",
       "      <td>ASSAULT</td>\n",
       "      <td>SIMPLE</td>\n",
       "      <td>SCHOOL - PUBLIC GROUNDS</td>\n",
       "      <td>True</td>\n",
       "      <td>False</td>\n",
       "      <td>...</td>\n",
       "      <td>19</td>\n",
       "      <td>74.0</td>\n",
       "      <td>08A</td>\n",
       "      <td>1152573.0</td>\n",
       "      <td>1830709.0</td>\n",
       "      <td>2024</td>\n",
       "      <td>12/21/2024 03:40:46 PM</td>\n",
       "      <td>41.691315</td>\n",
       "      <td>-87.717043</td>\n",
       "      <td>(41.691314623, -87.717043381)</td>\n",
       "    </tr>\n",
       "    <tr>\n",
       "      <th>90574</th>\n",
       "      <td>13561454</td>\n",
       "      <td>JH385114</td>\n",
       "      <td>08/12/2024 11:58:00 AM</td>\n",
       "      <td>050XX N WINTHROP AVE</td>\n",
       "      <td>0520</td>\n",
       "      <td>ASSAULT</td>\n",
       "      <td>AGGRAVATED - KNIFE / CUTTING INSTRUMENT</td>\n",
       "      <td>SCHOOL - PUBLIC GROUNDS</td>\n",
       "      <td>True</td>\n",
       "      <td>False</td>\n",
       "      <td>...</td>\n",
       "      <td>48</td>\n",
       "      <td>3.0</td>\n",
       "      <td>04A</td>\n",
       "      <td>1167955.0</td>\n",
       "      <td>1933907.0</td>\n",
       "      <td>2024</td>\n",
       "      <td>12/21/2024 03:40:46 PM</td>\n",
       "      <td>41.974184</td>\n",
       "      <td>-87.657757</td>\n",
       "      <td>(41.974184283, -87.657756697)</td>\n",
       "    </tr>\n",
       "    <tr>\n",
       "      <th>102549</th>\n",
       "      <td>13579271</td>\n",
       "      <td>JH406683</td>\n",
       "      <td>08/29/2024 07:30:00 AM</td>\n",
       "      <td>095XX S LOOMIS ST</td>\n",
       "      <td>0560</td>\n",
       "      <td>ASSAULT</td>\n",
       "      <td>SIMPLE</td>\n",
       "      <td>SCHOOL - PUBLIC GROUNDS</td>\n",
       "      <td>True</td>\n",
       "      <td>True</td>\n",
       "      <td>...</td>\n",
       "      <td>21</td>\n",
       "      <td>73.0</td>\n",
       "      <td>08A</td>\n",
       "      <td>1168706.0</td>\n",
       "      <td>1841387.0</td>\n",
       "      <td>2024</td>\n",
       "      <td>12/21/2024 03:40:46 PM</td>\n",
       "      <td>41.720285</td>\n",
       "      <td>-87.657672</td>\n",
       "      <td>(41.720284826, -87.657671825)</td>\n",
       "    </tr>\n",
       "    <tr>\n",
       "      <th>129595</th>\n",
       "      <td>13619332</td>\n",
       "      <td>JH454637</td>\n",
       "      <td>10/03/2024 06:49:00 PM</td>\n",
       "      <td>058XX N LINCOLN AVE</td>\n",
       "      <td>0560</td>\n",
       "      <td>ASSAULT</td>\n",
       "      <td>SIMPLE</td>\n",
       "      <td>SCHOOL - PUBLIC GROUNDS</td>\n",
       "      <td>True</td>\n",
       "      <td>False</td>\n",
       "      <td>...</td>\n",
       "      <td>40</td>\n",
       "      <td>2.0</td>\n",
       "      <td>08A</td>\n",
       "      <td>1155809.0</td>\n",
       "      <td>1938617.0</td>\n",
       "      <td>2024</td>\n",
       "      <td>12/21/2024 03:40:46 PM</td>\n",
       "      <td>41.987363</td>\n",
       "      <td>-87.702293</td>\n",
       "      <td>(41.987362912, -87.702293402)</td>\n",
       "    </tr>\n",
       "    <tr>\n",
       "      <th>147239</th>\n",
       "      <td>13645423</td>\n",
       "      <td>JH486167</td>\n",
       "      <td>10/28/2024 03:04:00 PM</td>\n",
       "      <td>018XX W 80TH ST</td>\n",
       "      <td>0545</td>\n",
       "      <td>ASSAULT</td>\n",
       "      <td>PROTECTED EMPLOYEE - HANDS, FISTS, FEET, NO / ...</td>\n",
       "      <td>SCHOOL - PUBLIC GROUNDS</td>\n",
       "      <td>True</td>\n",
       "      <td>False</td>\n",
       "      <td>...</td>\n",
       "      <td>17</td>\n",
       "      <td>71.0</td>\n",
       "      <td>08A</td>\n",
       "      <td>1165551.0</td>\n",
       "      <td>1851632.0</td>\n",
       "      <td>2024</td>\n",
       "      <td>12/21/2024 03:40:46 PM</td>\n",
       "      <td>41.748466</td>\n",
       "      <td>-87.668938</td>\n",
       "      <td>(41.748466019, -87.668938148)</td>\n",
       "    </tr>\n",
       "    <tr>\n",
       "      <th>161790</th>\n",
       "      <td>13667162</td>\n",
       "      <td>JH512076</td>\n",
       "      <td>11/18/2024 08:50:00 AM</td>\n",
       "      <td>044XX S EVANS AVE</td>\n",
       "      <td>0520</td>\n",
       "      <td>ASSAULT</td>\n",
       "      <td>AGGRAVATED - KNIFE / CUTTING INSTRUMENT</td>\n",
       "      <td>SCHOOL - PUBLIC GROUNDS</td>\n",
       "      <td>True</td>\n",
       "      <td>False</td>\n",
       "      <td>...</td>\n",
       "      <td>3</td>\n",
       "      <td>38.0</td>\n",
       "      <td>04A</td>\n",
       "      <td>1181894.0</td>\n",
       "      <td>1875785.0</td>\n",
       "      <td>2024</td>\n",
       "      <td>12/21/2024 03:40:46 PM</td>\n",
       "      <td>41.814382</td>\n",
       "      <td>-87.608306</td>\n",
       "      <td>(41.814382204, -87.608305812)</td>\n",
       "    </tr>\n",
       "    <tr>\n",
       "      <th>227027</th>\n",
       "      <td>13767841</td>\n",
       "      <td>JJ172385</td>\n",
       "      <td>03/07/2025 10:04:00 AM</td>\n",
       "      <td>035XX E 114TH ST</td>\n",
       "      <td>0558</td>\n",
       "      <td>ASSAULT</td>\n",
       "      <td>AGGRAVATED PROTECTED EMPLOYEE - OTHER DANGEROU...</td>\n",
       "      <td>SCHOOL - PUBLIC GROUNDS</td>\n",
       "      <td>True</td>\n",
       "      <td>False</td>\n",
       "      <td>...</td>\n",
       "      <td>10</td>\n",
       "      <td>52.0</td>\n",
       "      <td>04A</td>\n",
       "      <td>1201660.0</td>\n",
       "      <td>1829983.0</td>\n",
       "      <td>2025</td>\n",
       "      <td>03/15/2025 03:41:21 PM</td>\n",
       "      <td>41.688218</td>\n",
       "      <td>-87.537358</td>\n",
       "      <td>(41.688218178, -87.537357913)</td>\n",
       "    </tr>\n",
       "    <tr>\n",
       "      <th>240532</th>\n",
       "      <td>13789371</td>\n",
       "      <td>JJ198249</td>\n",
       "      <td>03/28/2025 07:30:00 PM</td>\n",
       "      <td>043XX N DRAKE AVE</td>\n",
       "      <td>0520</td>\n",
       "      <td>ASSAULT</td>\n",
       "      <td>AGGRAVATED - KNIFE / CUTTING INSTRUMENT</td>\n",
       "      <td>SCHOOL - PUBLIC GROUNDS</td>\n",
       "      <td>True</td>\n",
       "      <td>False</td>\n",
       "      <td>...</td>\n",
       "      <td>33</td>\n",
       "      <td>16.0</td>\n",
       "      <td>04A</td>\n",
       "      <td>1151940.0</td>\n",
       "      <td>1928711.0</td>\n",
       "      <td>2025</td>\n",
       "      <td>04/05/2025 03:40:58 PM</td>\n",
       "      <td>41.960258</td>\n",
       "      <td>-87.716786</td>\n",
       "      <td>(41.960257581, -87.716786035)</td>\n",
       "    </tr>\n",
       "  </tbody>\n",
       "</table>\n",
       "<p>13 rows × 22 columns</p>\n",
       "</div>"
      ],
      "text/plain": [
       "              ID Case Number                    Date                 Block  \\\n",
       "16194   13452510    JH253573  05/07/2024 08:15:00 AM   063XX S CALUMET AVE   \n",
       "21888   13460933    JH264162  05/15/2024 08:40:00 AM   022XX N CENTRAL AVE   \n",
       "25679   13466373    JH270845  05/20/2024 08:48:00 AM  016XX W WABANSIA AVE   \n",
       "36521   13482153    JH290225  06/03/2024 11:00:00 AM    112XX S WALLACE ST   \n",
       "40371   13488113    JH297220  06/08/2024 05:33:00 AM     060XX S PEORIA ST   \n",
       "57624   13513560    JH328076  06/30/2024 09:00:00 PM      038XX W 111TH ST   \n",
       "90574   13561454    JH385114  08/12/2024 11:58:00 AM  050XX N WINTHROP AVE   \n",
       "102549  13579271    JH406683  08/29/2024 07:30:00 AM     095XX S LOOMIS ST   \n",
       "129595  13619332    JH454637  10/03/2024 06:49:00 PM   058XX N LINCOLN AVE   \n",
       "147239  13645423    JH486167  10/28/2024 03:04:00 PM       018XX W 80TH ST   \n",
       "161790  13667162    JH512076  11/18/2024 08:50:00 AM     044XX S EVANS AVE   \n",
       "227027  13767841    JJ172385  03/07/2025 10:04:00 AM      035XX E 114TH ST   \n",
       "240532  13789371    JJ198249  03/28/2025 07:30:00 PM     043XX N DRAKE AVE   \n",
       "\n",
       "        IUCR Primary Type                                        Description  \\\n",
       "16194   0530      ASSAULT                AGGRAVATED - OTHER DANGEROUS WEAPON   \n",
       "21888   0560      ASSAULT                                             SIMPLE   \n",
       "25679   0557      ASSAULT  AGGRAVATED PROTECTED EMPLOYEE - KNIFE / CUTTIN...   \n",
       "36521   0545      ASSAULT  PROTECTED EMPLOYEE - HANDS, FISTS, FEET, NO / ...   \n",
       "40371   0550      ASSAULT                AGGRAVATED POLICE OFFICER - HANDGUN   \n",
       "57624   0560      ASSAULT                                             SIMPLE   \n",
       "90574   0520      ASSAULT            AGGRAVATED - KNIFE / CUTTING INSTRUMENT   \n",
       "102549  0560      ASSAULT                                             SIMPLE   \n",
       "129595  0560      ASSAULT                                             SIMPLE   \n",
       "147239  0545      ASSAULT  PROTECTED EMPLOYEE - HANDS, FISTS, FEET, NO / ...   \n",
       "161790  0520      ASSAULT            AGGRAVATED - KNIFE / CUTTING INSTRUMENT   \n",
       "227027  0558      ASSAULT  AGGRAVATED PROTECTED EMPLOYEE - OTHER DANGEROU...   \n",
       "240532  0520      ASSAULT            AGGRAVATED - KNIFE / CUTTING INSTRUMENT   \n",
       "\n",
       "           Location Description  Arrest  Domestic  ...  Ward  Community Area  \\\n",
       "16194   SCHOOL - PUBLIC GROUNDS    True     False  ...    20            69.0   \n",
       "21888   SCHOOL - PUBLIC GROUNDS    True     False  ...    36            19.0   \n",
       "25679   SCHOOL - PUBLIC GROUNDS    True     False  ...    32            24.0   \n",
       "36521   SCHOOL - PUBLIC GROUNDS    True     False  ...    21            49.0   \n",
       "40371   SCHOOL - PUBLIC GROUNDS    True     False  ...    16            68.0   \n",
       "57624   SCHOOL - PUBLIC GROUNDS    True     False  ...    19            74.0   \n",
       "90574   SCHOOL - PUBLIC GROUNDS    True     False  ...    48             3.0   \n",
       "102549  SCHOOL - PUBLIC GROUNDS    True      True  ...    21            73.0   \n",
       "129595  SCHOOL - PUBLIC GROUNDS    True     False  ...    40             2.0   \n",
       "147239  SCHOOL - PUBLIC GROUNDS    True     False  ...    17            71.0   \n",
       "161790  SCHOOL - PUBLIC GROUNDS    True     False  ...     3            38.0   \n",
       "227027  SCHOOL - PUBLIC GROUNDS    True     False  ...    10            52.0   \n",
       "240532  SCHOOL - PUBLIC GROUNDS    True     False  ...    33            16.0   \n",
       "\n",
       "        FBI Code  X Coordinate Y Coordinate  Year              Updated On  \\\n",
       "16194        04A     1179551.0    1862782.0  2024  12/21/2024 03:40:46 PM   \n",
       "21888        08A     1138681.0    1914356.0  2024  12/21/2024 03:40:46 PM   \n",
       "25679        04A     1165213.0    1911385.0  2024  12/21/2024 03:40:46 PM   \n",
       "36521        08A     1174313.0    1830380.0  2024  12/21/2024 03:40:46 PM   \n",
       "40371        04A     1171341.0    1864917.0  2024  12/21/2024 03:40:46 PM   \n",
       "57624        08A     1152573.0    1830709.0  2024  12/21/2024 03:40:46 PM   \n",
       "90574        04A     1167955.0    1933907.0  2024  12/21/2024 03:40:46 PM   \n",
       "102549       08A     1168706.0    1841387.0  2024  12/21/2024 03:40:46 PM   \n",
       "129595       08A     1155809.0    1938617.0  2024  12/21/2024 03:40:46 PM   \n",
       "147239       08A     1165551.0    1851632.0  2024  12/21/2024 03:40:46 PM   \n",
       "161790       04A     1181894.0    1875785.0  2024  12/21/2024 03:40:46 PM   \n",
       "227027       04A     1201660.0    1829983.0  2025  03/15/2025 03:41:21 PM   \n",
       "240532       04A     1151940.0    1928711.0  2025  04/05/2025 03:40:58 PM   \n",
       "\n",
       "         Latitude  Longitude                       Location  \n",
       "16194   41.778755 -87.617297  (41.778754713, -87.617297398)  \n",
       "21888   41.921117 -87.765882  (41.921117436, -87.765882468)  \n",
       "25679   41.912442 -87.668482  (41.912441678, -87.668482136)  \n",
       "36521   41.689957 -87.637461   (41.68995741, -87.637460623)  \n",
       "40371   41.784797 -87.647333  (41.784797052, -87.647333315)  \n",
       "57624   41.691315 -87.717043  (41.691314623, -87.717043381)  \n",
       "90574   41.974184 -87.657757  (41.974184283, -87.657756697)  \n",
       "102549  41.720285 -87.657672  (41.720284826, -87.657671825)  \n",
       "129595  41.987363 -87.702293  (41.987362912, -87.702293402)  \n",
       "147239  41.748466 -87.668938  (41.748466019, -87.668938148)  \n",
       "161790  41.814382 -87.608306  (41.814382204, -87.608305812)  \n",
       "227027  41.688218 -87.537358  (41.688218178, -87.537357913)  \n",
       "240532  41.960258 -87.716786  (41.960257581, -87.716786035)  \n",
       "\n",
       "[13 rows x 22 columns]"
      ]
     },
     "execution_count": 285,
     "metadata": {},
     "output_type": "execute_result"
    }
   ],
   "source": [
    "assault_filter_3"
   ]
  },
  {
   "cell_type": "code",
   "execution_count": 286,
   "id": "f306f703-e852-4a59-b6f3-7155aa36a9fc",
   "metadata": {},
   "outputs": [],
   "source": [
    "assault_final_filter = getLocation(assault_filter_3)"
   ]
  },
  {
   "cell_type": "markdown",
   "id": "a8e14890-d168-47e4-b3b6-60198d4fd85b",
   "metadata": {},
   "source": [
    "#### DF TO LIST CONVERSION"
   ]
  },
  {
   "cell_type": "code",
   "execution_count": 287,
   "id": "8007c0bd-de44-4d17-abe6-503ae14994e6",
   "metadata": {},
   "outputs": [],
   "source": [
    "assault_heatmap_data = convertDF(assault_final_filter)"
   ]
  },
  {
   "cell_type": "code",
   "execution_count": 288,
   "id": "d08c3ba5-d49a-4791-9435-3b68362ce6b0",
   "metadata": {},
   "outputs": [],
   "source": [
    "assault_map = create_base_map(assault_heatmap_data)"
   ]
  },
  {
   "cell_type": "code",
   "execution_count": 289,
   "id": "67e9e915-7faf-4b34-b216-0e1373a10e14",
   "metadata": {},
   "outputs": [
    {
     "data": {
      "text/plain": [
       "<folium.plugins.heat_map.HeatMap at 0x22992bd9490>"
      ]
     },
     "execution_count": 289,
     "metadata": {},
     "output_type": "execute_result"
    }
   ],
   "source": [
    "HeatMap(assault_heatmap_data).add_to(assault_map)"
   ]
  },
  {
   "cell_type": "code",
   "execution_count": 290,
   "id": "57d62056-6ea2-44fe-9db9-6ddb62374e39",
   "metadata": {},
   "outputs": [
    {
     "data": {
      "text/html": [
       "<div style=\"width:100%;\"><div style=\"position:relative;width:100%;height:0;padding-bottom:60%;\"><span style=\"color:#565656\">Make this Notebook Trusted to load map: File -> Trust Notebook</span><iframe srcdoc=\"&lt;!DOCTYPE html&gt;\n",
       "&lt;html&gt;\n",
       "&lt;head&gt;\n",
       "    \n",
       "    &lt;meta http-equiv=&quot;content-type&quot; content=&quot;text/html; charset=UTF-8&quot; /&gt;\n",
       "    \n",
       "        &lt;script&gt;\n",
       "            L_NO_TOUCH = false;\n",
       "            L_DISABLE_3D = false;\n",
       "        &lt;/script&gt;\n",
       "    \n",
       "    &lt;style&gt;html, body {width: 100%;height: 100%;margin: 0;padding: 0;}&lt;/style&gt;\n",
       "    &lt;style&gt;#map {position:absolute;top:0;bottom:0;right:0;left:0;}&lt;/style&gt;\n",
       "    &lt;script src=&quot;https://cdn.jsdelivr.net/npm/leaflet@1.9.3/dist/leaflet.js&quot;&gt;&lt;/script&gt;\n",
       "    &lt;script src=&quot;https://code.jquery.com/jquery-3.7.1.min.js&quot;&gt;&lt;/script&gt;\n",
       "    &lt;script src=&quot;https://cdn.jsdelivr.net/npm/bootstrap@5.2.2/dist/js/bootstrap.bundle.min.js&quot;&gt;&lt;/script&gt;\n",
       "    &lt;script src=&quot;https://cdnjs.cloudflare.com/ajax/libs/Leaflet.awesome-markers/2.0.2/leaflet.awesome-markers.js&quot;&gt;&lt;/script&gt;\n",
       "    &lt;link rel=&quot;stylesheet&quot; href=&quot;https://cdn.jsdelivr.net/npm/leaflet@1.9.3/dist/leaflet.css&quot;/&gt;\n",
       "    &lt;link rel=&quot;stylesheet&quot; href=&quot;https://cdn.jsdelivr.net/npm/bootstrap@5.2.2/dist/css/bootstrap.min.css&quot;/&gt;\n",
       "    &lt;link rel=&quot;stylesheet&quot; href=&quot;https://netdna.bootstrapcdn.com/bootstrap/3.0.0/css/bootstrap-glyphicons.css&quot;/&gt;\n",
       "    &lt;link rel=&quot;stylesheet&quot; href=&quot;https://cdn.jsdelivr.net/npm/@fortawesome/fontawesome-free@6.2.0/css/all.min.css&quot;/&gt;\n",
       "    &lt;link rel=&quot;stylesheet&quot; href=&quot;https://cdnjs.cloudflare.com/ajax/libs/Leaflet.awesome-markers/2.0.2/leaflet.awesome-markers.css&quot;/&gt;\n",
       "    &lt;link rel=&quot;stylesheet&quot; href=&quot;https://cdn.jsdelivr.net/gh/python-visualization/folium/folium/templates/leaflet.awesome.rotate.min.css&quot;/&gt;\n",
       "    \n",
       "            &lt;meta name=&quot;viewport&quot; content=&quot;width=device-width,\n",
       "                initial-scale=1.0, maximum-scale=1.0, user-scalable=no&quot; /&gt;\n",
       "            &lt;style&gt;\n",
       "                #map_00e392da740aafc4793f462a5e43798e {\n",
       "                    position: relative;\n",
       "                    width: 100.0%;\n",
       "                    height: 100.0%;\n",
       "                    left: 0.0%;\n",
       "                    top: 0.0%;\n",
       "                }\n",
       "                .leaflet-container { font-size: 1rem; }\n",
       "            &lt;/style&gt;\n",
       "        \n",
       "    &lt;script src=&quot;https://cdn.jsdelivr.net/gh/python-visualization/folium@main/folium/templates/leaflet_heat.min.js&quot;&gt;&lt;/script&gt;\n",
       "&lt;/head&gt;\n",
       "&lt;body&gt;\n",
       "    \n",
       "    \n",
       "            &lt;div class=&quot;folium-map&quot; id=&quot;map_00e392da740aafc4793f462a5e43798e&quot; &gt;&lt;/div&gt;\n",
       "        \n",
       "&lt;/body&gt;\n",
       "&lt;script&gt;\n",
       "    \n",
       "    \n",
       "            var map_00e392da740aafc4793f462a5e43798e = L.map(\n",
       "                &quot;map_00e392da740aafc4793f462a5e43798e&quot;,\n",
       "                {\n",
       "                    center: [41.688218178, -87.537357913],\n",
       "                    crs: L.CRS.EPSG3857,\n",
       "                    ...{\n",
       "  &quot;zoom&quot;: 11,\n",
       "  &quot;zoomControl&quot;: true,\n",
       "  &quot;preferCanvas&quot;: false,\n",
       "}\n",
       "\n",
       "                }\n",
       "            );\n",
       "\n",
       "            \n",
       "\n",
       "        \n",
       "    \n",
       "            var tile_layer_1ddcc3a08e3f2a9f253e4b9a91a81a21 = L.tileLayer(\n",
       "                &quot;https://tile.openstreetmap.org/{z}/{x}/{y}.png&quot;,\n",
       "                {\n",
       "  &quot;minZoom&quot;: 0,\n",
       "  &quot;maxZoom&quot;: 19,\n",
       "  &quot;maxNativeZoom&quot;: 19,\n",
       "  &quot;noWrap&quot;: false,\n",
       "  &quot;attribution&quot;: &quot;\\u0026copy; \\u003ca href=\\&quot;https://www.openstreetmap.org/copyright\\&quot;\\u003eOpenStreetMap\\u003c/a\\u003e contributors&quot;,\n",
       "  &quot;subdomains&quot;: &quot;abc&quot;,\n",
       "  &quot;detectRetina&quot;: false,\n",
       "  &quot;tms&quot;: false,\n",
       "  &quot;opacity&quot;: 1,\n",
       "}\n",
       "\n",
       "            );\n",
       "        \n",
       "    \n",
       "            tile_layer_1ddcc3a08e3f2a9f253e4b9a91a81a21.addTo(map_00e392da740aafc4793f462a5e43798e);\n",
       "        \n",
       "    \n",
       "            var heat_map_4999ffd7d0ec82b1752aee47bf82ec44 = L.heatLayer(\n",
       "                [[41.688218178, -87.537357913], [41.68995741, -87.637460623], [41.691314623, -87.717043381], [41.720284826, -87.657671825], [41.748466019, -87.668938148], [41.778754713, -87.617297398], [41.784797052, -87.647333315], [41.814382204, -87.608305812], [41.912441678, -87.668482136], [41.921117436, -87.765882468], [41.960257581, -87.716786035], [41.974184283, -87.657756697], [41.987362912, -87.702293402]],\n",
       "                {\n",
       "  &quot;minOpacity&quot;: 0.5,\n",
       "  &quot;maxZoom&quot;: 18,\n",
       "  &quot;radius&quot;: 25,\n",
       "  &quot;blur&quot;: 15,\n",
       "}\n",
       "            );\n",
       "        \n",
       "    \n",
       "            heat_map_4999ffd7d0ec82b1752aee47bf82ec44.addTo(map_00e392da740aafc4793f462a5e43798e);\n",
       "        \n",
       "&lt;/script&gt;\n",
       "&lt;/html&gt;\" style=\"position:absolute;width:100%;height:100%;left:0;top:0;border:none !important;\" allowfullscreen webkitallowfullscreen mozallowfullscreen></iframe></div></div>"
      ],
      "text/plain": [
       "<folium.folium.Map at 0x2298be5c890>"
      ]
     },
     "execution_count": 290,
     "metadata": {},
     "output_type": "execute_result"
    }
   ],
   "source": [
    "assault_map"
   ]
  },
  {
   "cell_type": "markdown",
   "id": "f6dd7a89-a414-4615-8c78-d879d45eb37f",
   "metadata": {},
   "source": [
    "<h3>ASSAULT ON SCHOOLS</h3>\n",
    "<p>There are 30 cases of assaults on school grounds in which the suspects were arrested. Most of those cases are in the south side of Chicago</p>\n",
    "<hr/>"
   ]
  },
  {
   "cell_type": "markdown",
   "id": "68be8876-0ed9-42ce-9b52-07df48a78d53",
   "metadata": {},
   "source": [
    "<h2>MOTOR VEHICLE THEFT</h2>"
   ]
  },
  {
   "cell_type": "code",
   "execution_count": 291,
   "id": "91253a4f-ed01-4366-ac67-4d25ddd19818",
   "metadata": {},
   "outputs": [],
   "source": [
    "motor_filter_1 = filterFrame(df, 'Primary Type', 'MOTOR VEHICLE THEFT')"
   ]
  },
  {
   "cell_type": "code",
   "execution_count": 302,
   "id": "8895fb60-c5a4-496a-a60b-4e649a104620",
   "metadata": {},
   "outputs": [],
   "source": [
    "motor_filter_2 = filterFrame(motor_filter_1, 'Description', 'AUTOMOBILE') #14k\n",
    "motor_filter_3 = filterFrame(motor_filter_2, 'Location Description', 'GAS STATION')"
   ]
  },
  {
   "cell_type": "code",
   "execution_count": 305,
   "id": "2042485f-c34c-4099-b6fd-36248437e44b",
   "metadata": {},
   "outputs": [],
   "source": [
    "motor_filter_4 = filterFrame(motor_filter_3, 'Arrest', True)"
   ]
  },
  {
   "cell_type": "code",
   "execution_count": 306,
   "id": "a9078ef2-2422-417e-b48e-a511865aac78",
   "metadata": {},
   "outputs": [],
   "source": [
    "motor_final = getLocation(motor_filter_4)"
   ]
  },
  {
   "cell_type": "markdown",
   "id": "81b503e5-044b-4d0a-9cda-4a55f393f594",
   "metadata": {},
   "source": [
    "#### DF TO LIST CONVERSION"
   ]
  },
  {
   "cell_type": "code",
   "execution_count": 307,
   "id": "1c282eca-bb2c-41be-864a-36b25be08f4e",
   "metadata": {},
   "outputs": [],
   "source": [
    "motor_heatmap_data = convertDF(motor_final)"
   ]
  },
  {
   "cell_type": "code",
   "execution_count": 308,
   "id": "6a355d86-dd4d-4c1a-adef-48012fe79b97",
   "metadata": {},
   "outputs": [],
   "source": [
    "motor_map = create_base_map(motor_heatmap_data)"
   ]
  },
  {
   "cell_type": "code",
   "execution_count": 309,
   "id": "8a6e7463-119c-4145-b79b-952df10582d2",
   "metadata": {},
   "outputs": [
    {
     "data": {
      "text/plain": [
       "<folium.plugins.heat_map.HeatMap at 0x229941426f0>"
      ]
     },
     "execution_count": 309,
     "metadata": {},
     "output_type": "execute_result"
    }
   ],
   "source": [
    "HeatMap(motor_heatmap_data).add_to(motor_map)"
   ]
  },
  {
   "cell_type": "code",
   "execution_count": 310,
   "id": "517caaa2-955b-43c7-a37b-480a64e333ef",
   "metadata": {},
   "outputs": [
    {
     "data": {
      "text/html": [
       "<div style=\"width:100%;\"><div style=\"position:relative;width:100%;height:0;padding-bottom:60%;\"><span style=\"color:#565656\">Make this Notebook Trusted to load map: File -> Trust Notebook</span><iframe srcdoc=\"&lt;!DOCTYPE html&gt;\n",
       "&lt;html&gt;\n",
       "&lt;head&gt;\n",
       "    \n",
       "    &lt;meta http-equiv=&quot;content-type&quot; content=&quot;text/html; charset=UTF-8&quot; /&gt;\n",
       "    \n",
       "        &lt;script&gt;\n",
       "            L_NO_TOUCH = false;\n",
       "            L_DISABLE_3D = false;\n",
       "        &lt;/script&gt;\n",
       "    \n",
       "    &lt;style&gt;html, body {width: 100%;height: 100%;margin: 0;padding: 0;}&lt;/style&gt;\n",
       "    &lt;style&gt;#map {position:absolute;top:0;bottom:0;right:0;left:0;}&lt;/style&gt;\n",
       "    &lt;script src=&quot;https://cdn.jsdelivr.net/npm/leaflet@1.9.3/dist/leaflet.js&quot;&gt;&lt;/script&gt;\n",
       "    &lt;script src=&quot;https://code.jquery.com/jquery-3.7.1.min.js&quot;&gt;&lt;/script&gt;\n",
       "    &lt;script src=&quot;https://cdn.jsdelivr.net/npm/bootstrap@5.2.2/dist/js/bootstrap.bundle.min.js&quot;&gt;&lt;/script&gt;\n",
       "    &lt;script src=&quot;https://cdnjs.cloudflare.com/ajax/libs/Leaflet.awesome-markers/2.0.2/leaflet.awesome-markers.js&quot;&gt;&lt;/script&gt;\n",
       "    &lt;link rel=&quot;stylesheet&quot; href=&quot;https://cdn.jsdelivr.net/npm/leaflet@1.9.3/dist/leaflet.css&quot;/&gt;\n",
       "    &lt;link rel=&quot;stylesheet&quot; href=&quot;https://cdn.jsdelivr.net/npm/bootstrap@5.2.2/dist/css/bootstrap.min.css&quot;/&gt;\n",
       "    &lt;link rel=&quot;stylesheet&quot; href=&quot;https://netdna.bootstrapcdn.com/bootstrap/3.0.0/css/bootstrap-glyphicons.css&quot;/&gt;\n",
       "    &lt;link rel=&quot;stylesheet&quot; href=&quot;https://cdn.jsdelivr.net/npm/@fortawesome/fontawesome-free@6.2.0/css/all.min.css&quot;/&gt;\n",
       "    &lt;link rel=&quot;stylesheet&quot; href=&quot;https://cdnjs.cloudflare.com/ajax/libs/Leaflet.awesome-markers/2.0.2/leaflet.awesome-markers.css&quot;/&gt;\n",
       "    &lt;link rel=&quot;stylesheet&quot; href=&quot;https://cdn.jsdelivr.net/gh/python-visualization/folium/folium/templates/leaflet.awesome.rotate.min.css&quot;/&gt;\n",
       "    \n",
       "            &lt;meta name=&quot;viewport&quot; content=&quot;width=device-width,\n",
       "                initial-scale=1.0, maximum-scale=1.0, user-scalable=no&quot; /&gt;\n",
       "            &lt;style&gt;\n",
       "                #map_e70eecc5a54a926a3db8fae22c38b620 {\n",
       "                    position: relative;\n",
       "                    width: 100.0%;\n",
       "                    height: 100.0%;\n",
       "                    left: 0.0%;\n",
       "                    top: 0.0%;\n",
       "                }\n",
       "                .leaflet-container { font-size: 1rem; }\n",
       "            &lt;/style&gt;\n",
       "        \n",
       "    &lt;script src=&quot;https://cdn.jsdelivr.net/gh/python-visualization/folium@main/folium/templates/leaflet_heat.min.js&quot;&gt;&lt;/script&gt;\n",
       "&lt;/head&gt;\n",
       "&lt;body&gt;\n",
       "    \n",
       "    \n",
       "            &lt;div class=&quot;folium-map&quot; id=&quot;map_e70eecc5a54a926a3db8fae22c38b620&quot; &gt;&lt;/div&gt;\n",
       "        \n",
       "&lt;/body&gt;\n",
       "&lt;script&gt;\n",
       "    \n",
       "    \n",
       "            var map_e70eecc5a54a926a3db8fae22c38b620 = L.map(\n",
       "                &quot;map_e70eecc5a54a926a3db8fae22c38b620&quot;,\n",
       "                {\n",
       "                    center: [41.692358646, -87.623096746],\n",
       "                    crs: L.CRS.EPSG3857,\n",
       "                    ...{\n",
       "  &quot;zoom&quot;: 11,\n",
       "  &quot;zoomControl&quot;: true,\n",
       "  &quot;preferCanvas&quot;: false,\n",
       "}\n",
       "\n",
       "                }\n",
       "            );\n",
       "\n",
       "            \n",
       "\n",
       "        \n",
       "    \n",
       "            var tile_layer_dd836d24e765b7fda345ddca600148d9 = L.tileLayer(\n",
       "                &quot;https://tile.openstreetmap.org/{z}/{x}/{y}.png&quot;,\n",
       "                {\n",
       "  &quot;minZoom&quot;: 0,\n",
       "  &quot;maxZoom&quot;: 19,\n",
       "  &quot;maxNativeZoom&quot;: 19,\n",
       "  &quot;noWrap&quot;: false,\n",
       "  &quot;attribution&quot;: &quot;\\u0026copy; \\u003ca href=\\&quot;https://www.openstreetmap.org/copyright\\&quot;\\u003eOpenStreetMap\\u003c/a\\u003e contributors&quot;,\n",
       "  &quot;subdomains&quot;: &quot;abc&quot;,\n",
       "  &quot;detectRetina&quot;: false,\n",
       "  &quot;tms&quot;: false,\n",
       "  &quot;opacity&quot;: 1,\n",
       "}\n",
       "\n",
       "            );\n",
       "        \n",
       "    \n",
       "            tile_layer_dd836d24e765b7fda345ddca600148d9.addTo(map_e70eecc5a54a926a3db8fae22c38b620);\n",
       "        \n",
       "    \n",
       "            var heat_map_6f6434db3f28a13633656e66eb6be972 = L.heatLayer(\n",
       "                [[41.692358646, -87.623096746], [41.751708436, -87.568145845], [41.78701723, -87.645505595], [41.793924612, -87.673580917], [41.794088699, -87.631799109], [41.794670403, -87.631785431], [41.801895518, -87.58769156], [41.817156358, -87.631228252], [41.866235446, -87.720517147], [41.870364073, -87.744897116], [41.872924943, -87.744991122], [41.873292286, -87.719744775], [41.873635421, -87.710081187], [41.876581037, -87.745137513], [41.89765683, -87.726152565]],\n",
       "                {\n",
       "  &quot;minOpacity&quot;: 0.5,\n",
       "  &quot;maxZoom&quot;: 18,\n",
       "  &quot;radius&quot;: 25,\n",
       "  &quot;blur&quot;: 15,\n",
       "}\n",
       "            );\n",
       "        \n",
       "    \n",
       "            heat_map_6f6434db3f28a13633656e66eb6be972.addTo(map_e70eecc5a54a926a3db8fae22c38b620);\n",
       "        \n",
       "&lt;/script&gt;\n",
       "&lt;/html&gt;\" style=\"position:absolute;width:100%;height:100%;left:0;top:0;border:none !important;\" allowfullscreen webkitallowfullscreen mozallowfullscreen></iframe></div></div>"
      ],
      "text/plain": [
       "<folium.folium.Map at 0x2298ef49220>"
      ]
     },
     "execution_count": 310,
     "metadata": {},
     "output_type": "execute_result"
    }
   ],
   "source": [
    "motor_map"
   ]
  },
  {
   "cell_type": "markdown",
   "id": "92afb2d3-8974-4d02-a27c-5056540cbf4f",
   "metadata": {},
   "source": [
    "<h2>MOTOR VEHICLE THEFT</h2>\n",
    "<p>3 consequetives gas station along the street of South Cicero Avenue(left of West Garfield Park), an automobile theft happened in which the suspects were arrested</p>\n",
    "<hr/>"
   ]
  },
  {
   "cell_type": "markdown",
   "id": "c2de8f27-5747-42b9-aeab-dcecfc441659",
   "metadata": {},
   "source": [
    "<h2>OTHER OFFENSE</h2>"
   ]
  },
  {
   "cell_type": "code",
   "execution_count": 333,
   "id": "c06131f1-1e3d-4628-829a-73476ca0c0d5",
   "metadata": {},
   "outputs": [],
   "source": [
    "other_filter_1 = df[df['Primary Type'] == 'OTHER OFFENSE']\n",
    "other_filter_2 = other_filter_1[other_filter_1['Description'] == \"LICENSE VIOLATION\"]"
   ]
  },
  {
   "cell_type": "code",
   "execution_count": 334,
   "id": "8ccb5095-f30c-4c06-a951-5574f8e9c817",
   "metadata": {},
   "outputs": [],
   "source": [
    "other_filter_3 = other_filter_2[other_filter_2['Location Description'] == 'STREET'] #14"
   ]
  },
  {
   "cell_type": "code",
   "execution_count": 335,
   "id": "8fcebaea-f233-4223-a1ea-46b799ed4d95",
   "metadata": {},
   "outputs": [],
   "source": [
    "other_final = getLocation(other_filter_3)"
   ]
  },
  {
   "cell_type": "markdown",
   "id": "c0978ce7-2a31-4f41-bb30-525b566036fe",
   "metadata": {},
   "source": [
    "#### DF TO LIST CONVERSION"
   ]
  },
  {
   "cell_type": "code",
   "execution_count": 336,
   "id": "777ed989-f761-4fd1-9a30-3bccfece94c2",
   "metadata": {},
   "outputs": [],
   "source": [
    "other_heatmap_data = convertDF(other_final)"
   ]
  },
  {
   "cell_type": "code",
   "execution_count": 337,
   "id": "4023fbbc-e062-43a2-81ad-10a9941f4a6f",
   "metadata": {},
   "outputs": [],
   "source": [
    "other_map = create_base_map(other_heatmap_data)"
   ]
  },
  {
   "cell_type": "code",
   "execution_count": 338,
   "id": "1d89ce70-df17-4808-a8e5-806e8ba936e3",
   "metadata": {},
   "outputs": [
    {
     "data": {
      "text/plain": [
       "<folium.plugins.heat_map.HeatMap at 0x229989e2e40>"
      ]
     },
     "execution_count": 338,
     "metadata": {},
     "output_type": "execute_result"
    }
   ],
   "source": [
    "HeatMap(other_heatmap_data).add_to(other_map)"
   ]
  },
  {
   "cell_type": "code",
   "execution_count": 339,
   "id": "614536ba-3783-42aa-b77f-f596e0fe7e31",
   "metadata": {},
   "outputs": [
    {
     "data": {
      "text/html": [
       "<div style=\"width:100%;\"><div style=\"position:relative;width:100%;height:0;padding-bottom:60%;\"><span style=\"color:#565656\">Make this Notebook Trusted to load map: File -> Trust Notebook</span><iframe srcdoc=\"&lt;!DOCTYPE html&gt;\n",
       "&lt;html&gt;\n",
       "&lt;head&gt;\n",
       "    \n",
       "    &lt;meta http-equiv=&quot;content-type&quot; content=&quot;text/html; charset=UTF-8&quot; /&gt;\n",
       "    \n",
       "        &lt;script&gt;\n",
       "            L_NO_TOUCH = false;\n",
       "            L_DISABLE_3D = false;\n",
       "        &lt;/script&gt;\n",
       "    \n",
       "    &lt;style&gt;html, body {width: 100%;height: 100%;margin: 0;padding: 0;}&lt;/style&gt;\n",
       "    &lt;style&gt;#map {position:absolute;top:0;bottom:0;right:0;left:0;}&lt;/style&gt;\n",
       "    &lt;script src=&quot;https://cdn.jsdelivr.net/npm/leaflet@1.9.3/dist/leaflet.js&quot;&gt;&lt;/script&gt;\n",
       "    &lt;script src=&quot;https://code.jquery.com/jquery-3.7.1.min.js&quot;&gt;&lt;/script&gt;\n",
       "    &lt;script src=&quot;https://cdn.jsdelivr.net/npm/bootstrap@5.2.2/dist/js/bootstrap.bundle.min.js&quot;&gt;&lt;/script&gt;\n",
       "    &lt;script src=&quot;https://cdnjs.cloudflare.com/ajax/libs/Leaflet.awesome-markers/2.0.2/leaflet.awesome-markers.js&quot;&gt;&lt;/script&gt;\n",
       "    &lt;link rel=&quot;stylesheet&quot; href=&quot;https://cdn.jsdelivr.net/npm/leaflet@1.9.3/dist/leaflet.css&quot;/&gt;\n",
       "    &lt;link rel=&quot;stylesheet&quot; href=&quot;https://cdn.jsdelivr.net/npm/bootstrap@5.2.2/dist/css/bootstrap.min.css&quot;/&gt;\n",
       "    &lt;link rel=&quot;stylesheet&quot; href=&quot;https://netdna.bootstrapcdn.com/bootstrap/3.0.0/css/bootstrap-glyphicons.css&quot;/&gt;\n",
       "    &lt;link rel=&quot;stylesheet&quot; href=&quot;https://cdn.jsdelivr.net/npm/@fortawesome/fontawesome-free@6.2.0/css/all.min.css&quot;/&gt;\n",
       "    &lt;link rel=&quot;stylesheet&quot; href=&quot;https://cdnjs.cloudflare.com/ajax/libs/Leaflet.awesome-markers/2.0.2/leaflet.awesome-markers.css&quot;/&gt;\n",
       "    &lt;link rel=&quot;stylesheet&quot; href=&quot;https://cdn.jsdelivr.net/gh/python-visualization/folium/folium/templates/leaflet.awesome.rotate.min.css&quot;/&gt;\n",
       "    \n",
       "            &lt;meta name=&quot;viewport&quot; content=&quot;width=device-width,\n",
       "                initial-scale=1.0, maximum-scale=1.0, user-scalable=no&quot; /&gt;\n",
       "            &lt;style&gt;\n",
       "                #map_e23e7fde889f233b4233f64ddf1701ff {\n",
       "                    position: relative;\n",
       "                    width: 100.0%;\n",
       "                    height: 100.0%;\n",
       "                    left: 0.0%;\n",
       "                    top: 0.0%;\n",
       "                }\n",
       "                .leaflet-container { font-size: 1rem; }\n",
       "            &lt;/style&gt;\n",
       "        \n",
       "    &lt;script src=&quot;https://cdn.jsdelivr.net/gh/python-visualization/folium@main/folium/templates/leaflet_heat.min.js&quot;&gt;&lt;/script&gt;\n",
       "&lt;/head&gt;\n",
       "&lt;body&gt;\n",
       "    \n",
       "    \n",
       "            &lt;div class=&quot;folium-map&quot; id=&quot;map_e23e7fde889f233b4233f64ddf1701ff&quot; &gt;&lt;/div&gt;\n",
       "        \n",
       "&lt;/body&gt;\n",
       "&lt;script&gt;\n",
       "    \n",
       "    \n",
       "            var map_e23e7fde889f233b4233f64ddf1701ff = L.map(\n",
       "                &quot;map_e23e7fde889f233b4233f64ddf1701ff&quot;,\n",
       "                {\n",
       "                    center: [41.758188043, -87.586123273],\n",
       "                    crs: L.CRS.EPSG3857,\n",
       "                    ...{\n",
       "  &quot;zoom&quot;: 11,\n",
       "  &quot;zoomControl&quot;: true,\n",
       "  &quot;preferCanvas&quot;: false,\n",
       "}\n",
       "\n",
       "                }\n",
       "            );\n",
       "\n",
       "            \n",
       "\n",
       "        \n",
       "    \n",
       "            var tile_layer_c9fcc1665c99e7ace1208b91c3df4452 = L.tileLayer(\n",
       "                &quot;https://tile.openstreetmap.org/{z}/{x}/{y}.png&quot;,\n",
       "                {\n",
       "  &quot;minZoom&quot;: 0,\n",
       "  &quot;maxZoom&quot;: 19,\n",
       "  &quot;maxNativeZoom&quot;: 19,\n",
       "  &quot;noWrap&quot;: false,\n",
       "  &quot;attribution&quot;: &quot;\\u0026copy; \\u003ca href=\\&quot;https://www.openstreetmap.org/copyright\\&quot;\\u003eOpenStreetMap\\u003c/a\\u003e contributors&quot;,\n",
       "  &quot;subdomains&quot;: &quot;abc&quot;,\n",
       "  &quot;detectRetina&quot;: false,\n",
       "  &quot;tms&quot;: false,\n",
       "  &quot;opacity&quot;: 1,\n",
       "}\n",
       "\n",
       "            );\n",
       "        \n",
       "    \n",
       "            tile_layer_c9fcc1665c99e7ace1208b91c3df4452.addTo(map_e23e7fde889f233b4233f64ddf1701ff);\n",
       "        \n",
       "    \n",
       "            var heat_map_59a55f271a6fa0b196f33a5a80330c86 = L.heatLayer(\n",
       "                [[41.758188043, -87.586123273], [41.769341616, -87.674602677], [41.865550441, -87.730046943], [41.874431776, -87.624969258], [41.89923153, -87.70264025], [41.903339394, -87.66806597], [41.950586517, -87.727525337], [41.953550367, -87.735923371], [41.967007592, -87.727991211], [41.969090767, -87.728052386], [42.018737893, -87.673138996]],\n",
       "                {\n",
       "  &quot;minOpacity&quot;: 0.5,\n",
       "  &quot;maxZoom&quot;: 18,\n",
       "  &quot;radius&quot;: 25,\n",
       "  &quot;blur&quot;: 15,\n",
       "}\n",
       "            );\n",
       "        \n",
       "    \n",
       "            heat_map_59a55f271a6fa0b196f33a5a80330c86.addTo(map_e23e7fde889f233b4233f64ddf1701ff);\n",
       "        \n",
       "&lt;/script&gt;\n",
       "&lt;/html&gt;\" style=\"position:absolute;width:100%;height:100%;left:0;top:0;border:none !important;\" allowfullscreen webkitallowfullscreen mozallowfullscreen></iframe></div></div>"
      ],
      "text/plain": [
       "<folium.folium.Map at 0x229989e2210>"
      ]
     },
     "execution_count": 339,
     "metadata": {},
     "output_type": "execute_result"
    }
   ],
   "source": [
    "other_map"
   ]
  },
  {
   "cell_type": "markdown",
   "id": "f65db4f3-b84e-4561-a5b2-2f02a7ac6ad8",
   "metadata": {},
   "source": [
    "<h3>OTHER OFFENSE INSIGHT</h3>\n",
    "<p>The street of North Pulalski Road has two counts of recorded license violation which could be proof that this street is a hot spot for cops to catch license violation</p>\n",
    "<hr/>"
   ]
  },
  {
   "cell_type": "markdown",
   "id": "a8520795-6fe1-47db-90cd-d4177f3ddb95",
   "metadata": {},
   "source": [
    "<h2>DECEPTIVE PRACTICE</h2>"
   ]
  },
  {
   "cell_type": "code",
   "execution_count": 340,
   "id": "8ed4862c-f35d-471d-94ab-9d44deaa5489",
   "metadata": {},
   "outputs": [],
   "source": [
    "deceptive_filter_1 = filterFrame(df, 'Primary Type', 'DECEPTIVE PRACTICE')"
   ]
  },
  {
   "cell_type": "code",
   "execution_count": 342,
   "id": "67563a52-a8f3-4615-b77d-9283cebe3c18",
   "metadata": {},
   "outputs": [],
   "source": [
    "deceptive_filter_2 = filterFrame(deceptive_filter_1, 'Description', 'COMPUTER FRAUD') #342"
   ]
  },
  {
   "cell_type": "code",
   "execution_count": 347,
   "id": "0858ea5f-7a50-4b76-9579-1ad8d4d22902",
   "metadata": {},
   "outputs": [],
   "source": [
    "deceptive_filter_3 = filterFrame(deceptive_filter_2, 'Location Description', 'RESIDENCE')\n",
    "# deceptive_filter_2[deceptive_filter_2['Location Description'] == 'RESIDENCE']"
   ]
  },
  {
   "cell_type": "code",
   "execution_count": 348,
   "id": "cadb16a0-49f0-4a72-895c-6b8e4850e6a0",
   "metadata": {},
   "outputs": [],
   "source": [
    "deceptive_final = getLocation(deceptive_filter_3)"
   ]
  },
  {
   "cell_type": "markdown",
   "id": "7827ea0b-5524-4597-b357-37d7dc1724de",
   "metadata": {},
   "source": [
    "#### DF TO LIST CONVERSION"
   ]
  },
  {
   "cell_type": "code",
   "execution_count": 349,
   "id": "5bd729e7-f567-48fb-bebc-221ffee331a9",
   "metadata": {},
   "outputs": [],
   "source": [
    "deceptive_heatmap_data = convertDF(deceptive_final)"
   ]
  },
  {
   "cell_type": "code",
   "execution_count": 351,
   "id": "53f18d4b-c641-43bc-8f55-55271d7aa81d",
   "metadata": {},
   "outputs": [],
   "source": [
    "deceptive_map = create_base_map(deceptive_heatmap_data)"
   ]
  },
  {
   "cell_type": "code",
   "execution_count": 352,
   "id": "e6b2b9d1-b262-4c38-8104-ffb6ad7d1f69",
   "metadata": {},
   "outputs": [
    {
     "data": {
      "text/plain": [
       "<folium.plugins.heat_map.HeatMap at 0x229979d1d60>"
      ]
     },
     "execution_count": 352,
     "metadata": {},
     "output_type": "execute_result"
    }
   ],
   "source": [
    "HeatMap(deceptive_heatmap_data).add_to(deceptive_map)"
   ]
  },
  {
   "cell_type": "code",
   "execution_count": 353,
   "id": "8dd315f5-41b2-4c00-9df3-bc89a35be698",
   "metadata": {},
   "outputs": [
    {
     "data": {
      "text/html": [
       "<div style=\"width:100%;\"><div style=\"position:relative;width:100%;height:0;padding-bottom:60%;\"><span style=\"color:#565656\">Make this Notebook Trusted to load map: File -> Trust Notebook</span><iframe srcdoc=\"&lt;!DOCTYPE html&gt;\n",
       "&lt;html&gt;\n",
       "&lt;head&gt;\n",
       "    \n",
       "    &lt;meta http-equiv=&quot;content-type&quot; content=&quot;text/html; charset=UTF-8&quot; /&gt;\n",
       "    \n",
       "        &lt;script&gt;\n",
       "            L_NO_TOUCH = false;\n",
       "            L_DISABLE_3D = false;\n",
       "        &lt;/script&gt;\n",
       "    \n",
       "    &lt;style&gt;html, body {width: 100%;height: 100%;margin: 0;padding: 0;}&lt;/style&gt;\n",
       "    &lt;style&gt;#map {position:absolute;top:0;bottom:0;right:0;left:0;}&lt;/style&gt;\n",
       "    &lt;script src=&quot;https://cdn.jsdelivr.net/npm/leaflet@1.9.3/dist/leaflet.js&quot;&gt;&lt;/script&gt;\n",
       "    &lt;script src=&quot;https://code.jquery.com/jquery-3.7.1.min.js&quot;&gt;&lt;/script&gt;\n",
       "    &lt;script src=&quot;https://cdn.jsdelivr.net/npm/bootstrap@5.2.2/dist/js/bootstrap.bundle.min.js&quot;&gt;&lt;/script&gt;\n",
       "    &lt;script src=&quot;https://cdnjs.cloudflare.com/ajax/libs/Leaflet.awesome-markers/2.0.2/leaflet.awesome-markers.js&quot;&gt;&lt;/script&gt;\n",
       "    &lt;link rel=&quot;stylesheet&quot; href=&quot;https://cdn.jsdelivr.net/npm/leaflet@1.9.3/dist/leaflet.css&quot;/&gt;\n",
       "    &lt;link rel=&quot;stylesheet&quot; href=&quot;https://cdn.jsdelivr.net/npm/bootstrap@5.2.2/dist/css/bootstrap.min.css&quot;/&gt;\n",
       "    &lt;link rel=&quot;stylesheet&quot; href=&quot;https://netdna.bootstrapcdn.com/bootstrap/3.0.0/css/bootstrap-glyphicons.css&quot;/&gt;\n",
       "    &lt;link rel=&quot;stylesheet&quot; href=&quot;https://cdn.jsdelivr.net/npm/@fortawesome/fontawesome-free@6.2.0/css/all.min.css&quot;/&gt;\n",
       "    &lt;link rel=&quot;stylesheet&quot; href=&quot;https://cdnjs.cloudflare.com/ajax/libs/Leaflet.awesome-markers/2.0.2/leaflet.awesome-markers.css&quot;/&gt;\n",
       "    &lt;link rel=&quot;stylesheet&quot; href=&quot;https://cdn.jsdelivr.net/gh/python-visualization/folium/folium/templates/leaflet.awesome.rotate.min.css&quot;/&gt;\n",
       "    \n",
       "            &lt;meta name=&quot;viewport&quot; content=&quot;width=device-width,\n",
       "                initial-scale=1.0, maximum-scale=1.0, user-scalable=no&quot; /&gt;\n",
       "            &lt;style&gt;\n",
       "                #map_0edcc57d40b0958713c6f91f7b634745 {\n",
       "                    position: relative;\n",
       "                    width: 100.0%;\n",
       "                    height: 100.0%;\n",
       "                    left: 0.0%;\n",
       "                    top: 0.0%;\n",
       "                }\n",
       "                .leaflet-container { font-size: 1rem; }\n",
       "            &lt;/style&gt;\n",
       "        \n",
       "    &lt;script src=&quot;https://cdn.jsdelivr.net/gh/python-visualization/folium@main/folium/templates/leaflet_heat.min.js&quot;&gt;&lt;/script&gt;\n",
       "&lt;/head&gt;\n",
       "&lt;body&gt;\n",
       "    \n",
       "    \n",
       "            &lt;div class=&quot;folium-map&quot; id=&quot;map_0edcc57d40b0958713c6f91f7b634745&quot; &gt;&lt;/div&gt;\n",
       "        \n",
       "&lt;/body&gt;\n",
       "&lt;script&gt;\n",
       "    \n",
       "    \n",
       "            var map_0edcc57d40b0958713c6f91f7b634745 = L.map(\n",
       "                &quot;map_0edcc57d40b0958713c6f91f7b634745&quot;,\n",
       "                {\n",
       "                    center: [41.654519371, -87.551992754],\n",
       "                    crs: L.CRS.EPSG3857,\n",
       "                    ...{\n",
       "  &quot;zoom&quot;: 11,\n",
       "  &quot;zoomControl&quot;: true,\n",
       "  &quot;preferCanvas&quot;: false,\n",
       "}\n",
       "\n",
       "                }\n",
       "            );\n",
       "\n",
       "            \n",
       "\n",
       "        \n",
       "    \n",
       "            var tile_layer_f1847cf1a742a64a49cd930b35af511e = L.tileLayer(\n",
       "                &quot;https://tile.openstreetmap.org/{z}/{x}/{y}.png&quot;,\n",
       "                {\n",
       "  &quot;minZoom&quot;: 0,\n",
       "  &quot;maxZoom&quot;: 19,\n",
       "  &quot;maxNativeZoom&quot;: 19,\n",
       "  &quot;noWrap&quot;: false,\n",
       "  &quot;attribution&quot;: &quot;\\u0026copy; \\u003ca href=\\&quot;https://www.openstreetmap.org/copyright\\&quot;\\u003eOpenStreetMap\\u003c/a\\u003e contributors&quot;,\n",
       "  &quot;subdomains&quot;: &quot;abc&quot;,\n",
       "  &quot;detectRetina&quot;: false,\n",
       "  &quot;tms&quot;: false,\n",
       "  &quot;opacity&quot;: 1,\n",
       "}\n",
       "\n",
       "            );\n",
       "        \n",
       "    \n",
       "            tile_layer_f1847cf1a742a64a49cd930b35af511e.addTo(map_0edcc57d40b0958713c6f91f7b634745);\n",
       "        \n",
       "    \n",
       "            var heat_map_f96fbdd2575357f00c3afd02fdad4f14 = L.heatLayer(\n",
       "                [[41.654519371, -87.551992754], [41.654666979, -87.615881443], [41.682355915, -87.64617841], [41.683719589, -87.537662301], [41.692258294, -87.650459367], [41.695646959, -87.618326154], [41.696057228, -87.70194891], [41.696475988, -87.541349781], [41.696963972, -87.646173059], [41.701101193, -87.612377428], [41.701365577, -87.712168631], [41.702109156, -87.5340813], [41.708402636, -87.617452369], [41.7092001, -87.609822187], [41.711695087, -87.6090141], [41.720521652, -87.644405662], [41.72199412, -87.678456515], [41.731497731, -87.658074565], [41.731837792, -87.622101478], [41.732078047, -87.639856508], [41.73488972, -87.661823748], [41.740542, -87.666836016], [41.742250055, -87.67416146], [41.744386491, -87.646286916], [41.745769455, -87.668178099], [41.747525736, -87.693782337], [41.750746589, -87.581661686], [41.751344208, -87.599820806], [41.754628982, -87.584482356], [41.76149791, -87.592092322], [41.765413352, -87.5677191], [41.769711651, -87.668806946], [41.774771243, -87.690842833], [41.779233433, -87.764216644], [41.78717662, -87.765011761], [41.793294067, -87.784283548], [41.796711194, -87.796580297], [41.800977123, -87.624245812], [41.802310356, -87.687934423], [41.803034821, -87.676311586], [41.80665187, -87.746800941], [41.806890268, -87.589834384], [41.810729682, -87.745688981], [41.812660405, -87.63695211], [41.818179265, -87.634261974], [41.824350946, -87.708013173], [41.825562993, -87.692903547], [41.837843313, -87.71948903], [41.85635485, -87.619119418], [41.86247702, -87.655762083], [41.865145359, -87.624098901], [41.877450511, -87.694702747], [41.878735349, -87.766433829], [41.882412225, -87.728169751], [41.882837304, -87.702118463], [41.883675954, -87.692999238], [41.899989717, -87.625105604], [41.906773524, -87.721562324], [41.907153315, -87.639680572], [41.91029099, -87.769134183], [41.914381869, -87.716680327], [41.915047073, -87.793752867], [41.91579178, -87.736294014], [41.916855183, -87.694728891], [41.919215426, -87.681095625], [41.924190871, -87.749980855], [41.924491408, -87.725909221], [41.924602334, -87.778176362], [41.925184926, -87.717009919], [41.926004511, -87.653631425], [41.928407508, -87.720760336], [41.929574144, -87.714681863], [41.930334169, -87.639289833], [41.931045028, -87.782578299], [41.935013029, -87.681904951], [41.937067465, -87.665021503], [41.940264821, -87.706437207], [41.941437776, -87.674782391], [41.941855726, -87.645439199], [41.943340938, -87.750692175], [41.947865187, -87.819450734], [41.949361911, -87.666499537], [41.953410889, -87.671460772], [41.953562576, -87.781685985], [41.955895185, -87.730912538], [41.959897455, -87.713101804], [41.963743519, -87.83825185], [41.967597491, -87.701488332], [41.971922705, -87.724921879], [41.972189109, -87.697118357], [41.975079939, -87.67637766], [41.977497582, -87.758747669], [41.980166366, -87.801169664], [41.981691811, -87.667045009], [41.98651861, -87.65528697], [41.989307302, -87.772350754], [41.990198974, -87.773435416], [41.990720822, -87.786047928], [41.992603623, -87.727634699], [41.993558695, -87.655495503], [41.996152828, -87.792097102], [41.99702355, -87.814865269], [42.00211792, -87.702199133], [42.006817454, -87.763877873], [42.008981153, -87.709229045], [42.010611489, -87.81639972], [42.01255665, -87.679134601], [42.01396181, -87.810267816], [42.022239521, -87.667920968]],\n",
       "                {\n",
       "  &quot;minOpacity&quot;: 0.5,\n",
       "  &quot;maxZoom&quot;: 18,\n",
       "  &quot;radius&quot;: 25,\n",
       "  &quot;blur&quot;: 15,\n",
       "}\n",
       "            );\n",
       "        \n",
       "    \n",
       "            heat_map_f96fbdd2575357f00c3afd02fdad4f14.addTo(map_0edcc57d40b0958713c6f91f7b634745);\n",
       "        \n",
       "&lt;/script&gt;\n",
       "&lt;/html&gt;\" style=\"position:absolute;width:100%;height:100%;left:0;top:0;border:none !important;\" allowfullscreen webkitallowfullscreen mozallowfullscreen></iframe></div></div>"
      ],
      "text/plain": [
       "<folium.folium.Map at 0x229979d3f80>"
      ]
     },
     "execution_count": 353,
     "metadata": {},
     "output_type": "execute_result"
    }
   ],
   "source": [
    "deceptive_map"
   ]
  },
  {
   "cell_type": "markdown",
   "id": "6d4ded62-d7b9-4788-ab75-4f8a9b996408",
   "metadata": {},
   "source": [
    "<h3>COMPUTER FRAUD: DECEPTIVE PRACTIVE</h3>\n",
    "<p>The Logan Square & Hermosa neighborhood has the highest density of committed computer fraud</p>\n",
    "<hr/>"
   ]
  },
  {
   "cell_type": "markdown",
   "id": "3e48adbc-3d28-43cf-a691-3046ba22d3b2",
   "metadata": {},
   "source": [
    "<h2>BURGLARY</h2>"
   ]
  },
  {
   "cell_type": "code",
   "execution_count": 359,
   "id": "77ad45f7-d708-4d83-923e-af5dce86d75a",
   "metadata": {},
   "outputs": [],
   "source": [
    "burg_filter_1 = filterFrame(df,'Primary Type', 'BURGLARY') #8.4k"
   ]
  },
  {
   "cell_type": "code",
   "execution_count": 360,
   "id": "21cf2472-57db-4b4d-8cc5-c255d692b513",
   "metadata": {},
   "outputs": [],
   "source": [
    "burg_filter_2 = filterFrame(burg_filter_1, 'Arrest', True)\n",
    "burg_filter_3 = filterFrame(burg_filter_2, 'Location Description', 'RESIDENCE')"
   ]
  },
  {
   "cell_type": "code",
   "execution_count": 362,
   "id": "64799ade-0d03-4645-82f5-6df3870ae6bb",
   "metadata": {},
   "outputs": [],
   "source": [
    "burg_final = getLocation(burg_filter_3)"
   ]
  },
  {
   "cell_type": "markdown",
   "id": "d2a99063-a9b5-4796-939b-4e5a88cdbf1f",
   "metadata": {},
   "source": [
    "#### DF TO LIST CONVERSION"
   ]
  },
  {
   "cell_type": "code",
   "execution_count": 364,
   "id": "cd16669c-35b8-48d7-8e1a-248fa3a39133",
   "metadata": {},
   "outputs": [],
   "source": [
    "burg_heatmap_data = convertDF(burg_final)"
   ]
  },
  {
   "cell_type": "code",
   "execution_count": 365,
   "id": "e391746d-fb9b-4360-9330-5462c0ce9cce",
   "metadata": {},
   "outputs": [
    {
     "data": {
      "text/plain": [
       "<folium.plugins.heat_map.HeatMap at 0x229979d3200>"
      ]
     },
     "execution_count": 365,
     "metadata": {},
     "output_type": "execute_result"
    }
   ],
   "source": [
    "burg_map = create_base_map(burg_heatmap_data)\n",
    "HeatMap(burg_heatmap_data).add_to(burg_map)"
   ]
  },
  {
   "cell_type": "code",
   "execution_count": 366,
   "id": "9fa6b268-938d-47f0-9941-fbf445cb16ac",
   "metadata": {},
   "outputs": [
    {
     "data": {
      "text/html": [
       "<div style=\"width:100%;\"><div style=\"position:relative;width:100%;height:0;padding-bottom:60%;\"><span style=\"color:#565656\">Make this Notebook Trusted to load map: File -> Trust Notebook</span><iframe srcdoc=\"&lt;!DOCTYPE html&gt;\n",
       "&lt;html&gt;\n",
       "&lt;head&gt;\n",
       "    \n",
       "    &lt;meta http-equiv=&quot;content-type&quot; content=&quot;text/html; charset=UTF-8&quot; /&gt;\n",
       "    \n",
       "        &lt;script&gt;\n",
       "            L_NO_TOUCH = false;\n",
       "            L_DISABLE_3D = false;\n",
       "        &lt;/script&gt;\n",
       "    \n",
       "    &lt;style&gt;html, body {width: 100%;height: 100%;margin: 0;padding: 0;}&lt;/style&gt;\n",
       "    &lt;style&gt;#map {position:absolute;top:0;bottom:0;right:0;left:0;}&lt;/style&gt;\n",
       "    &lt;script src=&quot;https://cdn.jsdelivr.net/npm/leaflet@1.9.3/dist/leaflet.js&quot;&gt;&lt;/script&gt;\n",
       "    &lt;script src=&quot;https://code.jquery.com/jquery-3.7.1.min.js&quot;&gt;&lt;/script&gt;\n",
       "    &lt;script src=&quot;https://cdn.jsdelivr.net/npm/bootstrap@5.2.2/dist/js/bootstrap.bundle.min.js&quot;&gt;&lt;/script&gt;\n",
       "    &lt;script src=&quot;https://cdnjs.cloudflare.com/ajax/libs/Leaflet.awesome-markers/2.0.2/leaflet.awesome-markers.js&quot;&gt;&lt;/script&gt;\n",
       "    &lt;link rel=&quot;stylesheet&quot; href=&quot;https://cdn.jsdelivr.net/npm/leaflet@1.9.3/dist/leaflet.css&quot;/&gt;\n",
       "    &lt;link rel=&quot;stylesheet&quot; href=&quot;https://cdn.jsdelivr.net/npm/bootstrap@5.2.2/dist/css/bootstrap.min.css&quot;/&gt;\n",
       "    &lt;link rel=&quot;stylesheet&quot; href=&quot;https://netdna.bootstrapcdn.com/bootstrap/3.0.0/css/bootstrap-glyphicons.css&quot;/&gt;\n",
       "    &lt;link rel=&quot;stylesheet&quot; href=&quot;https://cdn.jsdelivr.net/npm/@fortawesome/fontawesome-free@6.2.0/css/all.min.css&quot;/&gt;\n",
       "    &lt;link rel=&quot;stylesheet&quot; href=&quot;https://cdnjs.cloudflare.com/ajax/libs/Leaflet.awesome-markers/2.0.2/leaflet.awesome-markers.css&quot;/&gt;\n",
       "    &lt;link rel=&quot;stylesheet&quot; href=&quot;https://cdn.jsdelivr.net/gh/python-visualization/folium/folium/templates/leaflet.awesome.rotate.min.css&quot;/&gt;\n",
       "    \n",
       "            &lt;meta name=&quot;viewport&quot; content=&quot;width=device-width,\n",
       "                initial-scale=1.0, maximum-scale=1.0, user-scalable=no&quot; /&gt;\n",
       "            &lt;style&gt;\n",
       "                #map_f41d1913206d7842ed644154d760ea49 {\n",
       "                    position: relative;\n",
       "                    width: 100.0%;\n",
       "                    height: 100.0%;\n",
       "                    left: 0.0%;\n",
       "                    top: 0.0%;\n",
       "                }\n",
       "                .leaflet-container { font-size: 1rem; }\n",
       "            &lt;/style&gt;\n",
       "        \n",
       "    &lt;script src=&quot;https://cdn.jsdelivr.net/gh/python-visualization/folium@main/folium/templates/leaflet_heat.min.js&quot;&gt;&lt;/script&gt;\n",
       "&lt;/head&gt;\n",
       "&lt;body&gt;\n",
       "    \n",
       "    \n",
       "            &lt;div class=&quot;folium-map&quot; id=&quot;map_f41d1913206d7842ed644154d760ea49&quot; &gt;&lt;/div&gt;\n",
       "        \n",
       "&lt;/body&gt;\n",
       "&lt;script&gt;\n",
       "    \n",
       "    \n",
       "            var map_f41d1913206d7842ed644154d760ea49 = L.map(\n",
       "                &quot;map_f41d1913206d7842ed644154d760ea49&quot;,\n",
       "                {\n",
       "                    center: [41.684229864, -87.625309487],\n",
       "                    crs: L.CRS.EPSG3857,\n",
       "                    ...{\n",
       "  &quot;zoom&quot;: 11,\n",
       "  &quot;zoomControl&quot;: true,\n",
       "  &quot;preferCanvas&quot;: false,\n",
       "}\n",
       "\n",
       "                }\n",
       "            );\n",
       "\n",
       "            \n",
       "\n",
       "        \n",
       "    \n",
       "            var tile_layer_43985f8c5a12b8a300a0af81946557fe = L.tileLayer(\n",
       "                &quot;https://tile.openstreetmap.org/{z}/{x}/{y}.png&quot;,\n",
       "                {\n",
       "  &quot;minZoom&quot;: 0,\n",
       "  &quot;maxZoom&quot;: 19,\n",
       "  &quot;maxNativeZoom&quot;: 19,\n",
       "  &quot;noWrap&quot;: false,\n",
       "  &quot;attribution&quot;: &quot;\\u0026copy; \\u003ca href=\\&quot;https://www.openstreetmap.org/copyright\\&quot;\\u003eOpenStreetMap\\u003c/a\\u003e contributors&quot;,\n",
       "  &quot;subdomains&quot;: &quot;abc&quot;,\n",
       "  &quot;detectRetina&quot;: false,\n",
       "  &quot;tms&quot;: false,\n",
       "  &quot;opacity&quot;: 1,\n",
       "}\n",
       "\n",
       "            );\n",
       "        \n",
       "    \n",
       "            tile_layer_43985f8c5a12b8a300a0af81946557fe.addTo(map_f41d1913206d7842ed644154d760ea49);\n",
       "        \n",
       "    \n",
       "            var heat_map_174f9a10e9b81ee1f88b3981e79babc0 = L.heatLayer(\n",
       "                [[41.684229864, -87.625309487], [41.689115194, -87.612573513], [41.716622258, -87.643081096], [41.722351013, -87.65297241], [41.722501985, -87.652978144], [41.729325345, -87.665779654], [41.733851193, -87.608776216], [41.751172608, -87.611725793], [41.762038585, -87.690511697], [41.764527248, -87.635863696], [41.767508744, -87.685761377], [41.76878125, -87.713468884], [41.7690002, -87.573930201], [41.771996845, -87.680151372], [41.777793769, -87.611962705], [41.778530371, -87.666662788], [41.779646449, -87.612007936], [41.788383373, -87.629114847], [41.78969378, -87.643819534], [41.792653512, -87.766532902], [41.794144162, -87.726862822], [41.794980646, -87.668256274], [41.799809848, -87.742950106], [41.80026002, -87.600499169], [41.80400433, -87.672142462], [41.810492397, -87.74812678], [41.812371537, -87.595515419], [41.812949951, -87.620625267], [41.838921521, -87.635794067], [41.87811568, -87.754982715], [41.881207561, -87.757536364], [41.886443187, -87.70460962], [41.889833044, -87.75541324], [41.892860631, -87.771028526], [41.895654395, -87.697412059], [41.898070208, -87.697075877], [41.898138305, -87.717622673], [41.902365557, -87.674794667], [41.90356592, -87.696896419], [41.903898198, -87.726335881], [41.904460334, -87.727293012], [41.904850834, -87.637854049], [41.904868898, -87.725154836], [41.908357507, -87.630119571], [41.91401764, -87.685906425], [41.919457855, -87.711942988], [41.928223683, -87.781948443], [41.929534783, -87.744779916], [41.931053328, -87.713164489], [41.9315548, -87.65018044], [41.935854166, -87.649120179], [41.941187284, -87.640609305], [41.942309816, -87.760100237], [41.944095319, -87.804494889], [41.948707142, -87.646666855], [41.950049528, -87.653199585], [41.959358612, -87.708871539], [41.959820979, -87.746582297], [41.960617331, -87.755888114], [41.975565327, -87.798431397], [41.976981381, -87.661158383], [41.984447741, -87.729694498], [41.986277092, -87.655282176], [42.012270911, -87.689264024]],\n",
       "                {\n",
       "  &quot;minOpacity&quot;: 0.5,\n",
       "  &quot;maxZoom&quot;: 18,\n",
       "  &quot;radius&quot;: 25,\n",
       "  &quot;blur&quot;: 15,\n",
       "}\n",
       "            );\n",
       "        \n",
       "    \n",
       "            heat_map_174f9a10e9b81ee1f88b3981e79babc0.addTo(map_f41d1913206d7842ed644154d760ea49);\n",
       "        \n",
       "&lt;/script&gt;\n",
       "&lt;/html&gt;\" style=\"position:absolute;width:100%;height:100%;left:0;top:0;border:none !important;\" allowfullscreen webkitallowfullscreen mozallowfullscreen></iframe></div></div>"
      ],
      "text/plain": [
       "<folium.folium.Map at 0x229989e1df0>"
      ]
     },
     "execution_count": 366,
     "metadata": {},
     "output_type": "execute_result"
    }
   ],
   "source": [
    "burg_map"
   ]
  },
  {
   "cell_type": "markdown",
   "id": "eb2ac448-980f-4a5a-a71a-83c9eb3de745",
   "metadata": {},
   "source": [
    "<h3>BURGLARY</h3>\n",
    "<p>Humboldt Park neighborhood has the highest density of arrested residence burglary</p>\n",
    "<hr/>"
   ]
  },
  {
   "cell_type": "markdown",
   "id": "015a1df1-d33f-4144-9ba7-3958ba083234",
   "metadata": {},
   "source": [
    "<h2>ROBBERY</h2>"
   ]
  },
  {
   "cell_type": "code",
   "execution_count": 368,
   "id": "644c6cfe-fc30-4c16-87ae-163d66d35d78",
   "metadata": {},
   "outputs": [],
   "source": [
    "rob_filter_1 = filterFrame(df, 'Primary Type', 'ROBBERY') #8k"
   ]
  },
  {
   "cell_type": "code",
   "execution_count": 369,
   "id": "a12ef478-3a54-4f79-8b42-ceb33d9e75f9",
   "metadata": {},
   "outputs": [],
   "source": [
    "rob_filter_2 = filterFrame(rob_filter_1, 'Arrest', True) #587"
   ]
  },
  {
   "cell_type": "code",
   "execution_count": 373,
   "id": "0c624f88-d2d9-43d1-bdef-790d2967c06d",
   "metadata": {},
   "outputs": [],
   "source": [
    "rob_filter_3 = filterFrame(rob_filter_2, 'Location Description', 'ALLEY')"
   ]
  },
  {
   "cell_type": "code",
   "execution_count": 375,
   "id": "1a571e61-b48b-480d-a54f-7b3d043910a0",
   "metadata": {},
   "outputs": [],
   "source": [
    "rob_final = getLocation(rob_filter_3)"
   ]
  },
  {
   "cell_type": "markdown",
   "id": "76189235-a793-437d-a093-5dce629551dd",
   "metadata": {},
   "source": [
    "#### DF TO LIST CONVERSION"
   ]
  },
  {
   "cell_type": "code",
   "execution_count": 376,
   "id": "b7cf598a-a04e-422c-afa7-be810a6a098c",
   "metadata": {},
   "outputs": [],
   "source": [
    "rob_heatmap_data = convertDF(rob_final)"
   ]
  },
  {
   "cell_type": "code",
   "execution_count": 377,
   "id": "94ec0051-91f3-42e4-8924-12c7cbe1937a",
   "metadata": {},
   "outputs": [],
   "source": [
    "rob_map = create_base_map(rob_heatmap_data)"
   ]
  },
  {
   "cell_type": "code",
   "execution_count": 378,
   "id": "07f18ed9-386a-486e-ba58-c20e7679170c",
   "metadata": {},
   "outputs": [
    {
     "data": {
      "text/html": [
       "<div style=\"width:100%;\"><div style=\"position:relative;width:100%;height:0;padding-bottom:60%;\"><span style=\"color:#565656\">Make this Notebook Trusted to load map: File -> Trust Notebook</span><iframe srcdoc=\"&lt;!DOCTYPE html&gt;\n",
       "&lt;html&gt;\n",
       "&lt;head&gt;\n",
       "    \n",
       "    &lt;meta http-equiv=&quot;content-type&quot; content=&quot;text/html; charset=UTF-8&quot; /&gt;\n",
       "    \n",
       "        &lt;script&gt;\n",
       "            L_NO_TOUCH = false;\n",
       "            L_DISABLE_3D = false;\n",
       "        &lt;/script&gt;\n",
       "    \n",
       "    &lt;style&gt;html, body {width: 100%;height: 100%;margin: 0;padding: 0;}&lt;/style&gt;\n",
       "    &lt;style&gt;#map {position:absolute;top:0;bottom:0;right:0;left:0;}&lt;/style&gt;\n",
       "    &lt;script src=&quot;https://cdn.jsdelivr.net/npm/leaflet@1.9.3/dist/leaflet.js&quot;&gt;&lt;/script&gt;\n",
       "    &lt;script src=&quot;https://code.jquery.com/jquery-3.7.1.min.js&quot;&gt;&lt;/script&gt;\n",
       "    &lt;script src=&quot;https://cdn.jsdelivr.net/npm/bootstrap@5.2.2/dist/js/bootstrap.bundle.min.js&quot;&gt;&lt;/script&gt;\n",
       "    &lt;script src=&quot;https://cdnjs.cloudflare.com/ajax/libs/Leaflet.awesome-markers/2.0.2/leaflet.awesome-markers.js&quot;&gt;&lt;/script&gt;\n",
       "    &lt;link rel=&quot;stylesheet&quot; href=&quot;https://cdn.jsdelivr.net/npm/leaflet@1.9.3/dist/leaflet.css&quot;/&gt;\n",
       "    &lt;link rel=&quot;stylesheet&quot; href=&quot;https://cdn.jsdelivr.net/npm/bootstrap@5.2.2/dist/css/bootstrap.min.css&quot;/&gt;\n",
       "    &lt;link rel=&quot;stylesheet&quot; href=&quot;https://netdna.bootstrapcdn.com/bootstrap/3.0.0/css/bootstrap-glyphicons.css&quot;/&gt;\n",
       "    &lt;link rel=&quot;stylesheet&quot; href=&quot;https://cdn.jsdelivr.net/npm/@fortawesome/fontawesome-free@6.2.0/css/all.min.css&quot;/&gt;\n",
       "    &lt;link rel=&quot;stylesheet&quot; href=&quot;https://cdnjs.cloudflare.com/ajax/libs/Leaflet.awesome-markers/2.0.2/leaflet.awesome-markers.css&quot;/&gt;\n",
       "    &lt;link rel=&quot;stylesheet&quot; href=&quot;https://cdn.jsdelivr.net/gh/python-visualization/folium/folium/templates/leaflet.awesome.rotate.min.css&quot;/&gt;\n",
       "    \n",
       "            &lt;meta name=&quot;viewport&quot; content=&quot;width=device-width,\n",
       "                initial-scale=1.0, maximum-scale=1.0, user-scalable=no&quot; /&gt;\n",
       "            &lt;style&gt;\n",
       "                #map_07fa079d1fab57c7e84830d4bf56a36d {\n",
       "                    position: relative;\n",
       "                    width: 100.0%;\n",
       "                    height: 100.0%;\n",
       "                    left: 0.0%;\n",
       "                    top: 0.0%;\n",
       "                }\n",
       "                .leaflet-container { font-size: 1rem; }\n",
       "            &lt;/style&gt;\n",
       "        \n",
       "    &lt;script src=&quot;https://cdn.jsdelivr.net/gh/python-visualization/folium@main/folium/templates/leaflet_heat.min.js&quot;&gt;&lt;/script&gt;\n",
       "&lt;/head&gt;\n",
       "&lt;body&gt;\n",
       "    \n",
       "    \n",
       "            &lt;div class=&quot;folium-map&quot; id=&quot;map_07fa079d1fab57c7e84830d4bf56a36d&quot; &gt;&lt;/div&gt;\n",
       "        \n",
       "&lt;/body&gt;\n",
       "&lt;script&gt;\n",
       "    \n",
       "    \n",
       "            var map_07fa079d1fab57c7e84830d4bf56a36d = L.map(\n",
       "                &quot;map_07fa079d1fab57c7e84830d4bf56a36d&quot;,\n",
       "                {\n",
       "                    center: [41.746361583, -87.632971211],\n",
       "                    crs: L.CRS.EPSG3857,\n",
       "                    ...{\n",
       "  &quot;zoom&quot;: 11,\n",
       "  &quot;zoomControl&quot;: true,\n",
       "  &quot;preferCanvas&quot;: false,\n",
       "}\n",
       "\n",
       "                }\n",
       "            );\n",
       "\n",
       "            \n",
       "\n",
       "        \n",
       "    \n",
       "            var tile_layer_cf807f5c325c335c04430a67f21f5a73 = L.tileLayer(\n",
       "                &quot;https://tile.openstreetmap.org/{z}/{x}/{y}.png&quot;,\n",
       "                {\n",
       "  &quot;minZoom&quot;: 0,\n",
       "  &quot;maxZoom&quot;: 19,\n",
       "  &quot;maxNativeZoom&quot;: 19,\n",
       "  &quot;noWrap&quot;: false,\n",
       "  &quot;attribution&quot;: &quot;\\u0026copy; \\u003ca href=\\&quot;https://www.openstreetmap.org/copyright\\&quot;\\u003eOpenStreetMap\\u003c/a\\u003e contributors&quot;,\n",
       "  &quot;subdomains&quot;: &quot;abc&quot;,\n",
       "  &quot;detectRetina&quot;: false,\n",
       "  &quot;tms&quot;: false,\n",
       "  &quot;opacity&quot;: 1,\n",
       "}\n",
       "\n",
       "            );\n",
       "        \n",
       "    \n",
       "            tile_layer_cf807f5c325c335c04430a67f21f5a73.addTo(map_07fa079d1fab57c7e84830d4bf56a36d);\n",
       "        \n",
       "    \n",
       "            var heat_map_3b3adb15bb4aefb0b6e26df6a48610af = L.heatLayer(\n",
       "                [[41.746361583, -87.632971211], [41.774919468, -87.690848686], [41.777393312, -87.686666494], [41.779069904, -87.696460729], [41.779106043, -87.694073594], [41.809134387, -87.601692846], [41.824310473, -87.710666184], [41.824928186, -87.674312031], [41.833326643, -87.680251067], [41.845129361, -87.727244029], [41.845737098, -87.732706786], [41.850973007, -87.72797434], [41.858091628, -87.717650894], [41.872932112, -87.756138297], [41.877355259, -87.70279297], [41.87758338, -87.628734915], [41.881961095, -87.699483103], [41.903165858, -87.629294924], [41.904727932, -87.723929223], [41.942401926, -87.752762775], [41.962282104, -87.662338732], [42.006464454, -87.679116076], [42.007611727, -87.661571906], [42.008349835, -87.670052649], [42.009808542, -87.662292059]],\n",
       "                {\n",
       "  &quot;minOpacity&quot;: 0.5,\n",
       "  &quot;maxZoom&quot;: 18,\n",
       "  &quot;radius&quot;: 25,\n",
       "  &quot;blur&quot;: 15,\n",
       "}\n",
       "            );\n",
       "        \n",
       "    \n",
       "            heat_map_3b3adb15bb4aefb0b6e26df6a48610af.addTo(map_07fa079d1fab57c7e84830d4bf56a36d);\n",
       "        \n",
       "&lt;/script&gt;\n",
       "&lt;/html&gt;\" style=\"position:absolute;width:100%;height:100%;left:0;top:0;border:none !important;\" allowfullscreen webkitallowfullscreen mozallowfullscreen></iframe></div></div>"
      ],
      "text/plain": [
       "<folium.folium.Map at 0x229979ee2a0>"
      ]
     },
     "execution_count": 378,
     "metadata": {},
     "output_type": "execute_result"
    }
   ],
   "source": [
    "HeatMap(rob_heatmap_data).add_to(rob_map)\n",
    "rob_map"
   ]
  },
  {
   "cell_type": "markdown",
   "id": "910a3acb-ad5e-4a2e-bbfa-4bd885f3ed0e",
   "metadata": {},
   "source": [
    "<h3>ROBBERY</h3>\n",
    "<p>Both the Rogers Park and Lawndale neighborhood is the hotspot for alley robbery which has a high density of being arrested</p>\n",
    "<hr/>"
   ]
  },
  {
   "cell_type": "markdown",
   "id": "a8b8c2fd-4b52-4173-b691-a6c73fe6498d",
   "metadata": {},
   "source": [
    "<h2>WEAPONS VIOLATION</h2>"
   ]
  },
  {
   "cell_type": "code",
   "execution_count": 381,
   "id": "27bb795e-8859-4d0f-9d7b-225f1bb59efa",
   "metadata": {},
   "outputs": [],
   "source": [
    "weap_filter_1 = filterFrame(df, 'Primary Type', 'WEAPONS VIOLATION')"
   ]
  },
  {
   "cell_type": "code",
   "execution_count": 383,
   "id": "0b298229-0a8e-4ddc-9912-8496863d1ccd",
   "metadata": {},
   "outputs": [],
   "source": [
    "weap_filter_2 = filterFrame(weap_filter_1, 'Arrest', True)"
   ]
  },
  {
   "cell_type": "code",
   "execution_count": 389,
   "id": "53b2209e-e334-49ed-a286-dae9e89953c8",
   "metadata": {},
   "outputs": [],
   "source": [
    "weap_filter_3 = filterFrame(weap_filter_2, 'Location Description','GAS STATION')"
   ]
  },
  {
   "cell_type": "code",
   "execution_count": 391,
   "id": "1ccd05bd-4aef-4333-96c8-a0c064a24093",
   "metadata": {},
   "outputs": [],
   "source": [
    "weap_filter_4 = filterFrame(weap_filter_3, 'Description', 'UNLAWFUL POSSESSION - HANDGUN')"
   ]
  },
  {
   "cell_type": "code",
   "execution_count": 392,
   "id": "b7b55797-4094-443e-aa05-1c5e3a1f858d",
   "metadata": {},
   "outputs": [],
   "source": [
    "weap_final = getLocation(weap_filter_4)"
   ]
  },
  {
   "cell_type": "markdown",
   "id": "c4356e9e-cfc1-49b7-b9fe-1e98fb47a372",
   "metadata": {},
   "source": [
    "#### DF TO LIST CONVERSION"
   ]
  },
  {
   "cell_type": "code",
   "execution_count": 393,
   "id": "4f425ff5-9196-4d02-99aa-7f4852bc229e",
   "metadata": {},
   "outputs": [],
   "source": [
    "weap_heatmap_data = convertDF(weap_final)"
   ]
  },
  {
   "cell_type": "code",
   "execution_count": 394,
   "id": "1fb7cc23-a4bb-402f-ab6c-9190d76e91d2",
   "metadata": {},
   "outputs": [
    {
     "data": {
      "text/plain": [
       "<folium.plugins.heat_map.HeatMap at 0x229979ee900>"
      ]
     },
     "execution_count": 394,
     "metadata": {},
     "output_type": "execute_result"
    }
   ],
   "source": [
    "weap_map = create_base_map(weap_heatmap_data)\n",
    "HeatMap(weap_heatmap_data).add_to(weap_map)"
   ]
  },
  {
   "cell_type": "code",
   "execution_count": 395,
   "id": "b062b2de-1082-42f0-bb34-dae120a30bbe",
   "metadata": {},
   "outputs": [
    {
     "data": {
      "text/html": [
       "<div style=\"width:100%;\"><div style=\"position:relative;width:100%;height:0;padding-bottom:60%;\"><span style=\"color:#565656\">Make this Notebook Trusted to load map: File -> Trust Notebook</span><iframe srcdoc=\"&lt;!DOCTYPE html&gt;\n",
       "&lt;html&gt;\n",
       "&lt;head&gt;\n",
       "    \n",
       "    &lt;meta http-equiv=&quot;content-type&quot; content=&quot;text/html; charset=UTF-8&quot; /&gt;\n",
       "    \n",
       "        &lt;script&gt;\n",
       "            L_NO_TOUCH = false;\n",
       "            L_DISABLE_3D = false;\n",
       "        &lt;/script&gt;\n",
       "    \n",
       "    &lt;style&gt;html, body {width: 100%;height: 100%;margin: 0;padding: 0;}&lt;/style&gt;\n",
       "    &lt;style&gt;#map {position:absolute;top:0;bottom:0;right:0;left:0;}&lt;/style&gt;\n",
       "    &lt;script src=&quot;https://cdn.jsdelivr.net/npm/leaflet@1.9.3/dist/leaflet.js&quot;&gt;&lt;/script&gt;\n",
       "    &lt;script src=&quot;https://code.jquery.com/jquery-3.7.1.min.js&quot;&gt;&lt;/script&gt;\n",
       "    &lt;script src=&quot;https://cdn.jsdelivr.net/npm/bootstrap@5.2.2/dist/js/bootstrap.bundle.min.js&quot;&gt;&lt;/script&gt;\n",
       "    &lt;script src=&quot;https://cdnjs.cloudflare.com/ajax/libs/Leaflet.awesome-markers/2.0.2/leaflet.awesome-markers.js&quot;&gt;&lt;/script&gt;\n",
       "    &lt;link rel=&quot;stylesheet&quot; href=&quot;https://cdn.jsdelivr.net/npm/leaflet@1.9.3/dist/leaflet.css&quot;/&gt;\n",
       "    &lt;link rel=&quot;stylesheet&quot; href=&quot;https://cdn.jsdelivr.net/npm/bootstrap@5.2.2/dist/css/bootstrap.min.css&quot;/&gt;\n",
       "    &lt;link rel=&quot;stylesheet&quot; href=&quot;https://netdna.bootstrapcdn.com/bootstrap/3.0.0/css/bootstrap-glyphicons.css&quot;/&gt;\n",
       "    &lt;link rel=&quot;stylesheet&quot; href=&quot;https://cdn.jsdelivr.net/npm/@fortawesome/fontawesome-free@6.2.0/css/all.min.css&quot;/&gt;\n",
       "    &lt;link rel=&quot;stylesheet&quot; href=&quot;https://cdnjs.cloudflare.com/ajax/libs/Leaflet.awesome-markers/2.0.2/leaflet.awesome-markers.css&quot;/&gt;\n",
       "    &lt;link rel=&quot;stylesheet&quot; href=&quot;https://cdn.jsdelivr.net/gh/python-visualization/folium/folium/templates/leaflet.awesome.rotate.min.css&quot;/&gt;\n",
       "    \n",
       "            &lt;meta name=&quot;viewport&quot; content=&quot;width=device-width,\n",
       "                initial-scale=1.0, maximum-scale=1.0, user-scalable=no&quot; /&gt;\n",
       "            &lt;style&gt;\n",
       "                #map_591a3dce6d695647d96e0745471578de {\n",
       "                    position: relative;\n",
       "                    width: 100.0%;\n",
       "                    height: 100.0%;\n",
       "                    left: 0.0%;\n",
       "                    top: 0.0%;\n",
       "                }\n",
       "                .leaflet-container { font-size: 1rem; }\n",
       "            &lt;/style&gt;\n",
       "        \n",
       "    &lt;script src=&quot;https://cdn.jsdelivr.net/gh/python-visualization/folium@main/folium/templates/leaflet_heat.min.js&quot;&gt;&lt;/script&gt;\n",
       "&lt;/head&gt;\n",
       "&lt;body&gt;\n",
       "    \n",
       "    \n",
       "            &lt;div class=&quot;folium-map&quot; id=&quot;map_591a3dce6d695647d96e0745471578de&quot; &gt;&lt;/div&gt;\n",
       "        \n",
       "&lt;/body&gt;\n",
       "&lt;script&gt;\n",
       "    \n",
       "    \n",
       "            var map_591a3dce6d695647d96e0745471578de = L.map(\n",
       "                &quot;map_591a3dce6d695647d96e0745471578de&quot;,\n",
       "                {\n",
       "                    center: [41.663403306, -87.625793875],\n",
       "                    crs: L.CRS.EPSG3857,\n",
       "                    ...{\n",
       "  &quot;zoom&quot;: 11,\n",
       "  &quot;zoomControl&quot;: true,\n",
       "  &quot;preferCanvas&quot;: false,\n",
       "}\n",
       "\n",
       "                }\n",
       "            );\n",
       "\n",
       "            \n",
       "\n",
       "        \n",
       "    \n",
       "            var tile_layer_755113b9a26d7b62ca337936d4917321 = L.tileLayer(\n",
       "                &quot;https://tile.openstreetmap.org/{z}/{x}/{y}.png&quot;,\n",
       "                {\n",
       "  &quot;minZoom&quot;: 0,\n",
       "  &quot;maxZoom&quot;: 19,\n",
       "  &quot;maxNativeZoom&quot;: 19,\n",
       "  &quot;noWrap&quot;: false,\n",
       "  &quot;attribution&quot;: &quot;\\u0026copy; \\u003ca href=\\&quot;https://www.openstreetmap.org/copyright\\&quot;\\u003eOpenStreetMap\\u003c/a\\u003e contributors&quot;,\n",
       "  &quot;subdomains&quot;: &quot;abc&quot;,\n",
       "  &quot;detectRetina&quot;: false,\n",
       "  &quot;tms&quot;: false,\n",
       "  &quot;opacity&quot;: 1,\n",
       "}\n",
       "\n",
       "            );\n",
       "        \n",
       "    \n",
       "            tile_layer_755113b9a26d7b62ca337936d4917321.addTo(map_591a3dce6d695647d96e0745471578de);\n",
       "        \n",
       "    \n",
       "            var heat_map_1a630d5407a4b55e6e3acc8997de2ba1 = L.heatLayer(\n",
       "                [[41.663403306, -87.625793875], [41.684809877, -87.642147208], [41.692358646, -87.623096746], [41.692576964, -87.623786349], [41.692780068, -87.600611049], [41.692881681, -87.601052927], [41.693072305, -87.623118186], [41.700502156, -87.642634662], [41.707095328, -87.628834415], [41.707455569, -87.605611857], [41.713734669, -87.642987464], [41.713753878, -87.642987258], [41.71557103, -87.643055717], [41.722410468, -87.604487072], [41.731144695, -87.66292886], [41.7335097, -87.560576484], [41.735479162, -87.653324829], [41.735931109, -87.653642482], [41.73609565, -87.604808666], [41.736194461, -87.604811213], [41.736886394, -87.624170849], [41.743503863, -87.60501807], [41.744226478, -87.643855503], [41.744449336, -87.552581647], [41.744647338, -87.552238463], [41.746010581, -87.643906039], [41.746259974, -87.663332294], [41.74634568, -87.653627921], [41.748458232, -87.605159961], [41.750782715, -87.625813624], [41.751452878, -87.624567581], [41.751708436, -87.568145845], [41.752147383, -87.603989513], [41.755617231, -87.644169735], [41.755633717, -87.644173224], [41.75702248, -87.558073456], [41.757567866, -87.605364858], [41.758403688, -87.554948799], [41.758432859, -87.624765668], [41.758866805, -87.577036792], [41.759327126, -87.586154041], [41.762419957, -87.683180808], [41.764632089, -87.628311641], [41.765253769, -87.615255549], [41.765485438, -87.624277532], [41.765592011, -87.621098327], [41.76559446, -87.621050648], [41.76573639, -87.66381882], [41.768727829, -87.624945647], [41.772000438, -87.644584606], [41.77268594, -87.605758495], [41.772998982, -87.576478539], [41.773017577, -87.61265777], [41.773405326, -87.625143469], [41.77345388, -87.576795798], [41.779020089, -87.6998599], [41.779960201, -87.632099778], [41.77999793, -87.629294594], [41.780432637, -87.60439136], [41.780439401, -87.603727666], [41.782432685, -87.664290466], [41.786499587, -87.649815884], [41.786873855, -87.655550394], [41.79329893, -87.66456619], [41.793912094, -87.674747204], [41.793924612, -87.673580917], [41.794519322, -87.693821441], [41.8020092, -87.622063199], [41.809523197, -87.596831923], [41.817074013, -87.631225483], [41.817213984, -87.631227623], [41.822245225, -87.690948128], [41.82386008, -87.615162409], [41.830812527, -87.694828962], [41.838085292, -87.643190224], [41.838982099, -87.646299864], [41.845089351, -87.684748426], [41.852315746, -87.666667947], [41.865713975, -87.7251516], [41.866235446, -87.720517147], [41.87328131, -87.71974488], [41.874974798, -87.725475051], [41.876581037, -87.745137513], [41.880487595, -87.745964635], [41.883208624, -87.686489297], [41.893469034, -87.632648229], [41.894898559, -87.759720016], [41.895560835, -87.705846147], [41.89655687, -87.636801732], [41.89765683, -87.726152565], [41.902285227, -87.752457779], [41.902370457, -87.76565911], [41.90418255, -87.648113951], [41.938797346, -87.723377074], [41.939507459, -87.712505525], [41.953643409, -87.72801475], [41.985534487, -87.660126814]],\n",
       "                {\n",
       "  &quot;minOpacity&quot;: 0.5,\n",
       "  &quot;maxZoom&quot;: 18,\n",
       "  &quot;radius&quot;: 25,\n",
       "  &quot;blur&quot;: 15,\n",
       "}\n",
       "            );\n",
       "        \n",
       "    \n",
       "            heat_map_1a630d5407a4b55e6e3acc8997de2ba1.addTo(map_591a3dce6d695647d96e0745471578de);\n",
       "        \n",
       "&lt;/script&gt;\n",
       "&lt;/html&gt;\" style=\"position:absolute;width:100%;height:100%;left:0;top:0;border:none !important;\" allowfullscreen webkitallowfullscreen mozallowfullscreen></iframe></div></div>"
      ],
      "text/plain": [
       "<folium.folium.Map at 0x229989e3230>"
      ]
     },
     "execution_count": 395,
     "metadata": {},
     "output_type": "execute_result"
    }
   ],
   "source": [
    "weap_map"
   ]
  },
  {
   "cell_type": "markdown",
   "id": "af05f46a-2e5b-4901-bc31-0bdebeca8cb1",
   "metadata": {},
   "source": [
    "<h3>WEAPON VIOLATION INSIGHT</h3>\n",
    "<p>Among all the other neighborhood, Greate Grand Crossing has the most recorded arrested weapon violation of UNLAWFUL POSSESSION OF FIREARMS</p>\n",
    "<hr/>"
   ]
  },
  {
   "cell_type": "markdown",
   "id": "8483eaff-7039-451a-ac3b-55667d0edbf2",
   "metadata": {},
   "source": [
    "<h2>NARCOTICS</h2>"
   ]
  },
  {
   "cell_type": "code",
   "execution_count": 396,
   "id": "0cf01946-c396-4588-9ddd-3dc21f4eb7dd",
   "metadata": {},
   "outputs": [],
   "source": [
    "narc_filter_1 = filterFrame(df, 'Primary Type', 'NARCOTICS')"
   ]
  },
  {
   "cell_type": "code",
   "execution_count": 398,
   "id": "9680d9bd-94de-4342-84b9-bc8b57c138b8",
   "metadata": {},
   "outputs": [],
   "source": [
    "narc_filter_2 = filterFrame(narc_filter_1, 'Description', 'POSSESS - COCAINE')"
   ]
  },
  {
   "cell_type": "code",
   "execution_count": 406,
   "id": "02728f60-07e5-4204-944f-9ed6f4675f1b",
   "metadata": {},
   "outputs": [],
   "source": [
    "narc_filter_3 = filterFrame(narc_filter_2, 'Location Description', 'ALLEY')"
   ]
  },
  {
   "cell_type": "code",
   "execution_count": 408,
   "id": "9190eea3-e360-4eb2-aecf-6d57debed0bd",
   "metadata": {},
   "outputs": [],
   "source": [
    "narc_final = getLocation(narc_filter_3)"
   ]
  },
  {
   "cell_type": "markdown",
   "id": "373b2b89-8da1-45b3-a7d2-e4ffd99a99ea",
   "metadata": {},
   "source": [
    "#### DF TO LIST CONVERSION"
   ]
  },
  {
   "cell_type": "code",
   "execution_count": 409,
   "id": "a91f8724-42b7-46e3-a275-685bd287696e",
   "metadata": {},
   "outputs": [],
   "source": [
    "narc_heatmap_data = convertDF(narc_final)"
   ]
  },
  {
   "cell_type": "code",
   "execution_count": 410,
   "id": "fdeab9b5-b561-45a3-a773-66ec7da9eee7",
   "metadata": {},
   "outputs": [
    {
     "data": {
      "text/plain": [
       "<folium.plugins.heat_map.HeatMap at 0x229989d51f0>"
      ]
     },
     "execution_count": 410,
     "metadata": {},
     "output_type": "execute_result"
    }
   ],
   "source": [
    "narc_map = create_base_map(narc_heatmap_data)\n",
    "HeatMap(narc_heatmap_data).add_to(narc_map)"
   ]
  },
  {
   "cell_type": "code",
   "execution_count": 411,
   "id": "142dc88b-9e59-45ba-9a71-e4fc5c9681fa",
   "metadata": {},
   "outputs": [
    {
     "data": {
      "text/html": [
       "<div style=\"width:100%;\"><div style=\"position:relative;width:100%;height:0;padding-bottom:60%;\"><span style=\"color:#565656\">Make this Notebook Trusted to load map: File -> Trust Notebook</span><iframe srcdoc=\"&lt;!DOCTYPE html&gt;\n",
       "&lt;html&gt;\n",
       "&lt;head&gt;\n",
       "    \n",
       "    &lt;meta http-equiv=&quot;content-type&quot; content=&quot;text/html; charset=UTF-8&quot; /&gt;\n",
       "    \n",
       "        &lt;script&gt;\n",
       "            L_NO_TOUCH = false;\n",
       "            L_DISABLE_3D = false;\n",
       "        &lt;/script&gt;\n",
       "    \n",
       "    &lt;style&gt;html, body {width: 100%;height: 100%;margin: 0;padding: 0;}&lt;/style&gt;\n",
       "    &lt;style&gt;#map {position:absolute;top:0;bottom:0;right:0;left:0;}&lt;/style&gt;\n",
       "    &lt;script src=&quot;https://cdn.jsdelivr.net/npm/leaflet@1.9.3/dist/leaflet.js&quot;&gt;&lt;/script&gt;\n",
       "    &lt;script src=&quot;https://code.jquery.com/jquery-3.7.1.min.js&quot;&gt;&lt;/script&gt;\n",
       "    &lt;script src=&quot;https://cdn.jsdelivr.net/npm/bootstrap@5.2.2/dist/js/bootstrap.bundle.min.js&quot;&gt;&lt;/script&gt;\n",
       "    &lt;script src=&quot;https://cdnjs.cloudflare.com/ajax/libs/Leaflet.awesome-markers/2.0.2/leaflet.awesome-markers.js&quot;&gt;&lt;/script&gt;\n",
       "    &lt;link rel=&quot;stylesheet&quot; href=&quot;https://cdn.jsdelivr.net/npm/leaflet@1.9.3/dist/leaflet.css&quot;/&gt;\n",
       "    &lt;link rel=&quot;stylesheet&quot; href=&quot;https://cdn.jsdelivr.net/npm/bootstrap@5.2.2/dist/css/bootstrap.min.css&quot;/&gt;\n",
       "    &lt;link rel=&quot;stylesheet&quot; href=&quot;https://netdna.bootstrapcdn.com/bootstrap/3.0.0/css/bootstrap-glyphicons.css&quot;/&gt;\n",
       "    &lt;link rel=&quot;stylesheet&quot; href=&quot;https://cdn.jsdelivr.net/npm/@fortawesome/fontawesome-free@6.2.0/css/all.min.css&quot;/&gt;\n",
       "    &lt;link rel=&quot;stylesheet&quot; href=&quot;https://cdnjs.cloudflare.com/ajax/libs/Leaflet.awesome-markers/2.0.2/leaflet.awesome-markers.css&quot;/&gt;\n",
       "    &lt;link rel=&quot;stylesheet&quot; href=&quot;https://cdn.jsdelivr.net/gh/python-visualization/folium/folium/templates/leaflet.awesome.rotate.min.css&quot;/&gt;\n",
       "    \n",
       "            &lt;meta name=&quot;viewport&quot; content=&quot;width=device-width,\n",
       "                initial-scale=1.0, maximum-scale=1.0, user-scalable=no&quot; /&gt;\n",
       "            &lt;style&gt;\n",
       "                #map_5d9823cb16b2d70fa3545febb1d943a1 {\n",
       "                    position: relative;\n",
       "                    width: 100.0%;\n",
       "                    height: 100.0%;\n",
       "                    left: 0.0%;\n",
       "                    top: 0.0%;\n",
       "                }\n",
       "                .leaflet-container { font-size: 1rem; }\n",
       "            &lt;/style&gt;\n",
       "        \n",
       "    &lt;script src=&quot;https://cdn.jsdelivr.net/gh/python-visualization/folium@main/folium/templates/leaflet_heat.min.js&quot;&gt;&lt;/script&gt;\n",
       "&lt;/head&gt;\n",
       "&lt;body&gt;\n",
       "    \n",
       "    \n",
       "            &lt;div class=&quot;folium-map&quot; id=&quot;map_5d9823cb16b2d70fa3545febb1d943a1&quot; &gt;&lt;/div&gt;\n",
       "        \n",
       "&lt;/body&gt;\n",
       "&lt;script&gt;\n",
       "    \n",
       "    \n",
       "            var map_5d9823cb16b2d70fa3545febb1d943a1 = L.map(\n",
       "                &quot;map_5d9823cb16b2d70fa3545febb1d943a1&quot;,\n",
       "                {\n",
       "                    center: [41.771733108, -87.69870719],\n",
       "                    crs: L.CRS.EPSG3857,\n",
       "                    ...{\n",
       "  &quot;zoom&quot;: 11,\n",
       "  &quot;zoomControl&quot;: true,\n",
       "  &quot;preferCanvas&quot;: false,\n",
       "}\n",
       "\n",
       "                }\n",
       "            );\n",
       "\n",
       "            \n",
       "\n",
       "        \n",
       "    \n",
       "            var tile_layer_4c581b8f4d2ea4fefe49333472a5719f = L.tileLayer(\n",
       "                &quot;https://tile.openstreetmap.org/{z}/{x}/{y}.png&quot;,\n",
       "                {\n",
       "  &quot;minZoom&quot;: 0,\n",
       "  &quot;maxZoom&quot;: 19,\n",
       "  &quot;maxNativeZoom&quot;: 19,\n",
       "  &quot;noWrap&quot;: false,\n",
       "  &quot;attribution&quot;: &quot;\\u0026copy; \\u003ca href=\\&quot;https://www.openstreetmap.org/copyright\\&quot;\\u003eOpenStreetMap\\u003c/a\\u003e contributors&quot;,\n",
       "  &quot;subdomains&quot;: &quot;abc&quot;,\n",
       "  &quot;detectRetina&quot;: false,\n",
       "  &quot;tms&quot;: false,\n",
       "  &quot;opacity&quot;: 1,\n",
       "}\n",
       "\n",
       "            );\n",
       "        \n",
       "    \n",
       "            tile_layer_4c581b8f4d2ea4fefe49333472a5719f.addTo(map_5d9823cb16b2d70fa3545febb1d943a1);\n",
       "        \n",
       "    \n",
       "            var heat_map_df514590bbff39b39f76af5ec74c6117 = L.heatLayer(\n",
       "                [[41.771733108, -87.69870719], [41.793485288, -87.70536489], [41.797155079, -87.704485574], [41.797159058, -87.633067533], [41.799934918, -87.704964513], [41.804198198, -87.675797218], [41.805035138, -87.727174586], [41.812222279, -87.749398578], [41.813865609, -87.64202699], [41.836281151, -87.725555109], [41.837866301, -87.720710813], [41.83835106, -87.707297083], [41.839764898, -87.723206509], [41.841552673, -87.724477657], [41.841908596, -87.704961374], [41.844252523, -87.724899806], [41.844441775, -87.71054443], [41.846414, -87.69835136], [41.848885857, -87.71125741], [41.849307433, -87.710053127], [41.854330878, -87.730372628], [41.871422487, -87.718025992], [41.879297767, -87.725621359], [41.891027715, -87.706415714], [41.894302232, -87.718717316], [41.895513392, -87.710742689], [41.901714249, -87.723832986], [41.902697969, -87.723041199], [41.902698535, -87.723147722], [41.905324412, -87.729830603], [41.912208197, -87.730067025], [41.941689067, -87.826495059], [41.969777478, -87.659689686], [42.019380292, -87.672230728]],\n",
       "                {\n",
       "  &quot;minOpacity&quot;: 0.5,\n",
       "  &quot;maxZoom&quot;: 18,\n",
       "  &quot;radius&quot;: 25,\n",
       "  &quot;blur&quot;: 15,\n",
       "}\n",
       "            );\n",
       "        \n",
       "    \n",
       "            heat_map_df514590bbff39b39f76af5ec74c6117.addTo(map_5d9823cb16b2d70fa3545febb1d943a1);\n",
       "        \n",
       "&lt;/script&gt;\n",
       "&lt;/html&gt;\" style=\"position:absolute;width:100%;height:100%;left:0;top:0;border:none !important;\" allowfullscreen webkitallowfullscreen mozallowfullscreen></iframe></div></div>"
      ],
      "text/plain": [
       "<folium.folium.Map at 0x229979d3650>"
      ]
     },
     "execution_count": 411,
     "metadata": {},
     "output_type": "execute_result"
    }
   ],
   "source": [
    "narc_map"
   ]
  },
  {
   "cell_type": "markdown",
   "id": "a7238e31-d830-47ff-bd9a-cdcd2e3ee38f",
   "metadata": {},
   "source": [
    "<h3>NARCOTICS: COCAINE</h3>\n",
    "<p>South Lawndale neighborhood seems to be the hotspot for arrested suspects convicted of illegal possessions of cocaine with a scattered heatmap which is inside of the South Lawndale block</p>\n",
    "\n",
    "<hr/>"
   ]
  },
  {
   "cell_type": "markdown",
   "id": "88b4fefa-0ac2-4672-b631-e40164f3143a",
   "metadata": {},
   "source": [
    "<h2>CRIMINAL TRESPASS</h2>"
   ]
  },
  {
   "cell_type": "code",
   "execution_count": 412,
   "id": "d15fd913-3a22-4c23-9a18-9ee0543e71c1",
   "metadata": {},
   "outputs": [],
   "source": [
    "tres_filter_1 = filterFrame(df, 'Primary Type', 'CRIMINAL TRESPASS')"
   ]
  },
  {
   "cell_type": "code",
   "execution_count": 414,
   "id": "f9c6ef93-0952-4ad0-8143-2398e12f6a60",
   "metadata": {},
   "outputs": [],
   "source": [
    "tres_filter_2 = filterFrame(df, 'Description', 'TO LAND')"
   ]
  },
  {
   "cell_type": "code",
   "execution_count": 418,
   "id": "e7be3f71-9b5c-44ab-baaa-16c505f61f4e",
   "metadata": {},
   "outputs": [],
   "source": [
    "tres_filter_3 = filterFrame(tres_filter_2, 'Location Description', 'COMMERCIAL / BUSINESS OFFICE')\n",
    "tres_filter_4 = filterFrame(tres_filter_3, 'Arrest', True)"
   ]
  },
  {
   "cell_type": "code",
   "execution_count": 420,
   "id": "ebae7105-b9c9-4680-a938-d313059ef635",
   "metadata": {},
   "outputs": [],
   "source": [
    "tres_final = getLocation(tres_filter_4)"
   ]
  },
  {
   "cell_type": "markdown",
   "id": "a9dff6f6-77d3-46bb-a3a7-3ef142eba595",
   "metadata": {},
   "source": [
    "#### DF TO LIST CONVERSION"
   ]
  },
  {
   "cell_type": "code",
   "execution_count": 421,
   "id": "2bc9aeb7-699e-44bf-9682-78c8f900f25c",
   "metadata": {},
   "outputs": [],
   "source": [
    "tres_heatmap_data = convertDF(tres_final)"
   ]
  },
  {
   "cell_type": "code",
   "execution_count": 422,
   "id": "227e690d-6800-4087-8192-5fa01964667d",
   "metadata": {},
   "outputs": [
    {
     "data": {
      "text/plain": [
       "<folium.plugins.heat_map.HeatMap at 0x229979ec620>"
      ]
     },
     "execution_count": 422,
     "metadata": {},
     "output_type": "execute_result"
    }
   ],
   "source": [
    "tres_map = create_base_map(tres_heatmap_data)\n",
    "HeatMap(tres_heatmap_data).add_to(tres_map)"
   ]
  },
  {
   "cell_type": "code",
   "execution_count": 423,
   "id": "f3e1c6ea-dc3b-41af-bdf2-156d0d5851d7",
   "metadata": {},
   "outputs": [
    {
     "data": {
      "text/html": [
       "<div style=\"width:100%;\"><div style=\"position:relative;width:100%;height:0;padding-bottom:60%;\"><span style=\"color:#565656\">Make this Notebook Trusted to load map: File -> Trust Notebook</span><iframe srcdoc=\"&lt;!DOCTYPE html&gt;\n",
       "&lt;html&gt;\n",
       "&lt;head&gt;\n",
       "    \n",
       "    &lt;meta http-equiv=&quot;content-type&quot; content=&quot;text/html; charset=UTF-8&quot; /&gt;\n",
       "    \n",
       "        &lt;script&gt;\n",
       "            L_NO_TOUCH = false;\n",
       "            L_DISABLE_3D = false;\n",
       "        &lt;/script&gt;\n",
       "    \n",
       "    &lt;style&gt;html, body {width: 100%;height: 100%;margin: 0;padding: 0;}&lt;/style&gt;\n",
       "    &lt;style&gt;#map {position:absolute;top:0;bottom:0;right:0;left:0;}&lt;/style&gt;\n",
       "    &lt;script src=&quot;https://cdn.jsdelivr.net/npm/leaflet@1.9.3/dist/leaflet.js&quot;&gt;&lt;/script&gt;\n",
       "    &lt;script src=&quot;https://code.jquery.com/jquery-3.7.1.min.js&quot;&gt;&lt;/script&gt;\n",
       "    &lt;script src=&quot;https://cdn.jsdelivr.net/npm/bootstrap@5.2.2/dist/js/bootstrap.bundle.min.js&quot;&gt;&lt;/script&gt;\n",
       "    &lt;script src=&quot;https://cdnjs.cloudflare.com/ajax/libs/Leaflet.awesome-markers/2.0.2/leaflet.awesome-markers.js&quot;&gt;&lt;/script&gt;\n",
       "    &lt;link rel=&quot;stylesheet&quot; href=&quot;https://cdn.jsdelivr.net/npm/leaflet@1.9.3/dist/leaflet.css&quot;/&gt;\n",
       "    &lt;link rel=&quot;stylesheet&quot; href=&quot;https://cdn.jsdelivr.net/npm/bootstrap@5.2.2/dist/css/bootstrap.min.css&quot;/&gt;\n",
       "    &lt;link rel=&quot;stylesheet&quot; href=&quot;https://netdna.bootstrapcdn.com/bootstrap/3.0.0/css/bootstrap-glyphicons.css&quot;/&gt;\n",
       "    &lt;link rel=&quot;stylesheet&quot; href=&quot;https://cdn.jsdelivr.net/npm/@fortawesome/fontawesome-free@6.2.0/css/all.min.css&quot;/&gt;\n",
       "    &lt;link rel=&quot;stylesheet&quot; href=&quot;https://cdnjs.cloudflare.com/ajax/libs/Leaflet.awesome-markers/2.0.2/leaflet.awesome-markers.css&quot;/&gt;\n",
       "    &lt;link rel=&quot;stylesheet&quot; href=&quot;https://cdn.jsdelivr.net/gh/python-visualization/folium/folium/templates/leaflet.awesome.rotate.min.css&quot;/&gt;\n",
       "    \n",
       "            &lt;meta name=&quot;viewport&quot; content=&quot;width=device-width,\n",
       "                initial-scale=1.0, maximum-scale=1.0, user-scalable=no&quot; /&gt;\n",
       "            &lt;style&gt;\n",
       "                #map_c0382ff1d961381a78b6df36be0c8ed7 {\n",
       "                    position: relative;\n",
       "                    width: 100.0%;\n",
       "                    height: 100.0%;\n",
       "                    left: 0.0%;\n",
       "                    top: 0.0%;\n",
       "                }\n",
       "                .leaflet-container { font-size: 1rem; }\n",
       "            &lt;/style&gt;\n",
       "        \n",
       "    &lt;script src=&quot;https://cdn.jsdelivr.net/gh/python-visualization/folium@main/folium/templates/leaflet_heat.min.js&quot;&gt;&lt;/script&gt;\n",
       "&lt;/head&gt;\n",
       "&lt;body&gt;\n",
       "    \n",
       "    \n",
       "            &lt;div class=&quot;folium-map&quot; id=&quot;map_c0382ff1d961381a78b6df36be0c8ed7&quot; &gt;&lt;/div&gt;\n",
       "        \n",
       "&lt;/body&gt;\n",
       "&lt;script&gt;\n",
       "    \n",
       "    \n",
       "            var map_c0382ff1d961381a78b6df36be0c8ed7 = L.map(\n",
       "                &quot;map_c0382ff1d961381a78b6df36be0c8ed7&quot;,\n",
       "                {\n",
       "                    center: [41.7211947, -87.664024973],\n",
       "                    crs: L.CRS.EPSG3857,\n",
       "                    ...{\n",
       "  &quot;zoom&quot;: 11,\n",
       "  &quot;zoomControl&quot;: true,\n",
       "  &quot;preferCanvas&quot;: false,\n",
       "}\n",
       "\n",
       "                }\n",
       "            );\n",
       "\n",
       "            \n",
       "\n",
       "        \n",
       "    \n",
       "            var tile_layer_90583fee2718b8851ce7295e6d24e06a = L.tileLayer(\n",
       "                &quot;https://tile.openstreetmap.org/{z}/{x}/{y}.png&quot;,\n",
       "                {\n",
       "  &quot;minZoom&quot;: 0,\n",
       "  &quot;maxZoom&quot;: 19,\n",
       "  &quot;maxNativeZoom&quot;: 19,\n",
       "  &quot;noWrap&quot;: false,\n",
       "  &quot;attribution&quot;: &quot;\\u0026copy; \\u003ca href=\\&quot;https://www.openstreetmap.org/copyright\\&quot;\\u003eOpenStreetMap\\u003c/a\\u003e contributors&quot;,\n",
       "  &quot;subdomains&quot;: &quot;abc&quot;,\n",
       "  &quot;detectRetina&quot;: false,\n",
       "  &quot;tms&quot;: false,\n",
       "  &quot;opacity&quot;: 1,\n",
       "}\n",
       "\n",
       "            );\n",
       "        \n",
       "    \n",
       "            tile_layer_90583fee2718b8851ce7295e6d24e06a.addTo(map_c0382ff1d961381a78b6df36be0c8ed7);\n",
       "        \n",
       "    \n",
       "            var heat_map_8412a335df458810d91d1edac0292336 = L.heatLayer(\n",
       "                [[41.7211947, -87.664024973], [41.736736273, -87.598532484], [41.756164719, -87.683009383], [41.776150283, -87.615522623], [41.802037251, -87.620390452], [41.808661566, -87.660830123], [41.810693516, -87.683929054], [41.817219532, -87.645754796], [41.844252776, -87.724947514], [41.873807522, -87.69445629], [41.87770039, -87.636668714], [41.878506591, -87.635213191], [41.878630716, -87.636673298], [41.880167173, -87.635264886], [41.880731604, -87.628828854], [41.88184935, -87.641606807], [41.88221592, -87.638687118], [41.883823074, -87.63852649], [41.886816564, -87.631677946], [41.887900618, -87.637101434], [41.888189539, -87.623777956], [41.88993496, -87.637696349], [41.890986027, -87.62113571], [41.891990384, -87.611461502], [41.892479692, -87.627487745], [41.892694698, -87.626750816], [41.893909431, -87.640554797], [41.893911444, -87.64043357], [41.896685066, -87.627683859], [41.898444056, -87.651290125], [41.902423869, -87.718984731], [41.903996883, -87.643230238], [41.907926167, -87.64819515], [41.909915134, -87.676745013], [41.915715874, -87.74605323], [41.924250576, -87.745545036], [41.92480533, -87.697717952], [41.9305046, -87.648938479], [41.930896787, -87.697587655], [41.939957234, -87.651042721], [41.948279589, -87.649516667], [41.953917073, -87.708409974], [41.959891679, -87.767222504], [41.965249692, -87.668187079], [41.97718798, -87.659887417], [41.978991238, -87.659941972], [42.019471494, -87.683395206]],\n",
       "                {\n",
       "  &quot;minOpacity&quot;: 0.5,\n",
       "  &quot;maxZoom&quot;: 18,\n",
       "  &quot;radius&quot;: 25,\n",
       "  &quot;blur&quot;: 15,\n",
       "}\n",
       "            );\n",
       "        \n",
       "    \n",
       "            heat_map_8412a335df458810d91d1edac0292336.addTo(map_c0382ff1d961381a78b6df36be0c8ed7);\n",
       "        \n",
       "&lt;/script&gt;\n",
       "&lt;/html&gt;\" style=\"position:absolute;width:100%;height:100%;left:0;top:0;border:none !important;\" allowfullscreen webkitallowfullscreen mozallowfullscreen></iframe></div></div>"
      ],
      "text/plain": [
       "<folium.folium.Map at 0x229979ecb90>"
      ]
     },
     "execution_count": 423,
     "metadata": {},
     "output_type": "execute_result"
    }
   ],
   "source": [
    "tres_map"
   ]
  },
  {
   "cell_type": "markdown",
   "id": "193b9f57-7090-49be-8d8f-76dfde761356",
   "metadata": {},
   "source": [
    "<h3>CRIMINAL TRESPASS TO LAND ON COMMERCIAL / BUSINESS OFFICE</h3>\n",
    "<p>A high dense of arrested criminal trespass on commercial/business office happened between Loop and Chicago Union Station Block</p>\n",
    "<hr/>"
   ]
  },
  {
   "cell_type": "markdown",
   "id": "a1693cab-9503-476a-a7b5-1746692d9b70",
   "metadata": {},
   "source": [
    "<h2>OFFENSE INVOLVING CHILDREN</h2>"
   ]
  },
  {
   "cell_type": "code",
   "execution_count": 424,
   "id": "e11fe2ab-d6e8-418c-b30c-ffbbf1e5853e",
   "metadata": {},
   "outputs": [],
   "source": [
    "child_filter_1 = filterFrame(df, 'Primary Type', 'OFFENSE INVOLVING CHILDREN')"
   ]
  },
  {
   "cell_type": "code",
   "execution_count": 427,
   "id": "dd237753-e763-4e67-8866-6208fc7415f6",
   "metadata": {},
   "outputs": [],
   "source": [
    "child_filter_2 = filterFrame(child_filter_1, 'Description', 'CHILD ABUSE')"
   ]
  },
  {
   "cell_type": "code",
   "execution_count": 434,
   "id": "12fed71d-3e95-486d-a0a9-5b457d00f8fe",
   "metadata": {},
   "outputs": [],
   "source": [
    "child_filter_3 = filterFrame(child_filter_2, 'Location Description', 'APARTMENT')"
   ]
  },
  {
   "cell_type": "code",
   "execution_count": 436,
   "id": "6567255a-8d27-42e0-aa0e-3ddcd28275fc",
   "metadata": {},
   "outputs": [],
   "source": [
    "child_final = getLocation(child_filter_3)"
   ]
  },
  {
   "cell_type": "markdown",
   "id": "a78d7776-370d-47d2-b15e-c7e9a947abac",
   "metadata": {},
   "source": [
    "#### DF TO LIST CONVERSION"
   ]
  },
  {
   "cell_type": "code",
   "execution_count": 438,
   "id": "0bce3924-c809-43cd-baaf-e3dbee996f22",
   "metadata": {},
   "outputs": [
    {
     "data": {
      "text/plain": [
       "<folium.plugins.heat_map.HeatMap at 0x22997a2cc80>"
      ]
     },
     "execution_count": 438,
     "metadata": {},
     "output_type": "execute_result"
    }
   ],
   "source": [
    "child_heatmap_data = convertDF(child_final)\n",
    "child_map = create_base_map(child_heatmap_data)\n",
    "HeatMap(child_heatmap_data).add_to(child_map)"
   ]
  },
  {
   "cell_type": "code",
   "execution_count": 439,
   "id": "3def7427-1ec4-4a31-b4f2-d80e5e36e389",
   "metadata": {},
   "outputs": [
    {
     "data": {
      "text/html": [
       "<div style=\"width:100%;\"><div style=\"position:relative;width:100%;height:0;padding-bottom:60%;\"><span style=\"color:#565656\">Make this Notebook Trusted to load map: File -> Trust Notebook</span><iframe srcdoc=\"&lt;!DOCTYPE html&gt;\n",
       "&lt;html&gt;\n",
       "&lt;head&gt;\n",
       "    \n",
       "    &lt;meta http-equiv=&quot;content-type&quot; content=&quot;text/html; charset=UTF-8&quot; /&gt;\n",
       "    \n",
       "        &lt;script&gt;\n",
       "            L_NO_TOUCH = false;\n",
       "            L_DISABLE_3D = false;\n",
       "        &lt;/script&gt;\n",
       "    \n",
       "    &lt;style&gt;html, body {width: 100%;height: 100%;margin: 0;padding: 0;}&lt;/style&gt;\n",
       "    &lt;style&gt;#map {position:absolute;top:0;bottom:0;right:0;left:0;}&lt;/style&gt;\n",
       "    &lt;script src=&quot;https://cdn.jsdelivr.net/npm/leaflet@1.9.3/dist/leaflet.js&quot;&gt;&lt;/script&gt;\n",
       "    &lt;script src=&quot;https://code.jquery.com/jquery-3.7.1.min.js&quot;&gt;&lt;/script&gt;\n",
       "    &lt;script src=&quot;https://cdn.jsdelivr.net/npm/bootstrap@5.2.2/dist/js/bootstrap.bundle.min.js&quot;&gt;&lt;/script&gt;\n",
       "    &lt;script src=&quot;https://cdnjs.cloudflare.com/ajax/libs/Leaflet.awesome-markers/2.0.2/leaflet.awesome-markers.js&quot;&gt;&lt;/script&gt;\n",
       "    &lt;link rel=&quot;stylesheet&quot; href=&quot;https://cdn.jsdelivr.net/npm/leaflet@1.9.3/dist/leaflet.css&quot;/&gt;\n",
       "    &lt;link rel=&quot;stylesheet&quot; href=&quot;https://cdn.jsdelivr.net/npm/bootstrap@5.2.2/dist/css/bootstrap.min.css&quot;/&gt;\n",
       "    &lt;link rel=&quot;stylesheet&quot; href=&quot;https://netdna.bootstrapcdn.com/bootstrap/3.0.0/css/bootstrap-glyphicons.css&quot;/&gt;\n",
       "    &lt;link rel=&quot;stylesheet&quot; href=&quot;https://cdn.jsdelivr.net/npm/@fortawesome/fontawesome-free@6.2.0/css/all.min.css&quot;/&gt;\n",
       "    &lt;link rel=&quot;stylesheet&quot; href=&quot;https://cdnjs.cloudflare.com/ajax/libs/Leaflet.awesome-markers/2.0.2/leaflet.awesome-markers.css&quot;/&gt;\n",
       "    &lt;link rel=&quot;stylesheet&quot; href=&quot;https://cdn.jsdelivr.net/gh/python-visualization/folium/folium/templates/leaflet.awesome.rotate.min.css&quot;/&gt;\n",
       "    \n",
       "            &lt;meta name=&quot;viewport&quot; content=&quot;width=device-width,\n",
       "                initial-scale=1.0, maximum-scale=1.0, user-scalable=no&quot; /&gt;\n",
       "            &lt;style&gt;\n",
       "                #map_d3ba55bb50c753b46dd973e89f2b71b1 {\n",
       "                    position: relative;\n",
       "                    width: 100.0%;\n",
       "                    height: 100.0%;\n",
       "                    left: 0.0%;\n",
       "                    top: 0.0%;\n",
       "                }\n",
       "                .leaflet-container { font-size: 1rem; }\n",
       "            &lt;/style&gt;\n",
       "        \n",
       "    &lt;script src=&quot;https://cdn.jsdelivr.net/gh/python-visualization/folium@main/folium/templates/leaflet_heat.min.js&quot;&gt;&lt;/script&gt;\n",
       "&lt;/head&gt;\n",
       "&lt;body&gt;\n",
       "    \n",
       "    \n",
       "            &lt;div class=&quot;folium-map&quot; id=&quot;map_d3ba55bb50c753b46dd973e89f2b71b1&quot; &gt;&lt;/div&gt;\n",
       "        \n",
       "&lt;/body&gt;\n",
       "&lt;script&gt;\n",
       "    \n",
       "    \n",
       "            var map_d3ba55bb50c753b46dd973e89f2b71b1 = L.map(\n",
       "                &quot;map_d3ba55bb50c753b46dd973e89f2b71b1&quot;,\n",
       "                {\n",
       "                    center: [41.654373954, -87.60377263],\n",
       "                    crs: L.CRS.EPSG3857,\n",
       "                    ...{\n",
       "  &quot;zoom&quot;: 11,\n",
       "  &quot;zoomControl&quot;: true,\n",
       "  &quot;preferCanvas&quot;: false,\n",
       "}\n",
       "\n",
       "                }\n",
       "            );\n",
       "\n",
       "            \n",
       "\n",
       "        \n",
       "    \n",
       "            var tile_layer_35041067d7d3eea9896fd63f40946ecf = L.tileLayer(\n",
       "                &quot;https://tile.openstreetmap.org/{z}/{x}/{y}.png&quot;,\n",
       "                {\n",
       "  &quot;minZoom&quot;: 0,\n",
       "  &quot;maxZoom&quot;: 19,\n",
       "  &quot;maxNativeZoom&quot;: 19,\n",
       "  &quot;noWrap&quot;: false,\n",
       "  &quot;attribution&quot;: &quot;\\u0026copy; \\u003ca href=\\&quot;https://www.openstreetmap.org/copyright\\&quot;\\u003eOpenStreetMap\\u003c/a\\u003e contributors&quot;,\n",
       "  &quot;subdomains&quot;: &quot;abc&quot;,\n",
       "  &quot;detectRetina&quot;: false,\n",
       "  &quot;tms&quot;: false,\n",
       "  &quot;opacity&quot;: 1,\n",
       "}\n",
       "\n",
       "            );\n",
       "        \n",
       "    \n",
       "            tile_layer_35041067d7d3eea9896fd63f40946ecf.addTo(map_d3ba55bb50c753b46dd973e89f2b71b1);\n",
       "        \n",
       "    \n",
       "            var heat_map_97a88825438cff9cba8ac67fe0cd2783 = L.heatLayer(\n",
       "                [[41.654373954, -87.60377263], [41.656455999, -87.602332964], [41.65788129, -87.596040921], [41.6732438, -87.657596663], [41.681521289, -87.635644258], [41.688942146, -87.624016674], [41.690368459, -87.613306423], [41.693711277, -87.619500953], [41.693722622, -87.613400828], [41.697288671, -87.612273543], [41.713992177, -87.660960837], [41.7152317, -87.657530629], [41.722141573, -87.551071504], [41.734084165, -87.655032201], [41.741455017, -87.649414396], [41.745076822, -87.603794713], [41.74531991, -87.600164211], [41.748624529, -87.607587699], [41.749262257, -87.660985035], [41.749378743, -87.571068563], [41.75114682, -87.613301914], [41.753032445, -87.565044333], [41.753402785, -87.650178136], [41.754205111, -87.649421988], [41.755957881, -87.657162192], [41.756567668, -87.563898997], [41.757547489, -87.636602658], [41.758603804, -87.557350716], [41.75938393, -87.583499783], [41.759613041, -87.604172543], [41.760829493, -87.564298914], [41.761938446, -87.580497454], [41.76337364, -87.597000723], [41.764936945, -87.621673727], [41.767509802, -87.573892794], [41.767514362, -87.581260705], [41.767821368, -87.631066302], [41.76876266, -87.588790189], [41.771650794, -87.574701768], [41.771700381, -87.70123332], [41.771735346, -87.698615521], [41.771996241, -87.680045067], [41.772468843, -87.740895008], [41.77255742, -87.574023883], [41.77293505, -87.685908428], [41.774224271, -87.614282981], [41.774319025, -87.605795029], [41.775815434, -87.615515359], [41.77594443, -87.615517586], [41.776243225, -87.726360591], [41.777848842, -87.593011267], [41.779013043, -87.615597022], [41.780593297, -87.661816429], [41.78157362, -87.711659121], [41.783289931, -87.614486024], [41.783392267, -87.594711117], [41.792277329, -87.622401826], [41.793152674, -87.728793744], [41.793599405, -87.619196801], [41.79388474, -87.617862454], [41.795055409, -87.781888477], [41.796316873, -87.676801946], [41.799125411, -87.622579194], [41.801144558, -87.624251301], [41.8032982, -87.653195042], [41.804028098, -87.60961824], [41.808431843, -87.613856556], [41.808707691, -87.712405552], [41.808863188, -87.604358909], [41.810257961, -87.622863301], [41.810391682, -87.60391608], [41.810613999, -87.603920894], [41.811193453, -87.694290206], [41.812751918, -87.701680899], [41.814997734, -87.668782897], [41.81814112, -87.61167516], [41.818323063, -87.688393655], [41.821723236, -87.70273005], [41.823125769, -87.602725951], [41.826363218, -87.632998863], [41.828988193, -87.626516192], [41.829450586, -87.606939648], [41.830597117, -87.621754145], [41.837891205, -87.657625141], [41.842819167, -87.646398276], [41.848991422, -87.676971995], [41.854417564, -87.718768967], [41.855749808, -87.72727224], [41.858216003, -87.706651859], [41.858735307, -87.650908318], [41.860217377, -87.625100464], [41.863472736, -87.710455229], [41.863971982, -87.704374596], [41.864611293, -87.712933257], [41.866161043, -87.655506578], [41.867472266, -87.697148073], [41.867752641, -87.705710637], [41.868041521, -87.721098337], [41.869405101, -87.657429205], [41.871238523, -87.735148371], [41.871988409, -87.694514794], [41.872680725, -87.726535871], [41.876711335, -87.750780032], [41.877565688, -87.684893829], [41.878058961, -87.743827751], [41.879392153, -87.753972406], [41.880966677, -87.758754007], [41.881348498, -87.764894125], [41.882259032, -87.763674222], [41.883045397, -87.682855405], [41.883900093, -87.747850329], [41.884331832, -87.7545227], [41.886283298, -87.758956097], [41.886946961, -87.698908655], [41.887976374, -87.773377722], [41.890084853, -87.705121137], [41.890976131, -87.621752835], [41.892426925, -87.721100578], [41.895924365, -87.749268487], [41.89608709, -87.626834633], [41.898009144, -87.727390742], [41.89814988, -87.724943108], [41.89991243, -87.718898607], [41.900885473, -87.721765462], [41.910107122, -87.763022569], [41.916888176, -87.666734832], [41.921724003, -87.730363219], [41.922441281, -87.692060608], [41.924406527, -87.733251948], [41.925160357, -87.667394686], [41.928810863, -87.766156055], [41.936832134, -87.760057411], [41.940104538, -87.640356386], [41.94952012, -87.767542197], [41.951187878, -87.65034213], [41.966654524, -87.705178388], [41.966833316, -87.685015257], [41.96771882, -87.676173837], [41.971060894, -87.708547643], [41.992356929, -87.681107192], [41.992680562, -87.700688526], [41.995815216, -87.696364393], [41.997050119, -87.657029303], [42.01251502, -87.681464278], [42.013787071, -87.673083486], [42.016030425, -87.66903815]],\n",
       "                {\n",
       "  &quot;minOpacity&quot;: 0.5,\n",
       "  &quot;maxZoom&quot;: 18,\n",
       "  &quot;radius&quot;: 25,\n",
       "  &quot;blur&quot;: 15,\n",
       "}\n",
       "            );\n",
       "        \n",
       "    \n",
       "            heat_map_97a88825438cff9cba8ac67fe0cd2783.addTo(map_d3ba55bb50c753b46dd973e89f2b71b1);\n",
       "        \n",
       "&lt;/script&gt;\n",
       "&lt;/html&gt;\" style=\"position:absolute;width:100%;height:100%;left:0;top:0;border:none !important;\" allowfullscreen webkitallowfullscreen mozallowfullscreen></iframe></div></div>"
      ],
      "text/plain": [
       "<folium.folium.Map at 0x22997a2d190>"
      ]
     },
     "execution_count": 439,
     "metadata": {},
     "output_type": "execute_result"
    }
   ],
   "source": [
    "child_map"
   ]
  },
  {
   "cell_type": "markdown",
   "id": "18e0e1e6-18db-4061-8136-940d5b7c3766",
   "metadata": {},
   "source": [
    "<h3>CHILD ABUSE ON RESIDENCE</h3>\n",
    "<p>In Washington Park, Woodlawn and Kenwood has the most recorded child abuse which happends in a residence meaning that it is most likely a family member who has commited the crime</p>"
   ]
  },
  {
   "cell_type": "code",
   "execution_count": null,
   "id": "c24c180d-687a-4f99-aa71-c3d7fa1656b0",
   "metadata": {},
   "outputs": [],
   "source": []
  }
 ],
 "metadata": {
  "kernelspec": {
   "display_name": "Python 3 (ipykernel)",
   "language": "python",
   "name": "python3"
  },
  "language_info": {
   "codemirror_mode": {
    "name": "ipython",
    "version": 3
   },
   "file_extension": ".py",
   "mimetype": "text/x-python",
   "name": "python",
   "nbconvert_exporter": "python",
   "pygments_lexer": "ipython3",
   "version": "3.12.8"
  }
 },
 "nbformat": 4,
 "nbformat_minor": 5
}
