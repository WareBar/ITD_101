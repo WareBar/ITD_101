{
 "cells": [
  {
   "cell_type": "markdown",
   "id": "95c1940c-bed1-45bb-9ccb-ec2cc65c6b54",
   "metadata": {},
   "source": [
    "<h1>UK ACCIDENT REPORT DATA ANALYSIS</h1>"
   ]
  },
  {
   "cell_type": "markdown",
   "id": "d02443c3-7fe9-4ca7-babe-01bd543fb1b4",
   "metadata": {},
   "source": [
    "<h3>Analyst: Abdul Barry A. Adam</h3>"
   ]
  },
  {
   "cell_type": "markdown",
   "id": "66474433-e523-4253-a0e0-8ed33bc0f9b9",
   "metadata": {},
   "source": [
    "<h1>IMPORTING LIBRARIES NEEDED</h1>"
   ]
  },
  {
   "cell_type": "code",
   "execution_count": 1,
   "id": "7d44c3ee-a183-47f3-aa34-71ff80c0fc78",
   "metadata": {},
   "outputs": [],
   "source": [
    "import numpy as np\n",
    "import pandas as pd\n",
    "import matplotlib.pyplot as plt\n",
    "import seaborn as sns\n",
    "from scipy.stats import f_oneway"
   ]
  },
  {
   "cell_type": "markdown",
   "id": "39413a7d-3f9e-484a-a906-5ebd2257c5c4",
   "metadata": {},
   "source": [
    "<h1>IMPORTING DATASETS, LOCALLY, TO DATAFRAME</h1>"
   ]
  },
  {
   "cell_type": "code",
   "execution_count": 2,
   "id": "f95f1c1a-6ac5-421b-8f2f-2fff3bba6f2f",
   "metadata": {},
   "outputs": [],
   "source": [
    "accident = pd.read_csv(\"./datasets/accident_data.csv\")"
   ]
  },
  {
   "cell_type": "code",
   "execution_count": 3,
   "id": "bebd7a88-86b8-429c-98b1-75dcbb204c62",
   "metadata": {},
   "outputs": [
    {
     "data": {
      "text/html": [
       "<div>\n",
       "<style scoped>\n",
       "    .dataframe tbody tr th:only-of-type {\n",
       "        vertical-align: middle;\n",
       "    }\n",
       "\n",
       "    .dataframe tbody tr th {\n",
       "        vertical-align: top;\n",
       "    }\n",
       "\n",
       "    .dataframe thead th {\n",
       "        text-align: right;\n",
       "    }\n",
       "</style>\n",
       "<table border=\"1\" class=\"dataframe\">\n",
       "  <thead>\n",
       "    <tr style=\"text-align: right;\">\n",
       "      <th></th>\n",
       "      <th>Index</th>\n",
       "      <th>Accident_Severity</th>\n",
       "      <th>Accident_Date</th>\n",
       "      <th>Latitude</th>\n",
       "      <th>Light_Conditions</th>\n",
       "      <th>District Area</th>\n",
       "      <th>Longitude</th>\n",
       "      <th>Number_of_Casualties</th>\n",
       "      <th>Number_of_Vehicles</th>\n",
       "      <th>Road_Surface_Conditions</th>\n",
       "      <th>Road_Type</th>\n",
       "      <th>Urban_or_Rural_Area</th>\n",
       "      <th>Weather_Conditions</th>\n",
       "      <th>Vehicle_Type</th>\n",
       "    </tr>\n",
       "  </thead>\n",
       "  <tbody>\n",
       "    <tr>\n",
       "      <th>0</th>\n",
       "      <td>200701BS64157</td>\n",
       "      <td>Serious</td>\n",
       "      <td>5/6/2019</td>\n",
       "      <td>51.506187</td>\n",
       "      <td>Darkness - lights lit</td>\n",
       "      <td>Kensington and Chelsea</td>\n",
       "      <td>-0.209082</td>\n",
       "      <td>1</td>\n",
       "      <td>2</td>\n",
       "      <td>Dry</td>\n",
       "      <td>Single carriageway</td>\n",
       "      <td>Urban</td>\n",
       "      <td>Fine no high winds</td>\n",
       "      <td>Car</td>\n",
       "    </tr>\n",
       "    <tr>\n",
       "      <th>1</th>\n",
       "      <td>200701BS65737</td>\n",
       "      <td>Serious</td>\n",
       "      <td>2/7/2019</td>\n",
       "      <td>51.495029</td>\n",
       "      <td>Daylight</td>\n",
       "      <td>Kensington and Chelsea</td>\n",
       "      <td>-0.173647</td>\n",
       "      <td>1</td>\n",
       "      <td>2</td>\n",
       "      <td>Wet or damp</td>\n",
       "      <td>Single carriageway</td>\n",
       "      <td>Urban</td>\n",
       "      <td>Raining no high winds</td>\n",
       "      <td>Car</td>\n",
       "    </tr>\n",
       "    <tr>\n",
       "      <th>2</th>\n",
       "      <td>200701BS66127</td>\n",
       "      <td>Serious</td>\n",
       "      <td>26-08-2019</td>\n",
       "      <td>51.517715</td>\n",
       "      <td>Darkness - lighting unknown</td>\n",
       "      <td>Kensington and Chelsea</td>\n",
       "      <td>-0.210215</td>\n",
       "      <td>1</td>\n",
       "      <td>3</td>\n",
       "      <td>Dry</td>\n",
       "      <td>NaN</td>\n",
       "      <td>Urban</td>\n",
       "      <td>NaN</td>\n",
       "      <td>Taxi/Private hire car</td>\n",
       "    </tr>\n",
       "    <tr>\n",
       "      <th>3</th>\n",
       "      <td>200701BS66128</td>\n",
       "      <td>Serious</td>\n",
       "      <td>16-08-2019</td>\n",
       "      <td>51.495478</td>\n",
       "      <td>Daylight</td>\n",
       "      <td>Kensington and Chelsea</td>\n",
       "      <td>-0.202731</td>\n",
       "      <td>1</td>\n",
       "      <td>4</td>\n",
       "      <td>Dry</td>\n",
       "      <td>Single carriageway</td>\n",
       "      <td>Urban</td>\n",
       "      <td>Fine no high winds</td>\n",
       "      <td>Bus or coach (17 or more pass seats)</td>\n",
       "    </tr>\n",
       "    <tr>\n",
       "      <th>4</th>\n",
       "      <td>200701BS66837</td>\n",
       "      <td>Slight</td>\n",
       "      <td>3/9/2019</td>\n",
       "      <td>51.488576</td>\n",
       "      <td>Darkness - lights lit</td>\n",
       "      <td>Kensington and Chelsea</td>\n",
       "      <td>-0.192487</td>\n",
       "      <td>1</td>\n",
       "      <td>2</td>\n",
       "      <td>Dry</td>\n",
       "      <td>NaN</td>\n",
       "      <td>Urban</td>\n",
       "      <td>NaN</td>\n",
       "      <td>Other vehicle</td>\n",
       "    </tr>\n",
       "    <tr>\n",
       "      <th>...</th>\n",
       "      <td>...</td>\n",
       "      <td>...</td>\n",
       "      <td>...</td>\n",
       "      <td>...</td>\n",
       "      <td>...</td>\n",
       "      <td>...</td>\n",
       "      <td>...</td>\n",
       "      <td>...</td>\n",
       "      <td>...</td>\n",
       "      <td>...</td>\n",
       "      <td>...</td>\n",
       "      <td>...</td>\n",
       "      <td>...</td>\n",
       "      <td>...</td>\n",
       "    </tr>\n",
       "    <tr>\n",
       "      <th>660674</th>\n",
       "      <td>201091NM01760</td>\n",
       "      <td>Slight</td>\n",
       "      <td>18-02-2022</td>\n",
       "      <td>57.374005</td>\n",
       "      <td>Daylight</td>\n",
       "      <td>Highland</td>\n",
       "      <td>-3.467828</td>\n",
       "      <td>2</td>\n",
       "      <td>1</td>\n",
       "      <td>Dry</td>\n",
       "      <td>Single carriageway</td>\n",
       "      <td>Rural</td>\n",
       "      <td>Fine no high winds</td>\n",
       "      <td>Car</td>\n",
       "    </tr>\n",
       "    <tr>\n",
       "      <th>660675</th>\n",
       "      <td>201091NM01881</td>\n",
       "      <td>Slight</td>\n",
       "      <td>21-02-2022</td>\n",
       "      <td>57.232273</td>\n",
       "      <td>Darkness - no lighting</td>\n",
       "      <td>Highland</td>\n",
       "      <td>-3.809281</td>\n",
       "      <td>1</td>\n",
       "      <td>1</td>\n",
       "      <td>Frost or ice</td>\n",
       "      <td>Single carriageway</td>\n",
       "      <td>Rural</td>\n",
       "      <td>Fine no high winds</td>\n",
       "      <td>Car</td>\n",
       "    </tr>\n",
       "    <tr>\n",
       "      <th>660676</th>\n",
       "      <td>201091NM01935</td>\n",
       "      <td>Slight</td>\n",
       "      <td>23-02-2022</td>\n",
       "      <td>57.585044</td>\n",
       "      <td>Daylight</td>\n",
       "      <td>Highland</td>\n",
       "      <td>-3.862727</td>\n",
       "      <td>1</td>\n",
       "      <td>3</td>\n",
       "      <td>Frost or ice</td>\n",
       "      <td>Single carriageway</td>\n",
       "      <td>Rural</td>\n",
       "      <td>Fine no high winds</td>\n",
       "      <td>Car</td>\n",
       "    </tr>\n",
       "    <tr>\n",
       "      <th>660677</th>\n",
       "      <td>201091NM01964</td>\n",
       "      <td>Serious</td>\n",
       "      <td>23-02-2022</td>\n",
       "      <td>57.214898</td>\n",
       "      <td>Darkness - no lighting</td>\n",
       "      <td>Highland</td>\n",
       "      <td>-3.823997</td>\n",
       "      <td>1</td>\n",
       "      <td>2</td>\n",
       "      <td>Wet or damp</td>\n",
       "      <td>Single carriageway</td>\n",
       "      <td>Rural</td>\n",
       "      <td>Fine no high winds</td>\n",
       "      <td>Motorcycle over 500cc</td>\n",
       "    </tr>\n",
       "    <tr>\n",
       "      <th>660678</th>\n",
       "      <td>201091NM02142</td>\n",
       "      <td>Serious</td>\n",
       "      <td>28-02-2022</td>\n",
       "      <td>57.575210</td>\n",
       "      <td>Daylight</td>\n",
       "      <td>Highland</td>\n",
       "      <td>-3.895673</td>\n",
       "      <td>1</td>\n",
       "      <td>1</td>\n",
       "      <td>Wet or damp</td>\n",
       "      <td>Dual carriageway</td>\n",
       "      <td>Rural</td>\n",
       "      <td>Snowing no high winds</td>\n",
       "      <td>Car</td>\n",
       "    </tr>\n",
       "  </tbody>\n",
       "</table>\n",
       "<p>660679 rows × 14 columns</p>\n",
       "</div>"
      ],
      "text/plain": [
       "                Index Accident_Severity Accident_Date   Latitude  \\\n",
       "0       200701BS64157           Serious      5/6/2019  51.506187   \n",
       "1       200701BS65737           Serious      2/7/2019  51.495029   \n",
       "2       200701BS66127           Serious    26-08-2019  51.517715   \n",
       "3       200701BS66128           Serious    16-08-2019  51.495478   \n",
       "4       200701BS66837            Slight      3/9/2019  51.488576   \n",
       "...               ...               ...           ...        ...   \n",
       "660674  201091NM01760            Slight    18-02-2022  57.374005   \n",
       "660675  201091NM01881            Slight    21-02-2022  57.232273   \n",
       "660676  201091NM01935            Slight    23-02-2022  57.585044   \n",
       "660677  201091NM01964           Serious    23-02-2022  57.214898   \n",
       "660678  201091NM02142           Serious    28-02-2022  57.575210   \n",
       "\n",
       "                   Light_Conditions           District Area  Longitude  \\\n",
       "0             Darkness - lights lit  Kensington and Chelsea  -0.209082   \n",
       "1                          Daylight  Kensington and Chelsea  -0.173647   \n",
       "2       Darkness - lighting unknown  Kensington and Chelsea  -0.210215   \n",
       "3                          Daylight  Kensington and Chelsea  -0.202731   \n",
       "4             Darkness - lights lit  Kensington and Chelsea  -0.192487   \n",
       "...                             ...                     ...        ...   \n",
       "660674                     Daylight                Highland  -3.467828   \n",
       "660675       Darkness - no lighting                Highland  -3.809281   \n",
       "660676                     Daylight                Highland  -3.862727   \n",
       "660677       Darkness - no lighting                Highland  -3.823997   \n",
       "660678                     Daylight                Highland  -3.895673   \n",
       "\n",
       "        Number_of_Casualties  Number_of_Vehicles Road_Surface_Conditions  \\\n",
       "0                          1                   2                     Dry   \n",
       "1                          1                   2             Wet or damp   \n",
       "2                          1                   3                     Dry   \n",
       "3                          1                   4                     Dry   \n",
       "4                          1                   2                     Dry   \n",
       "...                      ...                 ...                     ...   \n",
       "660674                     2                   1                     Dry   \n",
       "660675                     1                   1            Frost or ice   \n",
       "660676                     1                   3            Frost or ice   \n",
       "660677                     1                   2             Wet or damp   \n",
       "660678                     1                   1             Wet or damp   \n",
       "\n",
       "                 Road_Type Urban_or_Rural_Area     Weather_Conditions  \\\n",
       "0       Single carriageway               Urban     Fine no high winds   \n",
       "1       Single carriageway               Urban  Raining no high winds   \n",
       "2                      NaN               Urban                    NaN   \n",
       "3       Single carriageway               Urban     Fine no high winds   \n",
       "4                      NaN               Urban                    NaN   \n",
       "...                    ...                 ...                    ...   \n",
       "660674  Single carriageway               Rural     Fine no high winds   \n",
       "660675  Single carriageway               Rural     Fine no high winds   \n",
       "660676  Single carriageway               Rural     Fine no high winds   \n",
       "660677  Single carriageway               Rural     Fine no high winds   \n",
       "660678    Dual carriageway               Rural  Snowing no high winds   \n",
       "\n",
       "                                Vehicle_Type  \n",
       "0                                        Car  \n",
       "1                                        Car  \n",
       "2                      Taxi/Private hire car  \n",
       "3       Bus or coach (17 or more pass seats)  \n",
       "4                              Other vehicle  \n",
       "...                                      ...  \n",
       "660674                                   Car  \n",
       "660675                                   Car  \n",
       "660676                                   Car  \n",
       "660677                 Motorcycle over 500cc  \n",
       "660678                                   Car  \n",
       "\n",
       "[660679 rows x 14 columns]"
      ]
     },
     "execution_count": 3,
     "metadata": {},
     "output_type": "execute_result"
    }
   ],
   "source": [
    "accident"
   ]
  },
  {
   "cell_type": "markdown",
   "id": "94a5c2e5-ab37-47ff-9d69-b3fde9b5022a",
   "metadata": {},
   "source": [
    "<h1>INFORMATION</h1>"
   ]
  },
  {
   "cell_type": "code",
   "execution_count": 4,
   "id": "94caa62c-c3d3-4e1c-b200-b60d59c335f3",
   "metadata": {},
   "outputs": [
    {
     "data": {
      "text/html": [
       "<div>\n",
       "<style scoped>\n",
       "    .dataframe tbody tr th:only-of-type {\n",
       "        vertical-align: middle;\n",
       "    }\n",
       "\n",
       "    .dataframe tbody tr th {\n",
       "        vertical-align: top;\n",
       "    }\n",
       "\n",
       "    .dataframe thead th {\n",
       "        text-align: right;\n",
       "    }\n",
       "</style>\n",
       "<table border=\"1\" class=\"dataframe\">\n",
       "  <thead>\n",
       "    <tr style=\"text-align: right;\">\n",
       "      <th></th>\n",
       "      <th>Latitude</th>\n",
       "      <th>Longitude</th>\n",
       "      <th>Number_of_Casualties</th>\n",
       "      <th>Number_of_Vehicles</th>\n",
       "    </tr>\n",
       "  </thead>\n",
       "  <tbody>\n",
       "    <tr>\n",
       "      <th>count</th>\n",
       "      <td>660654.000000</td>\n",
       "      <td>660653.000000</td>\n",
       "      <td>660679.000000</td>\n",
       "      <td>660679.000000</td>\n",
       "    </tr>\n",
       "    <tr>\n",
       "      <th>mean</th>\n",
       "      <td>52.553866</td>\n",
       "      <td>-1.431210</td>\n",
       "      <td>1.357040</td>\n",
       "      <td>1.831255</td>\n",
       "    </tr>\n",
       "    <tr>\n",
       "      <th>std</th>\n",
       "      <td>1.406922</td>\n",
       "      <td>1.383330</td>\n",
       "      <td>0.824847</td>\n",
       "      <td>0.715269</td>\n",
       "    </tr>\n",
       "    <tr>\n",
       "      <th>min</th>\n",
       "      <td>49.914430</td>\n",
       "      <td>-7.516225</td>\n",
       "      <td>1.000000</td>\n",
       "      <td>1.000000</td>\n",
       "    </tr>\n",
       "    <tr>\n",
       "      <th>25%</th>\n",
       "      <td>51.490690</td>\n",
       "      <td>-2.332291</td>\n",
       "      <td>1.000000</td>\n",
       "      <td>1.000000</td>\n",
       "    </tr>\n",
       "    <tr>\n",
       "      <th>50%</th>\n",
       "      <td>52.315641</td>\n",
       "      <td>-1.411667</td>\n",
       "      <td>1.000000</td>\n",
       "      <td>2.000000</td>\n",
       "    </tr>\n",
       "    <tr>\n",
       "      <th>75%</th>\n",
       "      <td>53.453452</td>\n",
       "      <td>-0.232869</td>\n",
       "      <td>1.000000</td>\n",
       "      <td>2.000000</td>\n",
       "    </tr>\n",
       "    <tr>\n",
       "      <th>max</th>\n",
       "      <td>60.757544</td>\n",
       "      <td>1.762010</td>\n",
       "      <td>68.000000</td>\n",
       "      <td>32.000000</td>\n",
       "    </tr>\n",
       "  </tbody>\n",
       "</table>\n",
       "</div>"
      ],
      "text/plain": [
       "            Latitude      Longitude  Number_of_Casualties  Number_of_Vehicles\n",
       "count  660654.000000  660653.000000         660679.000000       660679.000000\n",
       "mean       52.553866      -1.431210              1.357040            1.831255\n",
       "std         1.406922       1.383330              0.824847            0.715269\n",
       "min        49.914430      -7.516225              1.000000            1.000000\n",
       "25%        51.490690      -2.332291              1.000000            1.000000\n",
       "50%        52.315641      -1.411667              1.000000            2.000000\n",
       "75%        53.453452      -0.232869              1.000000            2.000000\n",
       "max        60.757544       1.762010             68.000000           32.000000"
      ]
     },
     "execution_count": 4,
     "metadata": {},
     "output_type": "execute_result"
    }
   ],
   "source": [
    "accident.describe()"
   ]
  },
  {
   "cell_type": "code",
   "execution_count": 5,
   "id": "59621628-9adc-4fd2-a256-197568790c32",
   "metadata": {},
   "outputs": [
    {
     "name": "stdout",
     "output_type": "stream",
     "text": [
      "<class 'pandas.core.frame.DataFrame'>\n",
      "RangeIndex: 660679 entries, 0 to 660678\n",
      "Data columns (total 14 columns):\n",
      " #   Column                   Non-Null Count   Dtype  \n",
      "---  ------                   --------------   -----  \n",
      " 0   Index                    660679 non-null  object \n",
      " 1   Accident_Severity        660679 non-null  object \n",
      " 2   Accident_Date            660679 non-null  object \n",
      " 3   Latitude                 660654 non-null  float64\n",
      " 4   Light_Conditions         660679 non-null  object \n",
      " 5   District Area            660679 non-null  object \n",
      " 6   Longitude                660653 non-null  float64\n",
      " 7   Number_of_Casualties     660679 non-null  int64  \n",
      " 8   Number_of_Vehicles       660679 non-null  int64  \n",
      " 9   Road_Surface_Conditions  659953 non-null  object \n",
      " 10  Road_Type                656159 non-null  object \n",
      " 11  Urban_or_Rural_Area      660664 non-null  object \n",
      " 12  Weather_Conditions       646551 non-null  object \n",
      " 13  Vehicle_Type             660679 non-null  object \n",
      "dtypes: float64(2), int64(2), object(10)\n",
      "memory usage: 70.6+ MB\n"
     ]
    }
   ],
   "source": [
    "accident.info()"
   ]
  },
  {
   "cell_type": "code",
   "execution_count": 6,
   "id": "54d9f155-9294-4d30-a06c-3b9fd60994e0",
   "metadata": {},
   "outputs": [
    {
     "data": {
      "text/plain": [
       "Index                       object\n",
       "Accident_Severity           object\n",
       "Accident_Date               object\n",
       "Latitude                   float64\n",
       "Light_Conditions            object\n",
       "District Area               object\n",
       "Longitude                  float64\n",
       "Number_of_Casualties         int64\n",
       "Number_of_Vehicles           int64\n",
       "Road_Surface_Conditions     object\n",
       "Road_Type                   object\n",
       "Urban_or_Rural_Area         object\n",
       "Weather_Conditions          object\n",
       "Vehicle_Type                object\n",
       "dtype: object"
      ]
     },
     "execution_count": 6,
     "metadata": {},
     "output_type": "execute_result"
    }
   ],
   "source": [
    "accident.dtypes"
   ]
  },
  {
   "cell_type": "markdown",
   "id": "a83714de-0b80-4ed6-912f-53c0b92a34e0",
   "metadata": {},
   "source": [
    "<h1>CONVERT COLUMNS TO ITS APPROPRIATE DATA TYPE</h1>"
   ]
  },
  {
   "cell_type": "code",
   "execution_count": 7,
   "id": "0e77a90e-7ea8-471d-9bbb-c3efcab2c6cf",
   "metadata": {},
   "outputs": [],
   "source": [
    "accident['Index'] = accident['Index'].astype('category')\n",
    "accident['Accident_Severity'] = accident['Accident_Severity'].astype('category')\n",
    "accident['Accident_Date'] = pd.to_datetime(accident['Accident_Date'], dayfirst = True, errors = 'coerce') \n",
    "accident['Light_Conditions'] = accident['Light_Conditions'].astype('category')\n",
    "accident['District Area'] = accident['District Area'].astype('category')\n",
    "accident['Road_Surface_Conditions'] = accident['Road_Surface_Conditions'].astype('category')\n",
    "accident['Road_Type'] = accident['Road_Type'].astype('category')\n",
    "accident['Urban_or_Rural_Area'] = accident['Urban_or_Rural_Area'].astype('category')\n",
    "accident['Weather_Conditions'] = accident['Weather_Conditions'].astype('category')\n",
    "accident['Vehicle_Type'] = accident['Vehicle_Type'].astype('category')"
   ]
  },
  {
   "cell_type": "markdown",
   "id": "1d05612e-5789-4480-9a35-5568af3ba36c",
   "metadata": {},
   "source": [
    "<h1>DETERMINING NULL VALUES AND FILLNG THEM</h1>"
   ]
  },
  {
   "cell_type": "markdown",
   "id": "b8c6c24d-9082-400b-b9c2-cfaa85cae9eb",
   "metadata": {},
   "source": [
    "<h4>DETERMING NULLS</h4>"
   ]
  },
  {
   "cell_type": "code",
   "execution_count": 8,
   "id": "65990b78-bd4b-4098-813c-cd88a480f1e8",
   "metadata": {},
   "outputs": [
    {
     "data": {
      "text/plain": [
       "Index                           0\n",
       "Accident_Severity               0\n",
       "Accident_Date              395672\n",
       "Latitude                       25\n",
       "Light_Conditions                0\n",
       "District Area                   0\n",
       "Longitude                      26\n",
       "Number_of_Casualties            0\n",
       "Number_of_Vehicles              0\n",
       "Road_Surface_Conditions       726\n",
       "Road_Type                    4520\n",
       "Urban_or_Rural_Area            15\n",
       "Weather_Conditions          14128\n",
       "Vehicle_Type                    0\n",
       "dtype: int64"
      ]
     },
     "execution_count": 8,
     "metadata": {},
     "output_type": "execute_result"
    }
   ],
   "source": [
    "accident.isnull().sum()"
   ]
  },
  {
   "cell_type": "code",
   "execution_count": 9,
   "id": "6d8a6677-cc05-4a7c-90ed-01c2adc8ca6d",
   "metadata": {},
   "outputs": [],
   "source": [
    "FreqDate = accident['Accident_Date'].mode()[0]\n",
    "AveLat = accident['Latitude'].mean()\n",
    "AveLot = accident['Longitude'].mean()\n",
    "FreqSurConditions = accident['Road_Surface_Conditions'].mode()[0]\n",
    "FreqgRoadType = accident['Road_Type'].mode()[0]\n",
    "FreqArea = accident['Urban_or_Rural_Area'].mode()[0]\n"
   ]
  },
  {
   "cell_type": "markdown",
   "id": "c2b4d018-1192-487e-9774-636d469ff029",
   "metadata": {},
   "source": [
    "<h4>FILLING NULLS</h4>"
   ]
  },
  {
   "cell_type": "code",
   "execution_count": 10,
   "id": "ef88c280-5973-48d8-9448-4cbd8836d0fc",
   "metadata": {},
   "outputs": [],
   "source": [
    "accident['Accident_Date'] = accident['Accident_Date'].fillna(FreqDate)\n",
    "accident['Latitude'] = accident['Latitude'].fillna(AveLat)\n",
    "accident['Longitude'] = accident['Longitude'].fillna(AveLot)\n",
    "accident['Road_Surface_Conditions'] = accident['Road_Surface_Conditions'].fillna(FreqSurConditions)\n",
    "accident['Road_Type'] = accident['Road_Type'].fillna(FreqgRoadType)\n",
    "accident['Urban_or_Rural_Area'] = accident['Urban_or_Rural_Area'].fillna(FreqArea)\n"
   ]
  },
  {
   "cell_type": "markdown",
   "id": "1d1beb1c-23f1-46b7-8dea-6c5864f9052b",
   "metadata": {},
   "source": [
    "<h4>LAST CHECKUP</h4>"
   ]
  },
  {
   "cell_type": "code",
   "execution_count": 11,
   "id": "956c6212-b538-4af6-bcee-2541f2514fb3",
   "metadata": {},
   "outputs": [
    {
     "data": {
      "text/plain": [
       "Index                          0\n",
       "Accident_Severity              0\n",
       "Accident_Date                  0\n",
       "Latitude                       0\n",
       "Light_Conditions               0\n",
       "District Area                  0\n",
       "Longitude                      0\n",
       "Number_of_Casualties           0\n",
       "Number_of_Vehicles             0\n",
       "Road_Surface_Conditions        0\n",
       "Road_Type                      0\n",
       "Urban_or_Rural_Area            0\n",
       "Weather_Conditions         14128\n",
       "Vehicle_Type                   0\n",
       "dtype: int64"
      ]
     },
     "execution_count": 11,
     "metadata": {},
     "output_type": "execute_result"
    }
   ],
   "source": [
    "accident.isnull().sum()"
   ]
  },
  {
   "cell_type": "markdown",
   "id": "eb01dad8-7312-409e-8bec-6db20d5baf40",
   "metadata": {},
   "source": [
    "<h1>CASUALTIES PER VEHICLE TYPE</h1>"
   ]
  },
  {
   "cell_type": "code",
   "execution_count": 12,
   "id": "10d693cb",
   "metadata": {},
   "outputs": [
    {
     "name": "stderr",
     "output_type": "stream",
     "text": [
      "C:\\Users\\PC\\AppData\\Local\\Temp\\ipykernel_13648\\2632541736.py:1: FutureWarning: The default of observed=False is deprecated and will be changed to True in a future version of pandas. Pass observed=False to retain current behavior or observed=True to adopt the future default and silence this warning.\n",
      "  casualtiesVehicle = accident.groupby(['Vehicle_Type'])['Number_of_Casualties'].sum()\n"
     ]
    }
   ],
   "source": [
    "casualtiesVehicle = accident.groupby(['Vehicle_Type'])['Number_of_Casualties'].sum()"
   ]
  },
  {
   "cell_type": "code",
   "execution_count": 13,
   "id": "b81c2edd-b7eb-46fd-8712-7c2d44354f84",
   "metadata": {},
   "outputs": [
    {
     "data": {
      "text/plain": [
       "Vehicle_Type\n",
       "Agricultural vehicle                       2613\n",
       "Bus or coach (17 or more pass seats)      34915\n",
       "Car                                      676692\n",
       "Data missing or out of range                  9\n",
       "Goods 7.5 tonnes mgw and over             23397\n",
       "Goods over 3.5t. and under 7.5t            8308\n",
       "Minibus (8 - 16 passenger seats)           2659\n",
       "Motorcycle 125cc and under                20348\n",
       "Motorcycle 50cc and under                 10167\n",
       "Motorcycle over 125cc and up to 500cc     10286\n",
       "Motorcycle over 500cc                     34879\n",
       "Other vehicle                              7554\n",
       "Pedal cycle                                 270\n",
       "Ridden horse                                  5\n",
       "Taxi/Private hire car                     18195\n",
       "Van / Goods 3.5 tonnes mgw or under       46271\n",
       "Name: Number_of_Casualties, dtype: int64"
      ]
     },
     "execution_count": 13,
     "metadata": {},
     "output_type": "execute_result"
    }
   ],
   "source": [
    "casualtiesVehicle"
   ]
  },
  {
   "cell_type": "markdown",
   "id": "90f196f7-296b-4108-8e41-c3996c15b614",
   "metadata": {},
   "source": [
    "<h1>INSIGHT #1</h1>\n",
    "<h2>CAR IS THE MOST TYPE OF VEHICLE WITH CASUALTIES</h2>"
   ]
  },
  {
   "cell_type": "markdown",
   "id": "4ff16bc7-0cca-411d-a6de-9c0ea3c5537e",
   "metadata": {},
   "source": [
    "<h1>WHAT AREA HAS THE MOST NUMBER OF CASUALTIES</h1>"
   ]
  },
  {
   "cell_type": "code",
   "execution_count": 14,
   "id": "4f9c8155-e9f0-437d-a0b9-27e04dfda421",
   "metadata": {},
   "outputs": [],
   "source": [
    "urbanCasualties = accident[accident['Urban_or_Rural_Area'] == 'Urban']['Number_of_Casualties'].sum()\n",
    "ruralCasualties = accident[accident['Urban_or_Rural_Area'] == 'Rural']['Number_of_Casualties'].sum()"
   ]
  },
  {
   "cell_type": "code",
   "execution_count": 15,
   "id": "f9ae6079-2e9a-44b1-9939-8917c82ca783",
   "metadata": {},
   "outputs": [
    {
     "data": {
      "text/plain": [
       "543040"
      ]
     },
     "execution_count": 15,
     "metadata": {},
     "output_type": "execute_result"
    }
   ],
   "source": [
    "urbanCasualties"
   ]
  },
  {
   "cell_type": "code",
   "execution_count": 16,
   "id": "3d7aa0c9-e79c-4beb-9324-475433067fd2",
   "metadata": {},
   "outputs": [
    {
     "data": {
      "text/plain": [
       "353515"
      ]
     },
     "execution_count": 16,
     "metadata": {},
     "output_type": "execute_result"
    }
   ],
   "source": [
    "ruralCasualties"
   ]
  },
  {
   "cell_type": "markdown",
   "id": "5f116ed8-152e-47c6-8edf-2d0782c5fcbe",
   "metadata": {},
   "source": [
    "<h1>INSIGHT #2</h1>\n",
    "<h2>Urban area has the highest average number of casualties</h2>\n",
    "<hr>"
   ]
  },
  {
   "cell_type": "markdown",
   "id": "2ad2312d-54e3-48a4-a4fc-c1c7866de092",
   "metadata": {},
   "source": [
    "<h1>WHAT ROAD TYPE HAS THE MOST NUMBER OF CASUALTIES</h1>"
   ]
  },
  {
   "cell_type": "code",
   "execution_count": 17,
   "id": "f51e34f1-1357-4725-a9db-62da8d38cf18",
   "metadata": {},
   "outputs": [],
   "source": [
    "a = accident['Road_Type'].value_counts()"
   ]
  },
  {
   "cell_type": "code",
   "execution_count": 18,
   "id": "ce8387b6-6a3f-4cca-9d8d-0bf6de05a6b0",
   "metadata": {},
   "outputs": [
    {
     "data": {
      "text/plain": [
       "Road_Type\n",
       "Single carriageway    496663\n",
       "Dual carriageway       99424\n",
       "Roundabout             43992\n",
       "One way street         13559\n",
       "Slip road               7041\n",
       "Name: count, dtype: int64"
      ]
     },
     "execution_count": 18,
     "metadata": {},
     "output_type": "execute_result"
    }
   ],
   "source": [
    "a"
   ]
  },
  {
   "cell_type": "code",
   "execution_count": 19,
   "id": "852c7672-003e-4676-804d-6b3cd4a8e338",
   "metadata": {},
   "outputs": [],
   "source": [
    "single = accident[accident['Road_Type'] == 'Single carriageway']['Number_of_Casualties'].mean()\n",
    "dual = accident[accident['Road_Type'] == 'Dual carriageway']['Number_of_Casualties'].mean()\n",
    "roundabout = accident[accident['Road_Type'] == 'Roundabout']['Number_of_Casualties'].mean()\n",
    "oneWay = accident[accident['Road_Type'] == 'One way street']['Number_of_Casualties'].mean()\n",
    "slippy = accident[accident['Road_Type'] == 'Slip road']['Number_of_Casualties'].mean()"
   ]
  },
  {
   "cell_type": "markdown",
   "id": "7b2f30a3-8e98-4e9b-9b19-fa9e1038b523",
   "metadata": {},
   "source": [
    "<h3>AVERAGE NUMBER OF CASUALTIES PER ROAD TYPE</h3>"
   ]
  },
  {
   "cell_type": "code",
   "execution_count": 20,
   "id": "5cd16e08-616f-4ecb-a72d-aa8cca9fe7aa",
   "metadata": {},
   "outputs": [
    {
     "data": {
      "text/plain": [
       "1.3437884440757617"
      ]
     },
     "execution_count": 20,
     "metadata": {},
     "output_type": "execute_result"
    }
   ],
   "source": [
    "single"
   ]
  },
  {
   "cell_type": "code",
   "execution_count": 21,
   "id": "b723e961-3d9f-4120-a384-21defc572de2",
   "metadata": {},
   "outputs": [
    {
     "data": {
      "text/plain": [
       "1.4772791277759898"
      ]
     },
     "execution_count": 21,
     "metadata": {},
     "output_type": "execute_result"
    }
   ],
   "source": [
    "dual"
   ]
  },
  {
   "cell_type": "code",
   "execution_count": 22,
   "id": "aa581402-d276-49c6-b059-64cfc2cdbb34",
   "metadata": {},
   "outputs": [
    {
     "data": {
      "text/plain": [
       "1.2748908892525914"
      ]
     },
     "execution_count": 22,
     "metadata": {},
     "output_type": "execute_result"
    }
   ],
   "source": [
    "roundabout"
   ]
  },
  {
   "cell_type": "code",
   "execution_count": 23,
   "id": "3e5f10b5-eeae-4e26-a7b6-b71c8d9cabd2",
   "metadata": {},
   "outputs": [
    {
     "data": {
      "text/plain": [
       "1.1927133269415149"
      ]
     },
     "execution_count": 23,
     "metadata": {},
     "output_type": "execute_result"
    }
   ],
   "source": [
    "oneWay"
   ]
  },
  {
   "cell_type": "code",
   "execution_count": 24,
   "id": "26063df0-302a-445e-a6f7-cb06fbc0c943",
   "metadata": {},
   "outputs": [
    {
     "data": {
      "text/plain": [
       "1.4236614117312882"
      ]
     },
     "execution_count": 24,
     "metadata": {},
     "output_type": "execute_result"
    }
   ],
   "source": [
    "slippy"
   ]
  },
  {
   "cell_type": "markdown",
   "id": "15bb4446-6b13-4d18-81af-701970074bf3",
   "metadata": {},
   "source": [
    "<h1>INSIGHT #3</h1>\n",
    "<H2>DUAL OR TWO WAY ROAD TYPE HAS THE MOST NUMBER OF CASUALTIES</H2>\n",
    "<hr>"
   ]
  },
  {
   "cell_type": "markdown",
   "id": "17d0df71-ffd6-443a-a309-26177136cf53",
   "metadata": {},
   "source": [
    "<h1>DOES THE NUMBER OF VEHICLES IMPACT THE NUMBER OF CASUALTIES</h1>"
   ]
  },
  {
   "cell_type": "code",
   "execution_count": 25,
   "id": "b565f477-ac16-4170-9d3f-a91102f62340",
   "metadata": {},
   "outputs": [],
   "source": [
    "vehicleCasualties = accident['Number_of_Vehicles'].corr(accident['Number_of_Casualties'])"
   ]
  },
  {
   "cell_type": "code",
   "execution_count": 26,
   "id": "7033fcf0-dde3-42d2-bed2-cec989868e44",
   "metadata": {},
   "outputs": [
    {
     "data": {
      "text/plain": [
       "0.22888886126927557"
      ]
     },
     "execution_count": 26,
     "metadata": {},
     "output_type": "execute_result"
    }
   ],
   "source": [
    "vehicleCasualties"
   ]
  },
  {
   "cell_type": "markdown",
   "id": "6ae74831-1eb9-4f30-9d7d-ffb42a1ea8a5",
   "metadata": {},
   "source": [
    "<h1>INSIGHT #4</h1>\n",
    "<h2>THE NUMBER OF VEHICLES INVOLVED DOES NOT IMPACT OR AFFECT THE NUMBER OF CASUALTIES</h2>\n",
    "<hr>"
   ]
  },
  {
   "cell_type": "markdown",
   "id": "3811b95a-d950-41e8-9755-d0694fbaaa92",
   "metadata": {},
   "source": [
    "<h1>IN AREAS, WHAT TYPE OF VEHICLE HAS THE MOST NUMBER OF CASUALTIES TIED ON IT</h1>"
   ]
  },
  {
   "cell_type": "code",
   "execution_count": 27,
   "id": "4928fede-25fd-43e5-8005-4948ac20c30f",
   "metadata": {},
   "outputs": [
    {
     "name": "stderr",
     "output_type": "stream",
     "text": [
      "C:\\Users\\PC\\AppData\\Local\\Temp\\ipykernel_13648\\1670687447.py:1: FutureWarning: The default of observed=False is deprecated and will be changed to True in a future version of pandas. Pass observed=False to retain current behavior or observed=True to adopt the future default and silence this warning.\n",
      "  areaTypeCasualties = np.round(accident.groupby(['Urban_or_Rural_Area', 'Vehicle_Type'])['Number_of_Casualties'].mean(), 1)\n"
     ]
    }
   ],
   "source": [
    "areaTypeCasualties = np.round(accident.groupby(['Urban_or_Rural_Area', 'Vehicle_Type'])['Number_of_Casualties'].mean(), 1)"
   ]
  },
  {
   "cell_type": "code",
   "execution_count": 28,
   "id": "5b432b48-a8a9-4f84-83c3-9213de85633b",
   "metadata": {},
   "outputs": [
    {
     "data": {
      "text/html": [
       "<div>\n",
       "<style scoped>\n",
       "    .dataframe tbody tr th:only-of-type {\n",
       "        vertical-align: middle;\n",
       "    }\n",
       "\n",
       "    .dataframe tbody tr th {\n",
       "        vertical-align: top;\n",
       "    }\n",
       "\n",
       "    .dataframe thead th {\n",
       "        text-align: right;\n",
       "    }\n",
       "</style>\n",
       "<table border=\"1\" class=\"dataframe\">\n",
       "  <thead>\n",
       "    <tr style=\"text-align: right;\">\n",
       "      <th>Vehicle_Type</th>\n",
       "      <th>Agricultural vehicle</th>\n",
       "      <th>Bus or coach (17 or more pass seats)</th>\n",
       "      <th>Car</th>\n",
       "      <th>Data missing or out of range</th>\n",
       "      <th>Goods 7.5 tonnes mgw and over</th>\n",
       "      <th>Goods over 3.5t. and under 7.5t</th>\n",
       "      <th>Minibus (8 - 16 passenger seats)</th>\n",
       "      <th>Motorcycle 125cc and under</th>\n",
       "      <th>Motorcycle 50cc and under</th>\n",
       "      <th>Motorcycle over 125cc and up to 500cc</th>\n",
       "      <th>Motorcycle over 500cc</th>\n",
       "      <th>Other vehicle</th>\n",
       "      <th>Pedal cycle</th>\n",
       "      <th>Ridden horse</th>\n",
       "      <th>Taxi/Private hire car</th>\n",
       "      <th>Van / Goods 3.5 tonnes mgw or under</th>\n",
       "    </tr>\n",
       "    <tr>\n",
       "      <th>Urban_or_Rural_Area</th>\n",
       "      <th></th>\n",
       "      <th></th>\n",
       "      <th></th>\n",
       "      <th></th>\n",
       "      <th></th>\n",
       "      <th></th>\n",
       "      <th></th>\n",
       "      <th></th>\n",
       "      <th></th>\n",
       "      <th></th>\n",
       "      <th></th>\n",
       "      <th></th>\n",
       "      <th></th>\n",
       "      <th></th>\n",
       "      <th></th>\n",
       "      <th></th>\n",
       "    </tr>\n",
       "  </thead>\n",
       "  <tbody>\n",
       "    <tr>\n",
       "      <th>Rural</th>\n",
       "      <td>1.4</td>\n",
       "      <td>1.5</td>\n",
       "      <td>1.5</td>\n",
       "      <td>NaN</td>\n",
       "      <td>1.5</td>\n",
       "      <td>1.5</td>\n",
       "      <td>1.4</td>\n",
       "      <td>1.5</td>\n",
       "      <td>1.5</td>\n",
       "      <td>1.5</td>\n",
       "      <td>1.5</td>\n",
       "      <td>1.4</td>\n",
       "      <td>1.5</td>\n",
       "      <td>2.0</td>\n",
       "      <td>1.5</td>\n",
       "      <td>1.5</td>\n",
       "    </tr>\n",
       "    <tr>\n",
       "      <th>Unallocated</th>\n",
       "      <td>NaN</td>\n",
       "      <td>1.0</td>\n",
       "      <td>1.2</td>\n",
       "      <td>NaN</td>\n",
       "      <td>NaN</td>\n",
       "      <td>NaN</td>\n",
       "      <td>NaN</td>\n",
       "      <td>NaN</td>\n",
       "      <td>NaN</td>\n",
       "      <td>NaN</td>\n",
       "      <td>NaN</td>\n",
       "      <td>NaN</td>\n",
       "      <td>NaN</td>\n",
       "      <td>NaN</td>\n",
       "      <td>NaN</td>\n",
       "      <td>1.0</td>\n",
       "    </tr>\n",
       "    <tr>\n",
       "      <th>Urban</th>\n",
       "      <td>1.3</td>\n",
       "      <td>1.3</td>\n",
       "      <td>1.3</td>\n",
       "      <td>1.5</td>\n",
       "      <td>1.3</td>\n",
       "      <td>1.3</td>\n",
       "      <td>1.3</td>\n",
       "      <td>1.3</td>\n",
       "      <td>1.3</td>\n",
       "      <td>1.3</td>\n",
       "      <td>1.3</td>\n",
       "      <td>1.3</td>\n",
       "      <td>1.3</td>\n",
       "      <td>1.0</td>\n",
       "      <td>1.3</td>\n",
       "      <td>1.3</td>\n",
       "    </tr>\n",
       "  </tbody>\n",
       "</table>\n",
       "</div>"
      ],
      "text/plain": [
       "Vehicle_Type         Agricultural vehicle  \\\n",
       "Urban_or_Rural_Area                         \n",
       "Rural                                 1.4   \n",
       "Unallocated                           NaN   \n",
       "Urban                                 1.3   \n",
       "\n",
       "Vehicle_Type         Bus or coach (17 or more pass seats)  Car  \\\n",
       "Urban_or_Rural_Area                                              \n",
       "Rural                                                 1.5  1.5   \n",
       "Unallocated                                           1.0  1.2   \n",
       "Urban                                                 1.3  1.3   \n",
       "\n",
       "Vehicle_Type         Data missing or out of range  \\\n",
       "Urban_or_Rural_Area                                 \n",
       "Rural                                         NaN   \n",
       "Unallocated                                   NaN   \n",
       "Urban                                         1.5   \n",
       "\n",
       "Vehicle_Type         Goods 7.5 tonnes mgw and over  \\\n",
       "Urban_or_Rural_Area                                  \n",
       "Rural                                          1.5   \n",
       "Unallocated                                    NaN   \n",
       "Urban                                          1.3   \n",
       "\n",
       "Vehicle_Type         Goods over 3.5t. and under 7.5t  \\\n",
       "Urban_or_Rural_Area                                    \n",
       "Rural                                            1.5   \n",
       "Unallocated                                      NaN   \n",
       "Urban                                            1.3   \n",
       "\n",
       "Vehicle_Type         Minibus (8 - 16 passenger seats)  \\\n",
       "Urban_or_Rural_Area                                     \n",
       "Rural                                             1.4   \n",
       "Unallocated                                       NaN   \n",
       "Urban                                             1.3   \n",
       "\n",
       "Vehicle_Type         Motorcycle 125cc and under  Motorcycle 50cc and under  \\\n",
       "Urban_or_Rural_Area                                                          \n",
       "Rural                                       1.5                        1.5   \n",
       "Unallocated                                 NaN                        NaN   \n",
       "Urban                                       1.3                        1.3   \n",
       "\n",
       "Vehicle_Type         Motorcycle over 125cc and up to 500cc  \\\n",
       "Urban_or_Rural_Area                                          \n",
       "Rural                                                  1.5   \n",
       "Unallocated                                            NaN   \n",
       "Urban                                                  1.3   \n",
       "\n",
       "Vehicle_Type         Motorcycle over 500cc  Other vehicle  Pedal cycle  \\\n",
       "Urban_or_Rural_Area                                                      \n",
       "Rural                                  1.5            1.4          1.5   \n",
       "Unallocated                            NaN            NaN          NaN   \n",
       "Urban                                  1.3            1.3          1.3   \n",
       "\n",
       "Vehicle_Type         Ridden horse  Taxi/Private hire car  \\\n",
       "Urban_or_Rural_Area                                        \n",
       "Rural                         2.0                    1.5   \n",
       "Unallocated                   NaN                    NaN   \n",
       "Urban                         1.0                    1.3   \n",
       "\n",
       "Vehicle_Type         Van / Goods 3.5 tonnes mgw or under  \n",
       "Urban_or_Rural_Area                                       \n",
       "Rural                                                1.5  \n",
       "Unallocated                                          1.0  \n",
       "Urban                                                1.3  "
      ]
     },
     "execution_count": 28,
     "metadata": {},
     "output_type": "execute_result"
    }
   ],
   "source": [
    "areaTypeCasualties.unstack()"
   ]
  },
  {
   "cell_type": "markdown",
   "id": "b06523d1-1207-479e-9d93-b1df436e0ed3",
   "metadata": {},
   "source": [
    "<h1>INSIGHT# 5</h1>\n",
    "<h2>In Rural Area, Ridden Horse has the most number of casualties with the average of 2.0</h2>"
   ]
  },
  {
   "cell_type": "markdown",
   "id": "59952ed4-7604-4232-a495-14bd7be1ab77",
   "metadata": {},
   "source": [
    "<h1>Under which lighting conditions were the most severe incidents recorded on all Roads?</h1>"
   ]
  },
  {
   "cell_type": "code",
   "execution_count": 29,
   "id": "6599ef55-2f1f-4fb4-bd24-cc6224e5e4c3",
   "metadata": {},
   "outputs": [
    {
     "name": "stderr",
     "output_type": "stream",
     "text": [
      "C:\\Users\\PC\\AppData\\Local\\Temp\\ipykernel_13648\\3170029336.py:1: FutureWarning: The default of observed=False is deprecated and will be changed to True in a future version of pandas. Pass observed=False to retain current behavior or observed=True to adopt the future default and silence this warning.\n",
      "  roadVehicleSever = accident.groupby(['Road_Type','Accident_Severity', 'Light_Conditions'])['Number_of_Casualties'].sum()\n"
     ]
    }
   ],
   "source": [
    "roadVehicleSever = accident.groupby(['Road_Type','Accident_Severity', 'Light_Conditions'])['Number_of_Casualties'].sum()"
   ]
  },
  {
   "cell_type": "code",
   "execution_count": 30,
   "id": "4e28d5ce-5e6a-4558-b348-85ae9083cdf7",
   "metadata": {},
   "outputs": [
    {
     "data": {
      "text/html": [
       "<div>\n",
       "<style scoped>\n",
       "    .dataframe tbody tr th:only-of-type {\n",
       "        vertical-align: middle;\n",
       "    }\n",
       "\n",
       "    .dataframe tbody tr th {\n",
       "        vertical-align: top;\n",
       "    }\n",
       "\n",
       "    .dataframe thead th {\n",
       "        text-align: right;\n",
       "    }\n",
       "</style>\n",
       "<table border=\"1\" class=\"dataframe\">\n",
       "  <thead>\n",
       "    <tr style=\"text-align: right;\">\n",
       "      <th></th>\n",
       "      <th>Light_Conditions</th>\n",
       "      <th>Darkness - lighting unknown</th>\n",
       "      <th>Darkness - lights lit</th>\n",
       "      <th>Darkness - lights unlit</th>\n",
       "      <th>Darkness - no lighting</th>\n",
       "      <th>Daylight</th>\n",
       "    </tr>\n",
       "    <tr>\n",
       "      <th>Road_Type</th>\n",
       "      <th>Accident_Severity</th>\n",
       "      <th></th>\n",
       "      <th></th>\n",
       "      <th></th>\n",
       "      <th></th>\n",
       "      <th></th>\n",
       "    </tr>\n",
       "  </thead>\n",
       "  <tbody>\n",
       "    <tr>\n",
       "      <th rowspan=\"3\" valign=\"top\">Dual carriageway</th>\n",
       "      <th>Fatal</th>\n",
       "      <td>11</td>\n",
       "      <td>878</td>\n",
       "      <td>37</td>\n",
       "      <td>819</td>\n",
       "      <td>1853</td>\n",
       "    </tr>\n",
       "    <tr>\n",
       "      <th>Serious</th>\n",
       "      <td>149</td>\n",
       "      <td>4527</td>\n",
       "      <td>92</td>\n",
       "      <td>2248</td>\n",
       "      <td>12179</td>\n",
       "    </tr>\n",
       "    <tr>\n",
       "      <th>Slight</th>\n",
       "      <td>1101</td>\n",
       "      <td>24842</td>\n",
       "      <td>540</td>\n",
       "      <td>8712</td>\n",
       "      <td>88889</td>\n",
       "    </tr>\n",
       "    <tr>\n",
       "      <th rowspan=\"3\" valign=\"top\">One way street</th>\n",
       "      <th>Fatal</th>\n",
       "      <td>1</td>\n",
       "      <td>30</td>\n",
       "      <td>0</td>\n",
       "      <td>2</td>\n",
       "      <td>88</td>\n",
       "    </tr>\n",
       "    <tr>\n",
       "      <th>Serious</th>\n",
       "      <td>15</td>\n",
       "      <td>583</td>\n",
       "      <td>7</td>\n",
       "      <td>17</td>\n",
       "      <td>1406</td>\n",
       "    </tr>\n",
       "    <tr>\n",
       "      <th>Slight</th>\n",
       "      <td>132</td>\n",
       "      <td>3459</td>\n",
       "      <td>61</td>\n",
       "      <td>133</td>\n",
       "      <td>10238</td>\n",
       "    </tr>\n",
       "    <tr>\n",
       "      <th rowspan=\"3\" valign=\"top\">Roundabout</th>\n",
       "      <th>Fatal</th>\n",
       "      <td>0</td>\n",
       "      <td>74</td>\n",
       "      <td>0</td>\n",
       "      <td>2</td>\n",
       "      <td>118</td>\n",
       "    </tr>\n",
       "    <tr>\n",
       "      <th>Serious</th>\n",
       "      <td>44</td>\n",
       "      <td>1359</td>\n",
       "      <td>37</td>\n",
       "      <td>41</td>\n",
       "      <td>3193</td>\n",
       "    </tr>\n",
       "    <tr>\n",
       "      <th>Slight</th>\n",
       "      <td>546</td>\n",
       "      <td>12553</td>\n",
       "      <td>205</td>\n",
       "      <td>250</td>\n",
       "      <td>37663</td>\n",
       "    </tr>\n",
       "    <tr>\n",
       "      <th rowspan=\"3\" valign=\"top\">Single carriageway</th>\n",
       "      <th>Fatal</th>\n",
       "      <td>101</td>\n",
       "      <td>2355</td>\n",
       "      <td>39</td>\n",
       "      <td>2529</td>\n",
       "      <td>7399</td>\n",
       "    </tr>\n",
       "    <tr>\n",
       "      <th>Serious</th>\n",
       "      <td>921</td>\n",
       "      <td>21193</td>\n",
       "      <td>379</td>\n",
       "      <td>10485</td>\n",
       "      <td>69628</td>\n",
       "    </tr>\n",
       "    <tr>\n",
       "      <th>Slight</th>\n",
       "      <td>5334</td>\n",
       "      <td>103295</td>\n",
       "      <td>1948</td>\n",
       "      <td>31889</td>\n",
       "      <td>409915</td>\n",
       "    </tr>\n",
       "    <tr>\n",
       "      <th rowspan=\"3\" valign=\"top\">Slip road</th>\n",
       "      <th>Fatal</th>\n",
       "      <td>1</td>\n",
       "      <td>84</td>\n",
       "      <td>0</td>\n",
       "      <td>10</td>\n",
       "      <td>52</td>\n",
       "    </tr>\n",
       "    <tr>\n",
       "      <th>Serious</th>\n",
       "      <td>9</td>\n",
       "      <td>185</td>\n",
       "      <td>3</td>\n",
       "      <td>122</td>\n",
       "      <td>617</td>\n",
       "    </tr>\n",
       "    <tr>\n",
       "      <th>Slight</th>\n",
       "      <td>106</td>\n",
       "      <td>1691</td>\n",
       "      <td>37</td>\n",
       "      <td>456</td>\n",
       "      <td>6651</td>\n",
       "    </tr>\n",
       "  </tbody>\n",
       "</table>\n",
       "</div>"
      ],
      "text/plain": [
       "Light_Conditions                      Darkness - lighting unknown  \\\n",
       "Road_Type          Accident_Severity                                \n",
       "Dual carriageway   Fatal                                       11   \n",
       "                   Serious                                    149   \n",
       "                   Slight                                    1101   \n",
       "One way street     Fatal                                        1   \n",
       "                   Serious                                     15   \n",
       "                   Slight                                     132   \n",
       "Roundabout         Fatal                                        0   \n",
       "                   Serious                                     44   \n",
       "                   Slight                                     546   \n",
       "Single carriageway Fatal                                      101   \n",
       "                   Serious                                    921   \n",
       "                   Slight                                    5334   \n",
       "Slip road          Fatal                                        1   \n",
       "                   Serious                                      9   \n",
       "                   Slight                                     106   \n",
       "\n",
       "Light_Conditions                      Darkness - lights lit  \\\n",
       "Road_Type          Accident_Severity                          \n",
       "Dual carriageway   Fatal                                878   \n",
       "                   Serious                             4527   \n",
       "                   Slight                             24842   \n",
       "One way street     Fatal                                 30   \n",
       "                   Serious                              583   \n",
       "                   Slight                              3459   \n",
       "Roundabout         Fatal                                 74   \n",
       "                   Serious                             1359   \n",
       "                   Slight                             12553   \n",
       "Single carriageway Fatal                               2355   \n",
       "                   Serious                            21193   \n",
       "                   Slight                            103295   \n",
       "Slip road          Fatal                                 84   \n",
       "                   Serious                              185   \n",
       "                   Slight                              1691   \n",
       "\n",
       "Light_Conditions                      Darkness - lights unlit  \\\n",
       "Road_Type          Accident_Severity                            \n",
       "Dual carriageway   Fatal                                   37   \n",
       "                   Serious                                 92   \n",
       "                   Slight                                 540   \n",
       "One way street     Fatal                                    0   \n",
       "                   Serious                                  7   \n",
       "                   Slight                                  61   \n",
       "Roundabout         Fatal                                    0   \n",
       "                   Serious                                 37   \n",
       "                   Slight                                 205   \n",
       "Single carriageway Fatal                                   39   \n",
       "                   Serious                                379   \n",
       "                   Slight                                1948   \n",
       "Slip road          Fatal                                    0   \n",
       "                   Serious                                  3   \n",
       "                   Slight                                  37   \n",
       "\n",
       "Light_Conditions                      Darkness - no lighting  Daylight  \n",
       "Road_Type          Accident_Severity                                    \n",
       "Dual carriageway   Fatal                                 819      1853  \n",
       "                   Serious                              2248     12179  \n",
       "                   Slight                               8712     88889  \n",
       "One way street     Fatal                                   2        88  \n",
       "                   Serious                                17      1406  \n",
       "                   Slight                                133     10238  \n",
       "Roundabout         Fatal                                   2       118  \n",
       "                   Serious                                41      3193  \n",
       "                   Slight                                250     37663  \n",
       "Single carriageway Fatal                                2529      7399  \n",
       "                   Serious                             10485     69628  \n",
       "                   Slight                              31889    409915  \n",
       "Slip road          Fatal                                  10        52  \n",
       "                   Serious                               122       617  \n",
       "                   Slight                                456      6651  "
      ]
     },
     "execution_count": 30,
     "metadata": {},
     "output_type": "execute_result"
    }
   ],
   "source": [
    "roadVehicleSever.unstack()"
   ]
  },
  {
   "cell_type": "markdown",
   "id": "6558e77f-7d74-40da-b3a9-914518a620a9",
   "metadata": {},
   "source": [
    "<h1>INSIGHT #6</h1>\n",
    "<h2>Slip Road is the most fatal in Darkness - lights lit compared to all road in this lighting ocnditions</h2>"
   ]
  },
  {
   "cell_type": "code",
   "execution_count": 31,
   "id": "4792a805-c412-4396-8fdf-e98425d1513e",
   "metadata": {},
   "outputs": [
    {
     "data": {
      "text/html": [
       "<div>\n",
       "<style scoped>\n",
       "    .dataframe tbody tr th:only-of-type {\n",
       "        vertical-align: middle;\n",
       "    }\n",
       "\n",
       "    .dataframe tbody tr th {\n",
       "        vertical-align: top;\n",
       "    }\n",
       "\n",
       "    .dataframe thead th {\n",
       "        text-align: right;\n",
       "    }\n",
       "</style>\n",
       "<table border=\"1\" class=\"dataframe\">\n",
       "  <thead>\n",
       "    <tr style=\"text-align: right;\">\n",
       "      <th></th>\n",
       "      <th>Index</th>\n",
       "      <th>Accident_Severity</th>\n",
       "      <th>Accident_Date</th>\n",
       "      <th>Latitude</th>\n",
       "      <th>Light_Conditions</th>\n",
       "      <th>District Area</th>\n",
       "      <th>Longitude</th>\n",
       "      <th>Number_of_Casualties</th>\n",
       "      <th>Number_of_Vehicles</th>\n",
       "      <th>Road_Surface_Conditions</th>\n",
       "      <th>Road_Type</th>\n",
       "      <th>Urban_or_Rural_Area</th>\n",
       "      <th>Weather_Conditions</th>\n",
       "      <th>Vehicle_Type</th>\n",
       "    </tr>\n",
       "  </thead>\n",
       "  <tbody>\n",
       "    <tr>\n",
       "      <th>0</th>\n",
       "      <td>200701BS64157</td>\n",
       "      <td>Serious</td>\n",
       "      <td>2019-06-05</td>\n",
       "      <td>51.506187</td>\n",
       "      <td>Darkness - lights lit</td>\n",
       "      <td>Kensington and Chelsea</td>\n",
       "      <td>-0.209082</td>\n",
       "      <td>1</td>\n",
       "      <td>2</td>\n",
       "      <td>Dry</td>\n",
       "      <td>Single carriageway</td>\n",
       "      <td>Urban</td>\n",
       "      <td>Fine no high winds</td>\n",
       "      <td>Car</td>\n",
       "    </tr>\n",
       "    <tr>\n",
       "      <th>1</th>\n",
       "      <td>200701BS65737</td>\n",
       "      <td>Serious</td>\n",
       "      <td>2019-07-02</td>\n",
       "      <td>51.495029</td>\n",
       "      <td>Daylight</td>\n",
       "      <td>Kensington and Chelsea</td>\n",
       "      <td>-0.173647</td>\n",
       "      <td>1</td>\n",
       "      <td>2</td>\n",
       "      <td>Wet or damp</td>\n",
       "      <td>Single carriageway</td>\n",
       "      <td>Urban</td>\n",
       "      <td>Raining no high winds</td>\n",
       "      <td>Car</td>\n",
       "    </tr>\n",
       "    <tr>\n",
       "      <th>2</th>\n",
       "      <td>200701BS66127</td>\n",
       "      <td>Serious</td>\n",
       "      <td>2021-02-11</td>\n",
       "      <td>51.517715</td>\n",
       "      <td>Darkness - lighting unknown</td>\n",
       "      <td>Kensington and Chelsea</td>\n",
       "      <td>-0.210215</td>\n",
       "      <td>1</td>\n",
       "      <td>3</td>\n",
       "      <td>Dry</td>\n",
       "      <td>Single carriageway</td>\n",
       "      <td>Urban</td>\n",
       "      <td>NaN</td>\n",
       "      <td>Taxi/Private hire car</td>\n",
       "    </tr>\n",
       "    <tr>\n",
       "      <th>3</th>\n",
       "      <td>200701BS66128</td>\n",
       "      <td>Serious</td>\n",
       "      <td>2021-02-11</td>\n",
       "      <td>51.495478</td>\n",
       "      <td>Daylight</td>\n",
       "      <td>Kensington and Chelsea</td>\n",
       "      <td>-0.202731</td>\n",
       "      <td>1</td>\n",
       "      <td>4</td>\n",
       "      <td>Dry</td>\n",
       "      <td>Single carriageway</td>\n",
       "      <td>Urban</td>\n",
       "      <td>Fine no high winds</td>\n",
       "      <td>Bus or coach (17 or more pass seats)</td>\n",
       "    </tr>\n",
       "    <tr>\n",
       "      <th>4</th>\n",
       "      <td>200701BS66837</td>\n",
       "      <td>Slight</td>\n",
       "      <td>2019-09-03</td>\n",
       "      <td>51.488576</td>\n",
       "      <td>Darkness - lights lit</td>\n",
       "      <td>Kensington and Chelsea</td>\n",
       "      <td>-0.192487</td>\n",
       "      <td>1</td>\n",
       "      <td>2</td>\n",
       "      <td>Dry</td>\n",
       "      <td>Single carriageway</td>\n",
       "      <td>Urban</td>\n",
       "      <td>NaN</td>\n",
       "      <td>Other vehicle</td>\n",
       "    </tr>\n",
       "    <tr>\n",
       "      <th>...</th>\n",
       "      <td>...</td>\n",
       "      <td>...</td>\n",
       "      <td>...</td>\n",
       "      <td>...</td>\n",
       "      <td>...</td>\n",
       "      <td>...</td>\n",
       "      <td>...</td>\n",
       "      <td>...</td>\n",
       "      <td>...</td>\n",
       "      <td>...</td>\n",
       "      <td>...</td>\n",
       "      <td>...</td>\n",
       "      <td>...</td>\n",
       "      <td>...</td>\n",
       "    </tr>\n",
       "    <tr>\n",
       "      <th>660674</th>\n",
       "      <td>201091NM01760</td>\n",
       "      <td>Slight</td>\n",
       "      <td>2021-02-11</td>\n",
       "      <td>57.374005</td>\n",
       "      <td>Daylight</td>\n",
       "      <td>Highland</td>\n",
       "      <td>-3.467828</td>\n",
       "      <td>2</td>\n",
       "      <td>1</td>\n",
       "      <td>Dry</td>\n",
       "      <td>Single carriageway</td>\n",
       "      <td>Rural</td>\n",
       "      <td>Fine no high winds</td>\n",
       "      <td>Car</td>\n",
       "    </tr>\n",
       "    <tr>\n",
       "      <th>660675</th>\n",
       "      <td>201091NM01881</td>\n",
       "      <td>Slight</td>\n",
       "      <td>2021-02-11</td>\n",
       "      <td>57.232273</td>\n",
       "      <td>Darkness - no lighting</td>\n",
       "      <td>Highland</td>\n",
       "      <td>-3.809281</td>\n",
       "      <td>1</td>\n",
       "      <td>1</td>\n",
       "      <td>Frost or ice</td>\n",
       "      <td>Single carriageway</td>\n",
       "      <td>Rural</td>\n",
       "      <td>Fine no high winds</td>\n",
       "      <td>Car</td>\n",
       "    </tr>\n",
       "    <tr>\n",
       "      <th>660676</th>\n",
       "      <td>201091NM01935</td>\n",
       "      <td>Slight</td>\n",
       "      <td>2021-02-11</td>\n",
       "      <td>57.585044</td>\n",
       "      <td>Daylight</td>\n",
       "      <td>Highland</td>\n",
       "      <td>-3.862727</td>\n",
       "      <td>1</td>\n",
       "      <td>3</td>\n",
       "      <td>Frost or ice</td>\n",
       "      <td>Single carriageway</td>\n",
       "      <td>Rural</td>\n",
       "      <td>Fine no high winds</td>\n",
       "      <td>Car</td>\n",
       "    </tr>\n",
       "    <tr>\n",
       "      <th>660677</th>\n",
       "      <td>201091NM01964</td>\n",
       "      <td>Serious</td>\n",
       "      <td>2021-02-11</td>\n",
       "      <td>57.214898</td>\n",
       "      <td>Darkness - no lighting</td>\n",
       "      <td>Highland</td>\n",
       "      <td>-3.823997</td>\n",
       "      <td>1</td>\n",
       "      <td>2</td>\n",
       "      <td>Wet or damp</td>\n",
       "      <td>Single carriageway</td>\n",
       "      <td>Rural</td>\n",
       "      <td>Fine no high winds</td>\n",
       "      <td>Motorcycle over 500cc</td>\n",
       "    </tr>\n",
       "    <tr>\n",
       "      <th>660678</th>\n",
       "      <td>201091NM02142</td>\n",
       "      <td>Serious</td>\n",
       "      <td>2021-02-11</td>\n",
       "      <td>57.575210</td>\n",
       "      <td>Daylight</td>\n",
       "      <td>Highland</td>\n",
       "      <td>-3.895673</td>\n",
       "      <td>1</td>\n",
       "      <td>1</td>\n",
       "      <td>Wet or damp</td>\n",
       "      <td>Dual carriageway</td>\n",
       "      <td>Rural</td>\n",
       "      <td>Snowing no high winds</td>\n",
       "      <td>Car</td>\n",
       "    </tr>\n",
       "  </tbody>\n",
       "</table>\n",
       "<p>660679 rows × 14 columns</p>\n",
       "</div>"
      ],
      "text/plain": [
       "                Index Accident_Severity Accident_Date   Latitude  \\\n",
       "0       200701BS64157           Serious    2019-06-05  51.506187   \n",
       "1       200701BS65737           Serious    2019-07-02  51.495029   \n",
       "2       200701BS66127           Serious    2021-02-11  51.517715   \n",
       "3       200701BS66128           Serious    2021-02-11  51.495478   \n",
       "4       200701BS66837            Slight    2019-09-03  51.488576   \n",
       "...               ...               ...           ...        ...   \n",
       "660674  201091NM01760            Slight    2021-02-11  57.374005   \n",
       "660675  201091NM01881            Slight    2021-02-11  57.232273   \n",
       "660676  201091NM01935            Slight    2021-02-11  57.585044   \n",
       "660677  201091NM01964           Serious    2021-02-11  57.214898   \n",
       "660678  201091NM02142           Serious    2021-02-11  57.575210   \n",
       "\n",
       "                   Light_Conditions           District Area  Longitude  \\\n",
       "0             Darkness - lights lit  Kensington and Chelsea  -0.209082   \n",
       "1                          Daylight  Kensington and Chelsea  -0.173647   \n",
       "2       Darkness - lighting unknown  Kensington and Chelsea  -0.210215   \n",
       "3                          Daylight  Kensington and Chelsea  -0.202731   \n",
       "4             Darkness - lights lit  Kensington and Chelsea  -0.192487   \n",
       "...                             ...                     ...        ...   \n",
       "660674                     Daylight                Highland  -3.467828   \n",
       "660675       Darkness - no lighting                Highland  -3.809281   \n",
       "660676                     Daylight                Highland  -3.862727   \n",
       "660677       Darkness - no lighting                Highland  -3.823997   \n",
       "660678                     Daylight                Highland  -3.895673   \n",
       "\n",
       "        Number_of_Casualties  Number_of_Vehicles Road_Surface_Conditions  \\\n",
       "0                          1                   2                     Dry   \n",
       "1                          1                   2             Wet or damp   \n",
       "2                          1                   3                     Dry   \n",
       "3                          1                   4                     Dry   \n",
       "4                          1                   2                     Dry   \n",
       "...                      ...                 ...                     ...   \n",
       "660674                     2                   1                     Dry   \n",
       "660675                     1                   1            Frost or ice   \n",
       "660676                     1                   3            Frost or ice   \n",
       "660677                     1                   2             Wet or damp   \n",
       "660678                     1                   1             Wet or damp   \n",
       "\n",
       "                 Road_Type Urban_or_Rural_Area     Weather_Conditions  \\\n",
       "0       Single carriageway               Urban     Fine no high winds   \n",
       "1       Single carriageway               Urban  Raining no high winds   \n",
       "2       Single carriageway               Urban                    NaN   \n",
       "3       Single carriageway               Urban     Fine no high winds   \n",
       "4       Single carriageway               Urban                    NaN   \n",
       "...                    ...                 ...                    ...   \n",
       "660674  Single carriageway               Rural     Fine no high winds   \n",
       "660675  Single carriageway               Rural     Fine no high winds   \n",
       "660676  Single carriageway               Rural     Fine no high winds   \n",
       "660677  Single carriageway               Rural     Fine no high winds   \n",
       "660678    Dual carriageway               Rural  Snowing no high winds   \n",
       "\n",
       "                                Vehicle_Type  \n",
       "0                                        Car  \n",
       "1                                        Car  \n",
       "2                      Taxi/Private hire car  \n",
       "3       Bus or coach (17 or more pass seats)  \n",
       "4                              Other vehicle  \n",
       "...                                      ...  \n",
       "660674                                   Car  \n",
       "660675                                   Car  \n",
       "660676                                   Car  \n",
       "660677                 Motorcycle over 500cc  \n",
       "660678                                   Car  \n",
       "\n",
       "[660679 rows x 14 columns]"
      ]
     },
     "execution_count": 31,
     "metadata": {},
     "output_type": "execute_result"
    }
   ],
   "source": [
    "accident"
   ]
  },
  {
   "cell_type": "code",
   "execution_count": 32,
   "id": "d5a252d7-bfa8-4936-8c3e-001b0ecf14de",
   "metadata": {},
   "outputs": [
    {
     "name": "stdout",
     "output_type": "stream",
     "text": [
      "5.097050919646033e-249\n"
     ]
    }
   ],
   "source": [
    "dryCas = accident[accident['Road_Surface_Conditions'] == 'Dry']['Number_of_Casualties']\n",
    "wetCas = accident[accident['Road_Surface_Conditions'] == 'Wet or damp']['Number_of_Casualties']\n",
    "\n",
    "\n",
    "f_stats, p_value = f_oneway(dryCas, wetCas)\n",
    "\n",
    "print(p_value)"
   ]
  },
  {
   "cell_type": "markdown",
   "id": "aaa831e2-21b1-463a-9439-d229189a1a47",
   "metadata": {},
   "source": [
    "<h1>INSIGHT #7</h1>\n",
    "<h2>THERE IS A CORRELATION BETWEEN ROAD SURFACE CONDITIONS AND NUMBER OF CASUALTIES</h2>"
   ]
  },
  {
   "cell_type": "code",
   "execution_count": 34,
   "id": "2f29e1b3-de72-4784-a8cc-45356c431bec",
   "metadata": {},
   "outputs": [
    {
     "name": "stdout",
     "output_type": "stream",
     "text": [
      "An error occurred: name 'stats' is not defined\n"
     ]
    }
   ],
   "source": [
    "def perform_oneway_anova(data, group_col, value_col):\n",
    "    \"\"\"\n",
    "    Performs one-way ANOVA on a pandas DataFrame.\n",
    "\n",
    "    Args:\n",
    "        data (pd.DataFrame): The DataFrame containing the data.\n",
    "        group_col (str): The name of the column containing the group labels.\n",
    "        value_col (str): The name of the column containing the values to compare.\n",
    "\n",
    "    Returns:\n",
    "        tuple: A tuple containing the F-statistic and p-value, or None if an error occurs.\n",
    "    \"\"\"\n",
    "    try:\n",
    "        groups = [data[value_col][data[group_col] == group] for group in data[group_col].unique()]\n",
    "        f_statistic, p_value = stats.f_oneway(*groups)\n",
    "        return f_statistic, p_value\n",
    "    except Exception as e:\n",
    "        print(f\"An error occurred: {e}\")\n",
    "        return None\n",
    "\n",
    "# Example Usage:\n",
    "data = pd.DataFrame({\n",
    "    'group': ['A', 'A', 'B', 'B', 'C', 'C', 'A', 'B', 'C'],\n",
    "    'value': [10, 12, 15, 18, 20, 22, 11, 16, 21]\n",
    "})\n",
    "\n",
    "result = perform_oneway_anova(data, 'group', 'value')\n",
    "\n",
    "if result:\n",
    "    f_statistic, p_value = result\n",
    "    print(f\"F-statistic: {f_statistic}\")\n",
    "    print(f\"P-value: {p_value}\")\n",
    "\n",
    "    if p_value < 0.05:\n",
    "        print(\"There are statistically significant differences between the groups.\")\n",
    "    else:\n",
    "        print(\"There are no statistically significant differences between the groups.\")"
   ]
  },
  {
   "cell_type": "code",
   "execution_count": 35,
   "id": "d58154c4-ec36-49e9-ad32-f3524f34240f",
   "metadata": {},
   "outputs": [
    {
     "name": "stdout",
     "output_type": "stream",
     "text": [
      "An error occurred: \"None of [CategoricalIndex(['Dry', 'Wet or damp', 'Dry', 'Dry', 'Dry', 'Dry', 'Dry',\\n                  'Dry', 'Dry', 'Dry',\\n                  ...\\n                  'Wet or damp', 'Dry', 'Frost or ice', 'Snow', 'Wet or damp',\\n                  'Dry', 'Frost or ice', 'Frost or ice', 'Wet or damp',\\n                  'Wet or damp'],\\n                 categories=['Dry', 'Flood over 3cm. deep', 'Frost or ice', 'Snow', 'Wet or damp'], ordered=False, dtype='category', length=660679)] are in the [columns]\"\n"
     ]
    }
   ],
   "source": [
    "haha = perform_oneway_anova(accident, accident['Road_Surface_Conditions'], accident['Number_of_Casualties'])"
   ]
  },
  {
   "cell_type": "code",
   "execution_count": null,
   "id": "ba7bdce3-929f-4573-899d-dfd7a5c202e0",
   "metadata": {},
   "outputs": [],
   "source": []
  }
 ],
 "metadata": {
  "kernelspec": {
   "display_name": "Python 3 (ipykernel)",
   "language": "python",
   "name": "python3"
  },
  "language_info": {
   "codemirror_mode": {
    "name": "ipython",
    "version": 3
   },
   "file_extension": ".py",
   "mimetype": "text/x-python",
   "name": "python",
   "nbconvert_exporter": "python",
   "pygments_lexer": "ipython3",
   "version": "3.12.8"
  }
 },
 "nbformat": 4,
 "nbformat_minor": 5
}
