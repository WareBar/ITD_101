{
 "cells": [
  {
   "cell_type": "markdown",
   "id": "95c1940c-bed1-45bb-9ccb-ec2cc65c6b54",
   "metadata": {},
   "source": [
    "<h1>UK ACCIDENT REPORT DATA ANALYSIS</h1>"
   ]
  },
  {
   "cell_type": "markdown",
   "id": "d02443c3-7fe9-4ca7-babe-01bd543fb1b4",
   "metadata": {},
   "source": [
    "<h3>ANALYST: Abdul Barry A. Adam</h3>"
   ]
  },
  {
   "cell_type": "markdown",
   "id": "66474433-e523-4253-a0e0-8ed33bc0f9b9",
   "metadata": {},
   "source": [
    "<h1>IMPORTING LIBRARIES NEEDED</h1>"
   ]
  },
  {
   "cell_type": "code",
   "execution_count": 97,
   "id": "7d44c3ee-a183-47f3-aa34-71ff80c0fc78",
   "metadata": {},
   "outputs": [],
   "source": [
    "import numpy as np\n",
    "import pandas as pd\n",
    "import matplotlib.pyplot as plt\n",
    "import seaborn as sns\n",
    "from scipy.stats import f_oneway"
   ]
  },
  {
   "cell_type": "markdown",
   "id": "39413a7d-3f9e-484a-a906-5ebd2257c5c4",
   "metadata": {},
   "source": [
    "<h1>IMPORTING DATASETS, LOCALLY, TO DATAFRAME</h1>"
   ]
  },
  {
   "cell_type": "code",
   "execution_count": 98,
   "id": "f95f1c1a-6ac5-421b-8f2f-2fff3bba6f2f",
   "metadata": {},
   "outputs": [],
   "source": [
    "accident = pd.read_csv(\"./datasets/accident_data.csv\")"
   ]
  },
  {
   "cell_type": "code",
   "execution_count": 99,
   "id": "bebd7a88-86b8-429c-98b1-75dcbb204c62",
   "metadata": {},
   "outputs": [
    {
     "data": {
      "text/html": [
       "<div>\n",
       "<style scoped>\n",
       "    .dataframe tbody tr th:only-of-type {\n",
       "        vertical-align: middle;\n",
       "    }\n",
       "\n",
       "    .dataframe tbody tr th {\n",
       "        vertical-align: top;\n",
       "    }\n",
       "\n",
       "    .dataframe thead th {\n",
       "        text-align: right;\n",
       "    }\n",
       "</style>\n",
       "<table border=\"1\" class=\"dataframe\">\n",
       "  <thead>\n",
       "    <tr style=\"text-align: right;\">\n",
       "      <th></th>\n",
       "      <th>Index</th>\n",
       "      <th>Accident_Severity</th>\n",
       "      <th>Accident_Date</th>\n",
       "      <th>Latitude</th>\n",
       "      <th>Light_Conditions</th>\n",
       "      <th>District Area</th>\n",
       "      <th>Longitude</th>\n",
       "      <th>Number_of_Casualties</th>\n",
       "      <th>Number_of_Vehicles</th>\n",
       "      <th>Road_Surface_Conditions</th>\n",
       "      <th>Road_Type</th>\n",
       "      <th>Urban_or_Rural_Area</th>\n",
       "      <th>Weather_Conditions</th>\n",
       "      <th>Vehicle_Type</th>\n",
       "    </tr>\n",
       "  </thead>\n",
       "  <tbody>\n",
       "    <tr>\n",
       "      <th>0</th>\n",
       "      <td>200701BS64157</td>\n",
       "      <td>Serious</td>\n",
       "      <td>5/6/2019</td>\n",
       "      <td>51.506187</td>\n",
       "      <td>Darkness - lights lit</td>\n",
       "      <td>Kensington and Chelsea</td>\n",
       "      <td>-0.209082</td>\n",
       "      <td>1</td>\n",
       "      <td>2</td>\n",
       "      <td>Dry</td>\n",
       "      <td>Single carriageway</td>\n",
       "      <td>Urban</td>\n",
       "      <td>Fine no high winds</td>\n",
       "      <td>Car</td>\n",
       "    </tr>\n",
       "    <tr>\n",
       "      <th>1</th>\n",
       "      <td>200701BS65737</td>\n",
       "      <td>Serious</td>\n",
       "      <td>2/7/2019</td>\n",
       "      <td>51.495029</td>\n",
       "      <td>Daylight</td>\n",
       "      <td>Kensington and Chelsea</td>\n",
       "      <td>-0.173647</td>\n",
       "      <td>1</td>\n",
       "      <td>2</td>\n",
       "      <td>Wet or damp</td>\n",
       "      <td>Single carriageway</td>\n",
       "      <td>Urban</td>\n",
       "      <td>Raining no high winds</td>\n",
       "      <td>Car</td>\n",
       "    </tr>\n",
       "    <tr>\n",
       "      <th>2</th>\n",
       "      <td>200701BS66127</td>\n",
       "      <td>Serious</td>\n",
       "      <td>26-08-2019</td>\n",
       "      <td>51.517715</td>\n",
       "      <td>Darkness - lighting unknown</td>\n",
       "      <td>Kensington and Chelsea</td>\n",
       "      <td>-0.210215</td>\n",
       "      <td>1</td>\n",
       "      <td>3</td>\n",
       "      <td>Dry</td>\n",
       "      <td>NaN</td>\n",
       "      <td>Urban</td>\n",
       "      <td>NaN</td>\n",
       "      <td>Taxi/Private hire car</td>\n",
       "    </tr>\n",
       "    <tr>\n",
       "      <th>3</th>\n",
       "      <td>200701BS66128</td>\n",
       "      <td>Serious</td>\n",
       "      <td>16-08-2019</td>\n",
       "      <td>51.495478</td>\n",
       "      <td>Daylight</td>\n",
       "      <td>Kensington and Chelsea</td>\n",
       "      <td>-0.202731</td>\n",
       "      <td>1</td>\n",
       "      <td>4</td>\n",
       "      <td>Dry</td>\n",
       "      <td>Single carriageway</td>\n",
       "      <td>Urban</td>\n",
       "      <td>Fine no high winds</td>\n",
       "      <td>Bus or coach (17 or more pass seats)</td>\n",
       "    </tr>\n",
       "    <tr>\n",
       "      <th>4</th>\n",
       "      <td>200701BS66837</td>\n",
       "      <td>Slight</td>\n",
       "      <td>3/9/2019</td>\n",
       "      <td>51.488576</td>\n",
       "      <td>Darkness - lights lit</td>\n",
       "      <td>Kensington and Chelsea</td>\n",
       "      <td>-0.192487</td>\n",
       "      <td>1</td>\n",
       "      <td>2</td>\n",
       "      <td>Dry</td>\n",
       "      <td>NaN</td>\n",
       "      <td>Urban</td>\n",
       "      <td>NaN</td>\n",
       "      <td>Other vehicle</td>\n",
       "    </tr>\n",
       "    <tr>\n",
       "      <th>...</th>\n",
       "      <td>...</td>\n",
       "      <td>...</td>\n",
       "      <td>...</td>\n",
       "      <td>...</td>\n",
       "      <td>...</td>\n",
       "      <td>...</td>\n",
       "      <td>...</td>\n",
       "      <td>...</td>\n",
       "      <td>...</td>\n",
       "      <td>...</td>\n",
       "      <td>...</td>\n",
       "      <td>...</td>\n",
       "      <td>...</td>\n",
       "      <td>...</td>\n",
       "    </tr>\n",
       "    <tr>\n",
       "      <th>660674</th>\n",
       "      <td>201091NM01760</td>\n",
       "      <td>Slight</td>\n",
       "      <td>18-02-2022</td>\n",
       "      <td>57.374005</td>\n",
       "      <td>Daylight</td>\n",
       "      <td>Highland</td>\n",
       "      <td>-3.467828</td>\n",
       "      <td>2</td>\n",
       "      <td>1</td>\n",
       "      <td>Dry</td>\n",
       "      <td>Single carriageway</td>\n",
       "      <td>Rural</td>\n",
       "      <td>Fine no high winds</td>\n",
       "      <td>Car</td>\n",
       "    </tr>\n",
       "    <tr>\n",
       "      <th>660675</th>\n",
       "      <td>201091NM01881</td>\n",
       "      <td>Slight</td>\n",
       "      <td>21-02-2022</td>\n",
       "      <td>57.232273</td>\n",
       "      <td>Darkness - no lighting</td>\n",
       "      <td>Highland</td>\n",
       "      <td>-3.809281</td>\n",
       "      <td>1</td>\n",
       "      <td>1</td>\n",
       "      <td>Frost or ice</td>\n",
       "      <td>Single carriageway</td>\n",
       "      <td>Rural</td>\n",
       "      <td>Fine no high winds</td>\n",
       "      <td>Car</td>\n",
       "    </tr>\n",
       "    <tr>\n",
       "      <th>660676</th>\n",
       "      <td>201091NM01935</td>\n",
       "      <td>Slight</td>\n",
       "      <td>23-02-2022</td>\n",
       "      <td>57.585044</td>\n",
       "      <td>Daylight</td>\n",
       "      <td>Highland</td>\n",
       "      <td>-3.862727</td>\n",
       "      <td>1</td>\n",
       "      <td>3</td>\n",
       "      <td>Frost or ice</td>\n",
       "      <td>Single carriageway</td>\n",
       "      <td>Rural</td>\n",
       "      <td>Fine no high winds</td>\n",
       "      <td>Car</td>\n",
       "    </tr>\n",
       "    <tr>\n",
       "      <th>660677</th>\n",
       "      <td>201091NM01964</td>\n",
       "      <td>Serious</td>\n",
       "      <td>23-02-2022</td>\n",
       "      <td>57.214898</td>\n",
       "      <td>Darkness - no lighting</td>\n",
       "      <td>Highland</td>\n",
       "      <td>-3.823997</td>\n",
       "      <td>1</td>\n",
       "      <td>2</td>\n",
       "      <td>Wet or damp</td>\n",
       "      <td>Single carriageway</td>\n",
       "      <td>Rural</td>\n",
       "      <td>Fine no high winds</td>\n",
       "      <td>Motorcycle over 500cc</td>\n",
       "    </tr>\n",
       "    <tr>\n",
       "      <th>660678</th>\n",
       "      <td>201091NM02142</td>\n",
       "      <td>Serious</td>\n",
       "      <td>28-02-2022</td>\n",
       "      <td>57.575210</td>\n",
       "      <td>Daylight</td>\n",
       "      <td>Highland</td>\n",
       "      <td>-3.895673</td>\n",
       "      <td>1</td>\n",
       "      <td>1</td>\n",
       "      <td>Wet or damp</td>\n",
       "      <td>Dual carriageway</td>\n",
       "      <td>Rural</td>\n",
       "      <td>Snowing no high winds</td>\n",
       "      <td>Car</td>\n",
       "    </tr>\n",
       "  </tbody>\n",
       "</table>\n",
       "<p>660679 rows × 14 columns</p>\n",
       "</div>"
      ],
      "text/plain": [
       "                Index Accident_Severity Accident_Date   Latitude  \\\n",
       "0       200701BS64157           Serious      5/6/2019  51.506187   \n",
       "1       200701BS65737           Serious      2/7/2019  51.495029   \n",
       "2       200701BS66127           Serious    26-08-2019  51.517715   \n",
       "3       200701BS66128           Serious    16-08-2019  51.495478   \n",
       "4       200701BS66837            Slight      3/9/2019  51.488576   \n",
       "...               ...               ...           ...        ...   \n",
       "660674  201091NM01760            Slight    18-02-2022  57.374005   \n",
       "660675  201091NM01881            Slight    21-02-2022  57.232273   \n",
       "660676  201091NM01935            Slight    23-02-2022  57.585044   \n",
       "660677  201091NM01964           Serious    23-02-2022  57.214898   \n",
       "660678  201091NM02142           Serious    28-02-2022  57.575210   \n",
       "\n",
       "                   Light_Conditions           District Area  Longitude  \\\n",
       "0             Darkness - lights lit  Kensington and Chelsea  -0.209082   \n",
       "1                          Daylight  Kensington and Chelsea  -0.173647   \n",
       "2       Darkness - lighting unknown  Kensington and Chelsea  -0.210215   \n",
       "3                          Daylight  Kensington and Chelsea  -0.202731   \n",
       "4             Darkness - lights lit  Kensington and Chelsea  -0.192487   \n",
       "...                             ...                     ...        ...   \n",
       "660674                     Daylight                Highland  -3.467828   \n",
       "660675       Darkness - no lighting                Highland  -3.809281   \n",
       "660676                     Daylight                Highland  -3.862727   \n",
       "660677       Darkness - no lighting                Highland  -3.823997   \n",
       "660678                     Daylight                Highland  -3.895673   \n",
       "\n",
       "        Number_of_Casualties  Number_of_Vehicles Road_Surface_Conditions  \\\n",
       "0                          1                   2                     Dry   \n",
       "1                          1                   2             Wet or damp   \n",
       "2                          1                   3                     Dry   \n",
       "3                          1                   4                     Dry   \n",
       "4                          1                   2                     Dry   \n",
       "...                      ...                 ...                     ...   \n",
       "660674                     2                   1                     Dry   \n",
       "660675                     1                   1            Frost or ice   \n",
       "660676                     1                   3            Frost or ice   \n",
       "660677                     1                   2             Wet or damp   \n",
       "660678                     1                   1             Wet or damp   \n",
       "\n",
       "                 Road_Type Urban_or_Rural_Area     Weather_Conditions  \\\n",
       "0       Single carriageway               Urban     Fine no high winds   \n",
       "1       Single carriageway               Urban  Raining no high winds   \n",
       "2                      NaN               Urban                    NaN   \n",
       "3       Single carriageway               Urban     Fine no high winds   \n",
       "4                      NaN               Urban                    NaN   \n",
       "...                    ...                 ...                    ...   \n",
       "660674  Single carriageway               Rural     Fine no high winds   \n",
       "660675  Single carriageway               Rural     Fine no high winds   \n",
       "660676  Single carriageway               Rural     Fine no high winds   \n",
       "660677  Single carriageway               Rural     Fine no high winds   \n",
       "660678    Dual carriageway               Rural  Snowing no high winds   \n",
       "\n",
       "                                Vehicle_Type  \n",
       "0                                        Car  \n",
       "1                                        Car  \n",
       "2                      Taxi/Private hire car  \n",
       "3       Bus or coach (17 or more pass seats)  \n",
       "4                              Other vehicle  \n",
       "...                                      ...  \n",
       "660674                                   Car  \n",
       "660675                                   Car  \n",
       "660676                                   Car  \n",
       "660677                 Motorcycle over 500cc  \n",
       "660678                                   Car  \n",
       "\n",
       "[660679 rows x 14 columns]"
      ]
     },
     "execution_count": 99,
     "metadata": {},
     "output_type": "execute_result"
    }
   ],
   "source": [
    "accident"
   ]
  },
  {
   "cell_type": "markdown",
   "id": "94a5c2e5-ab37-47ff-9d69-b3fde9b5022a",
   "metadata": {},
   "source": [
    "<h1>INFORMATION</h1>"
   ]
  },
  {
   "cell_type": "code",
   "execution_count": 100,
   "id": "94caa62c-c3d3-4e1c-b200-b60d59c335f3",
   "metadata": {},
   "outputs": [
    {
     "data": {
      "text/html": [
       "<div>\n",
       "<style scoped>\n",
       "    .dataframe tbody tr th:only-of-type {\n",
       "        vertical-align: middle;\n",
       "    }\n",
       "\n",
       "    .dataframe tbody tr th {\n",
       "        vertical-align: top;\n",
       "    }\n",
       "\n",
       "    .dataframe thead th {\n",
       "        text-align: right;\n",
       "    }\n",
       "</style>\n",
       "<table border=\"1\" class=\"dataframe\">\n",
       "  <thead>\n",
       "    <tr style=\"text-align: right;\">\n",
       "      <th></th>\n",
       "      <th>Latitude</th>\n",
       "      <th>Longitude</th>\n",
       "      <th>Number_of_Casualties</th>\n",
       "      <th>Number_of_Vehicles</th>\n",
       "    </tr>\n",
       "  </thead>\n",
       "  <tbody>\n",
       "    <tr>\n",
       "      <th>count</th>\n",
       "      <td>660654.000000</td>\n",
       "      <td>660653.000000</td>\n",
       "      <td>660679.000000</td>\n",
       "      <td>660679.000000</td>\n",
       "    </tr>\n",
       "    <tr>\n",
       "      <th>mean</th>\n",
       "      <td>52.553866</td>\n",
       "      <td>-1.431210</td>\n",
       "      <td>1.357040</td>\n",
       "      <td>1.831255</td>\n",
       "    </tr>\n",
       "    <tr>\n",
       "      <th>std</th>\n",
       "      <td>1.406922</td>\n",
       "      <td>1.383330</td>\n",
       "      <td>0.824847</td>\n",
       "      <td>0.715269</td>\n",
       "    </tr>\n",
       "    <tr>\n",
       "      <th>min</th>\n",
       "      <td>49.914430</td>\n",
       "      <td>-7.516225</td>\n",
       "      <td>1.000000</td>\n",
       "      <td>1.000000</td>\n",
       "    </tr>\n",
       "    <tr>\n",
       "      <th>25%</th>\n",
       "      <td>51.490690</td>\n",
       "      <td>-2.332291</td>\n",
       "      <td>1.000000</td>\n",
       "      <td>1.000000</td>\n",
       "    </tr>\n",
       "    <tr>\n",
       "      <th>50%</th>\n",
       "      <td>52.315641</td>\n",
       "      <td>-1.411667</td>\n",
       "      <td>1.000000</td>\n",
       "      <td>2.000000</td>\n",
       "    </tr>\n",
       "    <tr>\n",
       "      <th>75%</th>\n",
       "      <td>53.453452</td>\n",
       "      <td>-0.232869</td>\n",
       "      <td>1.000000</td>\n",
       "      <td>2.000000</td>\n",
       "    </tr>\n",
       "    <tr>\n",
       "      <th>max</th>\n",
       "      <td>60.757544</td>\n",
       "      <td>1.762010</td>\n",
       "      <td>68.000000</td>\n",
       "      <td>32.000000</td>\n",
       "    </tr>\n",
       "  </tbody>\n",
       "</table>\n",
       "</div>"
      ],
      "text/plain": [
       "            Latitude      Longitude  Number_of_Casualties  Number_of_Vehicles\n",
       "count  660654.000000  660653.000000         660679.000000       660679.000000\n",
       "mean       52.553866      -1.431210              1.357040            1.831255\n",
       "std         1.406922       1.383330              0.824847            0.715269\n",
       "min        49.914430      -7.516225              1.000000            1.000000\n",
       "25%        51.490690      -2.332291              1.000000            1.000000\n",
       "50%        52.315641      -1.411667              1.000000            2.000000\n",
       "75%        53.453452      -0.232869              1.000000            2.000000\n",
       "max        60.757544       1.762010             68.000000           32.000000"
      ]
     },
     "execution_count": 100,
     "metadata": {},
     "output_type": "execute_result"
    }
   ],
   "source": [
    "accident.describe()"
   ]
  },
  {
   "cell_type": "code",
   "execution_count": 101,
   "id": "59621628-9adc-4fd2-a256-197568790c32",
   "metadata": {},
   "outputs": [
    {
     "name": "stdout",
     "output_type": "stream",
     "text": [
      "<class 'pandas.core.frame.DataFrame'>\n",
      "RangeIndex: 660679 entries, 0 to 660678\n",
      "Data columns (total 14 columns):\n",
      " #   Column                   Non-Null Count   Dtype  \n",
      "---  ------                   --------------   -----  \n",
      " 0   Index                    660679 non-null  object \n",
      " 1   Accident_Severity        660679 non-null  object \n",
      " 2   Accident_Date            660679 non-null  object \n",
      " 3   Latitude                 660654 non-null  float64\n",
      " 4   Light_Conditions         660679 non-null  object \n",
      " 5   District Area            660679 non-null  object \n",
      " 6   Longitude                660653 non-null  float64\n",
      " 7   Number_of_Casualties     660679 non-null  int64  \n",
      " 8   Number_of_Vehicles       660679 non-null  int64  \n",
      " 9   Road_Surface_Conditions  659953 non-null  object \n",
      " 10  Road_Type                656159 non-null  object \n",
      " 11  Urban_or_Rural_Area      660664 non-null  object \n",
      " 12  Weather_Conditions       646551 non-null  object \n",
      " 13  Vehicle_Type             660679 non-null  object \n",
      "dtypes: float64(2), int64(2), object(10)\n",
      "memory usage: 70.6+ MB\n"
     ]
    }
   ],
   "source": [
    "accident.info()"
   ]
  },
  {
   "cell_type": "code",
   "execution_count": 102,
   "id": "54d9f155-9294-4d30-a06c-3b9fd60994e0",
   "metadata": {},
   "outputs": [
    {
     "data": {
      "text/plain": [
       "Index                       object\n",
       "Accident_Severity           object\n",
       "Accident_Date               object\n",
       "Latitude                   float64\n",
       "Light_Conditions            object\n",
       "District Area               object\n",
       "Longitude                  float64\n",
       "Number_of_Casualties         int64\n",
       "Number_of_Vehicles           int64\n",
       "Road_Surface_Conditions     object\n",
       "Road_Type                   object\n",
       "Urban_or_Rural_Area         object\n",
       "Weather_Conditions          object\n",
       "Vehicle_Type                object\n",
       "dtype: object"
      ]
     },
     "execution_count": 102,
     "metadata": {},
     "output_type": "execute_result"
    }
   ],
   "source": [
    "accident.dtypes"
   ]
  },
  {
   "cell_type": "markdown",
   "id": "a83714de-0b80-4ed6-912f-53c0b92a34e0",
   "metadata": {},
   "source": [
    "<h1>CONVERT COLUMNS TO ITS APPROPRIATE DATA TYPE</h1>"
   ]
  },
  {
   "cell_type": "code",
   "execution_count": 103,
   "id": "0e77a90e-7ea8-471d-9bbb-c3efcab2c6cf",
   "metadata": {},
   "outputs": [],
   "source": [
    "accident['Index'] = accident['Index'].astype('category')\n",
    "accident['Accident_Severity'] = accident['Accident_Severity'].astype('category')\n",
    "accident['Accident_Date'] = pd.to_datetime(accident['Accident_Date'], dayfirst = True, errors = 'coerce') \n",
    "accident['Light_Conditions'] = accident['Light_Conditions'].astype('category')\n",
    "accident['District Area'] = accident['District Area'].astype('category')\n",
    "accident['Road_Surface_Conditions'] = accident['Road_Surface_Conditions'].astype('category')\n",
    "accident['Road_Type'] = accident['Road_Type'].astype('category')\n",
    "accident['Urban_or_Rural_Area'] = accident['Urban_or_Rural_Area'].astype('category')\n",
    "accident['Weather_Conditions'] = accident['Weather_Conditions'].astype('category')\n",
    "accident['Vehicle_Type'] = accident['Vehicle_Type'].astype('category')"
   ]
  },
  {
   "cell_type": "markdown",
   "id": "1d05612e-5789-4480-9a35-5568af3ba36c",
   "metadata": {},
   "source": [
    "<h1>DETERMINING NULL VALUES AND FILLNG THEM</h1>"
   ]
  },
  {
   "cell_type": "markdown",
   "id": "b8c6c24d-9082-400b-b9c2-cfaa85cae9eb",
   "metadata": {},
   "source": [
    "<h4>DETERMING NULLS</h4>"
   ]
  },
  {
   "cell_type": "code",
   "execution_count": 104,
   "id": "65990b78-bd4b-4098-813c-cd88a480f1e8",
   "metadata": {},
   "outputs": [
    {
     "data": {
      "text/plain": [
       "Index                           0\n",
       "Accident_Severity               0\n",
       "Accident_Date              395672\n",
       "Latitude                       25\n",
       "Light_Conditions                0\n",
       "District Area                   0\n",
       "Longitude                      26\n",
       "Number_of_Casualties            0\n",
       "Number_of_Vehicles              0\n",
       "Road_Surface_Conditions       726\n",
       "Road_Type                    4520\n",
       "Urban_or_Rural_Area            15\n",
       "Weather_Conditions          14128\n",
       "Vehicle_Type                    0\n",
       "dtype: int64"
      ]
     },
     "execution_count": 104,
     "metadata": {},
     "output_type": "execute_result"
    }
   ],
   "source": [
    "accident.isnull().sum()"
   ]
  },
  {
   "cell_type": "code",
   "execution_count": 105,
   "id": "6d8a6677-cc05-4a7c-90ed-01c2adc8ca6d",
   "metadata": {},
   "outputs": [],
   "source": [
    "FreqDate = accident['Accident_Date'].mode()[0]\n",
    "AveLat = accident['Latitude'].mean()\n",
    "AveLot = accident['Longitude'].mean()\n",
    "FreqSurConditions = accident['Road_Surface_Conditions'].mode()[0]\n",
    "FreqgRoadType = accident['Road_Type'].mode()[0]\n",
    "FreqArea = accident['Urban_or_Rural_Area'].mode()[0]\n"
   ]
  },
  {
   "cell_type": "markdown",
   "id": "c2b4d018-1192-487e-9774-636d469ff029",
   "metadata": {},
   "source": [
    "<h4>FILLING NULLS</h4>"
   ]
  },
  {
   "cell_type": "code",
   "execution_count": 106,
   "id": "ef88c280-5973-48d8-9448-4cbd8836d0fc",
   "metadata": {},
   "outputs": [],
   "source": [
    "accident['Accident_Date'] = accident['Accident_Date'].fillna(FreqDate)\n",
    "accident['Latitude'] = accident['Latitude'].fillna(AveLat)\n",
    "accident['Longitude'] = accident['Longitude'].fillna(AveLot)\n",
    "accident['Road_Surface_Conditions'] = accident['Road_Surface_Conditions'].fillna(FreqSurConditions)\n",
    "accident['Road_Type'] = accident['Road_Type'].fillna(FreqgRoadType)\n",
    "accident['Urban_or_Rural_Area'] = accident['Urban_or_Rural_Area'].fillna(FreqArea)\n"
   ]
  },
  {
   "cell_type": "markdown",
   "id": "1d1beb1c-23f1-46b7-8dea-6c5864f9052b",
   "metadata": {},
   "source": [
    "<h4>LAST CHECKUP</h4>"
   ]
  },
  {
   "cell_type": "code",
   "execution_count": 107,
   "id": "956c6212-b538-4af6-bcee-2541f2514fb3",
   "metadata": {},
   "outputs": [
    {
     "data": {
      "text/plain": [
       "Index                          0\n",
       "Accident_Severity              0\n",
       "Accident_Date                  0\n",
       "Latitude                       0\n",
       "Light_Conditions               0\n",
       "District Area                  0\n",
       "Longitude                      0\n",
       "Number_of_Casualties           0\n",
       "Number_of_Vehicles             0\n",
       "Road_Surface_Conditions        0\n",
       "Road_Type                      0\n",
       "Urban_or_Rural_Area            0\n",
       "Weather_Conditions         14128\n",
       "Vehicle_Type                   0\n",
       "dtype: int64"
      ]
     },
     "execution_count": 107,
     "metadata": {},
     "output_type": "execute_result"
    }
   ],
   "source": [
    "accident.isnull().sum()"
   ]
  },
  {
   "cell_type": "code",
   "execution_count": 108,
   "id": "101623c6-541c-4998-af0b-dab30df40b29",
   "metadata": {},
   "outputs": [
    {
     "name": "stdout",
     "output_type": "stream",
     "text": [
      "<class 'pandas.core.frame.DataFrame'>\n",
      "RangeIndex: 660679 entries, 0 to 660678\n",
      "Data columns (total 14 columns):\n",
      " #   Column                   Non-Null Count   Dtype         \n",
      "---  ------                   --------------   -----         \n",
      " 0   Index                    660679 non-null  category      \n",
      " 1   Accident_Severity        660679 non-null  category      \n",
      " 2   Accident_Date            660679 non-null  datetime64[ns]\n",
      " 3   Latitude                 660679 non-null  float64       \n",
      " 4   Light_Conditions         660679 non-null  category      \n",
      " 5   District Area            660679 non-null  category      \n",
      " 6   Longitude                660679 non-null  float64       \n",
      " 7   Number_of_Casualties     660679 non-null  int64         \n",
      " 8   Number_of_Vehicles       660679 non-null  int64         \n",
      " 9   Road_Surface_Conditions  660679 non-null  category      \n",
      " 10  Road_Type                660679 non-null  category      \n",
      " 11  Urban_or_Rural_Area      660679 non-null  category      \n",
      " 12  Weather_Conditions       646551 non-null  category      \n",
      " 13  Vehicle_Type             660679 non-null  category      \n",
      "dtypes: category(9), datetime64[ns](1), float64(2), int64(2)\n",
      "memory usage: 52.8 MB\n"
     ]
    }
   ],
   "source": [
    "accident.info()"
   ]
  },
  {
   "cell_type": "code",
   "execution_count": 109,
   "id": "5cbb3858-895f-4e06-93b3-41de21619e67",
   "metadata": {},
   "outputs": [],
   "source": [
    "accident['Year'] = accident['Accident_Date'].dt.year\n",
    "accident['dayOfWeek'] = accident['Accident_Date'].dt.dayofweek\n",
    "accident['Month'] = accident['Accident_Date'].dt.month\n",
    "\n",
    "# accident['Year']  = accident['Year'].astype('category')\n",
    "# accident['dayOfWeek'] = accident['dayOfWeek'].astype('category')\n",
    "# accident['Month'] = accident['Month'].astype('category')"
   ]
  },
  {
   "cell_type": "code",
   "execution_count": 110,
   "id": "8d2993b3-c051-4784-a51e-2c67b477a988",
   "metadata": {},
   "outputs": [
    {
     "name": "stdout",
     "output_type": "stream",
     "text": [
      "<class 'pandas.core.frame.DataFrame'>\n",
      "RangeIndex: 660679 entries, 0 to 660678\n",
      "Data columns (total 17 columns):\n",
      " #   Column                   Non-Null Count   Dtype         \n",
      "---  ------                   --------------   -----         \n",
      " 0   Index                    660679 non-null  category      \n",
      " 1   Accident_Severity        660679 non-null  category      \n",
      " 2   Accident_Date            660679 non-null  datetime64[ns]\n",
      " 3   Latitude                 660679 non-null  float64       \n",
      " 4   Light_Conditions         660679 non-null  category      \n",
      " 5   District Area            660679 non-null  category      \n",
      " 6   Longitude                660679 non-null  float64       \n",
      " 7   Number_of_Casualties     660679 non-null  int64         \n",
      " 8   Number_of_Vehicles       660679 non-null  int64         \n",
      " 9   Road_Surface_Conditions  660679 non-null  category      \n",
      " 10  Road_Type                660679 non-null  category      \n",
      " 11  Urban_or_Rural_Area      660679 non-null  category      \n",
      " 12  Weather_Conditions       646551 non-null  category      \n",
      " 13  Vehicle_Type             660679 non-null  category      \n",
      " 14  Year                     660679 non-null  int32         \n",
      " 15  dayOfWeek                660679 non-null  int32         \n",
      " 16  Month                    660679 non-null  int32         \n",
      "dtypes: category(9), datetime64[ns](1), float64(2), int32(3), int64(2)\n",
      "memory usage: 60.3 MB\n"
     ]
    }
   ],
   "source": [
    "accident.info()"
   ]
  },
  {
   "cell_type": "markdown",
   "id": "eb01dad8-7312-409e-8bec-6db20d5baf40",
   "metadata": {},
   "source": [
    "<h1>DATA ANALYTICS</h1>\n",
    "<h2>UniVariate</h2>\n",
    "<h3>Vehicle's type that is frequently on accident</h3>\n",
    "<h4>Vehicle Type</h4>\n",
    "<hr>"
   ]
  },
  {
   "cell_type": "code",
   "execution_count": 111,
   "id": "2f29e1b3-de72-4784-a8cc-45356c431bec",
   "metadata": {},
   "outputs": [
    {
     "data": {
      "text/plain": [
       "Vehicle_Type\n",
       "Car                                      497992\n",
       "Van / Goods 3.5 tonnes mgw or under       34160\n",
       "Bus or coach (17 or more pass seats)      25878\n",
       "Motorcycle over 500cc                     25657\n",
       "Goods 7.5 tonnes mgw and over             17307\n",
       "Motorcycle 125cc and under                15269\n",
       "Taxi/Private hire car                     13294\n",
       "Motorcycle over 125cc and up to 500cc      7656\n",
       "Motorcycle 50cc and under                  7603\n",
       "Goods over 3.5t. and under 7.5t            6096\n",
       "Other vehicle                              5637\n",
       "Minibus (8 - 16 passenger seats)           1976\n",
       "Agricultural vehicle                       1947\n",
       "Pedal cycle                                 197\n",
       "Data missing or out of range                  6\n",
       "Ridden horse                                  4\n",
       "Name: count, dtype: int64"
      ]
     },
     "execution_count": 111,
     "metadata": {},
     "output_type": "execute_result"
    }
   ],
   "source": [
    "types = accident['Vehicle_Type'].value_counts()\n",
    "types"
   ]
  },
  {
   "cell_type": "markdown",
   "id": "1c945ffc-0f86-4d1b-a09d-e2faa3db76b5",
   "metadata": {},
   "source": [
    "<h1>INSIGHT #1</h1>\n",
    "<h2>Car is the most frequent type of vehicle involved in an accidents</h2>"
   ]
  },
  {
   "cell_type": "markdown",
   "id": "80acafed-bac3-44a9-9098-ae28578224c5",
   "metadata": {},
   "source": [
    "<h3>Road's Type that has the most accidents</h3>"
   ]
  },
  {
   "cell_type": "code",
   "execution_count": 112,
   "id": "1ee1520f-7e97-415c-8744-a0281cea46dc",
   "metadata": {},
   "outputs": [],
   "source": [
    "roadAccidents = accident['Road_Type'].value_counts()"
   ]
  },
  {
   "cell_type": "code",
   "execution_count": 113,
   "id": "afacb037-218f-4845-84d5-72154239ee2d",
   "metadata": {},
   "outputs": [
    {
     "data": {
      "text/plain": [
       "Road_Type\n",
       "Single carriageway    496663\n",
       "Dual carriageway       99424\n",
       "Roundabout             43992\n",
       "One way street         13559\n",
       "Slip road               7041\n",
       "Name: count, dtype: int64"
      ]
     },
     "execution_count": 113,
     "metadata": {},
     "output_type": "execute_result"
    }
   ],
   "source": [
    "roadAccidents"
   ]
  },
  {
   "cell_type": "markdown",
   "id": "267a757a-deca-4a3e-a963-c2b237721214",
   "metadata": {},
   "source": [
    "<p>A single carriageway is a road with one or more lanes for traffic traveling in each direction, with no physical separation between the two directions</p>"
   ]
  },
  {
   "cell_type": "markdown",
   "id": "8bad97f3-616a-42c8-9019-81d1f9689cc7",
   "metadata": {},
   "source": [
    "<h1>INSIGHT #2</h1>\n",
    "<h2>Single Carriageway road has the most recorded accidents in UK</h2>\n",
    "<h1>INSIGHT #3</h1>\n",
    "<h2>According to one way street, there are 2.05% Rear-End Collisions accident</h2>"
   ]
  },
  {
   "cell_type": "code",
   "execution_count": 114,
   "id": "d772d358-d2c4-470f-b3ed-c3eb6927cd23",
   "metadata": {},
   "outputs": [],
   "source": [
    "po = accident[accident['Road_Type'] == 'Single carriageway']"
   ]
  },
  {
   "cell_type": "code",
   "execution_count": 115,
   "id": "9b233dc3-fe6d-49e2-952c-d1bcae1f0b66",
   "metadata": {},
   "outputs": [
    {
     "data": {
      "text/plain": [
       "Accident_Severity\n",
       "Slight     419563\n",
       "Serious     70540\n",
       "Fatal        6560\n",
       "Name: count, dtype: int64"
      ]
     },
     "execution_count": 115,
     "metadata": {},
     "output_type": "execute_result"
    }
   ],
   "source": [
    "po['Accident_Severity'].value_counts()"
   ]
  },
  {
   "cell_type": "code",
   "execution_count": 116,
   "id": "e9e35ea3-32e2-4a29-a991-520b485a8fc9",
   "metadata": {},
   "outputs": [
    {
     "data": {
      "text/plain": [
       "Accident_Severity\n",
       "Slight     563801\n",
       "Serious     88217\n",
       "Fatal        8661\n",
       "Name: count, dtype: int64"
      ]
     },
     "execution_count": 116,
     "metadata": {},
     "output_type": "execute_result"
    }
   ],
   "source": [
    "accident['Accident_Severity'].value_counts()"
   ]
  },
  {
   "cell_type": "code",
   "execution_count": 117,
   "id": "df17c086-54f0-46d9-9244-69a8ec4861dd",
   "metadata": {},
   "outputs": [
    {
     "data": {
      "text/plain": [
       "1.3109240644851736"
      ]
     },
     "execution_count": 117,
     "metadata": {},
     "output_type": "execute_result"
    }
   ],
   "source": [
    "(8661 / 660679) * 100"
   ]
  },
  {
   "cell_type": "markdown",
   "id": "07fe756e-1441-48be-a5e9-d9179558db62",
   "metadata": {},
   "source": [
    "<h3>Percentile Distribution of accident severity category</h3>"
   ]
  },
  {
   "cell_type": "code",
   "execution_count": 118,
   "id": "e1984409-ac26-4063-9eb0-4dc1db3090b3",
   "metadata": {},
   "outputs": [],
   "source": [
    "allAccidents = accident['Accident_Severity'].value_counts()"
   ]
  },
  {
   "cell_type": "code",
   "execution_count": 119,
   "id": "5d4b34db-dd38-4fae-994b-f2c7e1283717",
   "metadata": {},
   "outputs": [
    {
     "data": {
      "text/plain": [
       "Accident_Severity\n",
       "Slight     563801\n",
       "Serious     88217\n",
       "Fatal        8661\n",
       "Name: count, dtype: int64"
      ]
     },
     "execution_count": 119,
     "metadata": {},
     "output_type": "execute_result"
    }
   ],
   "source": [
    "allAccidents"
   ]
  },
  {
   "cell_type": "markdown",
   "id": "3110bdcd-78be-4602-b42a-afc9a3f29c11",
   "metadata": {},
   "source": [
    "<h1>INSIGHT #4</h1>\n",
    "<h2>Only 1.31% of 660,607 accidents took a life and 85.3% of recorded accidents only caused a slight severity</h2>"
   ]
  },
  {
   "cell_type": "markdown",
   "id": "f365350d-59dd-475f-9e99-0718c88c3094",
   "metadata": {},
   "source": [
    "<h3>Annual Accidents</h3>"
   ]
  },
  {
   "cell_type": "code",
   "execution_count": 120,
   "id": "8d2b26a4-902c-4af4-9604-12532b442df6",
   "metadata": {},
   "outputs": [
    {
     "data": {
      "text/plain": [
       "Year\n",
       "2021    461844\n",
       "2019     71867\n",
       "2020     70163\n",
       "2022     56805\n",
       "Name: count, dtype: int64"
      ]
     },
     "execution_count": 120,
     "metadata": {},
     "output_type": "execute_result"
    }
   ],
   "source": [
    "accident['Year'].value_counts()"
   ]
  },
  {
   "cell_type": "markdown",
   "id": "53753f8c-653c-4fe0-ac93-ff2c23239c50",
   "metadata": {},
   "source": [
    "<h1>INSIGHT #5</h1>\n",
    "<h2>The average annual accidents rised to 59% in 2021 and dropped by approximiately 61% by 2022</h2>"
   ]
  },
  {
   "cell_type": "code",
   "execution_count": 121,
   "id": "7c73e7a3-02f2-4b1f-8fb5-42b814f60165",
   "metadata": {},
   "outputs": [
    {
     "data": {
      "text/plain": [
       "'Birmingham'"
      ]
     },
     "execution_count": 121,
     "metadata": {},
     "output_type": "execute_result"
    }
   ],
   "source": [
    "accident['District Area'].mode()[0]"
   ]
  },
  {
   "cell_type": "code",
   "execution_count": 122,
   "id": "0da24f3d-04b7-48d1-b072-8c55a0843463",
   "metadata": {},
   "outputs": [],
   "source": [
    "BirminghamAccidents = accident[accident['District Area'] == 'Birmingham']"
   ]
  },
  {
   "cell_type": "code",
   "execution_count": 123,
   "id": "1664dc86-dbd4-4a9d-afc4-e91a6b142d42",
   "metadata": {},
   "outputs": [
    {
     "data": {
      "text/plain": [
       "Year\n",
       "2021    9354\n",
       "2019    1554\n",
       "2020    1438\n",
       "2022    1145\n",
       "Name: count, dtype: int64"
      ]
     },
     "execution_count": 123,
     "metadata": {},
     "output_type": "execute_result"
    }
   ],
   "source": [
    "BirminghamAccidents['Year'].value_counts()"
   ]
  },
  {
   "cell_type": "code",
   "execution_count": 124,
   "id": "6f8994ea-dfc3-4dcc-87f5-d04b1e2eecc2",
   "metadata": {},
   "outputs": [
    {
     "data": {
      "text/plain": [
       "Accident_Severity\n",
       "Slight     11912\n",
       "Serious     1474\n",
       "Fatal        105\n",
       "Name: count, dtype: int64"
      ]
     },
     "execution_count": 124,
     "metadata": {},
     "output_type": "execute_result"
    }
   ],
   "source": [
    "BirminghamAccidents['Accident_Severity'].value_counts()"
   ]
  },
  {
   "cell_type": "markdown",
   "id": "578e1ddc-763a-49a7-b901-ce22b3d8d10e",
   "metadata": {},
   "source": [
    "<h1>INSIGHT #6</h1>\n",
    "<h2>Birmingham district area has the most recorded accidents but only 0.7% were fatal</h2>"
   ]
  },
  {
   "cell_type": "code",
   "execution_count": 125,
   "id": "f7a12bc4-fa42-4044-b101-867feac3e73d",
   "metadata": {},
   "outputs": [
    {
     "data": {
      "text/plain": [
       "68"
      ]
     },
     "execution_count": 125,
     "metadata": {},
     "output_type": "execute_result"
    }
   ],
   "source": [
    "accident['Number_of_Casualties'].max()"
   ]
  },
  {
   "cell_type": "code",
   "execution_count": 126,
   "id": "9b734386-e63e-4eca-a468-8ac2cea77ba8",
   "metadata": {
    "scrolled": true
   },
   "outputs": [
    {
     "data": {
      "text/html": [
       "<div>\n",
       "<style scoped>\n",
       "    .dataframe tbody tr th:only-of-type {\n",
       "        vertical-align: middle;\n",
       "    }\n",
       "\n",
       "    .dataframe tbody tr th {\n",
       "        vertical-align: top;\n",
       "    }\n",
       "\n",
       "    .dataframe thead th {\n",
       "        text-align: right;\n",
       "    }\n",
       "</style>\n",
       "<table border=\"1\" class=\"dataframe\">\n",
       "  <thead>\n",
       "    <tr style=\"text-align: right;\">\n",
       "      <th></th>\n",
       "      <th>Index</th>\n",
       "      <th>Accident_Severity</th>\n",
       "      <th>Accident_Date</th>\n",
       "      <th>Latitude</th>\n",
       "      <th>Light_Conditions</th>\n",
       "      <th>District Area</th>\n",
       "      <th>Longitude</th>\n",
       "      <th>Number_of_Casualties</th>\n",
       "      <th>Number_of_Vehicles</th>\n",
       "      <th>Road_Surface_Conditions</th>\n",
       "      <th>Road_Type</th>\n",
       "      <th>Urban_or_Rural_Area</th>\n",
       "      <th>Weather_Conditions</th>\n",
       "      <th>Vehicle_Type</th>\n",
       "      <th>Year</th>\n",
       "      <th>dayOfWeek</th>\n",
       "      <th>Month</th>\n",
       "    </tr>\n",
       "  </thead>\n",
       "  <tbody>\n",
       "    <tr>\n",
       "      <th>117980</th>\n",
       "      <td>200743N002017</td>\n",
       "      <td>Fatal</td>\n",
       "      <td>2019-01-03</td>\n",
       "      <td>51.497547</td>\n",
       "      <td>Darkness - lights lit</td>\n",
       "      <td>South Bucks</td>\n",
       "      <td>-0.496697</td>\n",
       "      <td>68</td>\n",
       "      <td>1</td>\n",
       "      <td>Wet or damp</td>\n",
       "      <td>Slip road</td>\n",
       "      <td>Rural</td>\n",
       "      <td>Raining no high winds</td>\n",
       "      <td>Car</td>\n",
       "      <td>2019</td>\n",
       "      <td>3</td>\n",
       "      <td>1</td>\n",
       "    </tr>\n",
       "  </tbody>\n",
       "</table>\n",
       "</div>"
      ],
      "text/plain": [
       "                Index Accident_Severity Accident_Date   Latitude  \\\n",
       "117980  200743N002017             Fatal    2019-01-03  51.497547   \n",
       "\n",
       "             Light_Conditions District Area  Longitude  Number_of_Casualties  \\\n",
       "117980  Darkness - lights lit   South Bucks  -0.496697                    68   \n",
       "\n",
       "        Number_of_Vehicles Road_Surface_Conditions  Road_Type  \\\n",
       "117980                   1             Wet or damp  Slip road   \n",
       "\n",
       "       Urban_or_Rural_Area     Weather_Conditions Vehicle_Type  Year  \\\n",
       "117980               Rural  Raining no high winds          Car  2019   \n",
       "\n",
       "        dayOfWeek  Month  \n",
       "117980          3      1  "
      ]
     },
     "execution_count": 126,
     "metadata": {},
     "output_type": "execute_result"
    }
   ],
   "source": [
    "accident[accident['Number_of_Casualties'] == accident['Number_of_Casualties'].max()]"
   ]
  },
  {
   "cell_type": "markdown",
   "id": "2c124838-d18b-44a2-957e-af1dd943c3be",
   "metadata": {},
   "source": [
    "<h1>INSIGHT #7</h1>\n",
    "<h2>In the Night time of January 2019, the highest recorded number of casualties is in South Bucks Area, with the number of casualties of 68</h2>"
   ]
  },
  {
   "cell_type": "code",
   "execution_count": 127,
   "id": "a8391704-7223-4f92-9d80-e0bb986778aa",
   "metadata": {},
   "outputs": [],
   "source": [
    "averageCasualties = np.round(accident['Number_of_Casualties'].mean(), 0)"
   ]
  },
  {
   "cell_type": "code",
   "execution_count": 128,
   "id": "f54e8b9f-4931-4cd3-97dc-031fbd668cec",
   "metadata": {},
   "outputs": [
    {
     "data": {
      "text/plain": [
       "1.0"
      ]
     },
     "execution_count": 128,
     "metadata": {},
     "output_type": "execute_result"
    }
   ],
   "source": [
    "averageCasualties"
   ]
  },
  {
   "cell_type": "markdown",
   "id": "b2352aaf-3edd-4686-bd24-a71fac2bbcf0",
   "metadata": {},
   "source": [
    "<h1>INSIGHT #8</h1>\n",
    "<h2>The average number of casualties is 1</h2>"
   ]
  },
  {
   "cell_type": "code",
   "execution_count": 129,
   "id": "2a26c680-532b-44bc-9864-a0315f51425e",
   "metadata": {},
   "outputs": [
    {
     "data": {
      "text/plain": [
       "2.0"
      ]
     },
     "execution_count": 129,
     "metadata": {},
     "output_type": "execute_result"
    }
   ],
   "source": [
    "averageVehicleInvolved = np.round(accident['Number_of_Vehicles'].mean(), 0)\n",
    "averageVehicleInvolved"
   ]
  },
  {
   "cell_type": "markdown",
   "id": "13b059f0-2adb-49bc-9f15-8e33017f8d4d",
   "metadata": {},
   "source": [
    "<h1>INSIGHT #9</h1>\n",
    "<h2>The average number of vehicles involved are 2</h2>"
   ]
  },
  {
   "cell_type": "code",
   "execution_count": 130,
   "id": "5266132a-291e-4175-8fe6-1fbd558f638e",
   "metadata": {},
   "outputs": [
    {
     "name": "stderr",
     "output_type": "stream",
     "text": [
      "C:\\Users\\PC\\AppData\\Local\\Temp\\ipykernel_4648\\291871886.py:1: FutureWarning: Series.__getitem__ treating keys as positions is deprecated. In a future version, integer keys will always be treated as labels (consistent with DataFrame behavior). To access a value by position, use `ser.iloc[pos]`\n",
      "  accident[accident['Number_of_Vehicles'] == 1].count()[0]\n"
     ]
    },
    {
     "data": {
      "text/plain": [
       "200787"
      ]
     },
     "execution_count": 130,
     "metadata": {},
     "output_type": "execute_result"
    }
   ],
   "source": [
    "accident[accident['Number_of_Vehicles'] == 1].count()[0]"
   ]
  },
  {
   "cell_type": "markdown",
   "id": "b5804e60-c35b-4391-853c-295717757bc8",
   "metadata": {},
   "source": [
    "<h1>INSIGHT #10</h1>\n",
    "<h2>About 30% of accidents, only one vehicles are involved, this 30% may mean human-errors or environment factors </h2>"
   ]
  },
  {
   "cell_type": "markdown",
   "id": "57fbab7c-597d-4530-84a0-461a5b2cc5fa",
   "metadata": {},
   "source": [
    "<h1>BiVariate</h1>"
   ]
  },
  {
   "cell_type": "markdown",
   "id": "876068a2-7950-4491-a676-06ad86f4d665",
   "metadata": {},
   "source": [
    "<h3>CASUALTIES = VEHICLES INVOLVED</h3>"
   ]
  },
  {
   "cell_type": "code",
   "execution_count": 131,
   "id": "bd6fcf95-b997-4143-8f2e-a888d8d78ed1",
   "metadata": {},
   "outputs": [],
   "source": [
    "NumCasVec = accident['Number_of_Casualties'].corr(accident['Number_of_Vehicles'])"
   ]
  },
  {
   "cell_type": "code",
   "execution_count": 132,
   "id": "24f042d2-4c35-4b71-a3e5-2144bc741de5",
   "metadata": {},
   "outputs": [
    {
     "data": {
      "text/plain": [
       "0.2288888612692756"
      ]
     },
     "execution_count": 132,
     "metadata": {},
     "output_type": "execute_result"
    }
   ],
   "source": [
    "NumCasVec"
   ]
  },
  {
   "cell_type": "markdown",
   "id": "dc21d185-ddf9-4956-b3ad-61810271bbfd",
   "metadata": {},
   "source": [
    "<h1>INSIGHT #11</h1>\n",
    "<h2>The p-value is less than 0.5, therefore, the Number of Vehicles does not necesarrily cause more casualties</h2>"
   ]
  },
  {
   "cell_type": "code",
   "execution_count": 133,
   "id": "70835be9-c9df-4235-889c-144f462b1d80",
   "metadata": {},
   "outputs": [
    {
     "name": "stderr",
     "output_type": "stream",
     "text": [
      "C:\\Users\\PC\\AppData\\Local\\Temp\\ipykernel_4648\\1879934753.py:1: FutureWarning: The default of observed=False is deprecated and will be changed to True in a future version of pandas. Pass observed=False to retain current behavior or observed=True to adopt the future default and silence this warning.\n",
      "  seveCasualties = accident.groupby(['Light_Conditions'])['Number_of_Vehicles'].sum()\n"
     ]
    }
   ],
   "source": [
    "seveCasualties = accident.groupby(['Light_Conditions'])['Number_of_Vehicles'].sum()"
   ]
  },
  {
   "cell_type": "code",
   "execution_count": 134,
   "id": "9759761d-9930-4e65-ae63-69ef5ece299f",
   "metadata": {},
   "outputs": [
    {
     "data": {
      "text/plain": [
       "Light_Conditions\n",
       "Darkness - lighting unknown     11402\n",
       "Darkness - lights lit          229634\n",
       "Darkness - lights unlit          4457\n",
       "Darkness - no lighting          59891\n",
       "Daylight                       904488\n",
       "Name: Number_of_Vehicles, dtype: int64"
      ]
     },
     "execution_count": 134,
     "metadata": {},
     "output_type": "execute_result"
    }
   ],
   "source": [
    "seveCasualties"
   ]
  },
  {
   "cell_type": "markdown",
   "id": "91baf1d7-0e9e-470f-85d6-fe135e857251",
   "metadata": {},
   "source": [
    "<h1>INSIGHT #12</h1>\n",
    "<h2>Contrary to the beliefs, Daylight accidents is more prominient compared to night accidents</h2>"
   ]
  },
  {
   "cell_type": "code",
   "execution_count": 135,
   "id": "82a9370e-e639-4b1c-8e4d-086ff3d8d20c",
   "metadata": {},
   "outputs": [
    {
     "name": "stderr",
     "output_type": "stream",
     "text": [
      "C:\\Users\\PC\\AppData\\Local\\Temp\\ipykernel_4648\\4061803513.py:1: FutureWarning: The default of observed=False is deprecated and will be changed to True in a future version of pandas. Pass observed=False to retain current behavior or observed=True to adopt the future default and silence this warning.\n",
      "  roadSeverity = accident.groupby(['Accident_Severity', 'Road_Type']).size().unstack()\n"
     ]
    },
    {
     "data": {
      "text/html": [
       "<div>\n",
       "<style scoped>\n",
       "    .dataframe tbody tr th:only-of-type {\n",
       "        vertical-align: middle;\n",
       "    }\n",
       "\n",
       "    .dataframe tbody tr th {\n",
       "        vertical-align: top;\n",
       "    }\n",
       "\n",
       "    .dataframe thead th {\n",
       "        text-align: right;\n",
       "    }\n",
       "</style>\n",
       "<table border=\"1\" class=\"dataframe\">\n",
       "  <thead>\n",
       "    <tr style=\"text-align: right;\">\n",
       "      <th>Road_Type</th>\n",
       "      <th>Dual carriageway</th>\n",
       "      <th>One way street</th>\n",
       "      <th>Roundabout</th>\n",
       "      <th>Single carriageway</th>\n",
       "      <th>Slip road</th>\n",
       "    </tr>\n",
       "    <tr>\n",
       "      <th>Accident_Severity</th>\n",
       "      <th></th>\n",
       "      <th></th>\n",
       "      <th></th>\n",
       "      <th></th>\n",
       "      <th></th>\n",
       "    </tr>\n",
       "  </thead>\n",
       "  <tbody>\n",
       "    <tr>\n",
       "      <th>Fatal</th>\n",
       "      <td>1815</td>\n",
       "      <td>95</td>\n",
       "      <td>142</td>\n",
       "      <td>6560</td>\n",
       "      <td>49</td>\n",
       "    </tr>\n",
       "    <tr>\n",
       "      <th>Serious</th>\n",
       "      <td>11746</td>\n",
       "      <td>1655</td>\n",
       "      <td>3665</td>\n",
       "      <td>70540</td>\n",
       "      <td>611</td>\n",
       "    </tr>\n",
       "    <tr>\n",
       "      <th>Slight</th>\n",
       "      <td>85863</td>\n",
       "      <td>11809</td>\n",
       "      <td>40185</td>\n",
       "      <td>419563</td>\n",
       "      <td>6381</td>\n",
       "    </tr>\n",
       "  </tbody>\n",
       "</table>\n",
       "</div>"
      ],
      "text/plain": [
       "Road_Type          Dual carriageway  One way street  Roundabout  \\\n",
       "Accident_Severity                                                 \n",
       "Fatal                          1815              95         142   \n",
       "Serious                       11746            1655        3665   \n",
       "Slight                        85863           11809       40185   \n",
       "\n",
       "Road_Type          Single carriageway  Slip road  \n",
       "Accident_Severity                                 \n",
       "Fatal                            6560         49  \n",
       "Serious                         70540        611  \n",
       "Slight                         419563       6381  "
      ]
     },
     "execution_count": 135,
     "metadata": {},
     "output_type": "execute_result"
    }
   ],
   "source": [
    "roadSeverity = accident.groupby(['Accident_Severity', 'Road_Type']).size().unstack()\n",
    "roadSeverity"
   ]
  },
  {
   "cell_type": "markdown",
   "id": "6543fbba-b3aa-434a-a8de-c5e68ac66a9e",
   "metadata": {},
   "source": [
    "<h1>INSIGHT #13</h1>\n",
    "<h2>Single carriageway has the most recorded accidents according to insight #2, but only 1.3% of it were fatal</h2>"
   ]
  },
  {
   "cell_type": "code",
   "execution_count": 136,
   "id": "bd776016-c69f-4394-bfe8-5c28d8e61169",
   "metadata": {},
   "outputs": [
    {
     "name": "stderr",
     "output_type": "stream",
     "text": [
      "C:\\Users\\PC\\AppData\\Local\\Temp\\ipykernel_4648\\1884335753.py:1: FutureWarning: The default of observed=False is deprecated and will be changed to True in a future version of pandas. Pass observed=False to retain current behavior or observed=True to adopt the future default and silence this warning.\n",
      "  accident.groupby(['Accident_Severity','Year']).size().unstack()\n"
     ]
    },
    {
     "data": {
      "text/html": [
       "<div>\n",
       "<style scoped>\n",
       "    .dataframe tbody tr th:only-of-type {\n",
       "        vertical-align: middle;\n",
       "    }\n",
       "\n",
       "    .dataframe tbody tr th {\n",
       "        vertical-align: top;\n",
       "    }\n",
       "\n",
       "    .dataframe thead th {\n",
       "        text-align: right;\n",
       "    }\n",
       "</style>\n",
       "<table border=\"1\" class=\"dataframe\">\n",
       "  <thead>\n",
       "    <tr style=\"text-align: right;\">\n",
       "      <th>Year</th>\n",
       "      <th>2019</th>\n",
       "      <th>2020</th>\n",
       "      <th>2021</th>\n",
       "      <th>2022</th>\n",
       "    </tr>\n",
       "    <tr>\n",
       "      <th>Accident_Severity</th>\n",
       "      <th></th>\n",
       "      <th></th>\n",
       "      <th></th>\n",
       "      <th></th>\n",
       "    </tr>\n",
       "  </thead>\n",
       "  <tbody>\n",
       "    <tr>\n",
       "      <th>Fatal</th>\n",
       "      <td>1116</td>\n",
       "      <td>942</td>\n",
       "      <td>5980</td>\n",
       "      <td>623</td>\n",
       "    </tr>\n",
       "    <tr>\n",
       "      <th>Serious</th>\n",
       "      <td>9823</td>\n",
       "      <td>9346</td>\n",
       "      <td>61782</td>\n",
       "      <td>7266</td>\n",
       "    </tr>\n",
       "    <tr>\n",
       "      <th>Slight</th>\n",
       "      <td>60928</td>\n",
       "      <td>59875</td>\n",
       "      <td>394082</td>\n",
       "      <td>48916</td>\n",
       "    </tr>\n",
       "  </tbody>\n",
       "</table>\n",
       "</div>"
      ],
      "text/plain": [
       "Year                2019   2020    2021   2022\n",
       "Accident_Severity                             \n",
       "Fatal               1116    942    5980    623\n",
       "Serious             9823   9346   61782   7266\n",
       "Slight             60928  59875  394082  48916"
      ]
     },
     "execution_count": 136,
     "metadata": {},
     "output_type": "execute_result"
    }
   ],
   "source": [
    "accident.groupby(['Accident_Severity','Year']).size().unstack()"
   ]
  },
  {
   "cell_type": "markdown",
   "id": "8758710a-70cf-4abf-94ba-71bf4492c12c",
   "metadata": {},
   "source": [
    "<h1>INSIGHT #14</h1>\n",
    "<h2>The year of 2019 has the highest fatality rate of 1.5% compared to other </h2>\n",
    "<p>2020 has 1.3%, 2021 has 1.2% and lastly, 2022 has 1.1% fatality rate</p>"
   ]
  },
  {
   "cell_type": "code",
   "execution_count": 137,
   "id": "5636e8a8-a738-4385-a7b0-61991f247f93",
   "metadata": {},
   "outputs": [],
   "source": [
    "winterAccidents = accident[(accident['Month'] >= 12) | (accident['Month'] <= 2)]\n",
    "springAccidents = accident[(accident['Month'] >= 3) | (accident['Month'] <= 5)]\n",
    "summerAccidents = accident[(accident['Month'] >= 6) | (accident['Month'] <= 8)]\n",
    "autumnAccidents = accident[(accident['Month'] >= 9) | (accident['Month'] <= 11)]\n"
   ]
  },
  {
   "cell_type": "code",
   "execution_count": 138,
   "id": "34bcf53d-71ee-433a-8649-019c84c770b1",
   "metadata": {},
   "outputs": [
    {
     "data": {
      "text/html": [
       "<div>\n",
       "<style scoped>\n",
       "    .dataframe tbody tr th:only-of-type {\n",
       "        vertical-align: middle;\n",
       "    }\n",
       "\n",
       "    .dataframe tbody tr th {\n",
       "        vertical-align: top;\n",
       "    }\n",
       "\n",
       "    .dataframe thead th {\n",
       "        text-align: right;\n",
       "    }\n",
       "</style>\n",
       "<table border=\"1\" class=\"dataframe\">\n",
       "  <thead>\n",
       "    <tr style=\"text-align: right;\">\n",
       "      <th></th>\n",
       "      <th>Index</th>\n",
       "      <th>Accident_Severity</th>\n",
       "      <th>Accident_Date</th>\n",
       "      <th>Latitude</th>\n",
       "      <th>Light_Conditions</th>\n",
       "      <th>District Area</th>\n",
       "      <th>Longitude</th>\n",
       "      <th>Number_of_Casualties</th>\n",
       "      <th>Number_of_Vehicles</th>\n",
       "      <th>Road_Surface_Conditions</th>\n",
       "      <th>Road_Type</th>\n",
       "      <th>Urban_or_Rural_Area</th>\n",
       "      <th>Weather_Conditions</th>\n",
       "      <th>Vehicle_Type</th>\n",
       "      <th>Year</th>\n",
       "      <th>dayOfWeek</th>\n",
       "      <th>Month</th>\n",
       "    </tr>\n",
       "  </thead>\n",
       "  <tbody>\n",
       "    <tr>\n",
       "      <th>125</th>\n",
       "      <td>200701BS70120</td>\n",
       "      <td>Slight</td>\n",
       "      <td>2021-02-11</td>\n",
       "      <td>51.515641</td>\n",
       "      <td>Daylight</td>\n",
       "      <td>Hammersmith and Fulham</td>\n",
       "      <td>-0.221683</td>\n",
       "      <td>1</td>\n",
       "      <td>2</td>\n",
       "      <td>Dry</td>\n",
       "      <td>Slip road</td>\n",
       "      <td>Urban</td>\n",
       "      <td>Fine no high winds</td>\n",
       "      <td>Motorcycle 125cc and under</td>\n",
       "      <td>2021</td>\n",
       "      <td>3</td>\n",
       "      <td>2</td>\n",
       "    </tr>\n",
       "    <tr>\n",
       "      <th>545</th>\n",
       "      <td>200701BS70576</td>\n",
       "      <td>Slight</td>\n",
       "      <td>2021-02-11</td>\n",
       "      <td>51.504841</td>\n",
       "      <td>Daylight</td>\n",
       "      <td>Kensington and Chelsea</td>\n",
       "      <td>-0.215187</td>\n",
       "      <td>1</td>\n",
       "      <td>2</td>\n",
       "      <td>Dry</td>\n",
       "      <td>Slip road</td>\n",
       "      <td>Urban</td>\n",
       "      <td>Fine no high winds</td>\n",
       "      <td>Car</td>\n",
       "      <td>2021</td>\n",
       "      <td>3</td>\n",
       "      <td>2</td>\n",
       "    </tr>\n",
       "    <tr>\n",
       "      <th>795</th>\n",
       "      <td>200701CP00112</td>\n",
       "      <td>Slight</td>\n",
       "      <td>2021-02-11</td>\n",
       "      <td>51.511470</td>\n",
       "      <td>Daylight</td>\n",
       "      <td>City of London</td>\n",
       "      <td>-0.104678</td>\n",
       "      <td>1</td>\n",
       "      <td>3</td>\n",
       "      <td>Dry</td>\n",
       "      <td>Slip road</td>\n",
       "      <td>Urban</td>\n",
       "      <td>Fine no high winds</td>\n",
       "      <td>Taxi/Private hire car</td>\n",
       "      <td>2021</td>\n",
       "      <td>3</td>\n",
       "      <td>2</td>\n",
       "    </tr>\n",
       "    <tr>\n",
       "      <th>1265</th>\n",
       "      <td>200701CW10285</td>\n",
       "      <td>Slight</td>\n",
       "      <td>2021-02-11</td>\n",
       "      <td>51.519959</td>\n",
       "      <td>Darkness - lights lit</td>\n",
       "      <td>Westminster</td>\n",
       "      <td>-0.174956</td>\n",
       "      <td>1</td>\n",
       "      <td>2</td>\n",
       "      <td>Dry</td>\n",
       "      <td>Slip road</td>\n",
       "      <td>Urban</td>\n",
       "      <td>Fine no high winds</td>\n",
       "      <td>Taxi/Private hire car</td>\n",
       "      <td>2021</td>\n",
       "      <td>3</td>\n",
       "      <td>2</td>\n",
       "    </tr>\n",
       "    <tr>\n",
       "      <th>2265</th>\n",
       "      <td>200701CW64696</td>\n",
       "      <td>Serious</td>\n",
       "      <td>2021-02-11</td>\n",
       "      <td>51.519554</td>\n",
       "      <td>Daylight</td>\n",
       "      <td>Westminster</td>\n",
       "      <td>-0.183621</td>\n",
       "      <td>1</td>\n",
       "      <td>3</td>\n",
       "      <td>Dry</td>\n",
       "      <td>Slip road</td>\n",
       "      <td>Urban</td>\n",
       "      <td>Fine no high winds</td>\n",
       "      <td>Car</td>\n",
       "      <td>2021</td>\n",
       "      <td>3</td>\n",
       "      <td>2</td>\n",
       "    </tr>\n",
       "    <tr>\n",
       "      <th>...</th>\n",
       "      <td>...</td>\n",
       "      <td>...</td>\n",
       "      <td>...</td>\n",
       "      <td>...</td>\n",
       "      <td>...</td>\n",
       "      <td>...</td>\n",
       "      <td>...</td>\n",
       "      <td>...</td>\n",
       "      <td>...</td>\n",
       "      <td>...</td>\n",
       "      <td>...</td>\n",
       "      <td>...</td>\n",
       "      <td>...</td>\n",
       "      <td>...</td>\n",
       "      <td>...</td>\n",
       "      <td>...</td>\n",
       "      <td>...</td>\n",
       "    </tr>\n",
       "    <tr>\n",
       "      <th>658710</th>\n",
       "      <td>2.01E+12</td>\n",
       "      <td>Slight</td>\n",
       "      <td>2022-12-06</td>\n",
       "      <td>51.624709</td>\n",
       "      <td>Daylight</td>\n",
       "      <td>Neath Port Talbot</td>\n",
       "      <td>-3.854608</td>\n",
       "      <td>2</td>\n",
       "      <td>2</td>\n",
       "      <td>Wet or damp</td>\n",
       "      <td>Slip road</td>\n",
       "      <td>Rural</td>\n",
       "      <td>Fine no high winds</td>\n",
       "      <td>Car</td>\n",
       "      <td>2022</td>\n",
       "      <td>1</td>\n",
       "      <td>12</td>\n",
       "    </tr>\n",
       "    <tr>\n",
       "      <th>658795</th>\n",
       "      <td>2.01E+12</td>\n",
       "      <td>Slight</td>\n",
       "      <td>2022-12-06</td>\n",
       "      <td>51.647478</td>\n",
       "      <td>Daylight</td>\n",
       "      <td>Neath Port Talbot</td>\n",
       "      <td>-3.847732</td>\n",
       "      <td>1</td>\n",
       "      <td>2</td>\n",
       "      <td>Frost or ice</td>\n",
       "      <td>Slip road</td>\n",
       "      <td>Rural</td>\n",
       "      <td>Fine no high winds</td>\n",
       "      <td>Car</td>\n",
       "      <td>2022</td>\n",
       "      <td>1</td>\n",
       "      <td>12</td>\n",
       "    </tr>\n",
       "    <tr>\n",
       "      <th>658899</th>\n",
       "      <td>2.01E+12</td>\n",
       "      <td>Slight</td>\n",
       "      <td>2022-12-05</td>\n",
       "      <td>51.624980</td>\n",
       "      <td>Darkness - lighting unknown</td>\n",
       "      <td>Swansea</td>\n",
       "      <td>-3.937983</td>\n",
       "      <td>1</td>\n",
       "      <td>2</td>\n",
       "      <td>Dry</td>\n",
       "      <td>Slip road</td>\n",
       "      <td>Urban</td>\n",
       "      <td>NaN</td>\n",
       "      <td>Car</td>\n",
       "      <td>2022</td>\n",
       "      <td>0</td>\n",
       "      <td>12</td>\n",
       "    </tr>\n",
       "    <tr>\n",
       "      <th>658968</th>\n",
       "      <td>201063AC03610</td>\n",
       "      <td>Slight</td>\n",
       "      <td>2022-02-05</td>\n",
       "      <td>51.688746</td>\n",
       "      <td>Darkness - lights lit</td>\n",
       "      <td>Carmarthenshire</td>\n",
       "      <td>-4.094649</td>\n",
       "      <td>2</td>\n",
       "      <td>2</td>\n",
       "      <td>Dry</td>\n",
       "      <td>Slip road</td>\n",
       "      <td>Rural</td>\n",
       "      <td>Fine no high winds</td>\n",
       "      <td>Van / Goods 3.5 tonnes mgw or under</td>\n",
       "      <td>2022</td>\n",
       "      <td>5</td>\n",
       "      <td>2</td>\n",
       "    </tr>\n",
       "    <tr>\n",
       "      <th>659027</th>\n",
       "      <td>201063AC09810</td>\n",
       "      <td>Serious</td>\n",
       "      <td>2021-02-11</td>\n",
       "      <td>51.976230</td>\n",
       "      <td>Darkness - no lighting</td>\n",
       "      <td>Carmarthenshire</td>\n",
       "      <td>-4.255685</td>\n",
       "      <td>2</td>\n",
       "      <td>2</td>\n",
       "      <td>Wet or damp</td>\n",
       "      <td>Slip road</td>\n",
       "      <td>Rural</td>\n",
       "      <td>Raining + high winds</td>\n",
       "      <td>Motorcycle 50cc and under</td>\n",
       "      <td>2021</td>\n",
       "      <td>3</td>\n",
       "      <td>2</td>\n",
       "    </tr>\n",
       "  </tbody>\n",
       "</table>\n",
       "<p>5173 rows × 17 columns</p>\n",
       "</div>"
      ],
      "text/plain": [
       "                Index Accident_Severity Accident_Date   Latitude  \\\n",
       "125     200701BS70120            Slight    2021-02-11  51.515641   \n",
       "545     200701BS70576            Slight    2021-02-11  51.504841   \n",
       "795     200701CP00112            Slight    2021-02-11  51.511470   \n",
       "1265    200701CW10285            Slight    2021-02-11  51.519959   \n",
       "2265    200701CW64696           Serious    2021-02-11  51.519554   \n",
       "...               ...               ...           ...        ...   \n",
       "658710       2.01E+12            Slight    2022-12-06  51.624709   \n",
       "658795       2.01E+12            Slight    2022-12-06  51.647478   \n",
       "658899       2.01E+12            Slight    2022-12-05  51.624980   \n",
       "658968  201063AC03610            Slight    2022-02-05  51.688746   \n",
       "659027  201063AC09810           Serious    2021-02-11  51.976230   \n",
       "\n",
       "                   Light_Conditions           District Area  Longitude  \\\n",
       "125                        Daylight  Hammersmith and Fulham  -0.221683   \n",
       "545                        Daylight  Kensington and Chelsea  -0.215187   \n",
       "795                        Daylight          City of London  -0.104678   \n",
       "1265          Darkness - lights lit             Westminster  -0.174956   \n",
       "2265                       Daylight             Westminster  -0.183621   \n",
       "...                             ...                     ...        ...   \n",
       "658710                     Daylight       Neath Port Talbot  -3.854608   \n",
       "658795                     Daylight       Neath Port Talbot  -3.847732   \n",
       "658899  Darkness - lighting unknown                 Swansea  -3.937983   \n",
       "658968        Darkness - lights lit         Carmarthenshire  -4.094649   \n",
       "659027       Darkness - no lighting         Carmarthenshire  -4.255685   \n",
       "\n",
       "        Number_of_Casualties  Number_of_Vehicles Road_Surface_Conditions  \\\n",
       "125                        1                   2                     Dry   \n",
       "545                        1                   2                     Dry   \n",
       "795                        1                   3                     Dry   \n",
       "1265                       1                   2                     Dry   \n",
       "2265                       1                   3                     Dry   \n",
       "...                      ...                 ...                     ...   \n",
       "658710                     2                   2             Wet or damp   \n",
       "658795                     1                   2            Frost or ice   \n",
       "658899                     1                   2                     Dry   \n",
       "658968                     2                   2                     Dry   \n",
       "659027                     2                   2             Wet or damp   \n",
       "\n",
       "        Road_Type Urban_or_Rural_Area    Weather_Conditions  \\\n",
       "125     Slip road               Urban    Fine no high winds   \n",
       "545     Slip road               Urban    Fine no high winds   \n",
       "795     Slip road               Urban    Fine no high winds   \n",
       "1265    Slip road               Urban    Fine no high winds   \n",
       "2265    Slip road               Urban    Fine no high winds   \n",
       "...           ...                 ...                   ...   \n",
       "658710  Slip road               Rural    Fine no high winds   \n",
       "658795  Slip road               Rural    Fine no high winds   \n",
       "658899  Slip road               Urban                   NaN   \n",
       "658968  Slip road               Rural    Fine no high winds   \n",
       "659027  Slip road               Rural  Raining + high winds   \n",
       "\n",
       "                               Vehicle_Type  Year  dayOfWeek  Month  \n",
       "125              Motorcycle 125cc and under  2021          3      2  \n",
       "545                                     Car  2021          3      2  \n",
       "795                   Taxi/Private hire car  2021          3      2  \n",
       "1265                  Taxi/Private hire car  2021          3      2  \n",
       "2265                                    Car  2021          3      2  \n",
       "...                                     ...   ...        ...    ...  \n",
       "658710                                  Car  2022          1     12  \n",
       "658795                                  Car  2022          1     12  \n",
       "658899                                  Car  2022          0     12  \n",
       "658968  Van / Goods 3.5 tonnes mgw or under  2022          5      2  \n",
       "659027            Motorcycle 50cc and under  2021          3      2  \n",
       "\n",
       "[5173 rows x 17 columns]"
      ]
     },
     "execution_count": 138,
     "metadata": {},
     "output_type": "execute_result"
    }
   ],
   "source": [
    "accident[(accident['Number_of_Vehicles'] >= 2) & (accident['Road_Type'] == 'Slip road')]"
   ]
  },
  {
   "cell_type": "markdown",
   "id": "3742f5d9-1233-4b0d-b9f2-8f52cc906a32",
   "metadata": {},
   "source": [
    "<"
   ]
  }
 ],
 "metadata": {
  "kernelspec": {
   "display_name": "Python 3 (ipykernel)",
   "language": "python",
   "name": "python3"
  },
  "language_info": {
   "codemirror_mode": {
    "name": "ipython",
    "version": 3
   },
   "file_extension": ".py",
   "mimetype": "text/x-python",
   "name": "python",
   "nbconvert_exporter": "python",
   "pygments_lexer": "ipython3",
   "version": "3.12.8"
  }
 },
 "nbformat": 4,
 "nbformat_minor": 5
}
