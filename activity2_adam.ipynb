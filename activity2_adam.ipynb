{
 "cells": [
  {
   "cell_type": "markdown",
   "id": "7959ebd8-e71e-4b2f-9871-0d1f4e7f24a7",
   "metadata": {},
   "source": [
    "<h1>IMPORT LIBRARIES</h1>"
   ]
  },
  {
   "cell_type": "code",
   "execution_count": 3,
   "id": "937fcf97-e443-4b1f-a521-1da04349d79c",
   "metadata": {},
   "outputs": [],
   "source": [
    "import numpy as np\n",
    "import pandas as pd\n",
    "import matplotlib.pyplot as plt\n",
    "import seaborn as sns"
   ]
  },
  {
   "cell_type": "markdown",
   "id": "7ac24401-f98a-494f-b932-089e217a85f1",
   "metadata": {},
   "source": [
    "<h1>IMPORTING DATASETS, LOCALLY, TO DATAFRAME</h1>"
   ]
  },
  {
   "cell_type": "code",
   "execution_count": 4,
   "id": "f8a0bd54-e920-46a1-85a2-b6104b4dace6",
   "metadata": {},
   "outputs": [],
   "source": [
    "penguins = pd.read_csv(\"./datasets/penguins.csv\")"
   ]
  },
  {
   "cell_type": "code",
   "execution_count": 5,
   "id": "e1bec360-c6f7-4b2b-a6f6-125349180d5d",
   "metadata": {},
   "outputs": [
    {
     "data": {
      "text/html": [
       "<div>\n",
       "<style scoped>\n",
       "    .dataframe tbody tr th:only-of-type {\n",
       "        vertical-align: middle;\n",
       "    }\n",
       "\n",
       "    .dataframe tbody tr th {\n",
       "        vertical-align: top;\n",
       "    }\n",
       "\n",
       "    .dataframe thead th {\n",
       "        text-align: right;\n",
       "    }\n",
       "</style>\n",
       "<table border=\"1\" class=\"dataframe\">\n",
       "  <thead>\n",
       "    <tr style=\"text-align: right;\">\n",
       "      <th></th>\n",
       "      <th>rowid</th>\n",
       "      <th>species</th>\n",
       "      <th>island</th>\n",
       "      <th>bill_length_mm</th>\n",
       "      <th>bill_depth_mm</th>\n",
       "      <th>flipper_length_mm</th>\n",
       "      <th>body_mass_g</th>\n",
       "      <th>sex</th>\n",
       "      <th>year</th>\n",
       "    </tr>\n",
       "  </thead>\n",
       "  <tbody>\n",
       "    <tr>\n",
       "      <th>0</th>\n",
       "      <td>1</td>\n",
       "      <td>Adelie</td>\n",
       "      <td>Torgersen</td>\n",
       "      <td>39.1</td>\n",
       "      <td>18.7</td>\n",
       "      <td>181.0</td>\n",
       "      <td>3750.0</td>\n",
       "      <td>male</td>\n",
       "      <td>2007</td>\n",
       "    </tr>\n",
       "    <tr>\n",
       "      <th>1</th>\n",
       "      <td>2</td>\n",
       "      <td>Adelie</td>\n",
       "      <td>Torgersen</td>\n",
       "      <td>39.5</td>\n",
       "      <td>17.4</td>\n",
       "      <td>186.0</td>\n",
       "      <td>3800.0</td>\n",
       "      <td>female</td>\n",
       "      <td>2007</td>\n",
       "    </tr>\n",
       "    <tr>\n",
       "      <th>2</th>\n",
       "      <td>3</td>\n",
       "      <td>Adelie</td>\n",
       "      <td>Torgersen</td>\n",
       "      <td>40.3</td>\n",
       "      <td>18.0</td>\n",
       "      <td>195.0</td>\n",
       "      <td>3250.0</td>\n",
       "      <td>female</td>\n",
       "      <td>2007</td>\n",
       "    </tr>\n",
       "    <tr>\n",
       "      <th>3</th>\n",
       "      <td>4</td>\n",
       "      <td>Adelie</td>\n",
       "      <td>Torgersen</td>\n",
       "      <td>NaN</td>\n",
       "      <td>NaN</td>\n",
       "      <td>NaN</td>\n",
       "      <td>NaN</td>\n",
       "      <td>NaN</td>\n",
       "      <td>2007</td>\n",
       "    </tr>\n",
       "    <tr>\n",
       "      <th>4</th>\n",
       "      <td>5</td>\n",
       "      <td>Adelie</td>\n",
       "      <td>Torgersen</td>\n",
       "      <td>36.7</td>\n",
       "      <td>19.3</td>\n",
       "      <td>193.0</td>\n",
       "      <td>3450.0</td>\n",
       "      <td>female</td>\n",
       "      <td>2007</td>\n",
       "    </tr>\n",
       "    <tr>\n",
       "      <th>...</th>\n",
       "      <td>...</td>\n",
       "      <td>...</td>\n",
       "      <td>...</td>\n",
       "      <td>...</td>\n",
       "      <td>...</td>\n",
       "      <td>...</td>\n",
       "      <td>...</td>\n",
       "      <td>...</td>\n",
       "      <td>...</td>\n",
       "    </tr>\n",
       "    <tr>\n",
       "      <th>339</th>\n",
       "      <td>340</td>\n",
       "      <td>Chinstrap</td>\n",
       "      <td>Dream</td>\n",
       "      <td>55.8</td>\n",
       "      <td>19.8</td>\n",
       "      <td>207.0</td>\n",
       "      <td>4000.0</td>\n",
       "      <td>male</td>\n",
       "      <td>2009</td>\n",
       "    </tr>\n",
       "    <tr>\n",
       "      <th>340</th>\n",
       "      <td>341</td>\n",
       "      <td>Chinstrap</td>\n",
       "      <td>Dream</td>\n",
       "      <td>43.5</td>\n",
       "      <td>18.1</td>\n",
       "      <td>202.0</td>\n",
       "      <td>3400.0</td>\n",
       "      <td>female</td>\n",
       "      <td>2009</td>\n",
       "    </tr>\n",
       "    <tr>\n",
       "      <th>341</th>\n",
       "      <td>342</td>\n",
       "      <td>Chinstrap</td>\n",
       "      <td>Dream</td>\n",
       "      <td>49.6</td>\n",
       "      <td>18.2</td>\n",
       "      <td>193.0</td>\n",
       "      <td>3775.0</td>\n",
       "      <td>male</td>\n",
       "      <td>2009</td>\n",
       "    </tr>\n",
       "    <tr>\n",
       "      <th>342</th>\n",
       "      <td>343</td>\n",
       "      <td>Chinstrap</td>\n",
       "      <td>Dream</td>\n",
       "      <td>50.8</td>\n",
       "      <td>19.0</td>\n",
       "      <td>210.0</td>\n",
       "      <td>4100.0</td>\n",
       "      <td>male</td>\n",
       "      <td>2009</td>\n",
       "    </tr>\n",
       "    <tr>\n",
       "      <th>343</th>\n",
       "      <td>344</td>\n",
       "      <td>Chinstrap</td>\n",
       "      <td>Dream</td>\n",
       "      <td>50.2</td>\n",
       "      <td>18.7</td>\n",
       "      <td>198.0</td>\n",
       "      <td>3775.0</td>\n",
       "      <td>female</td>\n",
       "      <td>2009</td>\n",
       "    </tr>\n",
       "  </tbody>\n",
       "</table>\n",
       "<p>344 rows × 9 columns</p>\n",
       "</div>"
      ],
      "text/plain": [
       "     rowid    species     island  bill_length_mm  bill_depth_mm  \\\n",
       "0        1     Adelie  Torgersen            39.1           18.7   \n",
       "1        2     Adelie  Torgersen            39.5           17.4   \n",
       "2        3     Adelie  Torgersen            40.3           18.0   \n",
       "3        4     Adelie  Torgersen             NaN            NaN   \n",
       "4        5     Adelie  Torgersen            36.7           19.3   \n",
       "..     ...        ...        ...             ...            ...   \n",
       "339    340  Chinstrap      Dream            55.8           19.8   \n",
       "340    341  Chinstrap      Dream            43.5           18.1   \n",
       "341    342  Chinstrap      Dream            49.6           18.2   \n",
       "342    343  Chinstrap      Dream            50.8           19.0   \n",
       "343    344  Chinstrap      Dream            50.2           18.7   \n",
       "\n",
       "     flipper_length_mm  body_mass_g     sex  year  \n",
       "0                181.0       3750.0    male  2007  \n",
       "1                186.0       3800.0  female  2007  \n",
       "2                195.0       3250.0  female  2007  \n",
       "3                  NaN          NaN     NaN  2007  \n",
       "4                193.0       3450.0  female  2007  \n",
       "..                 ...          ...     ...   ...  \n",
       "339              207.0       4000.0    male  2009  \n",
       "340              202.0       3400.0  female  2009  \n",
       "341              193.0       3775.0    male  2009  \n",
       "342              210.0       4100.0    male  2009  \n",
       "343              198.0       3775.0  female  2009  \n",
       "\n",
       "[344 rows x 9 columns]"
      ]
     },
     "execution_count": 5,
     "metadata": {},
     "output_type": "execute_result"
    }
   ],
   "source": [
    "penguins"
   ]
  },
  {
   "cell_type": "code",
   "execution_count": 6,
   "id": "d82604e6-1189-418d-8cc0-e55d1e060d8b",
   "metadata": {},
   "outputs": [],
   "source": [
    "penguins[\"wkilo\"] = np.round(penguins[\"body_mass_g\"]/1000,1)"
   ]
  },
  {
   "cell_type": "code",
   "execution_count": 7,
   "id": "3a2d1a10-bba8-4660-b7d6-3bdb4b9bcaaa",
   "metadata": {},
   "outputs": [
    {
     "name": "stdout",
     "output_type": "stream",
     "text": [
      "<class 'pandas.core.frame.DataFrame'>\n",
      "RangeIndex: 344 entries, 0 to 343\n",
      "Data columns (total 10 columns):\n",
      " #   Column             Non-Null Count  Dtype  \n",
      "---  ------             --------------  -----  \n",
      " 0   rowid              344 non-null    int64  \n",
      " 1   species            344 non-null    object \n",
      " 2   island             344 non-null    object \n",
      " 3   bill_length_mm     342 non-null    float64\n",
      " 4   bill_depth_mm      342 non-null    float64\n",
      " 5   flipper_length_mm  342 non-null    float64\n",
      " 6   body_mass_g        342 non-null    float64\n",
      " 7   sex                333 non-null    object \n",
      " 8   year               344 non-null    int64  \n",
      " 9   wkilo              342 non-null    float64\n",
      "dtypes: float64(5), int64(2), object(3)\n",
      "memory usage: 27.0+ KB\n"
     ]
    }
   ],
   "source": [
    "penguins.info()"
   ]
  },
  {
   "cell_type": "code",
   "execution_count": 8,
   "id": "f9abe50a-f870-40b0-9670-43808e280c37",
   "metadata": {},
   "outputs": [
    {
     "data": {
      "text/plain": [
       "0      3.8\n",
       "1      3.8\n",
       "2      3.2\n",
       "3      NaN\n",
       "4      3.4\n",
       "      ... \n",
       "339    4.0\n",
       "340    3.4\n",
       "341    3.8\n",
       "342    4.1\n",
       "343    3.8\n",
       "Name: wkilo, Length: 344, dtype: float64"
      ]
     },
     "execution_count": 8,
     "metadata": {},
     "output_type": "execute_result"
    }
   ],
   "source": [
    "penguins['wkilo']"
   ]
  },
  {
   "cell_type": "markdown",
   "id": "0ddebc3d-7715-40b6-9a52-b08ffea80d16",
   "metadata": {},
   "source": [
    "<h1>Checking the null values</h1>"
   ]
  },
  {
   "cell_type": "code",
   "execution_count": 9,
   "id": "d032d6b5-2d87-40a6-8a55-29c9feae4ec9",
   "metadata": {},
   "outputs": [
    {
     "data": {
      "text/plain": [
       "rowid                 0\n",
       "species               0\n",
       "island                0\n",
       "bill_length_mm        2\n",
       "bill_depth_mm         2\n",
       "flipper_length_mm     2\n",
       "body_mass_g           2\n",
       "sex                  11\n",
       "year                  0\n",
       "wkilo                 2\n",
       "dtype: int64"
      ]
     },
     "execution_count": 9,
     "metadata": {},
     "output_type": "execute_result"
    }
   ],
   "source": [
    "penguins.isnull().sum()"
   ]
  },
  {
   "cell_type": "markdown",
   "id": "85697abf-e178-4e15-b762-cc6be63f3d20",
   "metadata": {},
   "source": [
    "<h1>FILLING NULL VALUES</h1>"
   ]
  },
  {
   "cell_type": "code",
   "execution_count": 10,
   "id": "ca009e6a-5213-4562-b54d-2fb2ed57bc23",
   "metadata": {},
   "outputs": [],
   "source": [
    "Average_bill_length_mm = penguins[\"bill_length_mm\"].mean()\n",
    "Average_bill_depth_mm = penguins[\"bill_depth_mm\"].mean()\n",
    "Average_flipper_length_mm = penguins[\"flipper_length_mm\"].mean()\n",
    "Average_body_mass_g = penguins[\"body_mass_g\"].mean()\n",
    "MostAppearingSex = penguins[\"sex\"].mode()[0] #.mode() always return choices, we must specify to get the top results\n",
    "Average_wkilo = penguins['wkilo'].mean()"
   ]
  },
  {
   "cell_type": "code",
   "execution_count": 11,
   "id": "3fe668c8-875a-4ed8-a097-b1e9e8f5e855",
   "metadata": {},
   "outputs": [],
   "source": [
    "penguins[\"bill_length_mm\"] = penguins[\"bill_length_mm\"].fillna(Average_bill_length_mm)\n",
    "penguins[\"bill_depth_mm\"] = penguins[\"bill_depth_mm\"].fillna(Average_bill_depth_mm)\n",
    "penguins[\"flipper_length_mm\"] = penguins[\"flipper_length_mm\"].fillna(Average_flipper_length_mm)\n",
    "penguins[\"body_mass_g\"] = penguins[\"flipper_length_mm\"].fillna(Average_body_mass_g)\n",
    "penguins[\"sex\"] = penguins[\"sex\"].fillna(MostAppearingSex)\n",
    "penguins['wkilo'] = penguins['wkilo'].fillna(Average_wkilo)"
   ]
  },
  {
   "cell_type": "code",
   "execution_count": 12,
   "id": "ee5604c0-aa9a-4627-8a7b-643ce6b521de",
   "metadata": {},
   "outputs": [
    {
     "data": {
      "text/plain": [
       "rowid                0\n",
       "species              0\n",
       "island               0\n",
       "bill_length_mm       0\n",
       "bill_depth_mm        0\n",
       "flipper_length_mm    0\n",
       "body_mass_g          0\n",
       "sex                  0\n",
       "year                 0\n",
       "wkilo                0\n",
       "dtype: int64"
      ]
     },
     "execution_count": 12,
     "metadata": {},
     "output_type": "execute_result"
    }
   ],
   "source": [
    "penguins.isnull().sum()"
   ]
  },
  {
   "cell_type": "markdown",
   "id": "fd509a0a-b337-469f-96ad-ecee9e0b2687",
   "metadata": {},
   "source": [
    "<h1>CONVERT NON COMPUTABLE COLUMN TO CATEGORY</h1>"
   ]
  },
  {
   "cell_type": "code",
   "execution_count": 13,
   "id": "d9c5f631-0fb1-48ad-8312-897f12814155",
   "metadata": {},
   "outputs": [],
   "source": [
    "penguins[\"rowid\"] = penguins[\"rowid\"].astype('category')\n",
    "penguins[\"species\"] = penguins[\"species\"].astype('category')\n",
    "penguins[\"island\"] = penguins[\"island\"].astype('category')\n",
    "penguins[\"sex\"] = penguins[\"sex\"].astype('category')\n",
    "penguins[\"year\"] = penguins[\"year\"].astype('category')"
   ]
  },
  {
   "cell_type": "code",
   "execution_count": 14,
   "id": "378d4bdf-1074-4f95-9111-fc5ef09a1769",
   "metadata": {},
   "outputs": [
    {
     "name": "stdout",
     "output_type": "stream",
     "text": [
      "<class 'pandas.core.frame.DataFrame'>\n",
      "RangeIndex: 344 entries, 0 to 343\n",
      "Data columns (total 10 columns):\n",
      " #   Column             Non-Null Count  Dtype   \n",
      "---  ------             --------------  -----   \n",
      " 0   rowid              344 non-null    category\n",
      " 1   species            344 non-null    category\n",
      " 2   island             344 non-null    category\n",
      " 3   bill_length_mm     344 non-null    float64 \n",
      " 4   bill_depth_mm      344 non-null    float64 \n",
      " 5   flipper_length_mm  344 non-null    float64 \n",
      " 6   body_mass_g        344 non-null    float64 \n",
      " 7   sex                344 non-null    category\n",
      " 8   year               344 non-null    category\n",
      " 9   wkilo              344 non-null    float64 \n",
      "dtypes: category(5), float64(5)\n",
      "memory usage: 26.9 KB\n"
     ]
    }
   ],
   "source": [
    "penguins.info()"
   ]
  },
  {
   "cell_type": "markdown",
   "id": "0792cc11-531c-4fac-900f-c6432be6c9f4",
   "metadata": {},
   "source": [
    "<h2>Gentoo In All Island</h2>"
   ]
  },
  {
   "cell_type": "code",
   "execution_count": 15,
   "id": "38645e7d-235c-4f72-8f89-0d68f9b914a1",
   "metadata": {},
   "outputs": [],
   "source": [
    "def findIslandBirds(island, species):\n",
    "    return penguins[(penguins['island'] == island) & (penguins['species']== species)]\n"
   ]
  },
  {
   "cell_type": "code",
   "execution_count": 16,
   "id": "e0d9f82c-017c-4c18-b053-52aef19e5e75",
   "metadata": {},
   "outputs": [],
   "source": [
    "gentooBiscoe = findIslandBirds('Biscoe','Gentoo')\n",
    "gentooDream = findIslandBirds('Dream','Gentoo')\n",
    "gentooTorg = findIslandBirds('Torgersen','Gentoo')\n"
   ]
  },
  {
   "cell_type": "code",
   "execution_count": 17,
   "id": "5fd77f8a-2c02-4384-b0a8-251d66879f8f",
   "metadata": {},
   "outputs": [
    {
     "data": {
      "text/html": [
       "<div>\n",
       "<style scoped>\n",
       "    .dataframe tbody tr th:only-of-type {\n",
       "        vertical-align: middle;\n",
       "    }\n",
       "\n",
       "    .dataframe tbody tr th {\n",
       "        vertical-align: top;\n",
       "    }\n",
       "\n",
       "    .dataframe thead th {\n",
       "        text-align: right;\n",
       "    }\n",
       "</style>\n",
       "<table border=\"1\" class=\"dataframe\">\n",
       "  <thead>\n",
       "    <tr style=\"text-align: right;\">\n",
       "      <th></th>\n",
       "      <th>rowid</th>\n",
       "      <th>species</th>\n",
       "      <th>island</th>\n",
       "      <th>bill_length_mm</th>\n",
       "      <th>bill_depth_mm</th>\n",
       "      <th>flipper_length_mm</th>\n",
       "      <th>body_mass_g</th>\n",
       "      <th>sex</th>\n",
       "      <th>year</th>\n",
       "      <th>wkilo</th>\n",
       "    </tr>\n",
       "  </thead>\n",
       "  <tbody>\n",
       "    <tr>\n",
       "      <th>152</th>\n",
       "      <td>153</td>\n",
       "      <td>Gentoo</td>\n",
       "      <td>Biscoe</td>\n",
       "      <td>46.10000</td>\n",
       "      <td>13.20000</td>\n",
       "      <td>211.000000</td>\n",
       "      <td>211.000000</td>\n",
       "      <td>female</td>\n",
       "      <td>2007</td>\n",
       "      <td>4.500000</td>\n",
       "    </tr>\n",
       "    <tr>\n",
       "      <th>153</th>\n",
       "      <td>154</td>\n",
       "      <td>Gentoo</td>\n",
       "      <td>Biscoe</td>\n",
       "      <td>50.00000</td>\n",
       "      <td>16.30000</td>\n",
       "      <td>230.000000</td>\n",
       "      <td>230.000000</td>\n",
       "      <td>male</td>\n",
       "      <td>2007</td>\n",
       "      <td>5.700000</td>\n",
       "    </tr>\n",
       "    <tr>\n",
       "      <th>154</th>\n",
       "      <td>155</td>\n",
       "      <td>Gentoo</td>\n",
       "      <td>Biscoe</td>\n",
       "      <td>48.70000</td>\n",
       "      <td>14.10000</td>\n",
       "      <td>210.000000</td>\n",
       "      <td>210.000000</td>\n",
       "      <td>female</td>\n",
       "      <td>2007</td>\n",
       "      <td>4.400000</td>\n",
       "    </tr>\n",
       "    <tr>\n",
       "      <th>155</th>\n",
       "      <td>156</td>\n",
       "      <td>Gentoo</td>\n",
       "      <td>Biscoe</td>\n",
       "      <td>50.00000</td>\n",
       "      <td>15.20000</td>\n",
       "      <td>218.000000</td>\n",
       "      <td>218.000000</td>\n",
       "      <td>male</td>\n",
       "      <td>2007</td>\n",
       "      <td>5.700000</td>\n",
       "    </tr>\n",
       "    <tr>\n",
       "      <th>156</th>\n",
       "      <td>157</td>\n",
       "      <td>Gentoo</td>\n",
       "      <td>Biscoe</td>\n",
       "      <td>47.60000</td>\n",
       "      <td>14.50000</td>\n",
       "      <td>215.000000</td>\n",
       "      <td>215.000000</td>\n",
       "      <td>male</td>\n",
       "      <td>2007</td>\n",
       "      <td>5.400000</td>\n",
       "    </tr>\n",
       "    <tr>\n",
       "      <th>...</th>\n",
       "      <td>...</td>\n",
       "      <td>...</td>\n",
       "      <td>...</td>\n",
       "      <td>...</td>\n",
       "      <td>...</td>\n",
       "      <td>...</td>\n",
       "      <td>...</td>\n",
       "      <td>...</td>\n",
       "      <td>...</td>\n",
       "      <td>...</td>\n",
       "    </tr>\n",
       "    <tr>\n",
       "      <th>271</th>\n",
       "      <td>272</td>\n",
       "      <td>Gentoo</td>\n",
       "      <td>Biscoe</td>\n",
       "      <td>43.92193</td>\n",
       "      <td>17.15117</td>\n",
       "      <td>200.915205</td>\n",
       "      <td>200.915205</td>\n",
       "      <td>male</td>\n",
       "      <td>2009</td>\n",
       "      <td>4.202047</td>\n",
       "    </tr>\n",
       "    <tr>\n",
       "      <th>272</th>\n",
       "      <td>273</td>\n",
       "      <td>Gentoo</td>\n",
       "      <td>Biscoe</td>\n",
       "      <td>46.80000</td>\n",
       "      <td>14.30000</td>\n",
       "      <td>215.000000</td>\n",
       "      <td>215.000000</td>\n",
       "      <td>female</td>\n",
       "      <td>2009</td>\n",
       "      <td>4.800000</td>\n",
       "    </tr>\n",
       "    <tr>\n",
       "      <th>273</th>\n",
       "      <td>274</td>\n",
       "      <td>Gentoo</td>\n",
       "      <td>Biscoe</td>\n",
       "      <td>50.40000</td>\n",
       "      <td>15.70000</td>\n",
       "      <td>222.000000</td>\n",
       "      <td>222.000000</td>\n",
       "      <td>male</td>\n",
       "      <td>2009</td>\n",
       "      <td>5.800000</td>\n",
       "    </tr>\n",
       "    <tr>\n",
       "      <th>274</th>\n",
       "      <td>275</td>\n",
       "      <td>Gentoo</td>\n",
       "      <td>Biscoe</td>\n",
       "      <td>45.20000</td>\n",
       "      <td>14.80000</td>\n",
       "      <td>212.000000</td>\n",
       "      <td>212.000000</td>\n",
       "      <td>female</td>\n",
       "      <td>2009</td>\n",
       "      <td>5.200000</td>\n",
       "    </tr>\n",
       "    <tr>\n",
       "      <th>275</th>\n",
       "      <td>276</td>\n",
       "      <td>Gentoo</td>\n",
       "      <td>Biscoe</td>\n",
       "      <td>49.90000</td>\n",
       "      <td>16.10000</td>\n",
       "      <td>213.000000</td>\n",
       "      <td>213.000000</td>\n",
       "      <td>male</td>\n",
       "      <td>2009</td>\n",
       "      <td>5.400000</td>\n",
       "    </tr>\n",
       "  </tbody>\n",
       "</table>\n",
       "<p>124 rows × 10 columns</p>\n",
       "</div>"
      ],
      "text/plain": [
       "    rowid species  island  bill_length_mm  bill_depth_mm  flipper_length_mm  \\\n",
       "152   153  Gentoo  Biscoe        46.10000       13.20000         211.000000   \n",
       "153   154  Gentoo  Biscoe        50.00000       16.30000         230.000000   \n",
       "154   155  Gentoo  Biscoe        48.70000       14.10000         210.000000   \n",
       "155   156  Gentoo  Biscoe        50.00000       15.20000         218.000000   \n",
       "156   157  Gentoo  Biscoe        47.60000       14.50000         215.000000   \n",
       "..    ...     ...     ...             ...            ...                ...   \n",
       "271   272  Gentoo  Biscoe        43.92193       17.15117         200.915205   \n",
       "272   273  Gentoo  Biscoe        46.80000       14.30000         215.000000   \n",
       "273   274  Gentoo  Biscoe        50.40000       15.70000         222.000000   \n",
       "274   275  Gentoo  Biscoe        45.20000       14.80000         212.000000   \n",
       "275   276  Gentoo  Biscoe        49.90000       16.10000         213.000000   \n",
       "\n",
       "     body_mass_g     sex  year     wkilo  \n",
       "152   211.000000  female  2007  4.500000  \n",
       "153   230.000000    male  2007  5.700000  \n",
       "154   210.000000  female  2007  4.400000  \n",
       "155   218.000000    male  2007  5.700000  \n",
       "156   215.000000    male  2007  5.400000  \n",
       "..           ...     ...   ...       ...  \n",
       "271   200.915205    male  2009  4.202047  \n",
       "272   215.000000  female  2009  4.800000  \n",
       "273   222.000000    male  2009  5.800000  \n",
       "274   212.000000  female  2009  5.200000  \n",
       "275   213.000000    male  2009  5.400000  \n",
       "\n",
       "[124 rows x 10 columns]"
      ]
     },
     "execution_count": 17,
     "metadata": {},
     "output_type": "execute_result"
    }
   ],
   "source": [
    "gentooBiscoe"
   ]
  },
  {
   "cell_type": "code",
   "execution_count": 18,
   "id": "77a57563-3448-48d7-86be-07004ddc4d8d",
   "metadata": {},
   "outputs": [
    {
     "data": {
      "text/html": [
       "<div>\n",
       "<style scoped>\n",
       "    .dataframe tbody tr th:only-of-type {\n",
       "        vertical-align: middle;\n",
       "    }\n",
       "\n",
       "    .dataframe tbody tr th {\n",
       "        vertical-align: top;\n",
       "    }\n",
       "\n",
       "    .dataframe thead th {\n",
       "        text-align: right;\n",
       "    }\n",
       "</style>\n",
       "<table border=\"1\" class=\"dataframe\">\n",
       "  <thead>\n",
       "    <tr style=\"text-align: right;\">\n",
       "      <th></th>\n",
       "      <th>rowid</th>\n",
       "      <th>species</th>\n",
       "      <th>island</th>\n",
       "      <th>bill_length_mm</th>\n",
       "      <th>bill_depth_mm</th>\n",
       "      <th>flipper_length_mm</th>\n",
       "      <th>body_mass_g</th>\n",
       "      <th>sex</th>\n",
       "      <th>year</th>\n",
       "      <th>wkilo</th>\n",
       "    </tr>\n",
       "  </thead>\n",
       "  <tbody>\n",
       "  </tbody>\n",
       "</table>\n",
       "</div>"
      ],
      "text/plain": [
       "Empty DataFrame\n",
       "Columns: [rowid, species, island, bill_length_mm, bill_depth_mm, flipper_length_mm, body_mass_g, sex, year, wkilo]\n",
       "Index: []"
      ]
     },
     "execution_count": 18,
     "metadata": {},
     "output_type": "execute_result"
    }
   ],
   "source": [
    "gentooDream"
   ]
  },
  {
   "cell_type": "code",
   "execution_count": 19,
   "id": "dc89b3c6-d7a3-4162-9adb-d1943d836270",
   "metadata": {},
   "outputs": [
    {
     "data": {
      "text/html": [
       "<div>\n",
       "<style scoped>\n",
       "    .dataframe tbody tr th:only-of-type {\n",
       "        vertical-align: middle;\n",
       "    }\n",
       "\n",
       "    .dataframe tbody tr th {\n",
       "        vertical-align: top;\n",
       "    }\n",
       "\n",
       "    .dataframe thead th {\n",
       "        text-align: right;\n",
       "    }\n",
       "</style>\n",
       "<table border=\"1\" class=\"dataframe\">\n",
       "  <thead>\n",
       "    <tr style=\"text-align: right;\">\n",
       "      <th></th>\n",
       "      <th>rowid</th>\n",
       "      <th>species</th>\n",
       "      <th>island</th>\n",
       "      <th>bill_length_mm</th>\n",
       "      <th>bill_depth_mm</th>\n",
       "      <th>flipper_length_mm</th>\n",
       "      <th>body_mass_g</th>\n",
       "      <th>sex</th>\n",
       "      <th>year</th>\n",
       "      <th>wkilo</th>\n",
       "    </tr>\n",
       "  </thead>\n",
       "  <tbody>\n",
       "  </tbody>\n",
       "</table>\n",
       "</div>"
      ],
      "text/plain": [
       "Empty DataFrame\n",
       "Columns: [rowid, species, island, bill_length_mm, bill_depth_mm, flipper_length_mm, body_mass_g, sex, year, wkilo]\n",
       "Index: []"
      ]
     },
     "execution_count": 19,
     "metadata": {},
     "output_type": "execute_result"
    }
   ],
   "source": [
    "gentooTorg"
   ]
  },
  {
   "cell_type": "markdown",
   "id": "b5c764a9-7bf6-40b6-90a2-2a7652455d87",
   "metadata": {},
   "source": [
    "<h1>INSIGHT #1</h1>\n",
    "<h2>Gentoo exclusively lives in Biscoe</h2>"
   ]
  },
  {
   "cell_type": "markdown",
   "id": "6f351d47-8c6b-45cd-a290-a504ba9e9de9",
   "metadata": {},
   "source": [
    "<h1>Adelie in All Island</h1>"
   ]
  },
  {
   "cell_type": "code",
   "execution_count": 20,
   "id": "3fd74203-c4b6-40cb-8fc1-33359ff628fb",
   "metadata": {},
   "outputs": [],
   "source": [
    "adelieBiscoe = findIslandBirds('Biscoe','Adelie')\n",
    "adelieDream = findIslandBirds('Dream','Adelie')\n",
    "adelieTorg = findIslandBirds('Torgersen','Adelie')"
   ]
  },
  {
   "cell_type": "code",
   "execution_count": 21,
   "id": "a3a25d7c-6ac0-4eb9-8992-aeeed74d235a",
   "metadata": {},
   "outputs": [
    {
     "name": "stdout",
     "output_type": "stream",
     "text": [
      "\n",
      "ADELIE\n",
      "\n",
      "BISCOE: 44\n",
      "DREAM: 56\n",
      "TORGERSEN: 52\n",
      "\n",
      "\n",
      "\n"
     ]
    }
   ],
   "source": [
    "len(adelieBiscoe)\n",
    "print(f'''\n",
    "ADELIE\n",
    "\n",
    "BISCOE: {len(adelieBiscoe)}\n",
    "DREAM: {len(adelieDream)}\n",
    "TORGERSEN: {len(adelieTorg)}\n",
    "\n",
    "\n",
    "''')\n"
   ]
  },
  {
   "cell_type": "markdown",
   "id": "ed29627a-0834-4f03-bfe5-1f25df511dd0",
   "metadata": {},
   "source": [
    "<h1>INSIGHT #2</h1>\n",
    "<h2>ADELIE MAJORITY LIVES ON DREAM ISLAND</h2>"
   ]
  },
  {
   "cell_type": "markdown",
   "id": "917a99e1-7991-47e9-b90b-5a5b851cd01a",
   "metadata": {},
   "source": [
    "<h1>Does the island impact the body mass of a penguin species</h1>"
   ]
  },
  {
   "cell_type": "code",
   "execution_count": 22,
   "id": "c5e1892e-555a-445a-b2be-94aabfa583f0",
   "metadata": {},
   "outputs": [
    {
     "name": "stdout",
     "output_type": "stream",
     "text": [
      "\n",
      "\n",
      "AVERAGE WEIGHT OF ADELIE IN EACH ISLAND\n",
      "\n",
      "Biscoe: 3.72\n",
      "Dream: 3.69\n",
      "Torgersen: 3.71\n",
      "\n",
      "\n"
     ]
    }
   ],
   "source": [
    "adelieBiscoe = findIslandBirds('Biscoe','Adelie')\n",
    "adelieDream = findIslandBirds('Dream','Adelie')\n",
    "adelieTorgersen = findIslandBirds('Torgersen','Adelie')\n",
    "\n",
    "\n",
    "print(f'''\n",
    "\n",
    "AVERAGE WEIGHT OF ADELIE IN EACH ISLAND\n",
    "\n",
    "Biscoe: {np.round(adelieBiscoe['wkilo'].mean(),2)}\n",
    "Dream: {np.round(adelieDream['wkilo'].mean(),2)}\n",
    "Torgersen: {np.round(adelieTorgersen['wkilo'].mean(),2)}\n",
    "\n",
    "''')"
   ]
  },
  {
   "cell_type": "code",
   "execution_count": 23,
   "id": "c2296708-3c1a-45fc-8f52-eb5d57771343",
   "metadata": {},
   "outputs": [
    {
     "data": {
      "text/plain": [
       "3.7"
      ]
     },
     "execution_count": 23,
     "metadata": {},
     "output_type": "execute_result"
    }
   ],
   "source": [
    "np.round(adelieBiscoe['wkilo'].mean(),1)"
   ]
  },
  {
   "cell_type": "markdown",
   "id": "9a946d9d-8151-409f-a67a-1e15d5504e3e",
   "metadata": {},
   "source": [
    "<h1>INSIGHT #3</h1>\n",
    "<h2>ISLAND DOES NOT IMPACT THE BODY MASS OF ADELIE SPECIES</h2>"
   ]
  },
  {
   "cell_type": "markdown",
   "id": "6f649beb-2b14-43f6-964b-b772da1b9e51",
   "metadata": {},
   "source": [
    "<h1>Determine the weight of each species in general</h1>"
   ]
  },
  {
   "cell_type": "code",
   "execution_count": 24,
   "id": "5ae29e75-0bf2-48ba-88e7-107b10b7a83e",
   "metadata": {},
   "outputs": [],
   "source": [
    "gentoSpecies = penguins[penguins['species'] == 'Gentoo']\n",
    "adelieSpecies = penguins[penguins['species'] == 'Adelie']\n",
    "chinSpecies = penguins[penguins['species'] == 'Chinstrap']"
   ]
  },
  {
   "cell_type": "code",
   "execution_count": 25,
   "id": "c33be3a9-7415-4bb6-8cb3-89bd91f01b4a",
   "metadata": {},
   "outputs": [
    {
     "name": "stdout",
     "output_type": "stream",
     "text": [
      "\n",
      "\n",
      "AVERAGE WEIGHT OF EACH SPECIES OF PENGUINS\n",
      "\n",
      "GENTOO: 5.1\n",
      "ADELIE: 3.7\n",
      "CHINSTRAP: 3.7\n",
      "\n",
      "\n"
     ]
    }
   ],
   "source": [
    "a = gentoSpecies['wkilo'].mean()\n",
    "b = adelieSpecies['wkilo'].mean()\n",
    "c = chinSpecies['wkilo'].mean()\n",
    "\n",
    "print(f'''\n",
    "\n",
    "AVERAGE WEIGHT OF EACH SPECIES OF PENGUINS\n",
    "\n",
    "GENTOO: {np.round(a,1)}\n",
    "ADELIE: {np.round(b,1)}\n",
    "CHINSTRAP: {np.round(c,1)}\n",
    "\n",
    "''')"
   ]
  },
  {
   "cell_type": "markdown",
   "id": "5b3fb3a5-7329-4615-89df-d91e1beae4ea",
   "metadata": {},
   "source": [
    "<h1>INSIGHT #4</h1>\n",
    "<h1>The Average weight of Gentoo Species is 5.1</h1>\n",
    "<br/>\n",
    "<h1>INSIGHT #5</h1>\n",
    "<h1>The Average weight of Adelie Species is 3.7</h1>\n",
    "<br/>\n",
    "<h1>INSIGHT #6</h1>\n",
    "<h1>The Average weight of Chinstrap Species is 3.7</h1>"
   ]
  },
  {
   "cell_type": "markdown",
   "id": "04a72d0e-7ce5-4ab7-a158-6c1b40e1242f",
   "metadata": {},
   "source": [
    "<H1>DATA AGGREGATIONS</H1>"
   ]
  },
  {
   "cell_type": "markdown",
   "id": "63ef27bc-be81-42cc-9216-38224fc034af",
   "metadata": {},
   "source": [
    "<ol>\n",
    "    <li>Name the group by refenrecne data frame</li>\n",
    "    <li>Call the dataframe</li>\n",
    "    <li>groupby() function</li>\n",
    "    <li>columns to group</li>\n",
    "    <li>group by function</li>\n",
    "</ol>"
   ]
  },
  {
   "cell_type": "code",
   "execution_count": 26,
   "id": "59ec6761-2569-40b4-8b05-49ef92070fc3",
   "metadata": {},
   "outputs": [
    {
     "name": "stderr",
     "output_type": "stream",
     "text": [
      "C:\\Users\\PC\\AppData\\Local\\Temp\\ipykernel_9400\\1966472487.py:1: FutureWarning: The default of observed=False is deprecated and will be changed to True in a future version of pandas. Pass observed=False to retain current behavior or observed=True to adopt the future default and silence this warning.\n",
      "  penguin_agg = penguins.groupby(['species','island']).size()\n"
     ]
    }
   ],
   "source": [
    "penguin_agg = penguins.groupby(['species','island']).size()"
   ]
  },
  {
   "cell_type": "code",
   "execution_count": 27,
   "id": "a72a91f1-4931-48dd-aafa-70a67f10ad48",
   "metadata": {},
   "outputs": [
    {
     "data": {
      "text/plain": [
       "species    island   \n",
       "Adelie     Biscoe        44\n",
       "           Dream         56\n",
       "           Torgersen     52\n",
       "Chinstrap  Biscoe         0\n",
       "           Dream         68\n",
       "           Torgersen      0\n",
       "Gentoo     Biscoe       124\n",
       "           Dream          0\n",
       "           Torgersen      0\n",
       "dtype: int64"
      ]
     },
     "execution_count": 27,
     "metadata": {},
     "output_type": "execute_result"
    }
   ],
   "source": [
    "penguin_agg"
   ]
  },
  {
   "cell_type": "code",
   "execution_count": 28,
   "id": "5e7710bd-4390-42a9-8946-ebefaac46767",
   "metadata": {},
   "outputs": [],
   "source": [
    "penguin_agg2 = np.round(penguins.groupby(['species','island'], observed=False)['wkilo'].mean(),1)"
   ]
  },
  {
   "cell_type": "code",
   "execution_count": 29,
   "id": "35b58685-cce9-44b0-9e4a-a0a588aba5db",
   "metadata": {},
   "outputs": [
    {
     "data": {
      "text/plain": [
       "species    island   \n",
       "Adelie     Biscoe       3.7\n",
       "           Dream        3.7\n",
       "           Torgersen    3.7\n",
       "Chinstrap  Biscoe       NaN\n",
       "           Dream        3.7\n",
       "           Torgersen    NaN\n",
       "Gentoo     Biscoe       5.1\n",
       "           Dream        NaN\n",
       "           Torgersen    NaN\n",
       "Name: wkilo, dtype: float64"
      ]
     },
     "execution_count": 29,
     "metadata": {},
     "output_type": "execute_result"
    }
   ],
   "source": [
    "penguin_agg2"
   ]
  },
  {
   "cell_type": "markdown",
   "id": "8a33e03a-cc50-4a3b-8d55-9cf4c8baf7e3",
   "metadata": {},
   "source": [
    "<h1>WHAT YEAR HAS THE HIGHEST RECORDED 'male' and 'Adelie' and in what island?</h1>"
   ]
  },
  {
   "cell_type": "code",
   "execution_count": 30,
   "id": "a689dbbc-a7a1-431a-81e9-a76076545cb3",
   "metadata": {},
   "outputs": [
    {
     "name": "stderr",
     "output_type": "stream",
     "text": [
      "C:\\Users\\PC\\AppData\\Local\\Temp\\ipykernel_9400\\2881084596.py:1: FutureWarning: The default of observed=False is deprecated and will be changed to True in a future version of pandas. Pass observed=False to retain current behavior or observed=True to adopt the future default and silence this warning.\n",
      "  penguin_agg3 = penguins.groupby(['species','island','year','sex']).size()\n"
     ]
    }
   ],
   "source": [
    "penguin_agg3 = penguins.groupby(['species','island','year','sex']).size()"
   ]
  },
  {
   "cell_type": "code",
   "execution_count": 31,
   "id": "8fc8e89f-da39-4323-becc-62535c595178",
   "metadata": {},
   "outputs": [
    {
     "data": {
      "text/html": [
       "<div>\n",
       "<style scoped>\n",
       "    .dataframe tbody tr th:only-of-type {\n",
       "        vertical-align: middle;\n",
       "    }\n",
       "\n",
       "    .dataframe tbody tr th {\n",
       "        vertical-align: top;\n",
       "    }\n",
       "\n",
       "    .dataframe thead th {\n",
       "        text-align: right;\n",
       "    }\n",
       "</style>\n",
       "<table border=\"1\" class=\"dataframe\">\n",
       "  <thead>\n",
       "    <tr style=\"text-align: right;\">\n",
       "      <th></th>\n",
       "      <th></th>\n",
       "      <th>sex</th>\n",
       "      <th>female</th>\n",
       "      <th>male</th>\n",
       "    </tr>\n",
       "    <tr>\n",
       "      <th>species</th>\n",
       "      <th>island</th>\n",
       "      <th>year</th>\n",
       "      <th></th>\n",
       "      <th></th>\n",
       "    </tr>\n",
       "  </thead>\n",
       "  <tbody>\n",
       "    <tr>\n",
       "      <th rowspan=\"9\" valign=\"top\">Adelie</th>\n",
       "      <th rowspan=\"3\" valign=\"top\">Biscoe</th>\n",
       "      <th>2007</th>\n",
       "      <td>5</td>\n",
       "      <td>5</td>\n",
       "    </tr>\n",
       "    <tr>\n",
       "      <th>2008</th>\n",
       "      <td>9</td>\n",
       "      <td>9</td>\n",
       "    </tr>\n",
       "    <tr>\n",
       "      <th>2009</th>\n",
       "      <td>8</td>\n",
       "      <td>8</td>\n",
       "    </tr>\n",
       "    <tr>\n",
       "      <th rowspan=\"3\" valign=\"top\">Dream</th>\n",
       "      <th>2007</th>\n",
       "      <td>9</td>\n",
       "      <td>11</td>\n",
       "    </tr>\n",
       "    <tr>\n",
       "      <th>2008</th>\n",
       "      <td>8</td>\n",
       "      <td>8</td>\n",
       "    </tr>\n",
       "    <tr>\n",
       "      <th>2009</th>\n",
       "      <td>10</td>\n",
       "      <td>10</td>\n",
       "    </tr>\n",
       "    <tr>\n",
       "      <th rowspan=\"3\" valign=\"top\">Torgersen</th>\n",
       "      <th>2007</th>\n",
       "      <td>8</td>\n",
       "      <td>12</td>\n",
       "    </tr>\n",
       "    <tr>\n",
       "      <th>2008</th>\n",
       "      <td>8</td>\n",
       "      <td>8</td>\n",
       "    </tr>\n",
       "    <tr>\n",
       "      <th>2009</th>\n",
       "      <td>8</td>\n",
       "      <td>8</td>\n",
       "    </tr>\n",
       "    <tr>\n",
       "      <th rowspan=\"9\" valign=\"top\">Chinstrap</th>\n",
       "      <th rowspan=\"3\" valign=\"top\">Biscoe</th>\n",
       "      <th>2007</th>\n",
       "      <td>0</td>\n",
       "      <td>0</td>\n",
       "    </tr>\n",
       "    <tr>\n",
       "      <th>2008</th>\n",
       "      <td>0</td>\n",
       "      <td>0</td>\n",
       "    </tr>\n",
       "    <tr>\n",
       "      <th>2009</th>\n",
       "      <td>0</td>\n",
       "      <td>0</td>\n",
       "    </tr>\n",
       "    <tr>\n",
       "      <th rowspan=\"3\" valign=\"top\">Dream</th>\n",
       "      <th>2007</th>\n",
       "      <td>13</td>\n",
       "      <td>13</td>\n",
       "    </tr>\n",
       "    <tr>\n",
       "      <th>2008</th>\n",
       "      <td>9</td>\n",
       "      <td>9</td>\n",
       "    </tr>\n",
       "    <tr>\n",
       "      <th>2009</th>\n",
       "      <td>12</td>\n",
       "      <td>12</td>\n",
       "    </tr>\n",
       "    <tr>\n",
       "      <th rowspan=\"3\" valign=\"top\">Torgersen</th>\n",
       "      <th>2007</th>\n",
       "      <td>0</td>\n",
       "      <td>0</td>\n",
       "    </tr>\n",
       "    <tr>\n",
       "      <th>2008</th>\n",
       "      <td>0</td>\n",
       "      <td>0</td>\n",
       "    </tr>\n",
       "    <tr>\n",
       "      <th>2009</th>\n",
       "      <td>0</td>\n",
       "      <td>0</td>\n",
       "    </tr>\n",
       "    <tr>\n",
       "      <th rowspan=\"9\" valign=\"top\">Gentoo</th>\n",
       "      <th rowspan=\"3\" valign=\"top\">Biscoe</th>\n",
       "      <th>2007</th>\n",
       "      <td>16</td>\n",
       "      <td>18</td>\n",
       "    </tr>\n",
       "    <tr>\n",
       "      <th>2008</th>\n",
       "      <td>22</td>\n",
       "      <td>24</td>\n",
       "    </tr>\n",
       "    <tr>\n",
       "      <th>2009</th>\n",
       "      <td>20</td>\n",
       "      <td>24</td>\n",
       "    </tr>\n",
       "    <tr>\n",
       "      <th rowspan=\"3\" valign=\"top\">Dream</th>\n",
       "      <th>2007</th>\n",
       "      <td>0</td>\n",
       "      <td>0</td>\n",
       "    </tr>\n",
       "    <tr>\n",
       "      <th>2008</th>\n",
       "      <td>0</td>\n",
       "      <td>0</td>\n",
       "    </tr>\n",
       "    <tr>\n",
       "      <th>2009</th>\n",
       "      <td>0</td>\n",
       "      <td>0</td>\n",
       "    </tr>\n",
       "    <tr>\n",
       "      <th rowspan=\"3\" valign=\"top\">Torgersen</th>\n",
       "      <th>2007</th>\n",
       "      <td>0</td>\n",
       "      <td>0</td>\n",
       "    </tr>\n",
       "    <tr>\n",
       "      <th>2008</th>\n",
       "      <td>0</td>\n",
       "      <td>0</td>\n",
       "    </tr>\n",
       "    <tr>\n",
       "      <th>2009</th>\n",
       "      <td>0</td>\n",
       "      <td>0</td>\n",
       "    </tr>\n",
       "  </tbody>\n",
       "</table>\n",
       "</div>"
      ],
      "text/plain": [
       "sex                       female  male\n",
       "species   island    year              \n",
       "Adelie    Biscoe    2007       5     5\n",
       "                    2008       9     9\n",
       "                    2009       8     8\n",
       "          Dream     2007       9    11\n",
       "                    2008       8     8\n",
       "                    2009      10    10\n",
       "          Torgersen 2007       8    12\n",
       "                    2008       8     8\n",
       "                    2009       8     8\n",
       "Chinstrap Biscoe    2007       0     0\n",
       "                    2008       0     0\n",
       "                    2009       0     0\n",
       "          Dream     2007      13    13\n",
       "                    2008       9     9\n",
       "                    2009      12    12\n",
       "          Torgersen 2007       0     0\n",
       "                    2008       0     0\n",
       "                    2009       0     0\n",
       "Gentoo    Biscoe    2007      16    18\n",
       "                    2008      22    24\n",
       "                    2009      20    24\n",
       "          Dream     2007       0     0\n",
       "                    2008       0     0\n",
       "                    2009       0     0\n",
       "          Torgersen 2007       0     0\n",
       "                    2008       0     0\n",
       "                    2009       0     0"
      ]
     },
     "execution_count": 31,
     "metadata": {},
     "output_type": "execute_result"
    }
   ],
   "source": [
    "penguin_agg3.unstack()"
   ]
  },
  {
   "cell_type": "markdown",
   "id": "93056c22-c0af-4439-986c-e940b5c19c43",
   "metadata": {},
   "source": [
    "<h1>INSIGHT #7</h1>\n",
    "<h2>The Weight in Kilo of Adelie in Torgersen island dropped by 4 kilo from 2007 and remain unchanged in following years</h2>"
   ]
  },
  {
   "cell_type": "markdown",
   "id": "c0aa0c6e-35f8-449f-ac9e-f0af8df1751e",
   "metadata": {},
   "source": [
    "<h1>INSIGHT #8</h1>\n",
    "<h2>The heaviest recorded of Adelie is in Dream Island in 2007 and 2009</h2>"
   ]
  },
  {
   "cell_type": "code",
   "execution_count": 32,
   "id": "94b44a5b-75f0-4353-a5b8-e9dd82023c48",
   "metadata": {},
   "outputs": [
    {
     "name": "stderr",
     "output_type": "stream",
     "text": [
      "C:\\Users\\PC\\AppData\\Local\\Temp\\ipykernel_9400\\621274734.py:1: FutureWarning: The default of observed=False is deprecated and will be changed to True in a future version of pandas. Pass observed=False to retain current behavior or observed=True to adopt the future default and silence this warning.\n",
      "  penguin_agg3 = np.round(penguins.groupby(['species','sex'])['wkilo'].mean(),1)\n"
     ]
    }
   ],
   "source": [
    "penguin_agg3 = np.round(penguins.groupby(['species','sex'])['wkilo'].mean(),1)"
   ]
  },
  {
   "cell_type": "code",
   "execution_count": 33,
   "id": "67e4e19b-fbf4-472c-b6e1-4f01caa0f76d",
   "metadata": {},
   "outputs": [
    {
     "data": {
      "text/html": [
       "<div>\n",
       "<style scoped>\n",
       "    .dataframe tbody tr th:only-of-type {\n",
       "        vertical-align: middle;\n",
       "    }\n",
       "\n",
       "    .dataframe tbody tr th {\n",
       "        vertical-align: top;\n",
       "    }\n",
       "\n",
       "    .dataframe thead th {\n",
       "        text-align: right;\n",
       "    }\n",
       "</style>\n",
       "<table border=\"1\" class=\"dataframe\">\n",
       "  <thead>\n",
       "    <tr style=\"text-align: right;\">\n",
       "      <th>sex</th>\n",
       "      <th>female</th>\n",
       "      <th>male</th>\n",
       "    </tr>\n",
       "    <tr>\n",
       "      <th>species</th>\n",
       "      <th></th>\n",
       "      <th></th>\n",
       "    </tr>\n",
       "  </thead>\n",
       "  <tbody>\n",
       "    <tr>\n",
       "      <th>Adelie</th>\n",
       "      <td>3.4</td>\n",
       "      <td>4.0</td>\n",
       "    </tr>\n",
       "    <tr>\n",
       "      <th>Chinstrap</th>\n",
       "      <td>3.5</td>\n",
       "      <td>3.9</td>\n",
       "    </tr>\n",
       "    <tr>\n",
       "      <th>Gentoo</th>\n",
       "      <td>4.7</td>\n",
       "      <td>5.4</td>\n",
       "    </tr>\n",
       "  </tbody>\n",
       "</table>\n",
       "</div>"
      ],
      "text/plain": [
       "sex        female  male\n",
       "species                \n",
       "Adelie        3.4   4.0\n",
       "Chinstrap     3.5   3.9\n",
       "Gentoo        4.7   5.4"
      ]
     },
     "execution_count": 33,
     "metadata": {},
     "output_type": "execute_result"
    }
   ],
   "source": [
    "penguin_agg3.unstack()"
   ]
  },
  {
   "cell_type": "markdown",
   "id": "a4a1f438-4a17-4e0f-b97b-762d7c2dda0b",
   "metadata": {},
   "source": [
    "<h1>INSIGHT #9</h1>\n",
    "<h2>IN ADELIE, MALE IS THE HEAVIEST with average of 4 kilo.</h2>\n",
    "<br/>\n",
    "<h1>INSIGHT #10</h1>\n",
    "<h2>IN CHINSTRAP, MALE IS THE HEAVIST with the average of 3.9 kilo</h2>\n",
    "<br/>\n",
    "<h1>INSIGHT #11</h1>\n",
    "<h2>IN GENTOO, MALE IS THE HEAVIST with the average of 5.4 kilo</h2>"
   ]
  },
  {
   "cell_type": "markdown",
   "id": "3d4f7195-1203-45cb-8def-e07cbc1a39b4",
   "metadata": {},
   "source": [
    "<p>SI EZEQUIL PO NANGUNGUPYA</p>"
   ]
  },
  {
   "cell_type": "markdown",
   "id": "6bb107f0-48ee-4e27-bbe2-b753eb7943a3",
   "metadata": {},
   "source": [
    "<hr/>"
   ]
  },
  {
   "cell_type": "markdown",
   "id": "2629ccdf-cb85-4c7d-9cd9-f5d56ceefab0",
   "metadata": {},
   "source": [
    "<h1>CORRELATION</h1>"
   ]
  },
  {
   "cell_type": "markdown",
   "id": "ab2de028-fb7e-4d1b-be2b-4e36292df5e5",
   "metadata": {},
   "source": [
    "<h2>REQUIREMENTS</h2>\n",
    "<ol>\n",
    "    <li>Name variable for the correlation</li>\n",
    "    <li>Call the first Column</li>\n",
    "    <li>test the correlation using corr() funviton</li>\n",
    "</ol>"
   ]
  },
  {
   "cell_type": "markdown",
   "id": "13a0ba97-846f-4955-8ba8-90168122c5a7",
   "metadata": {},
   "source": [
    "<h1>DOES THE BILL LENGTH AFFECT THE SIZE OF THE BILL DEPTH</h1>"
   ]
  },
  {
   "cell_type": "code",
   "execution_count": 34,
   "id": "27071cba-930e-488e-b287-b9779c64a6b9",
   "metadata": {},
   "outputs": [],
   "source": [
    "bill_length_depth_corr = penguins['bill_length_mm'].corr(penguins['bill_depth_mm'])"
   ]
  },
  {
   "cell_type": "code",
   "execution_count": 35,
   "id": "6f196a2f-82ff-40df-955d-c1edd08f7455",
   "metadata": {},
   "outputs": [
    {
     "data": {
      "text/plain": [
       "-0.23505287035553282"
      ]
     },
     "execution_count": 35,
     "metadata": {},
     "output_type": "execute_result"
    }
   ],
   "source": [
    "bill_length_depth_corr"
   ]
  },
  {
   "cell_type": "markdown",
   "id": "69c2e410-0538-4cfc-bfda-25ca3656c6ef",
   "metadata": {},
   "source": [
    "<h1>INSIGHT #12</h1>\n",
    "<h1>THERE IS NO CORRELATION BETWEEN BILL LENGTH AND BILL DEPTH AS IT YIELDS -0.2 P-VALUE</h1>"
   ]
  },
  {
   "cell_type": "markdown",
   "id": "21909a09-79e2-4179-959e-6980a33fd955",
   "metadata": {},
   "source": [
    "<h1>DOES THE BODY MASS AFFECT THE BILL DEPTH</h1>"
   ]
  },
  {
   "cell_type": "code",
   "execution_count": 36,
   "id": "f6e188e3-360e-4a77-8060-1cc8b53d4924",
   "metadata": {},
   "outputs": [],
   "source": [
    "mass_depth_corr = penguins['body_mass_g'].corr(penguins['bill_depth_mm'])"
   ]
  },
  {
   "cell_type": "code",
   "execution_count": 37,
   "id": "086e9d3f-5c2c-4ebe-b804-d6c0cfb2d5a7",
   "metadata": {},
   "outputs": [
    {
     "data": {
      "text/plain": [
       "-0.5838512164654123"
      ]
     },
     "execution_count": 37,
     "metadata": {},
     "output_type": "execute_result"
    }
   ],
   "source": [
    "mass_depth_corr"
   ]
  },
  {
   "cell_type": "markdown",
   "id": "bafa0701-41e1-46a5-9b5d-1aaadf18fd45",
   "metadata": {},
   "source": [
    "<h1>INSIGHT #13</h1>\n",
    "<h1>THE BODY MASS DOES NOT AFFECT THE BILL DEPTH OF A PENGUINAS IT YIELDS A PROBABILITY VALUE OF -0.5</h1>"
   ]
  },
  {
   "cell_type": "markdown",
   "id": "095395e3-21a8-40a4-94af-19d24395a434",
   "metadata": {},
   "source": [
    "<h1>DOES THE BILL LENGTH AND FLIPPER LENGTH CORRELATES EACH OTHER</h1>"
   ]
  },
  {
   "cell_type": "code",
   "execution_count": 38,
   "id": "f06a2754-bfcf-4f39-a40d-66384b0b3f66",
   "metadata": {},
   "outputs": [],
   "source": [
    "bill_flipper_corr = penguins['bill_length_mm'].corr(penguins['flipper_length_mm'])"
   ]
  },
  {
   "cell_type": "code",
   "execution_count": 39,
   "id": "ac8f443b-b94e-4757-8b93-df5355e23686",
   "metadata": {},
   "outputs": [
    {
     "data": {
      "text/plain": [
       "0.6561813407464278"
      ]
     },
     "execution_count": 39,
     "metadata": {},
     "output_type": "execute_result"
    }
   ],
   "source": [
    "bill_flipper_corr"
   ]
  },
  {
   "cell_type": "markdown",
   "id": "b231bbe4-3059-42a8-967c-cd7af32a16c6",
   "metadata": {},
   "source": [
    "<h1>INSIGHT #14</h1>\n",
    "<h1>THE FLIPPER LENGTH AND BILL LENGTH IS CONNECTED MEANING THAT THERE ARE SIGNIFICANT CORRELATIONS</h1>"
   ]
  },
  {
   "cell_type": "markdown",
   "id": "5dbdeacc-0010-466a-80fb-a75ca27a917d",
   "metadata": {},
   "source": [
    "<h1>DOES THE BODY MASS AFFECT THE BILL LENGTH</h1>"
   ]
  },
  {
   "cell_type": "code",
   "execution_count": 40,
   "id": "46a502ed-f6a1-4aa0-8a6c-46b10be9ae5e",
   "metadata": {},
   "outputs": [],
   "source": [
    "mass_length_corr = penguins['body_mass_g'].corr(penguins['bill_length_mm'])"
   ]
  },
  {
   "cell_type": "code",
   "execution_count": 41,
   "id": "2f078a92-ce8a-4195-973d-e46abe42b488",
   "metadata": {},
   "outputs": [
    {
     "data": {
      "text/plain": [
       "0.6561813407464278"
      ]
     },
     "execution_count": 41,
     "metadata": {},
     "output_type": "execute_result"
    }
   ],
   "source": [
    "mass_length_corr"
   ]
  },
  {
   "cell_type": "markdown",
   "id": "33cfc16d-1e8a-43c3-b35c-2fcfd94e6b7b",
   "metadata": {},
   "source": [
    "<h1>INSIGHT #15</h1>\n",
    "<h1>THE BODY MASS DOES IN FACT AFFECT THE LENGTH OF A PENGUINS LENGTH</h1>"
   ]
  },
  {
   "cell_type": "code",
   "execution_count": 42,
   "id": "39116be1-2760-453e-a129-d576ac20b8b4",
   "metadata": {},
   "outputs": [
    {
     "name": "stdout",
     "output_type": "stream",
     "text": [
      "<class 'pandas.core.frame.DataFrame'>\n",
      "RangeIndex: 344 entries, 0 to 343\n",
      "Data columns (total 10 columns):\n",
      " #   Column             Non-Null Count  Dtype   \n",
      "---  ------             --------------  -----   \n",
      " 0   rowid              344 non-null    category\n",
      " 1   species            344 non-null    category\n",
      " 2   island             344 non-null    category\n",
      " 3   bill_length_mm     344 non-null    float64 \n",
      " 4   bill_depth_mm      344 non-null    float64 \n",
      " 5   flipper_length_mm  344 non-null    float64 \n",
      " 6   body_mass_g        344 non-null    float64 \n",
      " 7   sex                344 non-null    category\n",
      " 8   year               344 non-null    category\n",
      " 9   wkilo              344 non-null    float64 \n",
      "dtypes: category(5), float64(5)\n",
      "memory usage: 26.9 KB\n"
     ]
    }
   ],
   "source": [
    "penguins.info()"
   ]
  },
  {
   "cell_type": "markdown",
   "id": "cbdfb327-893b-4fb7-a3ca-30ddeaa5c8ba",
   "metadata": {},
   "source": [
    "<h1>CORRELATION BETWEEN QUALITATIVE AND QUANTITATIVE</h1>"
   ]
  },
  {
   "cell_type": "markdown",
   "id": "533c895d-7e91-49b9-a072-c06bcd9e9702",
   "metadata": {},
   "source": [
    "<h3>Sex and Body Mass</h3>"
   ]
  },
  {
   "cell_type": "markdown",
   "id": "cde33a3b-89e5-4274-b4db-53e3b70db549",
   "metadata": {},
   "source": [
    "<h2>Library for ONE  WAY ANNOVA -- SCIENCE PYTHON (scipy)</h2>"
   ]
  },
  {
   "cell_type": "code",
   "execution_count": 43,
   "id": "8dabffcb-0a00-42e7-ad9c-cf953e59b0e4",
   "metadata": {},
   "outputs": [],
   "source": [
    "from scipy.stats import f_oneway"
   ]
  },
  {
   "cell_type": "markdown",
   "id": "09ccec74-48f2-484a-9daf-98c9b476cc68",
   "metadata": {},
   "source": [
    "<h3>Requirements for one way annova</h3>"
   ]
  },
  {
   "cell_type": "markdown",
   "id": "4ac25129-b560-44f0-8462-3ccf9020a6bc",
   "metadata": {},
   "source": [
    "<h3>Filter columns and its data</h3>"
   ]
  },
  {
   "cell_type": "code",
   "execution_count": 44,
   "id": "bfeaa45b-8a23-48e4-bcde-1a3072fd43ac",
   "metadata": {},
   "outputs": [
    {
     "name": "stdout",
     "output_type": "stream",
     "text": [
      "4.88065474065626e-06\n"
     ]
    }
   ],
   "source": [
    "male = penguins[penguins['sex'] == 'male']['body_mass_g']\n",
    "female = penguins[penguins['sex'] == 'female']['body_mass_g']\n",
    "\n",
    "f_stats, p_value = f_oneway(male, female)\n",
    "\n",
    "print(p_value)"
   ]
  },
  {
   "cell_type": "markdown",
   "id": "17fa4f9d-24d7-405a-943c-f18afe25e112",
   "metadata": {},
   "source": [
    "<h1>INSIGHT #16</h1>\n",
    "<h2>There is a correlation between sex and body mass</h2>"
   ]
  },
  {
   "cell_type": "code",
   "execution_count": 45,
   "id": "967df014-89fd-4d5a-b4b1-2cc5af97eaff",
   "metadata": {},
   "outputs": [
    {
     "data": {
      "text/plain": [
       "0      181.000000\n",
       "3      200.915205\n",
       "5      190.000000\n",
       "7      195.000000\n",
       "8      193.000000\n",
       "          ...    \n",
       "334    202.000000\n",
       "336    206.000000\n",
       "339    207.000000\n",
       "341    193.000000\n",
       "342    210.000000\n",
       "Name: body_mass_g, Length: 179, dtype: float64"
      ]
     },
     "execution_count": 45,
     "metadata": {},
     "output_type": "execute_result"
    }
   ],
   "source": [
    "male"
   ]
  },
  {
   "cell_type": "code",
   "execution_count": null,
   "id": "3bcd8bb8-fdd4-4b2b-9c15-dcc9b8ec7fd1",
   "metadata": {},
   "outputs": [],
   "source": []
  },
  {
   "cell_type": "code",
   "execution_count": null,
   "id": "e62a67c3-02f7-4d7e-92f3-212363be96f3",
   "metadata": {},
   "outputs": [],
   "source": []
  },
  {
   "cell_type": "code",
   "execution_count": null,
   "id": "2719164b-c7d8-41e1-81ae-99bdcf2b261e",
   "metadata": {},
   "outputs": [],
   "source": []
  }
 ],
 "metadata": {
  "kernelspec": {
   "display_name": "Python 3 (ipykernel)",
   "language": "python",
   "name": "python3"
  },
  "language_info": {
   "codemirror_mode": {
    "name": "ipython",
    "version": 3
   },
   "file_extension": ".py",
   "mimetype": "text/x-python",
   "name": "python",
   "nbconvert_exporter": "python",
   "pygments_lexer": "ipython3",
   "version": "3.12.8"
  }
 },
 "nbformat": 4,
 "nbformat_minor": 5
}
